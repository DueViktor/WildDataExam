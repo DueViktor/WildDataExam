{
 "cells": [
  {
   "cell_type": "code",
   "execution_count": 1,
   "id": "8f981412",
   "metadata": {},
   "outputs": [],
   "source": [
    "import pandas as pd\n",
    "import os \n",
    "import random\n",
    "from tqdm import tqdm\n",
    "import dtale\n",
    "import matplotlib.pyplot as plt"
   ]
  },
  {
   "cell_type": "code",
   "execution_count": 2,
   "id": "6034d3ef",
   "metadata": {},
   "outputs": [],
   "source": [
    "filepath = \"data/labelled_data/\""
   ]
  },
  {
   "cell_type": "code",
   "execution_count": 4,
   "id": "d32db5a1",
   "metadata": {},
   "outputs": [
    {
     "name": "stderr",
     "output_type": "stream",
     "text": [
      "100%|████████████████████████████████████████████████████████████████████████████████████████████████████| 590/590 [00:10<00:00, 54.29it/s]\n"
     ]
    }
   ],
   "source": [
    "all_files = os.listdir(filepath)\n",
    "comments = {}\n",
    "posts = {}\n",
    "for fname in tqdm(all_files):\n",
    "    file = pd.read_csv(filepath+fname,sep='\\t').drop('Unnamed: 0',axis=1)\n",
    "    if 'submission' in fname:\n",
    "        posts['_'.join(fname.split('_')[3:6])] = file      \n",
    "    if 'comment' in fname:\n",
    "        comments['_'.join(fname.split('_')[3:6])] = file\n",
    "        "
   ]
  },
  {
   "cell_type": "code",
   "execution_count": null,
   "id": "3addf0ca",
   "metadata": {},
   "outputs": [],
   "source": []
  }
 ],
 "metadata": {
  "kernelspec": {
   "display_name": "Python 3 (ipykernel)",
   "language": "python",
   "name": "python3"
  },
  "language_info": {
   "codemirror_mode": {
    "name": "ipython",
    "version": 3
   },
   "file_extension": ".py",
   "mimetype": "text/x-python",
   "name": "python",
   "nbconvert_exporter": "python",
   "pygments_lexer": "ipython3",
   "version": "3.9.6"
  }
 },
 "nbformat": 4,
 "nbformat_minor": 5
}
