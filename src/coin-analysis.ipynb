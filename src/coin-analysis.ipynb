{
 "cells": [
  {
   "cell_type": "markdown",
   "metadata": {},
   "source": [
    "I had to add ../ in fron of the absolute paths from config because .ipynb is stupid and won't run from root..."
   ]
  },
  {
   "cell_type": "code",
   "execution_count": 12,
   "metadata": {},
   "outputs": [],
   "source": [
    "from config import COINS_DIR, VIZ_DIR\n",
    "\n",
    "import pandas as pd\n",
    "import os\n",
    "import plotly.express as px\n",
    "import matplotlib.pyplot as plt"
   ]
  },
  {
   "cell_type": "code",
   "execution_count": 9,
   "metadata": {},
   "outputs": [],
   "source": [
    "coin_files = [filename for filename in os.listdir(f'../{COINS_DIR}') if filename.endswith('.csv')]\n",
    "coins = dict()\n",
    "for coin_file in coin_files:\n",
    "    coin_name = coin_file.replace('.csv', '').split('-')[-1]\n",
    "    \n",
    "    df = pd.read_csv(f'../{COINS_DIR}/{coin_file}', index_col=0)\n",
    "    coins[coin_name] = df\n"
   ]
  },
  {
   "cell_type": "code",
   "execution_count": 33,
   "metadata": {},
   "outputs": [
    {
     "data": {
      "text/plain": [
       "<Figure size 1000x1000 with 0 Axes>"
      ]
     },
     "metadata": {},
     "output_type": "display_data"
    },
    {
     "data": {
      "text/plain": [
       "<Figure size 1000x1000 with 0 Axes>"
      ]
     },
     "metadata": {},
     "output_type": "display_data"
    },
    {
     "data": {
      "text/plain": [
       "<Figure size 1000x1000 with 0 Axes>"
      ]
     },
     "metadata": {},
     "output_type": "display_data"
    },
    {
     "data": {
      "text/plain": [
       "<Figure size 1000x1000 with 0 Axes>"
      ]
     },
     "metadata": {},
     "output_type": "display_data"
    },
    {
     "data": {
      "text/plain": [
       "<Figure size 1000x1000 with 0 Axes>"
      ]
     },
     "metadata": {},
     "output_type": "display_data"
    }
   ],
   "source": [
    "# Basic for each coin\n",
    "for coin_name, coin_df in coins.items():\n",
    "    # all time\n",
    "    # fig = px.line(coin_df,x=\"Date\",y=\"Close\",title=f'Closing price for {coin_name}')\n",
    "    # fig.write_html(f'../{VIZ_DIR}/{coin_name}-allTime.html')\n",
    "    # fig.write_image(f'../{VIZ_DIR}/{coin_name}-allTime.png')\n",
    "\n",
    "    # correlation matrix\n",
    "    pd.plotting.scatter_matrix(coin_df,figsize=(10,10))#,**{'title':})\n",
    "    plt.suptitle(f'{coin_name} correlation matrix')\n",
    "    plt.savefig(f'../{VIZ_DIR}/{coin_name}-correlations.png')\n",
    "    plt.clf()"
   ]
  },
  {
   "cell_type": "code",
   "execution_count": null,
   "metadata": {},
   "outputs": [],
   "source": []
  }
 ],
 "metadata": {
  "kernelspec": {
   "display_name": "Python 3.9.12 ('base')",
   "language": "python",
   "name": "python3"
  },
  "language_info": {
   "codemirror_mode": {
    "name": "ipython",
    "version": 3
   },
   "file_extension": ".py",
   "mimetype": "text/x-python",
   "name": "python",
   "nbconvert_exporter": "python",
   "pygments_lexer": "ipython3",
   "version": "3.9.12"
  },
  "orig_nbformat": 4,
  "vscode": {
   "interpreter": {
    "hash": "3d597f4c481aa0f25dceb95d2a0067e73c0966dcbd003d741d821a7208527ecf"
   }
  }
 },
 "nbformat": 4,
 "nbformat_minor": 2
}
