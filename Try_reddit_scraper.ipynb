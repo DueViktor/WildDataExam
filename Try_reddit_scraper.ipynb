{
 "cells": [
  {
   "cell_type": "code",
   "execution_count": 1,
   "metadata": {},
   "outputs": [],
   "source": [
    "import praw\n",
    "from psaw import PushshiftAPI# to use PSAW\n",
    "api = PushshiftAPI()# to use PRAW\n",
    "reddit = praw.Reddit(\n",
    "    client_id = \"9qfpI7X67RTMfEjW8GF3cg\",\n",
    "    client_secret = \"ifPi_4-LdbTULTQ1Cr9XW-SFt4KPMA\",\n",
    "    username = \"bebascrapper\",\n",
    "    password = \"redditmemek1234\",\n",
    "    user_agent = \"ifPi_4-LdbTULTQ1Cr9XW-SFt4KPMA\",\n",
    ")"
   ]
  },
  {
   "cell_type": "code",
   "execution_count": 5,
   "metadata": {},
   "outputs": [],
   "source": [
    "# directory on which to store the data\n",
    "subreddits = ['Ethereum']\n",
    "basecorpus = './reddit-dataset/'"
   ]
  },
  {
   "cell_type": "code",
   "execution_count": 4,
   "metadata": {},
   "outputs": [],
   "source": [
    "import time\n",
    "def log_action(action):\n",
    "    print(action)\n",
    "    return"
   ]
  },
  {
   "cell_type": "code",
   "execution_count": 8,
   "metadata": {},
   "outputs": [],
   "source": [
    "import os"
   ]
  },
  {
   "cell_type": "code",
   "execution_count": 9,
   "metadata": {},
   "outputs": [
    {
     "name": "stdout",
     "output_type": "stream",
     "text": [
      "\t[Subreddit] Ethereum\n",
      "\t\t[Info] Found submissions: 100\n",
      "\t\t[Info] Elapsed time:  48.67s\n"
     ]
    }
   ],
   "source": [
    "import pandas as pd\n",
    "import datetime as dt\n",
    "\n",
    "### BLOCK 1 ###\n",
    "\n",
    "\n",
    "dirpath = basecorpus + 'trial'\n",
    "if not os.path.exists(dirpath):\n",
    "    os.makedirs(dirpath)\n",
    "\n",
    "# timestamps that define window of posts\n",
    "ts_after = int(dt.datetime(2022, 7, 1).timestamp())\n",
    "ts_before = int(dt.datetime(2022, 9, 1).timestamp())\n",
    "\n",
    "### BLOCK 2 ###\n",
    "\n",
    "for subreddit in subreddits:\n",
    "    start_time = time.time()\n",
    "\n",
    "    action = \"\\t[Subreddit] \" + subreddit\n",
    "    log_action(action)\n",
    "\n",
    "    subredditdirpath = dirpath + '/' + subreddit\n",
    "    if os.path.exists(subredditdirpath):\n",
    "        continue\n",
    "    else:\n",
    "        os.makedirs(subredditdirpath)\n",
    "\n",
    "    submissions_csv_path = 'trial' + '-' + subreddit + '-submissions.csv'\n",
    "\n",
    "### BLOCK 3 ###\n",
    "\n",
    "    submissions_dict = {\n",
    "        \"id\" : [],\n",
    "        \"url\" : [],\n",
    "        \"title\" : [],\n",
    "        \"score\" : [],\n",
    "        \"num_comments\": [],\n",
    "        \"created_utc\" : [],\n",
    "        \"selftext\" : [],\n",
    "    }\n",
    "\n",
    "### BLOCK 4 ###\n",
    "\n",
    "    # use PSAW only to get id of submissions in time interval\n",
    "    gen = api.search_submissions(\n",
    "        after=ts_after,\n",
    "        before=ts_before,\n",
    "        filter=['id'],\n",
    "        subreddit=subreddit,\n",
    "        limit=100\n",
    "    )\n",
    "\n",
    "### BLOCK 5 ###\n",
    "\n",
    "    # use PRAW to get actual info and traverse comment tree\n",
    "    for submission_psaw in gen:\n",
    "        # use psaw here\n",
    "        submission_id = submission_psaw.d_['id']\n",
    "        # use praw from now on\n",
    "        submission_praw = reddit.submission(id=submission_id)\n",
    "\n",
    "        submissions_dict[\"id\"].append(submission_praw.id)\n",
    "        submissions_dict[\"url\"].append(submission_praw.url)\n",
    "        submissions_dict[\"title\"].append(submission_praw.title)\n",
    "        submissions_dict[\"score\"].append(submission_praw.score)\n",
    "        submissions_dict[\"num_comments\"].append(submission_praw.num_comments)\n",
    "        submissions_dict[\"created_utc\"].append(submission_praw.created_utc)\n",
    "        submissions_dict[\"selftext\"].append(submission_praw.selftext)\n",
    "\n",
    "### BLOCK 6 ###\n",
    "\n",
    "        submission_comments_csv_path = 'trial' + '-' + subreddit + '-submission_' + submission_id + '-comments.csv'\n",
    "        submission_comments_dict = {\n",
    "            \"comment_id\" : [],\n",
    "            \"comment_parent_id\" : [],\n",
    "            \"comment_body\" : [],\n",
    "            \"comment_link_id\" : [],\n",
    "        }\n",
    "\n",
    "### BLOCK 7 ###\n",
    "\n",
    "        # extend the comment tree all the way\n",
    "        submission_praw.comments.replace_more(limit=None)\n",
    "        # for each comment in flattened comment tree\n",
    "        for comment in submission_praw.comments.list():\n",
    "            submission_comments_dict[\"comment_id\"].append(comment.id)\n",
    "            submission_comments_dict[\"comment_parent_id\"].append(comment.parent_id)\n",
    "            submission_comments_dict[\"comment_body\"].append(comment.body)\n",
    "            submission_comments_dict[\"comment_link_id\"].append(comment.link_id)\n",
    "\n",
    "        # for each submission save separate csv comment file\n",
    "        pd.DataFrame(submission_comments_dict).to_csv(subredditdirpath + '/' + submission_comments_csv_path,\n",
    "                                                      index=False)\n",
    "\n",
    "### BLOCK 8 ###\n",
    "\n",
    "    # single csv file with all submissions\n",
    "    pd.DataFrame(submissions_dict).to_csv(subredditdirpath + '/' + submissions_csv_path,\n",
    "                                          index=False)\n",
    "\n",
    "\n",
    "    action = f\"\\t\\t[Info] Found submissions: {pd.DataFrame(submissions_dict).shape[0]}\"\n",
    "    log_action(action)\n",
    "\n",
    "    action = f\"\\t\\t[Info] Elapsed time: {time.time() - start_time: .2f}s\"\n",
    "    log_action(action)"
   ]
  },
  {
   "cell_type": "code",
   "execution_count": 18,
   "metadata": {},
   "outputs": [],
   "source": [
    "submissions = pd.read_csv(r'./data/reddit-dataset/trial/Ethereum/trial-Ethereum-submissions.csv')"
   ]
  },
  {
   "cell_type": "code",
   "execution_count": 20,
   "metadata": {},
   "outputs": [
    {
     "data": {
      "text/plain": [
       "1661979281.0"
      ]
     },
     "execution_count": 20,
     "metadata": {},
     "output_type": "execute_result"
    }
   ],
   "source": [
    "submissions.loc[0]['created_utc']"
   ]
  },
  {
   "cell_type": "code",
   "execution_count": null,
   "metadata": {},
   "outputs": [],
   "source": []
  }
 ],
 "metadata": {
  "kernelspec": {
   "display_name": "Python 3.9.6 64-bit",
   "language": "python",
   "name": "python3"
  },
  "language_info": {
   "codemirror_mode": {
    "name": "ipython",
    "version": 3
   },
   "file_extension": ".py",
   "mimetype": "text/x-python",
   "name": "python",
   "nbconvert_exporter": "python",
   "pygments_lexer": "ipython3",
   "version": "3.9.6"
  },
  "vscode": {
   "interpreter": {
    "hash": "31f2aee4e71d21fbe5cf8b01ff0e069b9275f58929596ceb00d14d90e3e16cd6"
   }
  }
 },
 "nbformat": 4,
 "nbformat_minor": 4
}
