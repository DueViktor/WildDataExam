{
 "cells": [
  {
   "cell_type": "code",
   "execution_count": 1,
   "id": "faed2bea",
   "metadata": {},
   "outputs": [],
   "source": [
    "import pandas as pd"
   ]
  },
  {
   "cell_type": "code",
   "execution_count": 2,
   "id": "b77b7fa2",
   "metadata": {},
   "outputs": [],
   "source": [
    "filepath = \"\""
   ]
  },
  {
   "cell_type": "code",
   "execution_count": 3,
   "id": "6b9cd5d8",
   "metadata": {},
   "outputs": [
    {
     "name": "stdout",
     "output_type": "stream",
     "text": [
      "EDA.ipynb                Try_reddit_scraper.ipynb \u001b[34msrc\u001b[m\u001b[m\r\n",
      "\u001b[34mModel\u001b[m\u001b[m                    \u001b[34mdata\u001b[m\u001b[m                     \u001b[34mviz\u001b[m\u001b[m\r\n",
      "README.md                reddit-dataset.zip\r\n"
     ]
    }
   ],
   "source": [
    "!ls"
   ]
  },
  {
   "cell_type": "code",
   "execution_count": 6,
   "id": "6c6ae1ce",
   "metadata": {},
   "outputs": [
    {
     "name": "stdout",
     "output_type": "stream",
     "text": [
      "\u001b[34mcoins\u001b[m\u001b[m/                 \u001b[34mreddit-dataset\u001b[m\u001b[m/        \u001b[34mreddit_to_annotate\u001b[m\u001b[m/\r\n",
      "\u001b[34mcryptonews\u001b[m\u001b[m/            \u001b[34mreddit-dataset-24-okt\u001b[m\u001b[m/\r\n"
     ]
    }
   ],
   "source": [
    "ls data"
   ]
  },
  {
   "cell_type": "code",
   "execution_count": null,
   "id": "0c81b1da",
   "metadata": {},
   "outputs": [],
   "source": []
  }
 ],
 "metadata": {
  "kernelspec": {
   "display_name": "Python 3 (ipykernel)",
   "language": "python",
   "name": "python3"
  },
  "language_info": {
   "codemirror_mode": {
    "name": "ipython",
    "version": 3
   },
   "file_extension": ".py",
   "mimetype": "text/x-python",
   "name": "python",
   "nbconvert_exporter": "python",
   "pygments_lexer": "ipython3",
   "version": "3.9.6"
  }
 },
 "nbformat": 4,
 "nbformat_minor": 5
}
