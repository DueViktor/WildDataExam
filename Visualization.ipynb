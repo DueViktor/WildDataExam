{
 "cells": [
  {
   "cell_type": "code",
   "execution_count": 89,
   "id": "1a78c3c9",
   "metadata": {},
   "outputs": [],
   "source": [
    "import pandas as pd\n",
    "import os\n",
    "import plotly.express as px\n",
    "import matplotlib.pyplot as plt\n",
    "from plotly.subplots import make_subplots\n",
    "import plotly.graph_objects as go"
   ]
  },
  {
   "cell_type": "code",
   "execution_count": 90,
   "id": "601e412e",
   "metadata": {},
   "outputs": [],
   "source": [
    "fpath = \"data/final_datasets/\"\n",
    "files = [fpath+f for f in os.listdir(fpath) if 'zscores' in f]\n",
    "dfs = {file.split('_')[1].split('/')[-1]:pd.read_csv(file,sep=';') for file in files}"
   ]
  },
  {
   "cell_type": "code",
   "execution_count": 96,
   "id": "7121a6cf",
   "metadata": {
    "scrolled": false
   },
   "outputs": [
    {
     "data": {
      "application/vnd.plotly.v1+json": {
       "config": {
        "plotlyServerURL": "https://plot.ly"
       },
       "data": [
        {
         "alignmentgroup": "True",
         "hovertemplate": "variable=conflict<br>period_type=%{x}<br>value=%{y}<extra></extra>",
         "legendgroup": "conflict",
         "marker": {
          "color": "#636efa",
          "pattern": {
           "shape": ""
          }
         },
         "name": "conflict",
         "offsetgroup": "conflict",
         "orientation": "v",
         "showlegend": true,
         "textposition": "auto",
         "type": "bar",
         "x": [
          "NoEvent",
          "negative",
          "positive"
         ],
         "xaxis": "x",
         "y": [
          0.6934030895835217,
          0.35268947544727824,
          0.6152654558606783
         ],
         "yaxis": "y"
        },
        {
         "alignmentgroup": "True",
         "hovertemplate": "variable=similarity<br>period_type=%{x}<br>value=%{y}<extra></extra>",
         "legendgroup": "similarity",
         "marker": {
          "color": "#EF553B",
          "pattern": {
           "shape": ""
          }
         },
         "name": "similarity",
         "offsetgroup": "similarity",
         "orientation": "v",
         "showlegend": true,
         "textposition": "auto",
         "type": "bar",
         "x": [
          "NoEvent",
          "negative",
          "positive"
         ],
         "xaxis": "x",
         "y": [
          0.7719837175793306,
          0.2454085794130997,
          0.5871743307745232
         ],
         "yaxis": "y"
        },
        {
         "alignmentgroup": "True",
         "hovertemplate": "variable=knowledge<br>period_type=%{x}<br>value=%{y}<extra></extra>",
         "legendgroup": "knowledge",
         "marker": {
          "color": "#00cc96",
          "pattern": {
           "shape": ""
          }
         },
         "name": "knowledge",
         "offsetgroup": "knowledge",
         "orientation": "v",
         "showlegend": true,
         "textposition": "auto",
         "type": "bar",
         "x": [
          "NoEvent",
          "negative",
          "positive"
         ],
         "xaxis": "x",
         "y": [
          0.8469990813464914,
          0.6745082458462884,
          0.68473249166399
         ],
         "yaxis": "y"
        },
        {
         "alignmentgroup": "True",
         "hovertemplate": "variable=power<br>period_type=%{x}<br>value=%{y}<extra></extra>",
         "legendgroup": "power",
         "marker": {
          "color": "#ab63fa",
          "pattern": {
           "shape": ""
          }
         },
         "name": "power",
         "offsetgroup": "power",
         "orientation": "v",
         "showlegend": true,
         "textposition": "auto",
         "type": "bar",
         "x": [
          "NoEvent",
          "negative",
          "positive"
         ],
         "xaxis": "x",
         "y": [
          0.6076613870829722,
          0.5920617708761032,
          0.30861968560142305
         ],
         "yaxis": "y"
        },
        {
         "alignmentgroup": "True",
         "hovertemplate": "variable=status<br>period_type=%{x}<br>value=%{y}<extra></extra>",
         "legendgroup": "status",
         "marker": {
          "color": "#FFA15A",
          "pattern": {
           "shape": ""
          }
         },
         "name": "status",
         "offsetgroup": "status",
         "orientation": "v",
         "showlegend": true,
         "textposition": "auto",
         "type": "bar",
         "x": [
          "NoEvent",
          "negative",
          "positive"
         ],
         "xaxis": "x",
         "y": [
          0.5002920029807212,
          0.7146031945972224,
          0.42137141383527715
         ],
         "yaxis": "y"
        },
        {
         "alignmentgroup": "True",
         "hovertemplate": "variable=support<br>period_type=%{x}<br>value=%{y}<extra></extra>",
         "legendgroup": "support",
         "marker": {
          "color": "#19d3f3",
          "pattern": {
           "shape": ""
          }
         },
         "name": "support",
         "offsetgroup": "support",
         "orientation": "v",
         "showlegend": true,
         "textposition": "auto",
         "type": "bar",
         "x": [
          "NoEvent",
          "negative",
          "positive"
         ],
         "xaxis": "x",
         "y": [
          0.5675040234209628,
          0.6015493030122842,
          0.2872655511265341
         ],
         "yaxis": "y"
        },
        {
         "alignmentgroup": "True",
         "hovertemplate": "variable=romance<br>period_type=%{x}<br>value=%{y}<extra></extra>",
         "legendgroup": "romance",
         "marker": {
          "color": "#FF6692",
          "pattern": {
           "shape": ""
          }
         },
         "name": "romance",
         "offsetgroup": "romance",
         "orientation": "v",
         "showlegend": true,
         "textposition": "auto",
         "type": "bar",
         "x": [
          "NoEvent",
          "negative",
          "positive"
         ],
         "xaxis": "x",
         "y": [
          0.22953017773890008,
          0.4680142030524297,
          0.032104185037544614
         ],
         "yaxis": "y"
        },
        {
         "alignmentgroup": "True",
         "hovertemplate": "variable=trust<br>period_type=%{x}<br>value=%{y}<extra></extra>",
         "legendgroup": "trust",
         "marker": {
          "color": "#B6E880",
          "pattern": {
           "shape": ""
          }
         },
         "name": "trust",
         "offsetgroup": "trust",
         "orientation": "v",
         "showlegend": true,
         "textposition": "auto",
         "type": "bar",
         "x": [
          "NoEvent",
          "negative",
          "positive"
         ],
         "xaxis": "x",
         "y": [
          0.7362292651036573,
          0.7662859899545201,
          0.2505021772092554
         ],
         "yaxis": "y"
        },
        {
         "alignmentgroup": "True",
         "hovertemplate": "variable=fun<br>period_type=%{x}<br>value=%{y}<extra></extra>",
         "legendgroup": "fun",
         "marker": {
          "color": "#FF97FF",
          "pattern": {
           "shape": ""
          }
         },
         "name": "fun",
         "offsetgroup": "fun",
         "orientation": "v",
         "showlegend": true,
         "textposition": "auto",
         "type": "bar",
         "x": [
          "NoEvent",
          "negative",
          "positive"
         ],
         "xaxis": "x",
         "y": [
          0.6373225551564091,
          0.5249633204027876,
          0.4203934044096975
         ],
         "yaxis": "y"
        }
       ],
       "layout": {
        "barmode": "group",
        "legend": {
         "title": {
          "text": "variable"
         },
         "tracegroupgap": 0
        },
        "margin": {
         "t": 60
        },
        "template": {
         "data": {
          "bar": [
           {
            "error_x": {
             "color": "#2a3f5f"
            },
            "error_y": {
             "color": "#2a3f5f"
            },
            "marker": {
             "line": {
              "color": "#E5ECF6",
              "width": 0.5
             },
             "pattern": {
              "fillmode": "overlay",
              "size": 10,
              "solidity": 0.2
             }
            },
            "type": "bar"
           }
          ],
          "barpolar": [
           {
            "marker": {
             "line": {
              "color": "#E5ECF6",
              "width": 0.5
             },
             "pattern": {
              "fillmode": "overlay",
              "size": 10,
              "solidity": 0.2
             }
            },
            "type": "barpolar"
           }
          ],
          "carpet": [
           {
            "aaxis": {
             "endlinecolor": "#2a3f5f",
             "gridcolor": "white",
             "linecolor": "white",
             "minorgridcolor": "white",
             "startlinecolor": "#2a3f5f"
            },
            "baxis": {
             "endlinecolor": "#2a3f5f",
             "gridcolor": "white",
             "linecolor": "white",
             "minorgridcolor": "white",
             "startlinecolor": "#2a3f5f"
            },
            "type": "carpet"
           }
          ],
          "choropleth": [
           {
            "colorbar": {
             "outlinewidth": 0,
             "ticks": ""
            },
            "type": "choropleth"
           }
          ],
          "contour": [
           {
            "colorbar": {
             "outlinewidth": 0,
             "ticks": ""
            },
            "colorscale": [
             [
              0,
              "#0d0887"
             ],
             [
              0.1111111111111111,
              "#46039f"
             ],
             [
              0.2222222222222222,
              "#7201a8"
             ],
             [
              0.3333333333333333,
              "#9c179e"
             ],
             [
              0.4444444444444444,
              "#bd3786"
             ],
             [
              0.5555555555555556,
              "#d8576b"
             ],
             [
              0.6666666666666666,
              "#ed7953"
             ],
             [
              0.7777777777777778,
              "#fb9f3a"
             ],
             [
              0.8888888888888888,
              "#fdca26"
             ],
             [
              1,
              "#f0f921"
             ]
            ],
            "type": "contour"
           }
          ],
          "contourcarpet": [
           {
            "colorbar": {
             "outlinewidth": 0,
             "ticks": ""
            },
            "type": "contourcarpet"
           }
          ],
          "heatmap": [
           {
            "colorbar": {
             "outlinewidth": 0,
             "ticks": ""
            },
            "colorscale": [
             [
              0,
              "#0d0887"
             ],
             [
              0.1111111111111111,
              "#46039f"
             ],
             [
              0.2222222222222222,
              "#7201a8"
             ],
             [
              0.3333333333333333,
              "#9c179e"
             ],
             [
              0.4444444444444444,
              "#bd3786"
             ],
             [
              0.5555555555555556,
              "#d8576b"
             ],
             [
              0.6666666666666666,
              "#ed7953"
             ],
             [
              0.7777777777777778,
              "#fb9f3a"
             ],
             [
              0.8888888888888888,
              "#fdca26"
             ],
             [
              1,
              "#f0f921"
             ]
            ],
            "type": "heatmap"
           }
          ],
          "heatmapgl": [
           {
            "colorbar": {
             "outlinewidth": 0,
             "ticks": ""
            },
            "colorscale": [
             [
              0,
              "#0d0887"
             ],
             [
              0.1111111111111111,
              "#46039f"
             ],
             [
              0.2222222222222222,
              "#7201a8"
             ],
             [
              0.3333333333333333,
              "#9c179e"
             ],
             [
              0.4444444444444444,
              "#bd3786"
             ],
             [
              0.5555555555555556,
              "#d8576b"
             ],
             [
              0.6666666666666666,
              "#ed7953"
             ],
             [
              0.7777777777777778,
              "#fb9f3a"
             ],
             [
              0.8888888888888888,
              "#fdca26"
             ],
             [
              1,
              "#f0f921"
             ]
            ],
            "type": "heatmapgl"
           }
          ],
          "histogram": [
           {
            "marker": {
             "pattern": {
              "fillmode": "overlay",
              "size": 10,
              "solidity": 0.2
             }
            },
            "type": "histogram"
           }
          ],
          "histogram2d": [
           {
            "colorbar": {
             "outlinewidth": 0,
             "ticks": ""
            },
            "colorscale": [
             [
              0,
              "#0d0887"
             ],
             [
              0.1111111111111111,
              "#46039f"
             ],
             [
              0.2222222222222222,
              "#7201a8"
             ],
             [
              0.3333333333333333,
              "#9c179e"
             ],
             [
              0.4444444444444444,
              "#bd3786"
             ],
             [
              0.5555555555555556,
              "#d8576b"
             ],
             [
              0.6666666666666666,
              "#ed7953"
             ],
             [
              0.7777777777777778,
              "#fb9f3a"
             ],
             [
              0.8888888888888888,
              "#fdca26"
             ],
             [
              1,
              "#f0f921"
             ]
            ],
            "type": "histogram2d"
           }
          ],
          "histogram2dcontour": [
           {
            "colorbar": {
             "outlinewidth": 0,
             "ticks": ""
            },
            "colorscale": [
             [
              0,
              "#0d0887"
             ],
             [
              0.1111111111111111,
              "#46039f"
             ],
             [
              0.2222222222222222,
              "#7201a8"
             ],
             [
              0.3333333333333333,
              "#9c179e"
             ],
             [
              0.4444444444444444,
              "#bd3786"
             ],
             [
              0.5555555555555556,
              "#d8576b"
             ],
             [
              0.6666666666666666,
              "#ed7953"
             ],
             [
              0.7777777777777778,
              "#fb9f3a"
             ],
             [
              0.8888888888888888,
              "#fdca26"
             ],
             [
              1,
              "#f0f921"
             ]
            ],
            "type": "histogram2dcontour"
           }
          ],
          "mesh3d": [
           {
            "colorbar": {
             "outlinewidth": 0,
             "ticks": ""
            },
            "type": "mesh3d"
           }
          ],
          "parcoords": [
           {
            "line": {
             "colorbar": {
              "outlinewidth": 0,
              "ticks": ""
             }
            },
            "type": "parcoords"
           }
          ],
          "pie": [
           {
            "automargin": true,
            "type": "pie"
           }
          ],
          "scatter": [
           {
            "fillpattern": {
             "fillmode": "overlay",
             "size": 10,
             "solidity": 0.2
            },
            "type": "scatter"
           }
          ],
          "scatter3d": [
           {
            "line": {
             "colorbar": {
              "outlinewidth": 0,
              "ticks": ""
             }
            },
            "marker": {
             "colorbar": {
              "outlinewidth": 0,
              "ticks": ""
             }
            },
            "type": "scatter3d"
           }
          ],
          "scattercarpet": [
           {
            "marker": {
             "colorbar": {
              "outlinewidth": 0,
              "ticks": ""
             }
            },
            "type": "scattercarpet"
           }
          ],
          "scattergeo": [
           {
            "marker": {
             "colorbar": {
              "outlinewidth": 0,
              "ticks": ""
             }
            },
            "type": "scattergeo"
           }
          ],
          "scattergl": [
           {
            "marker": {
             "colorbar": {
              "outlinewidth": 0,
              "ticks": ""
             }
            },
            "type": "scattergl"
           }
          ],
          "scattermapbox": [
           {
            "marker": {
             "colorbar": {
              "outlinewidth": 0,
              "ticks": ""
             }
            },
            "type": "scattermapbox"
           }
          ],
          "scatterpolar": [
           {
            "marker": {
             "colorbar": {
              "outlinewidth": 0,
              "ticks": ""
             }
            },
            "type": "scatterpolar"
           }
          ],
          "scatterpolargl": [
           {
            "marker": {
             "colorbar": {
              "outlinewidth": 0,
              "ticks": ""
             }
            },
            "type": "scatterpolargl"
           }
          ],
          "scatterternary": [
           {
            "marker": {
             "colorbar": {
              "outlinewidth": 0,
              "ticks": ""
             }
            },
            "type": "scatterternary"
           }
          ],
          "surface": [
           {
            "colorbar": {
             "outlinewidth": 0,
             "ticks": ""
            },
            "colorscale": [
             [
              0,
              "#0d0887"
             ],
             [
              0.1111111111111111,
              "#46039f"
             ],
             [
              0.2222222222222222,
              "#7201a8"
             ],
             [
              0.3333333333333333,
              "#9c179e"
             ],
             [
              0.4444444444444444,
              "#bd3786"
             ],
             [
              0.5555555555555556,
              "#d8576b"
             ],
             [
              0.6666666666666666,
              "#ed7953"
             ],
             [
              0.7777777777777778,
              "#fb9f3a"
             ],
             [
              0.8888888888888888,
              "#fdca26"
             ],
             [
              1,
              "#f0f921"
             ]
            ],
            "type": "surface"
           }
          ],
          "table": [
           {
            "cells": {
             "fill": {
              "color": "#EBF0F8"
             },
             "line": {
              "color": "white"
             }
            },
            "header": {
             "fill": {
              "color": "#C8D4E3"
             },
             "line": {
              "color": "white"
             }
            },
            "type": "table"
           }
          ]
         },
         "layout": {
          "annotationdefaults": {
           "arrowcolor": "#2a3f5f",
           "arrowhead": 0,
           "arrowwidth": 1
          },
          "autotypenumbers": "strict",
          "coloraxis": {
           "colorbar": {
            "outlinewidth": 0,
            "ticks": ""
           }
          },
          "colorscale": {
           "diverging": [
            [
             0,
             "#8e0152"
            ],
            [
             0.1,
             "#c51b7d"
            ],
            [
             0.2,
             "#de77ae"
            ],
            [
             0.3,
             "#f1b6da"
            ],
            [
             0.4,
             "#fde0ef"
            ],
            [
             0.5,
             "#f7f7f7"
            ],
            [
             0.6,
             "#e6f5d0"
            ],
            [
             0.7,
             "#b8e186"
            ],
            [
             0.8,
             "#7fbc41"
            ],
            [
             0.9,
             "#4d9221"
            ],
            [
             1,
             "#276419"
            ]
           ],
           "sequential": [
            [
             0,
             "#0d0887"
            ],
            [
             0.1111111111111111,
             "#46039f"
            ],
            [
             0.2222222222222222,
             "#7201a8"
            ],
            [
             0.3333333333333333,
             "#9c179e"
            ],
            [
             0.4444444444444444,
             "#bd3786"
            ],
            [
             0.5555555555555556,
             "#d8576b"
            ],
            [
             0.6666666666666666,
             "#ed7953"
            ],
            [
             0.7777777777777778,
             "#fb9f3a"
            ],
            [
             0.8888888888888888,
             "#fdca26"
            ],
            [
             1,
             "#f0f921"
            ]
           ],
           "sequentialminus": [
            [
             0,
             "#0d0887"
            ],
            [
             0.1111111111111111,
             "#46039f"
            ],
            [
             0.2222222222222222,
             "#7201a8"
            ],
            [
             0.3333333333333333,
             "#9c179e"
            ],
            [
             0.4444444444444444,
             "#bd3786"
            ],
            [
             0.5555555555555556,
             "#d8576b"
            ],
            [
             0.6666666666666666,
             "#ed7953"
            ],
            [
             0.7777777777777778,
             "#fb9f3a"
            ],
            [
             0.8888888888888888,
             "#fdca26"
            ],
            [
             1,
             "#f0f921"
            ]
           ]
          },
          "colorway": [
           "#636efa",
           "#EF553B",
           "#00cc96",
           "#ab63fa",
           "#FFA15A",
           "#19d3f3",
           "#FF6692",
           "#B6E880",
           "#FF97FF",
           "#FECB52"
          ],
          "font": {
           "color": "#2a3f5f"
          },
          "geo": {
           "bgcolor": "white",
           "lakecolor": "white",
           "landcolor": "#E5ECF6",
           "showlakes": true,
           "showland": true,
           "subunitcolor": "white"
          },
          "hoverlabel": {
           "align": "left"
          },
          "hovermode": "closest",
          "mapbox": {
           "style": "light"
          },
          "paper_bgcolor": "white",
          "plot_bgcolor": "#E5ECF6",
          "polar": {
           "angularaxis": {
            "gridcolor": "white",
            "linecolor": "white",
            "ticks": ""
           },
           "bgcolor": "#E5ECF6",
           "radialaxis": {
            "gridcolor": "white",
            "linecolor": "white",
            "ticks": ""
           }
          },
          "scene": {
           "xaxis": {
            "backgroundcolor": "#E5ECF6",
            "gridcolor": "white",
            "gridwidth": 2,
            "linecolor": "white",
            "showbackground": true,
            "ticks": "",
            "zerolinecolor": "white"
           },
           "yaxis": {
            "backgroundcolor": "#E5ECF6",
            "gridcolor": "white",
            "gridwidth": 2,
            "linecolor": "white",
            "showbackground": true,
            "ticks": "",
            "zerolinecolor": "white"
           },
           "zaxis": {
            "backgroundcolor": "#E5ECF6",
            "gridcolor": "white",
            "gridwidth": 2,
            "linecolor": "white",
            "showbackground": true,
            "ticks": "",
            "zerolinecolor": "white"
           }
          },
          "shapedefaults": {
           "line": {
            "color": "#2a3f5f"
           }
          },
          "ternary": {
           "aaxis": {
            "gridcolor": "white",
            "linecolor": "white",
            "ticks": ""
           },
           "baxis": {
            "gridcolor": "white",
            "linecolor": "white",
            "ticks": ""
           },
           "bgcolor": "#E5ECF6",
           "caxis": {
            "gridcolor": "white",
            "linecolor": "white",
            "ticks": ""
           }
          },
          "title": {
           "x": 0.05
          },
          "xaxis": {
           "automargin": true,
           "gridcolor": "white",
           "linecolor": "white",
           "ticks": "",
           "title": {
            "standoff": 15
           },
           "zerolinecolor": "white",
           "zerolinewidth": 2
          },
          "yaxis": {
           "automargin": true,
           "gridcolor": "white",
           "linecolor": "white",
           "ticks": "",
           "title": {
            "standoff": 15
           },
           "zerolinecolor": "white",
           "zerolinewidth": 2
          }
         }
        },
        "xaxis": {
         "anchor": "y",
         "domain": [
          0,
          1
         ],
         "title": {
          "text": "period_type"
         }
        },
        "yaxis": {
         "anchor": "x",
         "domain": [
          0,
          1
         ],
         "title": {
          "text": "value"
         }
        }
       }
      },
      "text/html": [
       "<div>                            <div id=\"8c70bcfd-340a-4d6f-a3e4-df74fd3f838c\" class=\"plotly-graph-div\" style=\"height:525px; width:100%;\"></div>            <script type=\"text/javascript\">                require([\"plotly\"], function(Plotly) {                    window.PLOTLYENV=window.PLOTLYENV || {};                                    if (document.getElementById(\"8c70bcfd-340a-4d6f-a3e4-df74fd3f838c\")) {                    Plotly.newPlot(                        \"8c70bcfd-340a-4d6f-a3e4-df74fd3f838c\",                        [{\"alignmentgroup\":\"True\",\"hovertemplate\":\"variable=conflict<br>period_type=%{x}<br>value=%{y}<extra></extra>\",\"legendgroup\":\"conflict\",\"marker\":{\"color\":\"#636efa\",\"pattern\":{\"shape\":\"\"}},\"name\":\"conflict\",\"offsetgroup\":\"conflict\",\"orientation\":\"v\",\"showlegend\":true,\"textposition\":\"auto\",\"x\":[\"NoEvent\",\"negative\",\"positive\"],\"xaxis\":\"x\",\"y\":[0.6934030895835217,0.35268947544727824,0.6152654558606783],\"yaxis\":\"y\",\"type\":\"bar\"},{\"alignmentgroup\":\"True\",\"hovertemplate\":\"variable=similarity<br>period_type=%{x}<br>value=%{y}<extra></extra>\",\"legendgroup\":\"similarity\",\"marker\":{\"color\":\"#EF553B\",\"pattern\":{\"shape\":\"\"}},\"name\":\"similarity\",\"offsetgroup\":\"similarity\",\"orientation\":\"v\",\"showlegend\":true,\"textposition\":\"auto\",\"x\":[\"NoEvent\",\"negative\",\"positive\"],\"xaxis\":\"x\",\"y\":[0.7719837175793306,0.2454085794130997,0.5871743307745232],\"yaxis\":\"y\",\"type\":\"bar\"},{\"alignmentgroup\":\"True\",\"hovertemplate\":\"variable=knowledge<br>period_type=%{x}<br>value=%{y}<extra></extra>\",\"legendgroup\":\"knowledge\",\"marker\":{\"color\":\"#00cc96\",\"pattern\":{\"shape\":\"\"}},\"name\":\"knowledge\",\"offsetgroup\":\"knowledge\",\"orientation\":\"v\",\"showlegend\":true,\"textposition\":\"auto\",\"x\":[\"NoEvent\",\"negative\",\"positive\"],\"xaxis\":\"x\",\"y\":[0.8469990813464914,0.6745082458462884,0.68473249166399],\"yaxis\":\"y\",\"type\":\"bar\"},{\"alignmentgroup\":\"True\",\"hovertemplate\":\"variable=power<br>period_type=%{x}<br>value=%{y}<extra></extra>\",\"legendgroup\":\"power\",\"marker\":{\"color\":\"#ab63fa\",\"pattern\":{\"shape\":\"\"}},\"name\":\"power\",\"offsetgroup\":\"power\",\"orientation\":\"v\",\"showlegend\":true,\"textposition\":\"auto\",\"x\":[\"NoEvent\",\"negative\",\"positive\"],\"xaxis\":\"x\",\"y\":[0.6076613870829722,0.5920617708761032,0.30861968560142305],\"yaxis\":\"y\",\"type\":\"bar\"},{\"alignmentgroup\":\"True\",\"hovertemplate\":\"variable=status<br>period_type=%{x}<br>value=%{y}<extra></extra>\",\"legendgroup\":\"status\",\"marker\":{\"color\":\"#FFA15A\",\"pattern\":{\"shape\":\"\"}},\"name\":\"status\",\"offsetgroup\":\"status\",\"orientation\":\"v\",\"showlegend\":true,\"textposition\":\"auto\",\"x\":[\"NoEvent\",\"negative\",\"positive\"],\"xaxis\":\"x\",\"y\":[0.5002920029807212,0.7146031945972224,0.42137141383527715],\"yaxis\":\"y\",\"type\":\"bar\"},{\"alignmentgroup\":\"True\",\"hovertemplate\":\"variable=support<br>period_type=%{x}<br>value=%{y}<extra></extra>\",\"legendgroup\":\"support\",\"marker\":{\"color\":\"#19d3f3\",\"pattern\":{\"shape\":\"\"}},\"name\":\"support\",\"offsetgroup\":\"support\",\"orientation\":\"v\",\"showlegend\":true,\"textposition\":\"auto\",\"x\":[\"NoEvent\",\"negative\",\"positive\"],\"xaxis\":\"x\",\"y\":[0.5675040234209628,0.6015493030122842,0.2872655511265341],\"yaxis\":\"y\",\"type\":\"bar\"},{\"alignmentgroup\":\"True\",\"hovertemplate\":\"variable=romance<br>period_type=%{x}<br>value=%{y}<extra></extra>\",\"legendgroup\":\"romance\",\"marker\":{\"color\":\"#FF6692\",\"pattern\":{\"shape\":\"\"}},\"name\":\"romance\",\"offsetgroup\":\"romance\",\"orientation\":\"v\",\"showlegend\":true,\"textposition\":\"auto\",\"x\":[\"NoEvent\",\"negative\",\"positive\"],\"xaxis\":\"x\",\"y\":[0.22953017773890008,0.4680142030524297,0.032104185037544614],\"yaxis\":\"y\",\"type\":\"bar\"},{\"alignmentgroup\":\"True\",\"hovertemplate\":\"variable=trust<br>period_type=%{x}<br>value=%{y}<extra></extra>\",\"legendgroup\":\"trust\",\"marker\":{\"color\":\"#B6E880\",\"pattern\":{\"shape\":\"\"}},\"name\":\"trust\",\"offsetgroup\":\"trust\",\"orientation\":\"v\",\"showlegend\":true,\"textposition\":\"auto\",\"x\":[\"NoEvent\",\"negative\",\"positive\"],\"xaxis\":\"x\",\"y\":[0.7362292651036573,0.7662859899545201,0.2505021772092554],\"yaxis\":\"y\",\"type\":\"bar\"},{\"alignmentgroup\":\"True\",\"hovertemplate\":\"variable=fun<br>period_type=%{x}<br>value=%{y}<extra></extra>\",\"legendgroup\":\"fun\",\"marker\":{\"color\":\"#FF97FF\",\"pattern\":{\"shape\":\"\"}},\"name\":\"fun\",\"offsetgroup\":\"fun\",\"orientation\":\"v\",\"showlegend\":true,\"textposition\":\"auto\",\"x\":[\"NoEvent\",\"negative\",\"positive\"],\"xaxis\":\"x\",\"y\":[0.6373225551564091,0.5249633204027876,0.4203934044096975],\"yaxis\":\"y\",\"type\":\"bar\"}],                        {\"template\":{\"data\":{\"histogram2dcontour\":[{\"type\":\"histogram2dcontour\",\"colorbar\":{\"outlinewidth\":0,\"ticks\":\"\"},\"colorscale\":[[0.0,\"#0d0887\"],[0.1111111111111111,\"#46039f\"],[0.2222222222222222,\"#7201a8\"],[0.3333333333333333,\"#9c179e\"],[0.4444444444444444,\"#bd3786\"],[0.5555555555555556,\"#d8576b\"],[0.6666666666666666,\"#ed7953\"],[0.7777777777777778,\"#fb9f3a\"],[0.8888888888888888,\"#fdca26\"],[1.0,\"#f0f921\"]]}],\"choropleth\":[{\"type\":\"choropleth\",\"colorbar\":{\"outlinewidth\":0,\"ticks\":\"\"}}],\"histogram2d\":[{\"type\":\"histogram2d\",\"colorbar\":{\"outlinewidth\":0,\"ticks\":\"\"},\"colorscale\":[[0.0,\"#0d0887\"],[0.1111111111111111,\"#46039f\"],[0.2222222222222222,\"#7201a8\"],[0.3333333333333333,\"#9c179e\"],[0.4444444444444444,\"#bd3786\"],[0.5555555555555556,\"#d8576b\"],[0.6666666666666666,\"#ed7953\"],[0.7777777777777778,\"#fb9f3a\"],[0.8888888888888888,\"#fdca26\"],[1.0,\"#f0f921\"]]}],\"heatmap\":[{\"type\":\"heatmap\",\"colorbar\":{\"outlinewidth\":0,\"ticks\":\"\"},\"colorscale\":[[0.0,\"#0d0887\"],[0.1111111111111111,\"#46039f\"],[0.2222222222222222,\"#7201a8\"],[0.3333333333333333,\"#9c179e\"],[0.4444444444444444,\"#bd3786\"],[0.5555555555555556,\"#d8576b\"],[0.6666666666666666,\"#ed7953\"],[0.7777777777777778,\"#fb9f3a\"],[0.8888888888888888,\"#fdca26\"],[1.0,\"#f0f921\"]]}],\"heatmapgl\":[{\"type\":\"heatmapgl\",\"colorbar\":{\"outlinewidth\":0,\"ticks\":\"\"},\"colorscale\":[[0.0,\"#0d0887\"],[0.1111111111111111,\"#46039f\"],[0.2222222222222222,\"#7201a8\"],[0.3333333333333333,\"#9c179e\"],[0.4444444444444444,\"#bd3786\"],[0.5555555555555556,\"#d8576b\"],[0.6666666666666666,\"#ed7953\"],[0.7777777777777778,\"#fb9f3a\"],[0.8888888888888888,\"#fdca26\"],[1.0,\"#f0f921\"]]}],\"contourcarpet\":[{\"type\":\"contourcarpet\",\"colorbar\":{\"outlinewidth\":0,\"ticks\":\"\"}}],\"contour\":[{\"type\":\"contour\",\"colorbar\":{\"outlinewidth\":0,\"ticks\":\"\"},\"colorscale\":[[0.0,\"#0d0887\"],[0.1111111111111111,\"#46039f\"],[0.2222222222222222,\"#7201a8\"],[0.3333333333333333,\"#9c179e\"],[0.4444444444444444,\"#bd3786\"],[0.5555555555555556,\"#d8576b\"],[0.6666666666666666,\"#ed7953\"],[0.7777777777777778,\"#fb9f3a\"],[0.8888888888888888,\"#fdca26\"],[1.0,\"#f0f921\"]]}],\"surface\":[{\"type\":\"surface\",\"colorbar\":{\"outlinewidth\":0,\"ticks\":\"\"},\"colorscale\":[[0.0,\"#0d0887\"],[0.1111111111111111,\"#46039f\"],[0.2222222222222222,\"#7201a8\"],[0.3333333333333333,\"#9c179e\"],[0.4444444444444444,\"#bd3786\"],[0.5555555555555556,\"#d8576b\"],[0.6666666666666666,\"#ed7953\"],[0.7777777777777778,\"#fb9f3a\"],[0.8888888888888888,\"#fdca26\"],[1.0,\"#f0f921\"]]}],\"mesh3d\":[{\"type\":\"mesh3d\",\"colorbar\":{\"outlinewidth\":0,\"ticks\":\"\"}}],\"scatter\":[{\"fillpattern\":{\"fillmode\":\"overlay\",\"size\":10,\"solidity\":0.2},\"type\":\"scatter\"}],\"parcoords\":[{\"type\":\"parcoords\",\"line\":{\"colorbar\":{\"outlinewidth\":0,\"ticks\":\"\"}}}],\"scatterpolargl\":[{\"type\":\"scatterpolargl\",\"marker\":{\"colorbar\":{\"outlinewidth\":0,\"ticks\":\"\"}}}],\"bar\":[{\"error_x\":{\"color\":\"#2a3f5f\"},\"error_y\":{\"color\":\"#2a3f5f\"},\"marker\":{\"line\":{\"color\":\"#E5ECF6\",\"width\":0.5},\"pattern\":{\"fillmode\":\"overlay\",\"size\":10,\"solidity\":0.2}},\"type\":\"bar\"}],\"scattergeo\":[{\"type\":\"scattergeo\",\"marker\":{\"colorbar\":{\"outlinewidth\":0,\"ticks\":\"\"}}}],\"scatterpolar\":[{\"type\":\"scatterpolar\",\"marker\":{\"colorbar\":{\"outlinewidth\":0,\"ticks\":\"\"}}}],\"histogram\":[{\"marker\":{\"pattern\":{\"fillmode\":\"overlay\",\"size\":10,\"solidity\":0.2}},\"type\":\"histogram\"}],\"scattergl\":[{\"type\":\"scattergl\",\"marker\":{\"colorbar\":{\"outlinewidth\":0,\"ticks\":\"\"}}}],\"scatter3d\":[{\"type\":\"scatter3d\",\"line\":{\"colorbar\":{\"outlinewidth\":0,\"ticks\":\"\"}},\"marker\":{\"colorbar\":{\"outlinewidth\":0,\"ticks\":\"\"}}}],\"scattermapbox\":[{\"type\":\"scattermapbox\",\"marker\":{\"colorbar\":{\"outlinewidth\":0,\"ticks\":\"\"}}}],\"scatterternary\":[{\"type\":\"scatterternary\",\"marker\":{\"colorbar\":{\"outlinewidth\":0,\"ticks\":\"\"}}}],\"scattercarpet\":[{\"type\":\"scattercarpet\",\"marker\":{\"colorbar\":{\"outlinewidth\":0,\"ticks\":\"\"}}}],\"carpet\":[{\"aaxis\":{\"endlinecolor\":\"#2a3f5f\",\"gridcolor\":\"white\",\"linecolor\":\"white\",\"minorgridcolor\":\"white\",\"startlinecolor\":\"#2a3f5f\"},\"baxis\":{\"endlinecolor\":\"#2a3f5f\",\"gridcolor\":\"white\",\"linecolor\":\"white\",\"minorgridcolor\":\"white\",\"startlinecolor\":\"#2a3f5f\"},\"type\":\"carpet\"}],\"table\":[{\"cells\":{\"fill\":{\"color\":\"#EBF0F8\"},\"line\":{\"color\":\"white\"}},\"header\":{\"fill\":{\"color\":\"#C8D4E3\"},\"line\":{\"color\":\"white\"}},\"type\":\"table\"}],\"barpolar\":[{\"marker\":{\"line\":{\"color\":\"#E5ECF6\",\"width\":0.5},\"pattern\":{\"fillmode\":\"overlay\",\"size\":10,\"solidity\":0.2}},\"type\":\"barpolar\"}],\"pie\":[{\"automargin\":true,\"type\":\"pie\"}]},\"layout\":{\"autotypenumbers\":\"strict\",\"colorway\":[\"#636efa\",\"#EF553B\",\"#00cc96\",\"#ab63fa\",\"#FFA15A\",\"#19d3f3\",\"#FF6692\",\"#B6E880\",\"#FF97FF\",\"#FECB52\"],\"font\":{\"color\":\"#2a3f5f\"},\"hovermode\":\"closest\",\"hoverlabel\":{\"align\":\"left\"},\"paper_bgcolor\":\"white\",\"plot_bgcolor\":\"#E5ECF6\",\"polar\":{\"bgcolor\":\"#E5ECF6\",\"angularaxis\":{\"gridcolor\":\"white\",\"linecolor\":\"white\",\"ticks\":\"\"},\"radialaxis\":{\"gridcolor\":\"white\",\"linecolor\":\"white\",\"ticks\":\"\"}},\"ternary\":{\"bgcolor\":\"#E5ECF6\",\"aaxis\":{\"gridcolor\":\"white\",\"linecolor\":\"white\",\"ticks\":\"\"},\"baxis\":{\"gridcolor\":\"white\",\"linecolor\":\"white\",\"ticks\":\"\"},\"caxis\":{\"gridcolor\":\"white\",\"linecolor\":\"white\",\"ticks\":\"\"}},\"coloraxis\":{\"colorbar\":{\"outlinewidth\":0,\"ticks\":\"\"}},\"colorscale\":{\"sequential\":[[0.0,\"#0d0887\"],[0.1111111111111111,\"#46039f\"],[0.2222222222222222,\"#7201a8\"],[0.3333333333333333,\"#9c179e\"],[0.4444444444444444,\"#bd3786\"],[0.5555555555555556,\"#d8576b\"],[0.6666666666666666,\"#ed7953\"],[0.7777777777777778,\"#fb9f3a\"],[0.8888888888888888,\"#fdca26\"],[1.0,\"#f0f921\"]],\"sequentialminus\":[[0.0,\"#0d0887\"],[0.1111111111111111,\"#46039f\"],[0.2222222222222222,\"#7201a8\"],[0.3333333333333333,\"#9c179e\"],[0.4444444444444444,\"#bd3786\"],[0.5555555555555556,\"#d8576b\"],[0.6666666666666666,\"#ed7953\"],[0.7777777777777778,\"#fb9f3a\"],[0.8888888888888888,\"#fdca26\"],[1.0,\"#f0f921\"]],\"diverging\":[[0,\"#8e0152\"],[0.1,\"#c51b7d\"],[0.2,\"#de77ae\"],[0.3,\"#f1b6da\"],[0.4,\"#fde0ef\"],[0.5,\"#f7f7f7\"],[0.6,\"#e6f5d0\"],[0.7,\"#b8e186\"],[0.8,\"#7fbc41\"],[0.9,\"#4d9221\"],[1,\"#276419\"]]},\"xaxis\":{\"gridcolor\":\"white\",\"linecolor\":\"white\",\"ticks\":\"\",\"title\":{\"standoff\":15},\"zerolinecolor\":\"white\",\"automargin\":true,\"zerolinewidth\":2},\"yaxis\":{\"gridcolor\":\"white\",\"linecolor\":\"white\",\"ticks\":\"\",\"title\":{\"standoff\":15},\"zerolinecolor\":\"white\",\"automargin\":true,\"zerolinewidth\":2},\"scene\":{\"xaxis\":{\"backgroundcolor\":\"#E5ECF6\",\"gridcolor\":\"white\",\"linecolor\":\"white\",\"showbackground\":true,\"ticks\":\"\",\"zerolinecolor\":\"white\",\"gridwidth\":2},\"yaxis\":{\"backgroundcolor\":\"#E5ECF6\",\"gridcolor\":\"white\",\"linecolor\":\"white\",\"showbackground\":true,\"ticks\":\"\",\"zerolinecolor\":\"white\",\"gridwidth\":2},\"zaxis\":{\"backgroundcolor\":\"#E5ECF6\",\"gridcolor\":\"white\",\"linecolor\":\"white\",\"showbackground\":true,\"ticks\":\"\",\"zerolinecolor\":\"white\",\"gridwidth\":2}},\"shapedefaults\":{\"line\":{\"color\":\"#2a3f5f\"}},\"annotationdefaults\":{\"arrowcolor\":\"#2a3f5f\",\"arrowhead\":0,\"arrowwidth\":1},\"geo\":{\"bgcolor\":\"white\",\"landcolor\":\"#E5ECF6\",\"subunitcolor\":\"white\",\"showland\":true,\"showlakes\":true,\"lakecolor\":\"white\"},\"title\":{\"x\":0.05},\"mapbox\":{\"style\":\"light\"}}},\"xaxis\":{\"anchor\":\"y\",\"domain\":[0.0,1.0],\"title\":{\"text\":\"period_type\"}},\"yaxis\":{\"anchor\":\"x\",\"domain\":[0.0,1.0],\"title\":{\"text\":\"value\"}},\"legend\":{\"title\":{\"text\":\"variable\"},\"tracegroupgap\":0},\"margin\":{\"t\":60},\"barmode\":\"group\"},                        {\"responsive\": true}                    ).then(function(){\n",
       "                            \n",
       "var gd = document.getElementById('8c70bcfd-340a-4d6f-a3e4-df74fd3f838c');\n",
       "var x = new MutationObserver(function (mutations, observer) {{\n",
       "        var display = window.getComputedStyle(gd).display;\n",
       "        if (!display || display === 'none') {{\n",
       "            console.log([gd, 'removed!']);\n",
       "            Plotly.purge(gd);\n",
       "            observer.disconnect();\n",
       "        }}\n",
       "}});\n",
       "\n",
       "// Listen for the removal of the full notebook cells\n",
       "var notebookContainer = gd.closest('#notebook-container');\n",
       "if (notebookContainer) {{\n",
       "    x.observe(notebookContainer, {childList: true});\n",
       "}}\n",
       "\n",
       "// Listen for the clearing of the current output cell\n",
       "var outputEl = gd.closest('.output');\n",
       "if (outputEl) {{\n",
       "    x.observe(outputEl, {childList: true});\n",
       "}}\n",
       "\n",
       "                        })                };                });            </script>        </div>"
      ]
     },
     "metadata": {},
     "output_type": "display_data"
    }
   ],
   "source": [
    "plt.style.use('fivethirtyeight')\n",
    "\n",
    "bar_dict = {}\n",
    "for ix,k in enumerate(dfs.keys()):\n",
    "    \n",
    "    \n",
    "    vals = pd.DataFrame(dfs[k].corr()['Mean'].drop('Mean'))\n",
    "    for key,val in vals.iterrows():\n",
    "        if key not in bar_dict:\n",
    "            bar_dict['period_type'] = []\n",
    "            \n",
    "            bar_dict[key] = [val['Mean']]\n",
    "            \n",
    "            \n",
    "            \n",
    "        else:\n",
    "            bar_dict[key].append(val['Mean'])\n",
    "            \n",
    "    \n",
    "    bar_dict['period_type'].append(k)\n",
    "\n",
    "    \n",
    "bar_df = pd.DataFrame(bar_dict).sort_values(['period_type']).set_index('period_type')\n",
    "fig = px.bar(data_frame=bar_df, barmode=\"group\")\n",
    "fig.show()"
   ]
  },
  {
   "cell_type": "code",
   "execution_count": 92,
   "id": "0130b6d9",
   "metadata": {
    "scrolled": false
   },
   "outputs": [
    {
     "data": {
      "application/vnd.plotly.v1+json": {
       "config": {
        "plotlyServerURL": "https://plot.ly"
       },
       "data": [
        {
         "hovertemplate": "date=%{x}<br>Mean=%{y}<extra></extra>",
         "legendgroup": "",
         "line": {
          "dash": "solid"
         },
         "marker": {
          "symbol": "circle"
         },
         "mode": "lines",
         "name": "",
         "orientation": "v",
         "showlegend": false,
         "type": "scatter",
         "x": [
          "2022-01-05",
          "2022-01-06",
          "2022-01-07",
          "2022-01-08",
          "2022-01-09",
          "2022-01-10",
          "2022-01-11",
          "2022-01-12",
          "2022-01-16",
          "2022-01-17",
          "2022-01-18",
          "2022-01-19",
          "2022-01-20",
          "2022-01-21",
          "2022-01-22",
          "2022-01-23",
          "2022-01-24",
          "2022-01-25",
          "2022-01-26",
          "2022-01-27",
          "2022-01-28",
          "2022-01-29",
          "2022-01-30",
          "2022-01-31",
          "2022-02-01",
          "2022-02-02",
          "2022-02-03",
          "2022-02-04",
          "2022-02-05",
          "2022-02-06",
          "2022-02-07",
          "2022-02-08",
          "2022-02-09",
          "2022-02-10",
          "2022-02-11",
          "2022-02-12",
          "2022-02-13",
          "2022-02-14",
          "2022-02-15",
          "2022-02-16",
          "2022-02-17",
          "2022-02-18",
          "2022-02-19",
          "2022-02-20",
          "2022-02-21",
          "2022-02-22",
          "2022-02-23",
          "2022-02-24",
          "2022-02-25",
          "2022-02-26",
          "2022-02-27",
          "2022-02-28",
          "2022-03-01",
          "2022-03-02",
          "2022-03-03",
          "2022-03-04",
          "2022-03-05",
          "2022-03-06",
          "2022-03-07",
          "2022-03-08",
          "2022-03-09",
          "2022-03-10",
          "2022-03-11",
          "2022-03-12",
          "2022-03-13",
          "2022-03-14",
          "2022-03-15",
          "2022-03-16",
          "2022-03-17",
          "2022-03-18",
          "2022-03-19",
          "2022-03-20",
          "2022-03-21",
          "2022-03-22",
          "2022-03-23",
          "2022-03-24",
          "2022-03-25",
          "2022-03-26",
          "2022-03-27",
          "2022-03-28",
          "2022-03-29",
          "2022-03-30",
          "2022-03-31",
          "2022-04-01",
          "2022-04-02",
          "2022-04-05",
          "2022-04-06",
          "2022-04-07",
          "2022-04-08",
          "2022-04-09",
          "2022-04-10",
          "2022-04-11",
          "2022-04-12",
          "2022-04-13",
          "2022-04-14",
          "2022-04-15",
          "2022-04-16",
          "2022-04-17",
          "2022-04-18",
          "2022-04-19",
          "2022-04-20",
          "2022-04-21",
          "2022-04-22",
          "2022-04-23",
          "2022-04-24",
          "2022-04-25",
          "2022-04-26",
          "2022-04-27",
          "2022-04-28",
          "2022-04-29",
          "2022-04-30",
          "2022-05-01",
          "2022-05-02",
          "2022-05-03",
          "2022-05-04",
          "2022-05-05",
          "2022-05-06",
          "2022-05-07",
          "2022-05-08",
          "2022-05-09",
          "2022-05-10",
          "2022-05-11",
          "2022-05-12",
          "2022-05-13",
          "2022-05-14",
          "2022-05-15",
          "2022-05-16",
          "2022-05-17",
          "2022-05-18",
          "2022-05-19",
          "2022-05-20",
          "2022-05-21",
          "2022-05-22",
          "2022-05-23",
          "2022-05-24",
          "2022-05-26",
          "2022-05-27",
          "2022-05-28",
          "2022-05-29",
          "2022-05-30",
          "2022-05-31",
          "2022-06-01",
          "2022-06-02",
          "2022-06-03",
          "2022-06-04",
          "2022-06-05",
          "2022-06-06",
          "2022-06-07",
          "2022-06-08",
          "2022-06-09",
          "2022-06-10",
          "2022-06-11",
          "2022-06-12",
          "2022-06-13",
          "2022-06-14",
          "2022-06-15",
          "2022-06-16",
          "2022-06-17",
          "2022-06-18",
          "2022-06-19",
          "2022-06-20",
          "2022-06-21",
          "2022-06-22",
          "2022-06-23",
          "2022-06-24",
          "2022-06-25",
          "2022-06-26",
          "2022-06-27",
          "2022-06-28",
          "2022-06-29",
          "2022-07-02",
          "2022-07-03",
          "2022-07-04",
          "2022-07-05",
          "2022-07-06",
          "2022-07-07",
          "2022-07-08",
          "2022-07-09",
          "2022-07-10",
          "2022-07-11",
          "2022-07-12",
          "2022-07-13",
          "2022-07-14",
          "2022-07-15",
          "2022-07-16",
          "2022-07-17",
          "2022-07-18",
          "2022-07-19",
          "2022-07-20",
          "2022-07-21",
          "2022-07-22",
          "2022-07-23",
          "2022-07-24",
          "2022-07-25",
          "2022-07-26",
          "2022-07-27",
          "2022-07-28",
          "2022-07-29",
          "2022-07-30",
          "2022-07-31",
          "2022-08-01",
          "2022-08-02",
          "2022-08-03",
          "2022-08-04",
          "2022-08-05",
          "2022-08-06",
          "2022-08-07",
          "2022-08-08",
          "2022-08-09",
          "2022-08-10",
          "2022-08-11",
          "2022-08-12",
          "2022-08-13",
          "2022-08-14",
          "2022-08-15",
          "2022-08-16",
          "2022-08-17",
          "2022-08-18",
          "2022-08-19",
          "2022-08-20",
          "2022-08-21",
          "2022-08-22",
          "2022-08-23",
          "2022-08-24",
          "2022-08-25",
          "2022-08-26",
          "2022-08-27",
          "2022-08-28",
          "2022-08-29",
          "2022-08-30",
          "2022-08-31",
          "2022-09-01",
          "2022-09-02",
          "2022-09-03",
          "2022-09-04",
          "2022-09-05",
          "2022-09-06",
          "2022-09-07",
          "2022-09-08",
          "2022-09-09",
          "2022-09-10",
          "2022-09-11",
          "2022-09-12",
          "2022-09-13",
          "2022-09-14",
          "2022-09-16"
         ],
         "xaxis": "x",
         "y": [
          16300560.396325707,
          17658648.89806571,
          17347162.93101469,
          16975064.4272259,
          16797785.791917797,
          16806788.914961446,
          16811833.251713973,
          16734018.396816732,
          17112088.201657716,
          17011946.553369317,
          16970497.972453773,
          16652439.489730489,
          14965479.43222849,
          13323793.673679637,
          12873959.016227724,
          11303651.720090585,
          11007467.34700925,
          10871655.621807251,
          12159820.822644686,
          13505607.403390111,
          13681356.340413606,
          14936296.611906191,
          14923038.910625257,
          12589322.572192566,
          12568194.290519638,
          12656150.217581045,
          12895523.888825014,
          13174352.579157157,
          14758873.283617333,
          14966112.54168266,
          13981120.739769287,
          14329206.281212503,
          12998453.810260974,
          13035101.46742987,
          12935524.996210158,
          14282421.110996926,
          14269045.839103565,
          14234745.430921003,
          13983623.878515448,
          12451147.474175066,
          15269480.34958822,
          15144035.258112026,
          13602820.084048048,
          11961488.017577806,
          11692883.442188185,
          10520623.18598848,
          10597508.98837556,
          12302652.732426368,
          12055658.914270565,
          13312310.455994308,
          13302684.301300997,
          15072063.977543931,
          16640913.820278505,
          16726833.162031168,
          15359834.212318948,
          14337334.69371573,
          13968809.536106026,
          13561663.795575554,
          13355494.93965335,
          11993273.990426429,
          12099160.81741657,
          12943501.406253258,
          12695278.590656549,
          12590908.615391329,
          12418870.720681133,
          12292307.862216016,
          13682690.17967298,
          12526529.102193069,
          12882839.583889768,
          11436021.607194657,
          11324391.68407502,
          12674892.310120234,
          11270116.114267657,
          12775937.96738934,
          11589932.293703048,
          13442791.025573203,
          13942925.906535745,
          12722266.4979224,
          14600266.085370503,
          14866187.212059,
          14936133.6515846,
          13608250.734281491,
          12280254.842698582,
          14027934.698614923,
          13825044.782824928,
          9370691.80449831,
          9533048.390190354,
          9701736.487279251,
          8516841.090446098,
          9443838.824822633,
          9364852.622400708,
          10675149.238137288,
          11864137.72101284,
          11742429.723710775,
          12885260.082449311,
          11467406.715709897,
          12690455.363681272,
          11144443.841934573,
          9815462.194832023,
          9820668.402080366,
          9694690.695536984,
          9815317.107529247,
          9585090.849358326,
          9490934.549195984,
          10580321.827864258,
          10357739.355840078,
          9904135.934160378,
          9669618.420316638,
          13644156.129957588,
          13356814.415303038,
          11853810.286388464,
          11775592.976694366,
          11590485.543108916,
          11612288.84540094,
          12868801.298505137,
          13053035.151801929,
          14110520.33822723,
          13778267.472966751,
          12530386.508751629,
          12021290.84041947,
          11497172.066507123,
          11118384.805893648,
          10012741.049433025,
          8903535.797767593,
          9879758.226772675,
          8878044.28833642,
          8912295.660614314,
          8893381.490528656,
          8745347.529548453,
          9631829.455022588,
          9253797.523018852,
          10113809.633346066,
          8627578.21810162,
          8436459.608976576,
          8431611.204082683,
          9263388.742297878,
          9200360.676142124,
          8049840.762693316,
          7924927.841125282,
          7868657.633253898,
          7230972.840943344,
          6065311.089454257,
          9510080.885098493,
          10311356.508528523,
          10188843.301089196,
          9230875.838806592,
          10421951.542127308,
          9410805.585428568,
          9295633.88340653,
          8287272.486073527,
          7205341.804875426,
          7007599.814036851,
          6448621.827739158,
          6996861.265276186,
          6653012.160243738,
          7241345.740182835,
          7813596.111569532,
          7643831.547008324,
          7531588.959285109,
          7505410.359529986,
          7423733.098475824,
          6722836.719293342,
          6849695.54328337,
          6908397.18765669,
          6799747.286928598,
          5966884.493104179,
          5897396.60152033,
          6545954.712858573,
          6358798.550920685,
          6316020.342904109,
          5492587.888628663,
          6037932.844157421,
          6507796.793347505,
          6309120.805134576,
          5657328.519440842,
          6476220.235650866,
          6414659.974277817,
          6216635.331815537,
          6170705.76427205,
          6847120.495130398,
          7568256.8942576,
          6839261.199889245,
          6985216.111671757,
          7127510.381407448,
          7193205.759368735,
          6399743.077854154,
          5758539.531994228,
          6621291.371501154,
          6804726.057510258,
          6060577.235854323,
          5243187.541894077,
          5147318.963220172,
          5064263.508210289,
          4858667.85518512,
          3909371.044759281,
          4096096.090724261,
          4204594.980261365,
          4307863.510326613,
          5003951.526183036,
          4228045.443139293,
          4333588.643109683,
          5018962.503638574,
          5804053.423344479,
          5895996.5152875,
          5037398.072898928,
          5004869.981366244,
          4880399.674905674,
          3947814.281643769,
          3948862.58109716,
          4797672.732006527,
          4884605.922182759,
          5715605.453048547,
          6451408.939340082,
          7364789.98125288,
          7339247.45884328,
          6379593.836309846,
          6259926.059650292,
          6100968.986072023,
          5275627.779843024,
          5031561.367078741,
          4892291.1739766905,
          5546647.476200526,
          5516003.131957986,
          5482295.180712657,
          5456852.680862268,
          4775999.74259103,
          3957207.108413973,
          3931561.776743367,
          4698801.634696487,
          4061940.882940602,
          4708582.741603273,
          5294455.559226955,
          5380768.831610278,
          5275279.474289083,
          4521161.304549058,
          4425189.697850819,
          3752298.765401428,
          3150115.6873833905,
          3837971.635240448,
          3236858.334502481,
          3272351.204580219,
          3426944.4127864144,
          4117827.867354317,
          4050300.34362331,
          3335873.889345976,
          3912334.868152091
         ],
         "yaxis": "y"
        },
        {
         "hovertemplate": "date=%{x}<br>conflict=%{y}<extra></extra>",
         "legendgroup": "",
         "line": {
          "dash": "solid"
         },
         "marker": {
          "symbol": "circle"
         },
         "mode": "lines",
         "name": "",
         "orientation": "v",
         "showlegend": false,
         "type": "scatter",
         "x": [
          "2022-01-05",
          "2022-01-06",
          "2022-01-07",
          "2022-01-08",
          "2022-01-09",
          "2022-01-10",
          "2022-01-11",
          "2022-01-12",
          "2022-01-16",
          "2022-01-17",
          "2022-01-18",
          "2022-01-19",
          "2022-01-20",
          "2022-01-21",
          "2022-01-22",
          "2022-01-23",
          "2022-01-24",
          "2022-01-25",
          "2022-01-26",
          "2022-01-27",
          "2022-01-28",
          "2022-01-29",
          "2022-01-30",
          "2022-01-31",
          "2022-02-01",
          "2022-02-02",
          "2022-02-03",
          "2022-02-04",
          "2022-02-05",
          "2022-02-06",
          "2022-02-07",
          "2022-02-08",
          "2022-02-09",
          "2022-02-10",
          "2022-02-11",
          "2022-02-12",
          "2022-02-13",
          "2022-02-14",
          "2022-02-15",
          "2022-02-16",
          "2022-02-17",
          "2022-02-18",
          "2022-02-19",
          "2022-02-20",
          "2022-02-21",
          "2022-02-22",
          "2022-02-23",
          "2022-02-24",
          "2022-02-25",
          "2022-02-26",
          "2022-02-27",
          "2022-02-28",
          "2022-03-01",
          "2022-03-02",
          "2022-03-03",
          "2022-03-04",
          "2022-03-05",
          "2022-03-06",
          "2022-03-07",
          "2022-03-08",
          "2022-03-09",
          "2022-03-10",
          "2022-03-11",
          "2022-03-12",
          "2022-03-13",
          "2022-03-14",
          "2022-03-15",
          "2022-03-16",
          "2022-03-17",
          "2022-03-18",
          "2022-03-19",
          "2022-03-20",
          "2022-03-21",
          "2022-03-22",
          "2022-03-23",
          "2022-03-24",
          "2022-03-25",
          "2022-03-26",
          "2022-03-27",
          "2022-03-28",
          "2022-03-29",
          "2022-03-30",
          "2022-03-31",
          "2022-04-01",
          "2022-04-02",
          "2022-04-05",
          "2022-04-06",
          "2022-04-07",
          "2022-04-08",
          "2022-04-09",
          "2022-04-10",
          "2022-04-11",
          "2022-04-12",
          "2022-04-13",
          "2022-04-14",
          "2022-04-15",
          "2022-04-16",
          "2022-04-17",
          "2022-04-18",
          "2022-04-19",
          "2022-04-20",
          "2022-04-21",
          "2022-04-22",
          "2022-04-23",
          "2022-04-24",
          "2022-04-25",
          "2022-04-26",
          "2022-04-27",
          "2022-04-28",
          "2022-04-29",
          "2022-04-30",
          "2022-05-01",
          "2022-05-02",
          "2022-05-03",
          "2022-05-04",
          "2022-05-05",
          "2022-05-06",
          "2022-05-07",
          "2022-05-08",
          "2022-05-09",
          "2022-05-10",
          "2022-05-11",
          "2022-05-12",
          "2022-05-13",
          "2022-05-14",
          "2022-05-15",
          "2022-05-16",
          "2022-05-17",
          "2022-05-18",
          "2022-05-19",
          "2022-05-20",
          "2022-05-21",
          "2022-05-22",
          "2022-05-23",
          "2022-05-24",
          "2022-05-26",
          "2022-05-27",
          "2022-05-28",
          "2022-05-29",
          "2022-05-30",
          "2022-05-31",
          "2022-06-01",
          "2022-06-02",
          "2022-06-03",
          "2022-06-04",
          "2022-06-05",
          "2022-06-06",
          "2022-06-07",
          "2022-06-08",
          "2022-06-09",
          "2022-06-10",
          "2022-06-11",
          "2022-06-12",
          "2022-06-13",
          "2022-06-14",
          "2022-06-15",
          "2022-06-16",
          "2022-06-17",
          "2022-06-18",
          "2022-06-19",
          "2022-06-20",
          "2022-06-21",
          "2022-06-22",
          "2022-06-23",
          "2022-06-24",
          "2022-06-25",
          "2022-06-26",
          "2022-06-27",
          "2022-06-28",
          "2022-06-29",
          "2022-07-02",
          "2022-07-03",
          "2022-07-04",
          "2022-07-05",
          "2022-07-06",
          "2022-07-07",
          "2022-07-08",
          "2022-07-09",
          "2022-07-10",
          "2022-07-11",
          "2022-07-12",
          "2022-07-13",
          "2022-07-14",
          "2022-07-15",
          "2022-07-16",
          "2022-07-17",
          "2022-07-18",
          "2022-07-19",
          "2022-07-20",
          "2022-07-21",
          "2022-07-22",
          "2022-07-23",
          "2022-07-24",
          "2022-07-25",
          "2022-07-26",
          "2022-07-27",
          "2022-07-28",
          "2022-07-29",
          "2022-07-30",
          "2022-07-31",
          "2022-08-01",
          "2022-08-02",
          "2022-08-03",
          "2022-08-04",
          "2022-08-05",
          "2022-08-06",
          "2022-08-07",
          "2022-08-08",
          "2022-08-09",
          "2022-08-10",
          "2022-08-11",
          "2022-08-12",
          "2022-08-13",
          "2022-08-14",
          "2022-08-15",
          "2022-08-16",
          "2022-08-17",
          "2022-08-18",
          "2022-08-19",
          "2022-08-20",
          "2022-08-21",
          "2022-08-22",
          "2022-08-23",
          "2022-08-24",
          "2022-08-25",
          "2022-08-26",
          "2022-08-27",
          "2022-08-28",
          "2022-08-29",
          "2022-08-30",
          "2022-08-31",
          "2022-09-01",
          "2022-09-02",
          "2022-09-03",
          "2022-09-04",
          "2022-09-05",
          "2022-09-06",
          "2022-09-07",
          "2022-09-08",
          "2022-09-09",
          "2022-09-10",
          "2022-09-11",
          "2022-09-12",
          "2022-09-13",
          "2022-09-14",
          "2022-09-16"
         ],
         "xaxis": "x",
         "y": [
          1.0971738353304532,
          1.5663504289246184,
          1.6275473759151615,
          2.035527022518783,
          1.9335321108678776,
          1.7295422875660664,
          2.198718881160232,
          2.4435066691224048,
          0.4399150453991639,
          0.2796577630479874,
          0.142294378175551,
          0.2109760706117692,
          -0.4071591613141948,
          -0.7276737260165463,
          -0.3155835713992365,
          -0.6589920335803281,
          -0.3842652638354547,
          -0.475840853750413,
          0.3941272504416848,
          0.9893685848889096,
          1.218307559676303,
          1.8364427916022676,
          1.8822305865597464,
          0.5370858728490112,
          0.591121951519796,
          0.1047972434827338,
          -0.3635154383307332,
          -0.2014072023183788,
          0.75323018753215,
          0.8072662662029346,
          0.0507611648119491,
          0.5731099252962013,
          -0.0212869400824301,
          -0.0392989663060248,
          -0.2554432809891639,
          0.8072662662029346,
          0.8072662662029346,
          1.2395548955692122,
          1.2935909742399967,
          0.951362475991694,
          2.035527022518783,
          2.198718881160232,
          1.913133128537696,
          1.3827595879529886,
          1.2195677293115397,
          0.2812145421232097,
          0.1588206481421232,
          0.951362475991694,
          0.6811820826377707,
          1.4737112364759462,
          1.5637713675939202,
          2.0681081018545777,
          2.5003967312208557,
          2.302264442761311,
          1.3476270529107814,
          0.4650377679546319,
          -0.5256236743430873,
          -0.4535755694487076,
          -1.1560445921689084,
          -1.5523091690879962,
          -1.4622490379700217,
          -0.741767989026226,
          -0.741767989026226,
          -0.9759243299329594,
          -0.4895996218958972,
          -0.6156838054610616,
          -0.6517078579082513,
          -1.4262249855228315,
          -1.029960408603744,
          -1.444237011746427,
          -1.3541768806284522,
          -0.3815274645543279,
          -0.3635154383307332,
          0.1408212959299238,
          -0.4895996218958972,
          0.4830497941782266,
          -0.1293590974239995,
          -1.1020085134981237,
          -0.5256236743430873,
          -0.2734553072127585,
          -0.3635154383307332,
          -1.2100806708396932,
          -1.1740566183925034,
          -0.4175515170015179,
          -0.561647726790277,
          -0.6979366097254822,
          -0.8611284683669307,
          -0.8407294860367495,
          -1.7790826732250795,
          -0.922325415357474,
          -1.0039213446781985,
          -0.0655681574898685,
          0.5260023300853828,
          0.5260023300853828,
          1.0563758706700908,
          0.2608155597930289,
          0.7911891003777369,
          -0.2083610338011362,
          -0.7387345743858442,
          -0.7999315213763875,
          -0.636739662734939,
          -0.4531488217633092,
          -0.3511539101124035,
          -0.432749839433128,
          0.2812145421232097,
          0.1588206481421232,
          0.09762370115158,
          -0.0247701928295064,
          1.401458739506219,
          0.6459601227078186,
          -0.1553262890480609,
          -0.7963554184527645,
          -1.0024004957614192,
          -1.0710821881976371,
          -0.2469018789630182,
          0.1194004806968119,
          0.5314906353141212,
          0.7375357126227758,
          0.165188275654291,
          0.142294378175551,
          0.462808942877903,
          0.760429610101515,
          0.3712333529629457,
          -0.3384774688779765,
          0.4399150453991639,
          -0.1095384940905818,
          -0.5445225461866312,
          -0.933718803325201,
          -1.0024004957614192,
          -0.3155835713992365,
          -0.187962051470955,
          0.505603347755202,
          -0.2695579807916795,
          -0.228760016131317,
          -0.1267651044804117,
          0.7299921533871937,
          1.0155779060097292,
          0.4036084361042962,
          0.3220125067835722,
          0.3832094537741154,
          0.4444064007646587,
          -0.3307549277822227,
          -0.4300530587929339,
          0.6688540201865577,
          0.9206868924526914,
          0.6001723277503395,
          1.1725197647188244,
          0.2338699680905092,
          0.0049309933031145,
          -1.277127265506292,
          -2.169989267177129,
          -2.3073526520495653,
          -1.9410502923897344,
          -1.0481882907188975,
          -0.2469018789630182,
          0.2567638655692483,
          1.5617160218573944,
          1.8364427916022676,
          1.676185509251092,
          1.699079406729831,
          1.2412014571550425,
          0.8520052000164733,
          0.1880821731330301,
          -0.1324323915693218,
          -0.3613713663567156,
          -1.3000211629850311,
          -1.5060662402936855,
          -1.2542333680275526,
          -1.3687028554212497,
          -1.2542333680275526,
          -0.432749839433128,
          0.3016135244533909,
          1.0155779060097292,
          1.0767748530002723,
          0.4036084361042962,
          0.7299921533871937,
          0.587199277075926,
          0.4852043654250207,
          0.3016135244533909,
          0.7911891003777369,
          1.1787697646511772,
          0.7503911357173745,
          0.6687952063966505,
          1.0563758706700908,
          1.3827595879529886,
          0.7299921533871937,
          0.3016135244533909,
          0.8727850296984611,
          1.4031585702831697,
          0.3832094537741154,
          -0.47354780409349,
          -0.4939467864236712,
          -0.5143457687538525,
          -0.4939467864236712,
          -1.5546938675930877,
          -1.677087761574174,
          -1.6158908145836308,
          -1.391502008951639,
          -1.1875121856498283,
          -1.5546938675930877,
          -1.3711030266214577,
          -0.391951874772766,
          -0.0043712104993252,
          -0.1267651044804117,
          -0.4123508571029468,
          -0.7387345743858442,
          -0.922325415357474,
          -1.860678602545804,
          -1.6158908145836308,
          -0.5347447510840333,
          -0.3103559454520415,
          0.1180226834817612,
          0.7503911357173745,
          1.260365693971902,
          1.0563758706700908,
          -0.0859671398200497,
          -0.3103559454520415,
          0.1792196304723045,
          -0.4531488217633092,
          -0.4531488217633092,
          -0.47354780409349,
          0.3220125067835722,
          0.3016135244533909,
          0.5668002947457452,
          0.6075982594061072,
          0.1588206481421232,
          -0.3511539101124035,
          -0.7387345743858442,
          -0.2899569631218602,
          -1.432299973612001,
          -0.7795325390462062,
          -0.2695579807916795,
          -0.187962051470955,
          -0.0859671398200497,
          -0.47354780409349,
          -0.5959416980745765,
          -1.2283101503101903,
          -1.7382847085647173,
          -1.1875121856498283,
          -1.7178857262345362,
          -1.7382847085647173,
          -1.6158908145836308,
          -0.963123380017836,
          -1.0243203270083792,
          -1.5954918322534497,
          -0.636739662734939
         ],
         "yaxis": "y2"
        }
       ],
       "layout": {
        "template": {
         "data": {
          "bar": [
           {
            "error_x": {
             "color": "#2a3f5f"
            },
            "error_y": {
             "color": "#2a3f5f"
            },
            "marker": {
             "line": {
              "color": "#E5ECF6",
              "width": 0.5
             },
             "pattern": {
              "fillmode": "overlay",
              "size": 10,
              "solidity": 0.2
             }
            },
            "type": "bar"
           }
          ],
          "barpolar": [
           {
            "marker": {
             "line": {
              "color": "#E5ECF6",
              "width": 0.5
             },
             "pattern": {
              "fillmode": "overlay",
              "size": 10,
              "solidity": 0.2
             }
            },
            "type": "barpolar"
           }
          ],
          "carpet": [
           {
            "aaxis": {
             "endlinecolor": "#2a3f5f",
             "gridcolor": "white",
             "linecolor": "white",
             "minorgridcolor": "white",
             "startlinecolor": "#2a3f5f"
            },
            "baxis": {
             "endlinecolor": "#2a3f5f",
             "gridcolor": "white",
             "linecolor": "white",
             "minorgridcolor": "white",
             "startlinecolor": "#2a3f5f"
            },
            "type": "carpet"
           }
          ],
          "choropleth": [
           {
            "colorbar": {
             "outlinewidth": 0,
             "ticks": ""
            },
            "type": "choropleth"
           }
          ],
          "contour": [
           {
            "colorbar": {
             "outlinewidth": 0,
             "ticks": ""
            },
            "colorscale": [
             [
              0,
              "#0d0887"
             ],
             [
              0.1111111111111111,
              "#46039f"
             ],
             [
              0.2222222222222222,
              "#7201a8"
             ],
             [
              0.3333333333333333,
              "#9c179e"
             ],
             [
              0.4444444444444444,
              "#bd3786"
             ],
             [
              0.5555555555555556,
              "#d8576b"
             ],
             [
              0.6666666666666666,
              "#ed7953"
             ],
             [
              0.7777777777777778,
              "#fb9f3a"
             ],
             [
              0.8888888888888888,
              "#fdca26"
             ],
             [
              1,
              "#f0f921"
             ]
            ],
            "type": "contour"
           }
          ],
          "contourcarpet": [
           {
            "colorbar": {
             "outlinewidth": 0,
             "ticks": ""
            },
            "type": "contourcarpet"
           }
          ],
          "heatmap": [
           {
            "colorbar": {
             "outlinewidth": 0,
             "ticks": ""
            },
            "colorscale": [
             [
              0,
              "#0d0887"
             ],
             [
              0.1111111111111111,
              "#46039f"
             ],
             [
              0.2222222222222222,
              "#7201a8"
             ],
             [
              0.3333333333333333,
              "#9c179e"
             ],
             [
              0.4444444444444444,
              "#bd3786"
             ],
             [
              0.5555555555555556,
              "#d8576b"
             ],
             [
              0.6666666666666666,
              "#ed7953"
             ],
             [
              0.7777777777777778,
              "#fb9f3a"
             ],
             [
              0.8888888888888888,
              "#fdca26"
             ],
             [
              1,
              "#f0f921"
             ]
            ],
            "type": "heatmap"
           }
          ],
          "heatmapgl": [
           {
            "colorbar": {
             "outlinewidth": 0,
             "ticks": ""
            },
            "colorscale": [
             [
              0,
              "#0d0887"
             ],
             [
              0.1111111111111111,
              "#46039f"
             ],
             [
              0.2222222222222222,
              "#7201a8"
             ],
             [
              0.3333333333333333,
              "#9c179e"
             ],
             [
              0.4444444444444444,
              "#bd3786"
             ],
             [
              0.5555555555555556,
              "#d8576b"
             ],
             [
              0.6666666666666666,
              "#ed7953"
             ],
             [
              0.7777777777777778,
              "#fb9f3a"
             ],
             [
              0.8888888888888888,
              "#fdca26"
             ],
             [
              1,
              "#f0f921"
             ]
            ],
            "type": "heatmapgl"
           }
          ],
          "histogram": [
           {
            "marker": {
             "pattern": {
              "fillmode": "overlay",
              "size": 10,
              "solidity": 0.2
             }
            },
            "type": "histogram"
           }
          ],
          "histogram2d": [
           {
            "colorbar": {
             "outlinewidth": 0,
             "ticks": ""
            },
            "colorscale": [
             [
              0,
              "#0d0887"
             ],
             [
              0.1111111111111111,
              "#46039f"
             ],
             [
              0.2222222222222222,
              "#7201a8"
             ],
             [
              0.3333333333333333,
              "#9c179e"
             ],
             [
              0.4444444444444444,
              "#bd3786"
             ],
             [
              0.5555555555555556,
              "#d8576b"
             ],
             [
              0.6666666666666666,
              "#ed7953"
             ],
             [
              0.7777777777777778,
              "#fb9f3a"
             ],
             [
              0.8888888888888888,
              "#fdca26"
             ],
             [
              1,
              "#f0f921"
             ]
            ],
            "type": "histogram2d"
           }
          ],
          "histogram2dcontour": [
           {
            "colorbar": {
             "outlinewidth": 0,
             "ticks": ""
            },
            "colorscale": [
             [
              0,
              "#0d0887"
             ],
             [
              0.1111111111111111,
              "#46039f"
             ],
             [
              0.2222222222222222,
              "#7201a8"
             ],
             [
              0.3333333333333333,
              "#9c179e"
             ],
             [
              0.4444444444444444,
              "#bd3786"
             ],
             [
              0.5555555555555556,
              "#d8576b"
             ],
             [
              0.6666666666666666,
              "#ed7953"
             ],
             [
              0.7777777777777778,
              "#fb9f3a"
             ],
             [
              0.8888888888888888,
              "#fdca26"
             ],
             [
              1,
              "#f0f921"
             ]
            ],
            "type": "histogram2dcontour"
           }
          ],
          "mesh3d": [
           {
            "colorbar": {
             "outlinewidth": 0,
             "ticks": ""
            },
            "type": "mesh3d"
           }
          ],
          "parcoords": [
           {
            "line": {
             "colorbar": {
              "outlinewidth": 0,
              "ticks": ""
             }
            },
            "type": "parcoords"
           }
          ],
          "pie": [
           {
            "automargin": true,
            "type": "pie"
           }
          ],
          "scatter": [
           {
            "fillpattern": {
             "fillmode": "overlay",
             "size": 10,
             "solidity": 0.2
            },
            "type": "scatter"
           }
          ],
          "scatter3d": [
           {
            "line": {
             "colorbar": {
              "outlinewidth": 0,
              "ticks": ""
             }
            },
            "marker": {
             "colorbar": {
              "outlinewidth": 0,
              "ticks": ""
             }
            },
            "type": "scatter3d"
           }
          ],
          "scattercarpet": [
           {
            "marker": {
             "colorbar": {
              "outlinewidth": 0,
              "ticks": ""
             }
            },
            "type": "scattercarpet"
           }
          ],
          "scattergeo": [
           {
            "marker": {
             "colorbar": {
              "outlinewidth": 0,
              "ticks": ""
             }
            },
            "type": "scattergeo"
           }
          ],
          "scattergl": [
           {
            "marker": {
             "colorbar": {
              "outlinewidth": 0,
              "ticks": ""
             }
            },
            "type": "scattergl"
           }
          ],
          "scattermapbox": [
           {
            "marker": {
             "colorbar": {
              "outlinewidth": 0,
              "ticks": ""
             }
            },
            "type": "scattermapbox"
           }
          ],
          "scatterpolar": [
           {
            "marker": {
             "colorbar": {
              "outlinewidth": 0,
              "ticks": ""
             }
            },
            "type": "scatterpolar"
           }
          ],
          "scatterpolargl": [
           {
            "marker": {
             "colorbar": {
              "outlinewidth": 0,
              "ticks": ""
             }
            },
            "type": "scatterpolargl"
           }
          ],
          "scatterternary": [
           {
            "marker": {
             "colorbar": {
              "outlinewidth": 0,
              "ticks": ""
             }
            },
            "type": "scatterternary"
           }
          ],
          "surface": [
           {
            "colorbar": {
             "outlinewidth": 0,
             "ticks": ""
            },
            "colorscale": [
             [
              0,
              "#0d0887"
             ],
             [
              0.1111111111111111,
              "#46039f"
             ],
             [
              0.2222222222222222,
              "#7201a8"
             ],
             [
              0.3333333333333333,
              "#9c179e"
             ],
             [
              0.4444444444444444,
              "#bd3786"
             ],
             [
              0.5555555555555556,
              "#d8576b"
             ],
             [
              0.6666666666666666,
              "#ed7953"
             ],
             [
              0.7777777777777778,
              "#fb9f3a"
             ],
             [
              0.8888888888888888,
              "#fdca26"
             ],
             [
              1,
              "#f0f921"
             ]
            ],
            "type": "surface"
           }
          ],
          "table": [
           {
            "cells": {
             "fill": {
              "color": "#EBF0F8"
             },
             "line": {
              "color": "white"
             }
            },
            "header": {
             "fill": {
              "color": "#C8D4E3"
             },
             "line": {
              "color": "white"
             }
            },
            "type": "table"
           }
          ]
         },
         "layout": {
          "annotationdefaults": {
           "arrowcolor": "#2a3f5f",
           "arrowhead": 0,
           "arrowwidth": 1
          },
          "autotypenumbers": "strict",
          "coloraxis": {
           "colorbar": {
            "outlinewidth": 0,
            "ticks": ""
           }
          },
          "colorscale": {
           "diverging": [
            [
             0,
             "#8e0152"
            ],
            [
             0.1,
             "#c51b7d"
            ],
            [
             0.2,
             "#de77ae"
            ],
            [
             0.3,
             "#f1b6da"
            ],
            [
             0.4,
             "#fde0ef"
            ],
            [
             0.5,
             "#f7f7f7"
            ],
            [
             0.6,
             "#e6f5d0"
            ],
            [
             0.7,
             "#b8e186"
            ],
            [
             0.8,
             "#7fbc41"
            ],
            [
             0.9,
             "#4d9221"
            ],
            [
             1,
             "#276419"
            ]
           ],
           "sequential": [
            [
             0,
             "#0d0887"
            ],
            [
             0.1111111111111111,
             "#46039f"
            ],
            [
             0.2222222222222222,
             "#7201a8"
            ],
            [
             0.3333333333333333,
             "#9c179e"
            ],
            [
             0.4444444444444444,
             "#bd3786"
            ],
            [
             0.5555555555555556,
             "#d8576b"
            ],
            [
             0.6666666666666666,
             "#ed7953"
            ],
            [
             0.7777777777777778,
             "#fb9f3a"
            ],
            [
             0.8888888888888888,
             "#fdca26"
            ],
            [
             1,
             "#f0f921"
            ]
           ],
           "sequentialminus": [
            [
             0,
             "#0d0887"
            ],
            [
             0.1111111111111111,
             "#46039f"
            ],
            [
             0.2222222222222222,
             "#7201a8"
            ],
            [
             0.3333333333333333,
             "#9c179e"
            ],
            [
             0.4444444444444444,
             "#bd3786"
            ],
            [
             0.5555555555555556,
             "#d8576b"
            ],
            [
             0.6666666666666666,
             "#ed7953"
            ],
            [
             0.7777777777777778,
             "#fb9f3a"
            ],
            [
             0.8888888888888888,
             "#fdca26"
            ],
            [
             1,
             "#f0f921"
            ]
           ]
          },
          "colorway": [
           "#636efa",
           "#EF553B",
           "#00cc96",
           "#ab63fa",
           "#FFA15A",
           "#19d3f3",
           "#FF6692",
           "#B6E880",
           "#FF97FF",
           "#FECB52"
          ],
          "font": {
           "color": "#2a3f5f"
          },
          "geo": {
           "bgcolor": "white",
           "lakecolor": "white",
           "landcolor": "#E5ECF6",
           "showlakes": true,
           "showland": true,
           "subunitcolor": "white"
          },
          "hoverlabel": {
           "align": "left"
          },
          "hovermode": "closest",
          "mapbox": {
           "style": "light"
          },
          "paper_bgcolor": "white",
          "plot_bgcolor": "#E5ECF6",
          "polar": {
           "angularaxis": {
            "gridcolor": "white",
            "linecolor": "white",
            "ticks": ""
           },
           "bgcolor": "#E5ECF6",
           "radialaxis": {
            "gridcolor": "white",
            "linecolor": "white",
            "ticks": ""
           }
          },
          "scene": {
           "xaxis": {
            "backgroundcolor": "#E5ECF6",
            "gridcolor": "white",
            "gridwidth": 2,
            "linecolor": "white",
            "showbackground": true,
            "ticks": "",
            "zerolinecolor": "white"
           },
           "yaxis": {
            "backgroundcolor": "#E5ECF6",
            "gridcolor": "white",
            "gridwidth": 2,
            "linecolor": "white",
            "showbackground": true,
            "ticks": "",
            "zerolinecolor": "white"
           },
           "zaxis": {
            "backgroundcolor": "#E5ECF6",
            "gridcolor": "white",
            "gridwidth": 2,
            "linecolor": "white",
            "showbackground": true,
            "ticks": "",
            "zerolinecolor": "white"
           }
          },
          "shapedefaults": {
           "line": {
            "color": "#2a3f5f"
           }
          },
          "ternary": {
           "aaxis": {
            "gridcolor": "white",
            "linecolor": "white",
            "ticks": ""
           },
           "baxis": {
            "gridcolor": "white",
            "linecolor": "white",
            "ticks": ""
           },
           "bgcolor": "#E5ECF6",
           "caxis": {
            "gridcolor": "white",
            "linecolor": "white",
            "ticks": ""
           }
          },
          "title": {
           "x": 0.05
          },
          "xaxis": {
           "automargin": true,
           "gridcolor": "white",
           "linecolor": "white",
           "ticks": "",
           "title": {
            "standoff": 15
           },
           "zerolinecolor": "white",
           "zerolinewidth": 2
          },
          "yaxis": {
           "automargin": true,
           "gridcolor": "white",
           "linecolor": "white",
           "ticks": "",
           "title": {
            "standoff": 15
           },
           "zerolinecolor": "white",
           "zerolinewidth": 2
          }
         }
        },
        "xaxis": {
         "anchor": "y",
         "domain": [
          0,
          0.94
         ]
        },
        "yaxis": {
         "anchor": "x",
         "domain": [
          0,
          1
         ]
        },
        "yaxis2": {
         "anchor": "x",
         "overlaying": "y",
         "side": "right"
        }
       }
      },
      "text/html": [
       "<div>                            <div id=\"3c8ab821-cb5a-452f-b2ee-d2cda831c475\" class=\"plotly-graph-div\" style=\"height:525px; width:100%;\"></div>            <script type=\"text/javascript\">                require([\"plotly\"], function(Plotly) {                    window.PLOTLYENV=window.PLOTLYENV || {};                                    if (document.getElementById(\"3c8ab821-cb5a-452f-b2ee-d2cda831c475\")) {                    Plotly.newPlot(                        \"3c8ab821-cb5a-452f-b2ee-d2cda831c475\",                        [{\"hovertemplate\":\"date=%{x}<br>Mean=%{y}<extra></extra>\",\"legendgroup\":\"\",\"line\":{\"dash\":\"solid\"},\"marker\":{\"symbol\":\"circle\"},\"mode\":\"lines\",\"name\":\"\",\"orientation\":\"v\",\"showlegend\":false,\"x\":[\"2022-01-05\",\"2022-01-06\",\"2022-01-07\",\"2022-01-08\",\"2022-01-09\",\"2022-01-10\",\"2022-01-11\",\"2022-01-12\",\"2022-01-16\",\"2022-01-17\",\"2022-01-18\",\"2022-01-19\",\"2022-01-20\",\"2022-01-21\",\"2022-01-22\",\"2022-01-23\",\"2022-01-24\",\"2022-01-25\",\"2022-01-26\",\"2022-01-27\",\"2022-01-28\",\"2022-01-29\",\"2022-01-30\",\"2022-01-31\",\"2022-02-01\",\"2022-02-02\",\"2022-02-03\",\"2022-02-04\",\"2022-02-05\",\"2022-02-06\",\"2022-02-07\",\"2022-02-08\",\"2022-02-09\",\"2022-02-10\",\"2022-02-11\",\"2022-02-12\",\"2022-02-13\",\"2022-02-14\",\"2022-02-15\",\"2022-02-16\",\"2022-02-17\",\"2022-02-18\",\"2022-02-19\",\"2022-02-20\",\"2022-02-21\",\"2022-02-22\",\"2022-02-23\",\"2022-02-24\",\"2022-02-25\",\"2022-02-26\",\"2022-02-27\",\"2022-02-28\",\"2022-03-01\",\"2022-03-02\",\"2022-03-03\",\"2022-03-04\",\"2022-03-05\",\"2022-03-06\",\"2022-03-07\",\"2022-03-08\",\"2022-03-09\",\"2022-03-10\",\"2022-03-11\",\"2022-03-12\",\"2022-03-13\",\"2022-03-14\",\"2022-03-15\",\"2022-03-16\",\"2022-03-17\",\"2022-03-18\",\"2022-03-19\",\"2022-03-20\",\"2022-03-21\",\"2022-03-22\",\"2022-03-23\",\"2022-03-24\",\"2022-03-25\",\"2022-03-26\",\"2022-03-27\",\"2022-03-28\",\"2022-03-29\",\"2022-03-30\",\"2022-03-31\",\"2022-04-01\",\"2022-04-02\",\"2022-04-05\",\"2022-04-06\",\"2022-04-07\",\"2022-04-08\",\"2022-04-09\",\"2022-04-10\",\"2022-04-11\",\"2022-04-12\",\"2022-04-13\",\"2022-04-14\",\"2022-04-15\",\"2022-04-16\",\"2022-04-17\",\"2022-04-18\",\"2022-04-19\",\"2022-04-20\",\"2022-04-21\",\"2022-04-22\",\"2022-04-23\",\"2022-04-24\",\"2022-04-25\",\"2022-04-26\",\"2022-04-27\",\"2022-04-28\",\"2022-04-29\",\"2022-04-30\",\"2022-05-01\",\"2022-05-02\",\"2022-05-03\",\"2022-05-04\",\"2022-05-05\",\"2022-05-06\",\"2022-05-07\",\"2022-05-08\",\"2022-05-09\",\"2022-05-10\",\"2022-05-11\",\"2022-05-12\",\"2022-05-13\",\"2022-05-14\",\"2022-05-15\",\"2022-05-16\",\"2022-05-17\",\"2022-05-18\",\"2022-05-19\",\"2022-05-20\",\"2022-05-21\",\"2022-05-22\",\"2022-05-23\",\"2022-05-24\",\"2022-05-26\",\"2022-05-27\",\"2022-05-28\",\"2022-05-29\",\"2022-05-30\",\"2022-05-31\",\"2022-06-01\",\"2022-06-02\",\"2022-06-03\",\"2022-06-04\",\"2022-06-05\",\"2022-06-06\",\"2022-06-07\",\"2022-06-08\",\"2022-06-09\",\"2022-06-10\",\"2022-06-11\",\"2022-06-12\",\"2022-06-13\",\"2022-06-14\",\"2022-06-15\",\"2022-06-16\",\"2022-06-17\",\"2022-06-18\",\"2022-06-19\",\"2022-06-20\",\"2022-06-21\",\"2022-06-22\",\"2022-06-23\",\"2022-06-24\",\"2022-06-25\",\"2022-06-26\",\"2022-06-27\",\"2022-06-28\",\"2022-06-29\",\"2022-07-02\",\"2022-07-03\",\"2022-07-04\",\"2022-07-05\",\"2022-07-06\",\"2022-07-07\",\"2022-07-08\",\"2022-07-09\",\"2022-07-10\",\"2022-07-11\",\"2022-07-12\",\"2022-07-13\",\"2022-07-14\",\"2022-07-15\",\"2022-07-16\",\"2022-07-17\",\"2022-07-18\",\"2022-07-19\",\"2022-07-20\",\"2022-07-21\",\"2022-07-22\",\"2022-07-23\",\"2022-07-24\",\"2022-07-25\",\"2022-07-26\",\"2022-07-27\",\"2022-07-28\",\"2022-07-29\",\"2022-07-30\",\"2022-07-31\",\"2022-08-01\",\"2022-08-02\",\"2022-08-03\",\"2022-08-04\",\"2022-08-05\",\"2022-08-06\",\"2022-08-07\",\"2022-08-08\",\"2022-08-09\",\"2022-08-10\",\"2022-08-11\",\"2022-08-12\",\"2022-08-13\",\"2022-08-14\",\"2022-08-15\",\"2022-08-16\",\"2022-08-17\",\"2022-08-18\",\"2022-08-19\",\"2022-08-20\",\"2022-08-21\",\"2022-08-22\",\"2022-08-23\",\"2022-08-24\",\"2022-08-25\",\"2022-08-26\",\"2022-08-27\",\"2022-08-28\",\"2022-08-29\",\"2022-08-30\",\"2022-08-31\",\"2022-09-01\",\"2022-09-02\",\"2022-09-03\",\"2022-09-04\",\"2022-09-05\",\"2022-09-06\",\"2022-09-07\",\"2022-09-08\",\"2022-09-09\",\"2022-09-10\",\"2022-09-11\",\"2022-09-12\",\"2022-09-13\",\"2022-09-14\",\"2022-09-16\"],\"xaxis\":\"x\",\"y\":[16300560.396325707,17658648.89806571,17347162.93101469,16975064.4272259,16797785.791917797,16806788.914961446,16811833.251713973,16734018.396816732,17112088.201657716,17011946.553369317,16970497.972453773,16652439.489730489,14965479.43222849,13323793.673679637,12873959.016227724,11303651.720090585,11007467.34700925,10871655.621807251,12159820.822644686,13505607.403390111,13681356.340413606,14936296.611906191,14923038.910625257,12589322.572192566,12568194.290519638,12656150.217581045,12895523.888825014,13174352.579157157,14758873.283617333,14966112.54168266,13981120.739769287,14329206.281212503,12998453.810260974,13035101.46742987,12935524.996210158,14282421.110996926,14269045.839103565,14234745.430921003,13983623.878515448,12451147.474175066,15269480.34958822,15144035.258112026,13602820.084048048,11961488.017577806,11692883.442188185,10520623.18598848,10597508.98837556,12302652.732426368,12055658.914270565,13312310.455994308,13302684.301300997,15072063.977543931,16640913.820278505,16726833.162031168,15359834.212318948,14337334.69371573,13968809.536106026,13561663.795575554,13355494.93965335,11993273.990426429,12099160.81741657,12943501.406253258,12695278.590656549,12590908.615391329,12418870.720681133,12292307.862216016,13682690.17967298,12526529.102193069,12882839.583889768,11436021.607194657,11324391.68407502,12674892.310120234,11270116.114267657,12775937.96738934,11589932.293703048,13442791.025573203,13942925.906535745,12722266.4979224,14600266.085370503,14866187.212059,14936133.6515846,13608250.734281491,12280254.842698582,14027934.698614923,13825044.782824928,9370691.80449831,9533048.390190354,9701736.487279251,8516841.090446098,9443838.824822633,9364852.622400708,10675149.238137288,11864137.72101284,11742429.723710775,12885260.082449311,11467406.715709897,12690455.363681272,11144443.841934573,9815462.194832023,9820668.402080366,9694690.695536984,9815317.107529247,9585090.849358326,9490934.549195984,10580321.827864258,10357739.355840078,9904135.934160378,9669618.420316638,13644156.129957588,13356814.415303038,11853810.286388464,11775592.976694366,11590485.543108916,11612288.84540094,12868801.298505137,13053035.151801929,14110520.33822723,13778267.472966751,12530386.508751629,12021290.84041947,11497172.066507123,11118384.805893648,10012741.049433025,8903535.797767593,9879758.226772675,8878044.28833642,8912295.660614314,8893381.490528656,8745347.529548453,9631829.455022588,9253797.523018852,10113809.633346066,8627578.21810162,8436459.608976576,8431611.204082683,9263388.742297878,9200360.676142124,8049840.762693316,7924927.841125282,7868657.633253898,7230972.840943344,6065311.089454257,9510080.885098493,10311356.508528523,10188843.301089196,9230875.838806592,10421951.542127308,9410805.585428568,9295633.88340653,8287272.486073527,7205341.804875426,7007599.814036851,6448621.827739158,6996861.265276186,6653012.160243738,7241345.740182835,7813596.111569532,7643831.547008324,7531588.959285109,7505410.359529986,7423733.098475824,6722836.719293342,6849695.54328337,6908397.18765669,6799747.286928598,5966884.493104179,5897396.60152033,6545954.712858573,6358798.550920685,6316020.342904109,5492587.888628663,6037932.844157421,6507796.793347505,6309120.805134576,5657328.519440842,6476220.235650866,6414659.974277817,6216635.331815537,6170705.76427205,6847120.495130398,7568256.8942576,6839261.199889245,6985216.111671757,7127510.381407448,7193205.759368735,6399743.077854154,5758539.531994228,6621291.371501154,6804726.057510258,6060577.235854323,5243187.541894077,5147318.963220172,5064263.508210289,4858667.85518512,3909371.044759281,4096096.090724261,4204594.980261365,4307863.510326613,5003951.526183036,4228045.443139293,4333588.643109683,5018962.503638574,5804053.423344479,5895996.5152875,5037398.072898928,5004869.981366244,4880399.674905674,3947814.281643769,3948862.58109716,4797672.732006527,4884605.922182759,5715605.453048547,6451408.939340082,7364789.98125288,7339247.45884328,6379593.836309846,6259926.059650292,6100968.986072023,5275627.779843024,5031561.367078741,4892291.1739766905,5546647.476200526,5516003.131957986,5482295.180712657,5456852.680862268,4775999.74259103,3957207.108413973,3931561.776743367,4698801.634696487,4061940.882940602,4708582.741603273,5294455.559226955,5380768.831610278,5275279.474289083,4521161.304549058,4425189.697850819,3752298.765401428,3150115.6873833905,3837971.635240448,3236858.334502481,3272351.204580219,3426944.4127864144,4117827.867354317,4050300.34362331,3335873.889345976,3912334.868152091],\"yaxis\":\"y\",\"type\":\"scatter\"},{\"hovertemplate\":\"date=%{x}<br>conflict=%{y}<extra></extra>\",\"legendgroup\":\"\",\"line\":{\"dash\":\"solid\"},\"marker\":{\"symbol\":\"circle\"},\"mode\":\"lines\",\"name\":\"\",\"orientation\":\"v\",\"showlegend\":false,\"x\":[\"2022-01-05\",\"2022-01-06\",\"2022-01-07\",\"2022-01-08\",\"2022-01-09\",\"2022-01-10\",\"2022-01-11\",\"2022-01-12\",\"2022-01-16\",\"2022-01-17\",\"2022-01-18\",\"2022-01-19\",\"2022-01-20\",\"2022-01-21\",\"2022-01-22\",\"2022-01-23\",\"2022-01-24\",\"2022-01-25\",\"2022-01-26\",\"2022-01-27\",\"2022-01-28\",\"2022-01-29\",\"2022-01-30\",\"2022-01-31\",\"2022-02-01\",\"2022-02-02\",\"2022-02-03\",\"2022-02-04\",\"2022-02-05\",\"2022-02-06\",\"2022-02-07\",\"2022-02-08\",\"2022-02-09\",\"2022-02-10\",\"2022-02-11\",\"2022-02-12\",\"2022-02-13\",\"2022-02-14\",\"2022-02-15\",\"2022-02-16\",\"2022-02-17\",\"2022-02-18\",\"2022-02-19\",\"2022-02-20\",\"2022-02-21\",\"2022-02-22\",\"2022-02-23\",\"2022-02-24\",\"2022-02-25\",\"2022-02-26\",\"2022-02-27\",\"2022-02-28\",\"2022-03-01\",\"2022-03-02\",\"2022-03-03\",\"2022-03-04\",\"2022-03-05\",\"2022-03-06\",\"2022-03-07\",\"2022-03-08\",\"2022-03-09\",\"2022-03-10\",\"2022-03-11\",\"2022-03-12\",\"2022-03-13\",\"2022-03-14\",\"2022-03-15\",\"2022-03-16\",\"2022-03-17\",\"2022-03-18\",\"2022-03-19\",\"2022-03-20\",\"2022-03-21\",\"2022-03-22\",\"2022-03-23\",\"2022-03-24\",\"2022-03-25\",\"2022-03-26\",\"2022-03-27\",\"2022-03-28\",\"2022-03-29\",\"2022-03-30\",\"2022-03-31\",\"2022-04-01\",\"2022-04-02\",\"2022-04-05\",\"2022-04-06\",\"2022-04-07\",\"2022-04-08\",\"2022-04-09\",\"2022-04-10\",\"2022-04-11\",\"2022-04-12\",\"2022-04-13\",\"2022-04-14\",\"2022-04-15\",\"2022-04-16\",\"2022-04-17\",\"2022-04-18\",\"2022-04-19\",\"2022-04-20\",\"2022-04-21\",\"2022-04-22\",\"2022-04-23\",\"2022-04-24\",\"2022-04-25\",\"2022-04-26\",\"2022-04-27\",\"2022-04-28\",\"2022-04-29\",\"2022-04-30\",\"2022-05-01\",\"2022-05-02\",\"2022-05-03\",\"2022-05-04\",\"2022-05-05\",\"2022-05-06\",\"2022-05-07\",\"2022-05-08\",\"2022-05-09\",\"2022-05-10\",\"2022-05-11\",\"2022-05-12\",\"2022-05-13\",\"2022-05-14\",\"2022-05-15\",\"2022-05-16\",\"2022-05-17\",\"2022-05-18\",\"2022-05-19\",\"2022-05-20\",\"2022-05-21\",\"2022-05-22\",\"2022-05-23\",\"2022-05-24\",\"2022-05-26\",\"2022-05-27\",\"2022-05-28\",\"2022-05-29\",\"2022-05-30\",\"2022-05-31\",\"2022-06-01\",\"2022-06-02\",\"2022-06-03\",\"2022-06-04\",\"2022-06-05\",\"2022-06-06\",\"2022-06-07\",\"2022-06-08\",\"2022-06-09\",\"2022-06-10\",\"2022-06-11\",\"2022-06-12\",\"2022-06-13\",\"2022-06-14\",\"2022-06-15\",\"2022-06-16\",\"2022-06-17\",\"2022-06-18\",\"2022-06-19\",\"2022-06-20\",\"2022-06-21\",\"2022-06-22\",\"2022-06-23\",\"2022-06-24\",\"2022-06-25\",\"2022-06-26\",\"2022-06-27\",\"2022-06-28\",\"2022-06-29\",\"2022-07-02\",\"2022-07-03\",\"2022-07-04\",\"2022-07-05\",\"2022-07-06\",\"2022-07-07\",\"2022-07-08\",\"2022-07-09\",\"2022-07-10\",\"2022-07-11\",\"2022-07-12\",\"2022-07-13\",\"2022-07-14\",\"2022-07-15\",\"2022-07-16\",\"2022-07-17\",\"2022-07-18\",\"2022-07-19\",\"2022-07-20\",\"2022-07-21\",\"2022-07-22\",\"2022-07-23\",\"2022-07-24\",\"2022-07-25\",\"2022-07-26\",\"2022-07-27\",\"2022-07-28\",\"2022-07-29\",\"2022-07-30\",\"2022-07-31\",\"2022-08-01\",\"2022-08-02\",\"2022-08-03\",\"2022-08-04\",\"2022-08-05\",\"2022-08-06\",\"2022-08-07\",\"2022-08-08\",\"2022-08-09\",\"2022-08-10\",\"2022-08-11\",\"2022-08-12\",\"2022-08-13\",\"2022-08-14\",\"2022-08-15\",\"2022-08-16\",\"2022-08-17\",\"2022-08-18\",\"2022-08-19\",\"2022-08-20\",\"2022-08-21\",\"2022-08-22\",\"2022-08-23\",\"2022-08-24\",\"2022-08-25\",\"2022-08-26\",\"2022-08-27\",\"2022-08-28\",\"2022-08-29\",\"2022-08-30\",\"2022-08-31\",\"2022-09-01\",\"2022-09-02\",\"2022-09-03\",\"2022-09-04\",\"2022-09-05\",\"2022-09-06\",\"2022-09-07\",\"2022-09-08\",\"2022-09-09\",\"2022-09-10\",\"2022-09-11\",\"2022-09-12\",\"2022-09-13\",\"2022-09-14\",\"2022-09-16\"],\"xaxis\":\"x\",\"y\":[1.0971738353304532,1.5663504289246184,1.6275473759151615,2.035527022518783,1.9335321108678776,1.7295422875660664,2.198718881160232,2.4435066691224048,0.4399150453991639,0.2796577630479874,0.142294378175551,0.2109760706117692,-0.4071591613141948,-0.7276737260165463,-0.3155835713992365,-0.6589920335803281,-0.3842652638354547,-0.475840853750413,0.3941272504416848,0.9893685848889096,1.218307559676303,1.8364427916022676,1.8822305865597464,0.5370858728490112,0.591121951519796,0.1047972434827338,-0.3635154383307332,-0.2014072023183788,0.75323018753215,0.8072662662029346,0.0507611648119491,0.5731099252962013,-0.0212869400824301,-0.0392989663060248,-0.2554432809891639,0.8072662662029346,0.8072662662029346,1.2395548955692122,1.2935909742399967,0.951362475991694,2.035527022518783,2.198718881160232,1.913133128537696,1.3827595879529886,1.2195677293115397,0.2812145421232097,0.1588206481421232,0.951362475991694,0.6811820826377707,1.4737112364759462,1.5637713675939202,2.0681081018545777,2.5003967312208557,2.302264442761311,1.3476270529107814,0.4650377679546319,-0.5256236743430873,-0.4535755694487076,-1.1560445921689084,-1.5523091690879962,-1.4622490379700217,-0.741767989026226,-0.741767989026226,-0.9759243299329594,-0.4895996218958972,-0.6156838054610616,-0.6517078579082513,-1.4262249855228315,-1.029960408603744,-1.444237011746427,-1.3541768806284522,-0.3815274645543279,-0.3635154383307332,0.1408212959299238,-0.4895996218958972,0.4830497941782266,-0.1293590974239995,-1.1020085134981237,-0.5256236743430873,-0.2734553072127585,-0.3635154383307332,-1.2100806708396932,-1.1740566183925034,-0.4175515170015179,-0.561647726790277,-0.6979366097254822,-0.8611284683669307,-0.8407294860367495,-1.7790826732250795,-0.922325415357474,-1.0039213446781985,-0.0655681574898685,0.5260023300853828,0.5260023300853828,1.0563758706700908,0.2608155597930289,0.7911891003777369,-0.2083610338011362,-0.7387345743858442,-0.7999315213763875,-0.636739662734939,-0.4531488217633092,-0.3511539101124035,-0.432749839433128,0.2812145421232097,0.1588206481421232,0.09762370115158,-0.0247701928295064,1.401458739506219,0.6459601227078186,-0.1553262890480609,-0.7963554184527645,-1.0024004957614192,-1.0710821881976371,-0.2469018789630182,0.1194004806968119,0.5314906353141212,0.7375357126227758,0.165188275654291,0.142294378175551,0.462808942877903,0.760429610101515,0.3712333529629457,-0.3384774688779765,0.4399150453991639,-0.1095384940905818,-0.5445225461866312,-0.933718803325201,-1.0024004957614192,-0.3155835713992365,-0.187962051470955,0.505603347755202,-0.2695579807916795,-0.228760016131317,-0.1267651044804117,0.7299921533871937,1.0155779060097292,0.4036084361042962,0.3220125067835722,0.3832094537741154,0.4444064007646587,-0.3307549277822227,-0.4300530587929339,0.6688540201865577,0.9206868924526914,0.6001723277503395,1.1725197647188244,0.2338699680905092,0.0049309933031145,-1.277127265506292,-2.169989267177129,-2.3073526520495653,-1.9410502923897344,-1.0481882907188975,-0.2469018789630182,0.2567638655692483,1.5617160218573944,1.8364427916022676,1.676185509251092,1.699079406729831,1.2412014571550425,0.8520052000164733,0.1880821731330301,-0.1324323915693218,-0.3613713663567156,-1.3000211629850311,-1.5060662402936855,-1.2542333680275526,-1.3687028554212497,-1.2542333680275526,-0.432749839433128,0.3016135244533909,1.0155779060097292,1.0767748530002723,0.4036084361042962,0.7299921533871937,0.587199277075926,0.4852043654250207,0.3016135244533909,0.7911891003777369,1.1787697646511772,0.7503911357173745,0.6687952063966505,1.0563758706700908,1.3827595879529886,0.7299921533871937,0.3016135244533909,0.8727850296984611,1.4031585702831697,0.3832094537741154,-0.47354780409349,-0.4939467864236712,-0.5143457687538525,-0.4939467864236712,-1.5546938675930877,-1.677087761574174,-1.6158908145836308,-1.391502008951639,-1.1875121856498283,-1.5546938675930877,-1.3711030266214577,-0.391951874772766,-0.0043712104993252,-0.1267651044804117,-0.4123508571029468,-0.7387345743858442,-0.922325415357474,-1.860678602545804,-1.6158908145836308,-0.5347447510840333,-0.3103559454520415,0.1180226834817612,0.7503911357173745,1.260365693971902,1.0563758706700908,-0.0859671398200497,-0.3103559454520415,0.1792196304723045,-0.4531488217633092,-0.4531488217633092,-0.47354780409349,0.3220125067835722,0.3016135244533909,0.5668002947457452,0.6075982594061072,0.1588206481421232,-0.3511539101124035,-0.7387345743858442,-0.2899569631218602,-1.432299973612001,-0.7795325390462062,-0.2695579807916795,-0.187962051470955,-0.0859671398200497,-0.47354780409349,-0.5959416980745765,-1.2283101503101903,-1.7382847085647173,-1.1875121856498283,-1.7178857262345362,-1.7382847085647173,-1.6158908145836308,-0.963123380017836,-1.0243203270083792,-1.5954918322534497,-0.636739662734939],\"yaxis\":\"y2\",\"type\":\"scatter\"}],                        {\"template\":{\"data\":{\"histogram2dcontour\":[{\"type\":\"histogram2dcontour\",\"colorbar\":{\"outlinewidth\":0,\"ticks\":\"\"},\"colorscale\":[[0.0,\"#0d0887\"],[0.1111111111111111,\"#46039f\"],[0.2222222222222222,\"#7201a8\"],[0.3333333333333333,\"#9c179e\"],[0.4444444444444444,\"#bd3786\"],[0.5555555555555556,\"#d8576b\"],[0.6666666666666666,\"#ed7953\"],[0.7777777777777778,\"#fb9f3a\"],[0.8888888888888888,\"#fdca26\"],[1.0,\"#f0f921\"]]}],\"choropleth\":[{\"type\":\"choropleth\",\"colorbar\":{\"outlinewidth\":0,\"ticks\":\"\"}}],\"histogram2d\":[{\"type\":\"histogram2d\",\"colorbar\":{\"outlinewidth\":0,\"ticks\":\"\"},\"colorscale\":[[0.0,\"#0d0887\"],[0.1111111111111111,\"#46039f\"],[0.2222222222222222,\"#7201a8\"],[0.3333333333333333,\"#9c179e\"],[0.4444444444444444,\"#bd3786\"],[0.5555555555555556,\"#d8576b\"],[0.6666666666666666,\"#ed7953\"],[0.7777777777777778,\"#fb9f3a\"],[0.8888888888888888,\"#fdca26\"],[1.0,\"#f0f921\"]]}],\"heatmap\":[{\"type\":\"heatmap\",\"colorbar\":{\"outlinewidth\":0,\"ticks\":\"\"},\"colorscale\":[[0.0,\"#0d0887\"],[0.1111111111111111,\"#46039f\"],[0.2222222222222222,\"#7201a8\"],[0.3333333333333333,\"#9c179e\"],[0.4444444444444444,\"#bd3786\"],[0.5555555555555556,\"#d8576b\"],[0.6666666666666666,\"#ed7953\"],[0.7777777777777778,\"#fb9f3a\"],[0.8888888888888888,\"#fdca26\"],[1.0,\"#f0f921\"]]}],\"heatmapgl\":[{\"type\":\"heatmapgl\",\"colorbar\":{\"outlinewidth\":0,\"ticks\":\"\"},\"colorscale\":[[0.0,\"#0d0887\"],[0.1111111111111111,\"#46039f\"],[0.2222222222222222,\"#7201a8\"],[0.3333333333333333,\"#9c179e\"],[0.4444444444444444,\"#bd3786\"],[0.5555555555555556,\"#d8576b\"],[0.6666666666666666,\"#ed7953\"],[0.7777777777777778,\"#fb9f3a\"],[0.8888888888888888,\"#fdca26\"],[1.0,\"#f0f921\"]]}],\"contourcarpet\":[{\"type\":\"contourcarpet\",\"colorbar\":{\"outlinewidth\":0,\"ticks\":\"\"}}],\"contour\":[{\"type\":\"contour\",\"colorbar\":{\"outlinewidth\":0,\"ticks\":\"\"},\"colorscale\":[[0.0,\"#0d0887\"],[0.1111111111111111,\"#46039f\"],[0.2222222222222222,\"#7201a8\"],[0.3333333333333333,\"#9c179e\"],[0.4444444444444444,\"#bd3786\"],[0.5555555555555556,\"#d8576b\"],[0.6666666666666666,\"#ed7953\"],[0.7777777777777778,\"#fb9f3a\"],[0.8888888888888888,\"#fdca26\"],[1.0,\"#f0f921\"]]}],\"surface\":[{\"type\":\"surface\",\"colorbar\":{\"outlinewidth\":0,\"ticks\":\"\"},\"colorscale\":[[0.0,\"#0d0887\"],[0.1111111111111111,\"#46039f\"],[0.2222222222222222,\"#7201a8\"],[0.3333333333333333,\"#9c179e\"],[0.4444444444444444,\"#bd3786\"],[0.5555555555555556,\"#d8576b\"],[0.6666666666666666,\"#ed7953\"],[0.7777777777777778,\"#fb9f3a\"],[0.8888888888888888,\"#fdca26\"],[1.0,\"#f0f921\"]]}],\"mesh3d\":[{\"type\":\"mesh3d\",\"colorbar\":{\"outlinewidth\":0,\"ticks\":\"\"}}],\"scatter\":[{\"fillpattern\":{\"fillmode\":\"overlay\",\"size\":10,\"solidity\":0.2},\"type\":\"scatter\"}],\"parcoords\":[{\"type\":\"parcoords\",\"line\":{\"colorbar\":{\"outlinewidth\":0,\"ticks\":\"\"}}}],\"scatterpolargl\":[{\"type\":\"scatterpolargl\",\"marker\":{\"colorbar\":{\"outlinewidth\":0,\"ticks\":\"\"}}}],\"bar\":[{\"error_x\":{\"color\":\"#2a3f5f\"},\"error_y\":{\"color\":\"#2a3f5f\"},\"marker\":{\"line\":{\"color\":\"#E5ECF6\",\"width\":0.5},\"pattern\":{\"fillmode\":\"overlay\",\"size\":10,\"solidity\":0.2}},\"type\":\"bar\"}],\"scattergeo\":[{\"type\":\"scattergeo\",\"marker\":{\"colorbar\":{\"outlinewidth\":0,\"ticks\":\"\"}}}],\"scatterpolar\":[{\"type\":\"scatterpolar\",\"marker\":{\"colorbar\":{\"outlinewidth\":0,\"ticks\":\"\"}}}],\"histogram\":[{\"marker\":{\"pattern\":{\"fillmode\":\"overlay\",\"size\":10,\"solidity\":0.2}},\"type\":\"histogram\"}],\"scattergl\":[{\"type\":\"scattergl\",\"marker\":{\"colorbar\":{\"outlinewidth\":0,\"ticks\":\"\"}}}],\"scatter3d\":[{\"type\":\"scatter3d\",\"line\":{\"colorbar\":{\"outlinewidth\":0,\"ticks\":\"\"}},\"marker\":{\"colorbar\":{\"outlinewidth\":0,\"ticks\":\"\"}}}],\"scattermapbox\":[{\"type\":\"scattermapbox\",\"marker\":{\"colorbar\":{\"outlinewidth\":0,\"ticks\":\"\"}}}],\"scatterternary\":[{\"type\":\"scatterternary\",\"marker\":{\"colorbar\":{\"outlinewidth\":0,\"ticks\":\"\"}}}],\"scattercarpet\":[{\"type\":\"scattercarpet\",\"marker\":{\"colorbar\":{\"outlinewidth\":0,\"ticks\":\"\"}}}],\"carpet\":[{\"aaxis\":{\"endlinecolor\":\"#2a3f5f\",\"gridcolor\":\"white\",\"linecolor\":\"white\",\"minorgridcolor\":\"white\",\"startlinecolor\":\"#2a3f5f\"},\"baxis\":{\"endlinecolor\":\"#2a3f5f\",\"gridcolor\":\"white\",\"linecolor\":\"white\",\"minorgridcolor\":\"white\",\"startlinecolor\":\"#2a3f5f\"},\"type\":\"carpet\"}],\"table\":[{\"cells\":{\"fill\":{\"color\":\"#EBF0F8\"},\"line\":{\"color\":\"white\"}},\"header\":{\"fill\":{\"color\":\"#C8D4E3\"},\"line\":{\"color\":\"white\"}},\"type\":\"table\"}],\"barpolar\":[{\"marker\":{\"line\":{\"color\":\"#E5ECF6\",\"width\":0.5},\"pattern\":{\"fillmode\":\"overlay\",\"size\":10,\"solidity\":0.2}},\"type\":\"barpolar\"}],\"pie\":[{\"automargin\":true,\"type\":\"pie\"}]},\"layout\":{\"autotypenumbers\":\"strict\",\"colorway\":[\"#636efa\",\"#EF553B\",\"#00cc96\",\"#ab63fa\",\"#FFA15A\",\"#19d3f3\",\"#FF6692\",\"#B6E880\",\"#FF97FF\",\"#FECB52\"],\"font\":{\"color\":\"#2a3f5f\"},\"hovermode\":\"closest\",\"hoverlabel\":{\"align\":\"left\"},\"paper_bgcolor\":\"white\",\"plot_bgcolor\":\"#E5ECF6\",\"polar\":{\"bgcolor\":\"#E5ECF6\",\"angularaxis\":{\"gridcolor\":\"white\",\"linecolor\":\"white\",\"ticks\":\"\"},\"radialaxis\":{\"gridcolor\":\"white\",\"linecolor\":\"white\",\"ticks\":\"\"}},\"ternary\":{\"bgcolor\":\"#E5ECF6\",\"aaxis\":{\"gridcolor\":\"white\",\"linecolor\":\"white\",\"ticks\":\"\"},\"baxis\":{\"gridcolor\":\"white\",\"linecolor\":\"white\",\"ticks\":\"\"},\"caxis\":{\"gridcolor\":\"white\",\"linecolor\":\"white\",\"ticks\":\"\"}},\"coloraxis\":{\"colorbar\":{\"outlinewidth\":0,\"ticks\":\"\"}},\"colorscale\":{\"sequential\":[[0.0,\"#0d0887\"],[0.1111111111111111,\"#46039f\"],[0.2222222222222222,\"#7201a8\"],[0.3333333333333333,\"#9c179e\"],[0.4444444444444444,\"#bd3786\"],[0.5555555555555556,\"#d8576b\"],[0.6666666666666666,\"#ed7953\"],[0.7777777777777778,\"#fb9f3a\"],[0.8888888888888888,\"#fdca26\"],[1.0,\"#f0f921\"]],\"sequentialminus\":[[0.0,\"#0d0887\"],[0.1111111111111111,\"#46039f\"],[0.2222222222222222,\"#7201a8\"],[0.3333333333333333,\"#9c179e\"],[0.4444444444444444,\"#bd3786\"],[0.5555555555555556,\"#d8576b\"],[0.6666666666666666,\"#ed7953\"],[0.7777777777777778,\"#fb9f3a\"],[0.8888888888888888,\"#fdca26\"],[1.0,\"#f0f921\"]],\"diverging\":[[0,\"#8e0152\"],[0.1,\"#c51b7d\"],[0.2,\"#de77ae\"],[0.3,\"#f1b6da\"],[0.4,\"#fde0ef\"],[0.5,\"#f7f7f7\"],[0.6,\"#e6f5d0\"],[0.7,\"#b8e186\"],[0.8,\"#7fbc41\"],[0.9,\"#4d9221\"],[1,\"#276419\"]]},\"xaxis\":{\"gridcolor\":\"white\",\"linecolor\":\"white\",\"ticks\":\"\",\"title\":{\"standoff\":15},\"zerolinecolor\":\"white\",\"automargin\":true,\"zerolinewidth\":2},\"yaxis\":{\"gridcolor\":\"white\",\"linecolor\":\"white\",\"ticks\":\"\",\"title\":{\"standoff\":15},\"zerolinecolor\":\"white\",\"automargin\":true,\"zerolinewidth\":2},\"scene\":{\"xaxis\":{\"backgroundcolor\":\"#E5ECF6\",\"gridcolor\":\"white\",\"linecolor\":\"white\",\"showbackground\":true,\"ticks\":\"\",\"zerolinecolor\":\"white\",\"gridwidth\":2},\"yaxis\":{\"backgroundcolor\":\"#E5ECF6\",\"gridcolor\":\"white\",\"linecolor\":\"white\",\"showbackground\":true,\"ticks\":\"\",\"zerolinecolor\":\"white\",\"gridwidth\":2},\"zaxis\":{\"backgroundcolor\":\"#E5ECF6\",\"gridcolor\":\"white\",\"linecolor\":\"white\",\"showbackground\":true,\"ticks\":\"\",\"zerolinecolor\":\"white\",\"gridwidth\":2}},\"shapedefaults\":{\"line\":{\"color\":\"#2a3f5f\"}},\"annotationdefaults\":{\"arrowcolor\":\"#2a3f5f\",\"arrowhead\":0,\"arrowwidth\":1},\"geo\":{\"bgcolor\":\"white\",\"landcolor\":\"#E5ECF6\",\"subunitcolor\":\"white\",\"showland\":true,\"showlakes\":true,\"lakecolor\":\"white\"},\"title\":{\"x\":0.05},\"mapbox\":{\"style\":\"light\"}}},\"xaxis\":{\"anchor\":\"y\",\"domain\":[0.0,0.94]},\"yaxis\":{\"anchor\":\"x\",\"domain\":[0.0,1.0]},\"yaxis2\":{\"anchor\":\"x\",\"overlaying\":\"y\",\"side\":\"right\"}},                        {\"responsive\": true}                    ).then(function(){\n",
       "                            \n",
       "var gd = document.getElementById('3c8ab821-cb5a-452f-b2ee-d2cda831c475');\n",
       "var x = new MutationObserver(function (mutations, observer) {{\n",
       "        var display = window.getComputedStyle(gd).display;\n",
       "        if (!display || display === 'none') {{\n",
       "            console.log([gd, 'removed!']);\n",
       "            Plotly.purge(gd);\n",
       "            observer.disconnect();\n",
       "        }}\n",
       "}});\n",
       "\n",
       "// Listen for the removal of the full notebook cells\n",
       "var notebookContainer = gd.closest('#notebook-container');\n",
       "if (notebookContainer) {{\n",
       "    x.observe(notebookContainer, {childList: true});\n",
       "}}\n",
       "\n",
       "// Listen for the clearing of the current output cell\n",
       "var outputEl = gd.closest('.output');\n",
       "if (outputEl) {{\n",
       "    x.observe(outputEl, {childList: true});\n",
       "}}\n",
       "\n",
       "                        })                };                });            </script>        </div>"
      ]
     },
     "metadata": {},
     "output_type": "display_data"
    },
    {
     "data": {
      "application/vnd.plotly.v1+json": {
       "config": {
        "plotlyServerURL": "https://plot.ly"
       },
       "data": [
        {
         "hovertemplate": "date=%{x}<br>Mean=%{y}<extra></extra>",
         "legendgroup": "",
         "line": {
          "dash": "solid"
         },
         "marker": {
          "symbol": "circle"
         },
         "mode": "lines",
         "name": "",
         "orientation": "v",
         "showlegend": false,
         "type": "scatter",
         "x": [
          "2022-01-05",
          "2022-01-06",
          "2022-01-07",
          "2022-01-08",
          "2022-01-09",
          "2022-01-10",
          "2022-01-11",
          "2022-01-12",
          "2022-01-16",
          "2022-01-17",
          "2022-01-18",
          "2022-01-19",
          "2022-01-20",
          "2022-01-21",
          "2022-01-22",
          "2022-01-23",
          "2022-01-24",
          "2022-01-25",
          "2022-01-26",
          "2022-01-27",
          "2022-01-28",
          "2022-01-29",
          "2022-01-30",
          "2022-01-31",
          "2022-02-01",
          "2022-02-02",
          "2022-02-03",
          "2022-02-04",
          "2022-02-05",
          "2022-02-06",
          "2022-02-07",
          "2022-02-08",
          "2022-02-09",
          "2022-02-10",
          "2022-02-11",
          "2022-02-12",
          "2022-02-13",
          "2022-02-14",
          "2022-02-15",
          "2022-02-16",
          "2022-02-17",
          "2022-02-18",
          "2022-02-19",
          "2022-02-20",
          "2022-02-21",
          "2022-02-22",
          "2022-02-23",
          "2022-02-24",
          "2022-02-25",
          "2022-02-26",
          "2022-02-27",
          "2022-02-28",
          "2022-03-01",
          "2022-03-02",
          "2022-03-03",
          "2022-03-04",
          "2022-03-05",
          "2022-03-06",
          "2022-03-07",
          "2022-03-08",
          "2022-03-09",
          "2022-03-10",
          "2022-03-11",
          "2022-03-12",
          "2022-03-13",
          "2022-03-14",
          "2022-03-15",
          "2022-03-16",
          "2022-03-17",
          "2022-03-18",
          "2022-03-19",
          "2022-03-20",
          "2022-03-21",
          "2022-03-22",
          "2022-03-23",
          "2022-03-24",
          "2022-03-25",
          "2022-03-26",
          "2022-03-27",
          "2022-03-28",
          "2022-03-29",
          "2022-03-30",
          "2022-03-31",
          "2022-04-01",
          "2022-04-02",
          "2022-04-05",
          "2022-04-06",
          "2022-04-07",
          "2022-04-08",
          "2022-04-09",
          "2022-04-10",
          "2022-04-11",
          "2022-04-12",
          "2022-04-13",
          "2022-04-14",
          "2022-04-15",
          "2022-04-16",
          "2022-04-17",
          "2022-04-18",
          "2022-04-19",
          "2022-04-20",
          "2022-04-21",
          "2022-04-22",
          "2022-04-23",
          "2022-04-24",
          "2022-04-25",
          "2022-04-26",
          "2022-04-27",
          "2022-04-28",
          "2022-04-29",
          "2022-04-30",
          "2022-05-01",
          "2022-05-02",
          "2022-05-03",
          "2022-05-04",
          "2022-05-05",
          "2022-05-06",
          "2022-05-07",
          "2022-05-08",
          "2022-05-09",
          "2022-05-10",
          "2022-05-11",
          "2022-05-12",
          "2022-05-13",
          "2022-05-14",
          "2022-05-15",
          "2022-05-16",
          "2022-05-17",
          "2022-05-18",
          "2022-05-19",
          "2022-05-20",
          "2022-05-21",
          "2022-05-22",
          "2022-05-23",
          "2022-05-24",
          "2022-05-26",
          "2022-05-27",
          "2022-05-28",
          "2022-05-29",
          "2022-05-30",
          "2022-05-31",
          "2022-06-01",
          "2022-06-02",
          "2022-06-03",
          "2022-06-04",
          "2022-06-05",
          "2022-06-06",
          "2022-06-07",
          "2022-06-08",
          "2022-06-09",
          "2022-06-10",
          "2022-06-11",
          "2022-06-12",
          "2022-06-13",
          "2022-06-14",
          "2022-06-15",
          "2022-06-16",
          "2022-06-17",
          "2022-06-18",
          "2022-06-19",
          "2022-06-20",
          "2022-06-21",
          "2022-06-22",
          "2022-06-23",
          "2022-06-24",
          "2022-06-25",
          "2022-06-26",
          "2022-06-27",
          "2022-06-28",
          "2022-06-29",
          "2022-07-02",
          "2022-07-03",
          "2022-07-04",
          "2022-07-05",
          "2022-07-06",
          "2022-07-07",
          "2022-07-08",
          "2022-07-09",
          "2022-07-10",
          "2022-07-11",
          "2022-07-12",
          "2022-07-13",
          "2022-07-14",
          "2022-07-15",
          "2022-07-16",
          "2022-07-17",
          "2022-07-18",
          "2022-07-19",
          "2022-07-20",
          "2022-07-21",
          "2022-07-22",
          "2022-07-23",
          "2022-07-24",
          "2022-07-25",
          "2022-07-26",
          "2022-07-27",
          "2022-07-28",
          "2022-07-29",
          "2022-07-30",
          "2022-07-31",
          "2022-08-01",
          "2022-08-02",
          "2022-08-03",
          "2022-08-04",
          "2022-08-05",
          "2022-08-06",
          "2022-08-07",
          "2022-08-08",
          "2022-08-09",
          "2022-08-10",
          "2022-08-11",
          "2022-08-12",
          "2022-08-13",
          "2022-08-14",
          "2022-08-15",
          "2022-08-16",
          "2022-08-17",
          "2022-08-18",
          "2022-08-19",
          "2022-08-20",
          "2022-08-21",
          "2022-08-22",
          "2022-08-23",
          "2022-08-24",
          "2022-08-25",
          "2022-08-26",
          "2022-08-27",
          "2022-08-28",
          "2022-08-29",
          "2022-08-30",
          "2022-08-31",
          "2022-09-01",
          "2022-09-02",
          "2022-09-03",
          "2022-09-04",
          "2022-09-05",
          "2022-09-06",
          "2022-09-07",
          "2022-09-08",
          "2022-09-09",
          "2022-09-10",
          "2022-09-11",
          "2022-09-12",
          "2022-09-13",
          "2022-09-14",
          "2022-09-16"
         ],
         "xaxis": "x",
         "y": [
          16300560.396325707,
          17658648.89806571,
          17347162.93101469,
          16975064.4272259,
          16797785.791917797,
          16806788.914961446,
          16811833.251713973,
          16734018.396816732,
          17112088.201657716,
          17011946.553369317,
          16970497.972453773,
          16652439.489730489,
          14965479.43222849,
          13323793.673679637,
          12873959.016227724,
          11303651.720090585,
          11007467.34700925,
          10871655.621807251,
          12159820.822644686,
          13505607.403390111,
          13681356.340413606,
          14936296.611906191,
          14923038.910625257,
          12589322.572192566,
          12568194.290519638,
          12656150.217581045,
          12895523.888825014,
          13174352.579157157,
          14758873.283617333,
          14966112.54168266,
          13981120.739769287,
          14329206.281212503,
          12998453.810260974,
          13035101.46742987,
          12935524.996210158,
          14282421.110996926,
          14269045.839103565,
          14234745.430921003,
          13983623.878515448,
          12451147.474175066,
          15269480.34958822,
          15144035.258112026,
          13602820.084048048,
          11961488.017577806,
          11692883.442188185,
          10520623.18598848,
          10597508.98837556,
          12302652.732426368,
          12055658.914270565,
          13312310.455994308,
          13302684.301300997,
          15072063.977543931,
          16640913.820278505,
          16726833.162031168,
          15359834.212318948,
          14337334.69371573,
          13968809.536106026,
          13561663.795575554,
          13355494.93965335,
          11993273.990426429,
          12099160.81741657,
          12943501.406253258,
          12695278.590656549,
          12590908.615391329,
          12418870.720681133,
          12292307.862216016,
          13682690.17967298,
          12526529.102193069,
          12882839.583889768,
          11436021.607194657,
          11324391.68407502,
          12674892.310120234,
          11270116.114267657,
          12775937.96738934,
          11589932.293703048,
          13442791.025573203,
          13942925.906535745,
          12722266.4979224,
          14600266.085370503,
          14866187.212059,
          14936133.6515846,
          13608250.734281491,
          12280254.842698582,
          14027934.698614923,
          13825044.782824928,
          9370691.80449831,
          9533048.390190354,
          9701736.487279251,
          8516841.090446098,
          9443838.824822633,
          9364852.622400708,
          10675149.238137288,
          11864137.72101284,
          11742429.723710775,
          12885260.082449311,
          11467406.715709897,
          12690455.363681272,
          11144443.841934573,
          9815462.194832023,
          9820668.402080366,
          9694690.695536984,
          9815317.107529247,
          9585090.849358326,
          9490934.549195984,
          10580321.827864258,
          10357739.355840078,
          9904135.934160378,
          9669618.420316638,
          13644156.129957588,
          13356814.415303038,
          11853810.286388464,
          11775592.976694366,
          11590485.543108916,
          11612288.84540094,
          12868801.298505137,
          13053035.151801929,
          14110520.33822723,
          13778267.472966751,
          12530386.508751629,
          12021290.84041947,
          11497172.066507123,
          11118384.805893648,
          10012741.049433025,
          8903535.797767593,
          9879758.226772675,
          8878044.28833642,
          8912295.660614314,
          8893381.490528656,
          8745347.529548453,
          9631829.455022588,
          9253797.523018852,
          10113809.633346066,
          8627578.21810162,
          8436459.608976576,
          8431611.204082683,
          9263388.742297878,
          9200360.676142124,
          8049840.762693316,
          7924927.841125282,
          7868657.633253898,
          7230972.840943344,
          6065311.089454257,
          9510080.885098493,
          10311356.508528523,
          10188843.301089196,
          9230875.838806592,
          10421951.542127308,
          9410805.585428568,
          9295633.88340653,
          8287272.486073527,
          7205341.804875426,
          7007599.814036851,
          6448621.827739158,
          6996861.265276186,
          6653012.160243738,
          7241345.740182835,
          7813596.111569532,
          7643831.547008324,
          7531588.959285109,
          7505410.359529986,
          7423733.098475824,
          6722836.719293342,
          6849695.54328337,
          6908397.18765669,
          6799747.286928598,
          5966884.493104179,
          5897396.60152033,
          6545954.712858573,
          6358798.550920685,
          6316020.342904109,
          5492587.888628663,
          6037932.844157421,
          6507796.793347505,
          6309120.805134576,
          5657328.519440842,
          6476220.235650866,
          6414659.974277817,
          6216635.331815537,
          6170705.76427205,
          6847120.495130398,
          7568256.8942576,
          6839261.199889245,
          6985216.111671757,
          7127510.381407448,
          7193205.759368735,
          6399743.077854154,
          5758539.531994228,
          6621291.371501154,
          6804726.057510258,
          6060577.235854323,
          5243187.541894077,
          5147318.963220172,
          5064263.508210289,
          4858667.85518512,
          3909371.044759281,
          4096096.090724261,
          4204594.980261365,
          4307863.510326613,
          5003951.526183036,
          4228045.443139293,
          4333588.643109683,
          5018962.503638574,
          5804053.423344479,
          5895996.5152875,
          5037398.072898928,
          5004869.981366244,
          4880399.674905674,
          3947814.281643769,
          3948862.58109716,
          4797672.732006527,
          4884605.922182759,
          5715605.453048547,
          6451408.939340082,
          7364789.98125288,
          7339247.45884328,
          6379593.836309846,
          6259926.059650292,
          6100968.986072023,
          5275627.779843024,
          5031561.367078741,
          4892291.1739766905,
          5546647.476200526,
          5516003.131957986,
          5482295.180712657,
          5456852.680862268,
          4775999.74259103,
          3957207.108413973,
          3931561.776743367,
          4698801.634696487,
          4061940.882940602,
          4708582.741603273,
          5294455.559226955,
          5380768.831610278,
          5275279.474289083,
          4521161.304549058,
          4425189.697850819,
          3752298.765401428,
          3150115.6873833905,
          3837971.635240448,
          3236858.334502481,
          3272351.204580219,
          3426944.4127864144,
          4117827.867354317,
          4050300.34362331,
          3335873.889345976,
          3912334.868152091
         ],
         "yaxis": "y"
        },
        {
         "hovertemplate": "date=%{x}<br>similarity=%{y}<extra></extra>",
         "legendgroup": "",
         "line": {
          "dash": "solid"
         },
         "marker": {
          "symbol": "circle"
         },
         "mode": "lines",
         "name": "",
         "orientation": "v",
         "showlegend": false,
         "type": "scatter",
         "x": [
          "2022-01-05",
          "2022-01-06",
          "2022-01-07",
          "2022-01-08",
          "2022-01-09",
          "2022-01-10",
          "2022-01-11",
          "2022-01-12",
          "2022-01-16",
          "2022-01-17",
          "2022-01-18",
          "2022-01-19",
          "2022-01-20",
          "2022-01-21",
          "2022-01-22",
          "2022-01-23",
          "2022-01-24",
          "2022-01-25",
          "2022-01-26",
          "2022-01-27",
          "2022-01-28",
          "2022-01-29",
          "2022-01-30",
          "2022-01-31",
          "2022-02-01",
          "2022-02-02",
          "2022-02-03",
          "2022-02-04",
          "2022-02-05",
          "2022-02-06",
          "2022-02-07",
          "2022-02-08",
          "2022-02-09",
          "2022-02-10",
          "2022-02-11",
          "2022-02-12",
          "2022-02-13",
          "2022-02-14",
          "2022-02-15",
          "2022-02-16",
          "2022-02-17",
          "2022-02-18",
          "2022-02-19",
          "2022-02-20",
          "2022-02-21",
          "2022-02-22",
          "2022-02-23",
          "2022-02-24",
          "2022-02-25",
          "2022-02-26",
          "2022-02-27",
          "2022-02-28",
          "2022-03-01",
          "2022-03-02",
          "2022-03-03",
          "2022-03-04",
          "2022-03-05",
          "2022-03-06",
          "2022-03-07",
          "2022-03-08",
          "2022-03-09",
          "2022-03-10",
          "2022-03-11",
          "2022-03-12",
          "2022-03-13",
          "2022-03-14",
          "2022-03-15",
          "2022-03-16",
          "2022-03-17",
          "2022-03-18",
          "2022-03-19",
          "2022-03-20",
          "2022-03-21",
          "2022-03-22",
          "2022-03-23",
          "2022-03-24",
          "2022-03-25",
          "2022-03-26",
          "2022-03-27",
          "2022-03-28",
          "2022-03-29",
          "2022-03-30",
          "2022-03-31",
          "2022-04-01",
          "2022-04-02",
          "2022-04-05",
          "2022-04-06",
          "2022-04-07",
          "2022-04-08",
          "2022-04-09",
          "2022-04-10",
          "2022-04-11",
          "2022-04-12",
          "2022-04-13",
          "2022-04-14",
          "2022-04-15",
          "2022-04-16",
          "2022-04-17",
          "2022-04-18",
          "2022-04-19",
          "2022-04-20",
          "2022-04-21",
          "2022-04-22",
          "2022-04-23",
          "2022-04-24",
          "2022-04-25",
          "2022-04-26",
          "2022-04-27",
          "2022-04-28",
          "2022-04-29",
          "2022-04-30",
          "2022-05-01",
          "2022-05-02",
          "2022-05-03",
          "2022-05-04",
          "2022-05-05",
          "2022-05-06",
          "2022-05-07",
          "2022-05-08",
          "2022-05-09",
          "2022-05-10",
          "2022-05-11",
          "2022-05-12",
          "2022-05-13",
          "2022-05-14",
          "2022-05-15",
          "2022-05-16",
          "2022-05-17",
          "2022-05-18",
          "2022-05-19",
          "2022-05-20",
          "2022-05-21",
          "2022-05-22",
          "2022-05-23",
          "2022-05-24",
          "2022-05-26",
          "2022-05-27",
          "2022-05-28",
          "2022-05-29",
          "2022-05-30",
          "2022-05-31",
          "2022-06-01",
          "2022-06-02",
          "2022-06-03",
          "2022-06-04",
          "2022-06-05",
          "2022-06-06",
          "2022-06-07",
          "2022-06-08",
          "2022-06-09",
          "2022-06-10",
          "2022-06-11",
          "2022-06-12",
          "2022-06-13",
          "2022-06-14",
          "2022-06-15",
          "2022-06-16",
          "2022-06-17",
          "2022-06-18",
          "2022-06-19",
          "2022-06-20",
          "2022-06-21",
          "2022-06-22",
          "2022-06-23",
          "2022-06-24",
          "2022-06-25",
          "2022-06-26",
          "2022-06-27",
          "2022-06-28",
          "2022-06-29",
          "2022-07-02",
          "2022-07-03",
          "2022-07-04",
          "2022-07-05",
          "2022-07-06",
          "2022-07-07",
          "2022-07-08",
          "2022-07-09",
          "2022-07-10",
          "2022-07-11",
          "2022-07-12",
          "2022-07-13",
          "2022-07-14",
          "2022-07-15",
          "2022-07-16",
          "2022-07-17",
          "2022-07-18",
          "2022-07-19",
          "2022-07-20",
          "2022-07-21",
          "2022-07-22",
          "2022-07-23",
          "2022-07-24",
          "2022-07-25",
          "2022-07-26",
          "2022-07-27",
          "2022-07-28",
          "2022-07-29",
          "2022-07-30",
          "2022-07-31",
          "2022-08-01",
          "2022-08-02",
          "2022-08-03",
          "2022-08-04",
          "2022-08-05",
          "2022-08-06",
          "2022-08-07",
          "2022-08-08",
          "2022-08-09",
          "2022-08-10",
          "2022-08-11",
          "2022-08-12",
          "2022-08-13",
          "2022-08-14",
          "2022-08-15",
          "2022-08-16",
          "2022-08-17",
          "2022-08-18",
          "2022-08-19",
          "2022-08-20",
          "2022-08-21",
          "2022-08-22",
          "2022-08-23",
          "2022-08-24",
          "2022-08-25",
          "2022-08-26",
          "2022-08-27",
          "2022-08-28",
          "2022-08-29",
          "2022-08-30",
          "2022-08-31",
          "2022-09-01",
          "2022-09-02",
          "2022-09-03",
          "2022-09-04",
          "2022-09-05",
          "2022-09-06",
          "2022-09-07",
          "2022-09-08",
          "2022-09-09",
          "2022-09-10",
          "2022-09-11",
          "2022-09-12",
          "2022-09-13",
          "2022-09-14",
          "2022-09-16"
         ],
         "xaxis": "x",
         "y": [
          2.279948569116892,
          2.8170590107523577,
          2.736492444507037,
          2.8976255769976773,
          3.1393252757336363,
          2.548503789934625,
          2.3873706574439857,
          2.306804091198666,
          1.4533689798219995,
          1.047574376349362,
          1.047574376349362,
          0.4794619314876699,
          0.2359851694040876,
          -0.16980943406855,
          -0.0480710530267588,
          -0.129229973721286,
          0.5200413918349331,
          0.9258359953075708,
          1.088153836696626,
          0.8852565349603068,
          0.6012003125294612,
          1.3722100591274715,
          0.5200413918349331,
          0.403092647354807,
          0.2247808864605898,
          0.5219671546176181,
          0.7002789155118353,
          0.7597161691432415,
          1.5918377199829217,
          1.5324004663515165,
          0.6408416618804303,
          0.7002789155118353,
          0.284218140091996,
          0.2247808864605898,
          -0.1912798889592508,
          0.8785906764060525,
          1.175776944563082,
          1.4135259590887042,
          1.3540887054572992,
          0.7002789155118353,
          1.796549171644974,
          1.4205718625001482,
          0.8834614208646833,
          0.7223282883740437,
          0.507484111719858,
          -0.1370484182427001,
          -0.2444705065697933,
          0.403092647354807,
          -0.7262151716419025,
          0.403092647354807,
          0.284218140091996,
          0.9380279300374588,
          1.2352141981944869,
          2.007898495402762,
          1.5918377199829217,
          0.6408416618804303,
          0.284218140091996,
          0.3436553937234008,
          -0.369591649853468,
          -1.3205877079559596,
          -1.201713200693148,
          -1.0234014397989308,
          -0.4290289034848729,
          -0.2507171425906557,
          0.8785906764060525,
          0.5219671546176181,
          0.403092647354807,
          -0.4884661571162791,
          -0.369591649853468,
          -1.4988994688501769,
          -1.9149602442700169,
          -0.6667779180104964,
          -0.7262151716419025,
          -0.1318426353278446,
          -1.4394622152187708,
          -0.2507171425906557,
          -0.7262151716419025,
          -2.033834751532829,
          -0.7856524252733074,
          -0.7856524252733074,
          -0.6667779180104964,
          -1.8555229906386117,
          -1.9149602442700169,
          -0.6667779180104964,
          -0.6073406643790902,
          -0.5130257273875258,
          -0.432459161142206,
          -0.6204478157146189,
          -0.9964251248594445,
          -0.4056036390604328,
          -0.1370484182427001,
          0.1583623246568054,
          0.2120733688203517,
          0.2926399350656715,
          0.8834614208646833,
          0.2657844129838986,
          0.5880506779651776,
          0.1852178467385788,
          -0.2713260286515668,
          -0.3787481169786594,
          -0.7278699040417119,
          -0.6204478157146189,
          -0.9158585586141246,
          -1.050136169022991,
          -0.432459161142206,
          -0.4861702053057526,
          -0.0564818519973803,
          -0.0564818519973803,
          -0.3321272754576053,
          -0.9813986410138243,
          -1.427772704833726,
          -0.9813986410138243,
          -1.387193244486462,
          -1.0219781013610885,
          -0.4538656564993965,
          0.0330878676677683,
          0.7635181539185155,
          0.8446770746130436,
          0.1142467883622963,
          0.0330878676677683,
          0.0736673280150323,
          0.0736673280150323,
          -0.4538656564993965,
          -1.346613784139198,
          -0.5350245771939236,
          -0.9002397203192972,
          -0.7785013392775061,
          -0.8190807996247701,
          -0.7785013392775061,
          0.0736673280150323,
          0.4269175454745381,
          1.4205718625001482,
          0.8297503767011369,
          0.9103169429464568,
          0.641761722128724,
          1.1251611196006426,
          0.7223282883740437,
          -0.2176149844880199,
          -0.2176149844880199,
          -0.3787481169786594,
          -0.2981815507333397,
          -0.754725426123485,
          -0.129229973721286,
          0.3983030107931419,
          0.2359851694040876,
          -0.3727067358048684,
          0.2359851694040876,
          -0.6567629582357148,
          -0.6567629582357148,
          -1.6306700065700446,
          -2.2393619117790005,
          -2.158202991084473,
          -1.7929878479590993,
          -0.3727067358048684,
          0.2359851694040876,
          1.1287332970438892,
          1.8997430436419005,
          2.346117107461801,
          2.346117107461801,
          1.696845741905582,
          1.2910511384329444,
          0.4794619314876699,
          0.6012003125294612,
          0.0330878676677683,
          -0.4538656564993965,
          -1.0625575617083525,
          -0.8596602599720332,
          -0.129229973721286,
          -0.129229973721286,
          0.0736673280150323,
          -0.4056036390604328,
          0.319495457147445,
          0.8028948546193635,
          0.8566058987829098,
          0.4000620233927647,
          0.641761722128724,
          0.2657844129838986,
          -0.1639039403244735,
          0.131506802575032,
          0.641761722128724,
          0.9103169429464568,
          0.6686172442104974,
          0.7223282883740437,
          1.259438730009509,
          0.964027987110003,
          0.3732065013109912,
          0.1046512804932591,
          0.3732065013109912,
          0.319495457147445,
          -0.5130257273875258,
          -0.942714080695898,
          -0.942714080695898,
          -0.9695696027776712,
          -0.9964251248594445,
          -1.1575582573500838,
          -1.1307027352683108,
          -1.2381248235954037,
          -1.1575582573500838,
          -0.8890030365323515,
          -1.3455469119224968,
          -1.5066800444131363,
          -0.8621475144505782,
          -0.1639039403244735,
          -0.1101928961609272,
          -0.4593146832239794,
          -0.3787481169786594,
          -0.4861702053057526,
          -1.050136169022991,
          -1.1307027352683108,
          -0.3787481169786594,
          -0.4861702053057526,
          -0.2713260286515668,
          0.2120733688203517,
          0.507484111719858,
          0.4000620233927647,
          -0.432459161142206,
          -0.4056036390604328,
          -0.2176149844880199,
          -0.7278699040417119,
          -0.5398812494692993,
          -0.4056036390604328,
          0.1852178467385788,
          0.2120733688203517,
          0.1852178467385788,
          0.453773067556311,
          -0.1101928961609272,
          -0.8352919923688048,
          -1.1575582573500838,
          -0.3518925948968865,
          -0.432459161142206,
          -0.0564818519973803,
          0.507484111719858,
          0.641761722128724,
          0.507484111719858,
          -0.2981815507333397,
          -0.7278699040417119,
          -0.9158585586141246,
          -1.5066800444131363,
          -1.2381248235954037,
          -1.3455469119224968,
          -1.264980345677177,
          -1.1575582573500838,
          -1.2112693015136304,
          -1.318691389840723,
          -1.5335355664949095,
          -0.9964251248594445
         ],
         "yaxis": "y2"
        }
       ],
       "layout": {
        "template": {
         "data": {
          "bar": [
           {
            "error_x": {
             "color": "#2a3f5f"
            },
            "error_y": {
             "color": "#2a3f5f"
            },
            "marker": {
             "line": {
              "color": "#E5ECF6",
              "width": 0.5
             },
             "pattern": {
              "fillmode": "overlay",
              "size": 10,
              "solidity": 0.2
             }
            },
            "type": "bar"
           }
          ],
          "barpolar": [
           {
            "marker": {
             "line": {
              "color": "#E5ECF6",
              "width": 0.5
             },
             "pattern": {
              "fillmode": "overlay",
              "size": 10,
              "solidity": 0.2
             }
            },
            "type": "barpolar"
           }
          ],
          "carpet": [
           {
            "aaxis": {
             "endlinecolor": "#2a3f5f",
             "gridcolor": "white",
             "linecolor": "white",
             "minorgridcolor": "white",
             "startlinecolor": "#2a3f5f"
            },
            "baxis": {
             "endlinecolor": "#2a3f5f",
             "gridcolor": "white",
             "linecolor": "white",
             "minorgridcolor": "white",
             "startlinecolor": "#2a3f5f"
            },
            "type": "carpet"
           }
          ],
          "choropleth": [
           {
            "colorbar": {
             "outlinewidth": 0,
             "ticks": ""
            },
            "type": "choropleth"
           }
          ],
          "contour": [
           {
            "colorbar": {
             "outlinewidth": 0,
             "ticks": ""
            },
            "colorscale": [
             [
              0,
              "#0d0887"
             ],
             [
              0.1111111111111111,
              "#46039f"
             ],
             [
              0.2222222222222222,
              "#7201a8"
             ],
             [
              0.3333333333333333,
              "#9c179e"
             ],
             [
              0.4444444444444444,
              "#bd3786"
             ],
             [
              0.5555555555555556,
              "#d8576b"
             ],
             [
              0.6666666666666666,
              "#ed7953"
             ],
             [
              0.7777777777777778,
              "#fb9f3a"
             ],
             [
              0.8888888888888888,
              "#fdca26"
             ],
             [
              1,
              "#f0f921"
             ]
            ],
            "type": "contour"
           }
          ],
          "contourcarpet": [
           {
            "colorbar": {
             "outlinewidth": 0,
             "ticks": ""
            },
            "type": "contourcarpet"
           }
          ],
          "heatmap": [
           {
            "colorbar": {
             "outlinewidth": 0,
             "ticks": ""
            },
            "colorscale": [
             [
              0,
              "#0d0887"
             ],
             [
              0.1111111111111111,
              "#46039f"
             ],
             [
              0.2222222222222222,
              "#7201a8"
             ],
             [
              0.3333333333333333,
              "#9c179e"
             ],
             [
              0.4444444444444444,
              "#bd3786"
             ],
             [
              0.5555555555555556,
              "#d8576b"
             ],
             [
              0.6666666666666666,
              "#ed7953"
             ],
             [
              0.7777777777777778,
              "#fb9f3a"
             ],
             [
              0.8888888888888888,
              "#fdca26"
             ],
             [
              1,
              "#f0f921"
             ]
            ],
            "type": "heatmap"
           }
          ],
          "heatmapgl": [
           {
            "colorbar": {
             "outlinewidth": 0,
             "ticks": ""
            },
            "colorscale": [
             [
              0,
              "#0d0887"
             ],
             [
              0.1111111111111111,
              "#46039f"
             ],
             [
              0.2222222222222222,
              "#7201a8"
             ],
             [
              0.3333333333333333,
              "#9c179e"
             ],
             [
              0.4444444444444444,
              "#bd3786"
             ],
             [
              0.5555555555555556,
              "#d8576b"
             ],
             [
              0.6666666666666666,
              "#ed7953"
             ],
             [
              0.7777777777777778,
              "#fb9f3a"
             ],
             [
              0.8888888888888888,
              "#fdca26"
             ],
             [
              1,
              "#f0f921"
             ]
            ],
            "type": "heatmapgl"
           }
          ],
          "histogram": [
           {
            "marker": {
             "pattern": {
              "fillmode": "overlay",
              "size": 10,
              "solidity": 0.2
             }
            },
            "type": "histogram"
           }
          ],
          "histogram2d": [
           {
            "colorbar": {
             "outlinewidth": 0,
             "ticks": ""
            },
            "colorscale": [
             [
              0,
              "#0d0887"
             ],
             [
              0.1111111111111111,
              "#46039f"
             ],
             [
              0.2222222222222222,
              "#7201a8"
             ],
             [
              0.3333333333333333,
              "#9c179e"
             ],
             [
              0.4444444444444444,
              "#bd3786"
             ],
             [
              0.5555555555555556,
              "#d8576b"
             ],
             [
              0.6666666666666666,
              "#ed7953"
             ],
             [
              0.7777777777777778,
              "#fb9f3a"
             ],
             [
              0.8888888888888888,
              "#fdca26"
             ],
             [
              1,
              "#f0f921"
             ]
            ],
            "type": "histogram2d"
           }
          ],
          "histogram2dcontour": [
           {
            "colorbar": {
             "outlinewidth": 0,
             "ticks": ""
            },
            "colorscale": [
             [
              0,
              "#0d0887"
             ],
             [
              0.1111111111111111,
              "#46039f"
             ],
             [
              0.2222222222222222,
              "#7201a8"
             ],
             [
              0.3333333333333333,
              "#9c179e"
             ],
             [
              0.4444444444444444,
              "#bd3786"
             ],
             [
              0.5555555555555556,
              "#d8576b"
             ],
             [
              0.6666666666666666,
              "#ed7953"
             ],
             [
              0.7777777777777778,
              "#fb9f3a"
             ],
             [
              0.8888888888888888,
              "#fdca26"
             ],
             [
              1,
              "#f0f921"
             ]
            ],
            "type": "histogram2dcontour"
           }
          ],
          "mesh3d": [
           {
            "colorbar": {
             "outlinewidth": 0,
             "ticks": ""
            },
            "type": "mesh3d"
           }
          ],
          "parcoords": [
           {
            "line": {
             "colorbar": {
              "outlinewidth": 0,
              "ticks": ""
             }
            },
            "type": "parcoords"
           }
          ],
          "pie": [
           {
            "automargin": true,
            "type": "pie"
           }
          ],
          "scatter": [
           {
            "fillpattern": {
             "fillmode": "overlay",
             "size": 10,
             "solidity": 0.2
            },
            "type": "scatter"
           }
          ],
          "scatter3d": [
           {
            "line": {
             "colorbar": {
              "outlinewidth": 0,
              "ticks": ""
             }
            },
            "marker": {
             "colorbar": {
              "outlinewidth": 0,
              "ticks": ""
             }
            },
            "type": "scatter3d"
           }
          ],
          "scattercarpet": [
           {
            "marker": {
             "colorbar": {
              "outlinewidth": 0,
              "ticks": ""
             }
            },
            "type": "scattercarpet"
           }
          ],
          "scattergeo": [
           {
            "marker": {
             "colorbar": {
              "outlinewidth": 0,
              "ticks": ""
             }
            },
            "type": "scattergeo"
           }
          ],
          "scattergl": [
           {
            "marker": {
             "colorbar": {
              "outlinewidth": 0,
              "ticks": ""
             }
            },
            "type": "scattergl"
           }
          ],
          "scattermapbox": [
           {
            "marker": {
             "colorbar": {
              "outlinewidth": 0,
              "ticks": ""
             }
            },
            "type": "scattermapbox"
           }
          ],
          "scatterpolar": [
           {
            "marker": {
             "colorbar": {
              "outlinewidth": 0,
              "ticks": ""
             }
            },
            "type": "scatterpolar"
           }
          ],
          "scatterpolargl": [
           {
            "marker": {
             "colorbar": {
              "outlinewidth": 0,
              "ticks": ""
             }
            },
            "type": "scatterpolargl"
           }
          ],
          "scatterternary": [
           {
            "marker": {
             "colorbar": {
              "outlinewidth": 0,
              "ticks": ""
             }
            },
            "type": "scatterternary"
           }
          ],
          "surface": [
           {
            "colorbar": {
             "outlinewidth": 0,
             "ticks": ""
            },
            "colorscale": [
             [
              0,
              "#0d0887"
             ],
             [
              0.1111111111111111,
              "#46039f"
             ],
             [
              0.2222222222222222,
              "#7201a8"
             ],
             [
              0.3333333333333333,
              "#9c179e"
             ],
             [
              0.4444444444444444,
              "#bd3786"
             ],
             [
              0.5555555555555556,
              "#d8576b"
             ],
             [
              0.6666666666666666,
              "#ed7953"
             ],
             [
              0.7777777777777778,
              "#fb9f3a"
             ],
             [
              0.8888888888888888,
              "#fdca26"
             ],
             [
              1,
              "#f0f921"
             ]
            ],
            "type": "surface"
           }
          ],
          "table": [
           {
            "cells": {
             "fill": {
              "color": "#EBF0F8"
             },
             "line": {
              "color": "white"
             }
            },
            "header": {
             "fill": {
              "color": "#C8D4E3"
             },
             "line": {
              "color": "white"
             }
            },
            "type": "table"
           }
          ]
         },
         "layout": {
          "annotationdefaults": {
           "arrowcolor": "#2a3f5f",
           "arrowhead": 0,
           "arrowwidth": 1
          },
          "autotypenumbers": "strict",
          "coloraxis": {
           "colorbar": {
            "outlinewidth": 0,
            "ticks": ""
           }
          },
          "colorscale": {
           "diverging": [
            [
             0,
             "#8e0152"
            ],
            [
             0.1,
             "#c51b7d"
            ],
            [
             0.2,
             "#de77ae"
            ],
            [
             0.3,
             "#f1b6da"
            ],
            [
             0.4,
             "#fde0ef"
            ],
            [
             0.5,
             "#f7f7f7"
            ],
            [
             0.6,
             "#e6f5d0"
            ],
            [
             0.7,
             "#b8e186"
            ],
            [
             0.8,
             "#7fbc41"
            ],
            [
             0.9,
             "#4d9221"
            ],
            [
             1,
             "#276419"
            ]
           ],
           "sequential": [
            [
             0,
             "#0d0887"
            ],
            [
             0.1111111111111111,
             "#46039f"
            ],
            [
             0.2222222222222222,
             "#7201a8"
            ],
            [
             0.3333333333333333,
             "#9c179e"
            ],
            [
             0.4444444444444444,
             "#bd3786"
            ],
            [
             0.5555555555555556,
             "#d8576b"
            ],
            [
             0.6666666666666666,
             "#ed7953"
            ],
            [
             0.7777777777777778,
             "#fb9f3a"
            ],
            [
             0.8888888888888888,
             "#fdca26"
            ],
            [
             1,
             "#f0f921"
            ]
           ],
           "sequentialminus": [
            [
             0,
             "#0d0887"
            ],
            [
             0.1111111111111111,
             "#46039f"
            ],
            [
             0.2222222222222222,
             "#7201a8"
            ],
            [
             0.3333333333333333,
             "#9c179e"
            ],
            [
             0.4444444444444444,
             "#bd3786"
            ],
            [
             0.5555555555555556,
             "#d8576b"
            ],
            [
             0.6666666666666666,
             "#ed7953"
            ],
            [
             0.7777777777777778,
             "#fb9f3a"
            ],
            [
             0.8888888888888888,
             "#fdca26"
            ],
            [
             1,
             "#f0f921"
            ]
           ]
          },
          "colorway": [
           "#636efa",
           "#EF553B",
           "#00cc96",
           "#ab63fa",
           "#FFA15A",
           "#19d3f3",
           "#FF6692",
           "#B6E880",
           "#FF97FF",
           "#FECB52"
          ],
          "font": {
           "color": "#2a3f5f"
          },
          "geo": {
           "bgcolor": "white",
           "lakecolor": "white",
           "landcolor": "#E5ECF6",
           "showlakes": true,
           "showland": true,
           "subunitcolor": "white"
          },
          "hoverlabel": {
           "align": "left"
          },
          "hovermode": "closest",
          "mapbox": {
           "style": "light"
          },
          "paper_bgcolor": "white",
          "plot_bgcolor": "#E5ECF6",
          "polar": {
           "angularaxis": {
            "gridcolor": "white",
            "linecolor": "white",
            "ticks": ""
           },
           "bgcolor": "#E5ECF6",
           "radialaxis": {
            "gridcolor": "white",
            "linecolor": "white",
            "ticks": ""
           }
          },
          "scene": {
           "xaxis": {
            "backgroundcolor": "#E5ECF6",
            "gridcolor": "white",
            "gridwidth": 2,
            "linecolor": "white",
            "showbackground": true,
            "ticks": "",
            "zerolinecolor": "white"
           },
           "yaxis": {
            "backgroundcolor": "#E5ECF6",
            "gridcolor": "white",
            "gridwidth": 2,
            "linecolor": "white",
            "showbackground": true,
            "ticks": "",
            "zerolinecolor": "white"
           },
           "zaxis": {
            "backgroundcolor": "#E5ECF6",
            "gridcolor": "white",
            "gridwidth": 2,
            "linecolor": "white",
            "showbackground": true,
            "ticks": "",
            "zerolinecolor": "white"
           }
          },
          "shapedefaults": {
           "line": {
            "color": "#2a3f5f"
           }
          },
          "ternary": {
           "aaxis": {
            "gridcolor": "white",
            "linecolor": "white",
            "ticks": ""
           },
           "baxis": {
            "gridcolor": "white",
            "linecolor": "white",
            "ticks": ""
           },
           "bgcolor": "#E5ECF6",
           "caxis": {
            "gridcolor": "white",
            "linecolor": "white",
            "ticks": ""
           }
          },
          "title": {
           "x": 0.05
          },
          "xaxis": {
           "automargin": true,
           "gridcolor": "white",
           "linecolor": "white",
           "ticks": "",
           "title": {
            "standoff": 15
           },
           "zerolinecolor": "white",
           "zerolinewidth": 2
          },
          "yaxis": {
           "automargin": true,
           "gridcolor": "white",
           "linecolor": "white",
           "ticks": "",
           "title": {
            "standoff": 15
           },
           "zerolinecolor": "white",
           "zerolinewidth": 2
          }
         }
        },
        "xaxis": {
         "anchor": "y",
         "domain": [
          0,
          0.94
         ]
        },
        "yaxis": {
         "anchor": "x",
         "domain": [
          0,
          1
         ]
        },
        "yaxis2": {
         "anchor": "x",
         "overlaying": "y",
         "side": "right"
        }
       }
      },
      "text/html": [
       "<div>                            <div id=\"c06cde85-8796-43bb-b69b-2162b501b6d5\" class=\"plotly-graph-div\" style=\"height:525px; width:100%;\"></div>            <script type=\"text/javascript\">                require([\"plotly\"], function(Plotly) {                    window.PLOTLYENV=window.PLOTLYENV || {};                                    if (document.getElementById(\"c06cde85-8796-43bb-b69b-2162b501b6d5\")) {                    Plotly.newPlot(                        \"c06cde85-8796-43bb-b69b-2162b501b6d5\",                        [{\"hovertemplate\":\"date=%{x}<br>Mean=%{y}<extra></extra>\",\"legendgroup\":\"\",\"line\":{\"dash\":\"solid\"},\"marker\":{\"symbol\":\"circle\"},\"mode\":\"lines\",\"name\":\"\",\"orientation\":\"v\",\"showlegend\":false,\"x\":[\"2022-01-05\",\"2022-01-06\",\"2022-01-07\",\"2022-01-08\",\"2022-01-09\",\"2022-01-10\",\"2022-01-11\",\"2022-01-12\",\"2022-01-16\",\"2022-01-17\",\"2022-01-18\",\"2022-01-19\",\"2022-01-20\",\"2022-01-21\",\"2022-01-22\",\"2022-01-23\",\"2022-01-24\",\"2022-01-25\",\"2022-01-26\",\"2022-01-27\",\"2022-01-28\",\"2022-01-29\",\"2022-01-30\",\"2022-01-31\",\"2022-02-01\",\"2022-02-02\",\"2022-02-03\",\"2022-02-04\",\"2022-02-05\",\"2022-02-06\",\"2022-02-07\",\"2022-02-08\",\"2022-02-09\",\"2022-02-10\",\"2022-02-11\",\"2022-02-12\",\"2022-02-13\",\"2022-02-14\",\"2022-02-15\",\"2022-02-16\",\"2022-02-17\",\"2022-02-18\",\"2022-02-19\",\"2022-02-20\",\"2022-02-21\",\"2022-02-22\",\"2022-02-23\",\"2022-02-24\",\"2022-02-25\",\"2022-02-26\",\"2022-02-27\",\"2022-02-28\",\"2022-03-01\",\"2022-03-02\",\"2022-03-03\",\"2022-03-04\",\"2022-03-05\",\"2022-03-06\",\"2022-03-07\",\"2022-03-08\",\"2022-03-09\",\"2022-03-10\",\"2022-03-11\",\"2022-03-12\",\"2022-03-13\",\"2022-03-14\",\"2022-03-15\",\"2022-03-16\",\"2022-03-17\",\"2022-03-18\",\"2022-03-19\",\"2022-03-20\",\"2022-03-21\",\"2022-03-22\",\"2022-03-23\",\"2022-03-24\",\"2022-03-25\",\"2022-03-26\",\"2022-03-27\",\"2022-03-28\",\"2022-03-29\",\"2022-03-30\",\"2022-03-31\",\"2022-04-01\",\"2022-04-02\",\"2022-04-05\",\"2022-04-06\",\"2022-04-07\",\"2022-04-08\",\"2022-04-09\",\"2022-04-10\",\"2022-04-11\",\"2022-04-12\",\"2022-04-13\",\"2022-04-14\",\"2022-04-15\",\"2022-04-16\",\"2022-04-17\",\"2022-04-18\",\"2022-04-19\",\"2022-04-20\",\"2022-04-21\",\"2022-04-22\",\"2022-04-23\",\"2022-04-24\",\"2022-04-25\",\"2022-04-26\",\"2022-04-27\",\"2022-04-28\",\"2022-04-29\",\"2022-04-30\",\"2022-05-01\",\"2022-05-02\",\"2022-05-03\",\"2022-05-04\",\"2022-05-05\",\"2022-05-06\",\"2022-05-07\",\"2022-05-08\",\"2022-05-09\",\"2022-05-10\",\"2022-05-11\",\"2022-05-12\",\"2022-05-13\",\"2022-05-14\",\"2022-05-15\",\"2022-05-16\",\"2022-05-17\",\"2022-05-18\",\"2022-05-19\",\"2022-05-20\",\"2022-05-21\",\"2022-05-22\",\"2022-05-23\",\"2022-05-24\",\"2022-05-26\",\"2022-05-27\",\"2022-05-28\",\"2022-05-29\",\"2022-05-30\",\"2022-05-31\",\"2022-06-01\",\"2022-06-02\",\"2022-06-03\",\"2022-06-04\",\"2022-06-05\",\"2022-06-06\",\"2022-06-07\",\"2022-06-08\",\"2022-06-09\",\"2022-06-10\",\"2022-06-11\",\"2022-06-12\",\"2022-06-13\",\"2022-06-14\",\"2022-06-15\",\"2022-06-16\",\"2022-06-17\",\"2022-06-18\",\"2022-06-19\",\"2022-06-20\",\"2022-06-21\",\"2022-06-22\",\"2022-06-23\",\"2022-06-24\",\"2022-06-25\",\"2022-06-26\",\"2022-06-27\",\"2022-06-28\",\"2022-06-29\",\"2022-07-02\",\"2022-07-03\",\"2022-07-04\",\"2022-07-05\",\"2022-07-06\",\"2022-07-07\",\"2022-07-08\",\"2022-07-09\",\"2022-07-10\",\"2022-07-11\",\"2022-07-12\",\"2022-07-13\",\"2022-07-14\",\"2022-07-15\",\"2022-07-16\",\"2022-07-17\",\"2022-07-18\",\"2022-07-19\",\"2022-07-20\",\"2022-07-21\",\"2022-07-22\",\"2022-07-23\",\"2022-07-24\",\"2022-07-25\",\"2022-07-26\",\"2022-07-27\",\"2022-07-28\",\"2022-07-29\",\"2022-07-30\",\"2022-07-31\",\"2022-08-01\",\"2022-08-02\",\"2022-08-03\",\"2022-08-04\",\"2022-08-05\",\"2022-08-06\",\"2022-08-07\",\"2022-08-08\",\"2022-08-09\",\"2022-08-10\",\"2022-08-11\",\"2022-08-12\",\"2022-08-13\",\"2022-08-14\",\"2022-08-15\",\"2022-08-16\",\"2022-08-17\",\"2022-08-18\",\"2022-08-19\",\"2022-08-20\",\"2022-08-21\",\"2022-08-22\",\"2022-08-23\",\"2022-08-24\",\"2022-08-25\",\"2022-08-26\",\"2022-08-27\",\"2022-08-28\",\"2022-08-29\",\"2022-08-30\",\"2022-08-31\",\"2022-09-01\",\"2022-09-02\",\"2022-09-03\",\"2022-09-04\",\"2022-09-05\",\"2022-09-06\",\"2022-09-07\",\"2022-09-08\",\"2022-09-09\",\"2022-09-10\",\"2022-09-11\",\"2022-09-12\",\"2022-09-13\",\"2022-09-14\",\"2022-09-16\"],\"xaxis\":\"x\",\"y\":[16300560.396325707,17658648.89806571,17347162.93101469,16975064.4272259,16797785.791917797,16806788.914961446,16811833.251713973,16734018.396816732,17112088.201657716,17011946.553369317,16970497.972453773,16652439.489730489,14965479.43222849,13323793.673679637,12873959.016227724,11303651.720090585,11007467.34700925,10871655.621807251,12159820.822644686,13505607.403390111,13681356.340413606,14936296.611906191,14923038.910625257,12589322.572192566,12568194.290519638,12656150.217581045,12895523.888825014,13174352.579157157,14758873.283617333,14966112.54168266,13981120.739769287,14329206.281212503,12998453.810260974,13035101.46742987,12935524.996210158,14282421.110996926,14269045.839103565,14234745.430921003,13983623.878515448,12451147.474175066,15269480.34958822,15144035.258112026,13602820.084048048,11961488.017577806,11692883.442188185,10520623.18598848,10597508.98837556,12302652.732426368,12055658.914270565,13312310.455994308,13302684.301300997,15072063.977543931,16640913.820278505,16726833.162031168,15359834.212318948,14337334.69371573,13968809.536106026,13561663.795575554,13355494.93965335,11993273.990426429,12099160.81741657,12943501.406253258,12695278.590656549,12590908.615391329,12418870.720681133,12292307.862216016,13682690.17967298,12526529.102193069,12882839.583889768,11436021.607194657,11324391.68407502,12674892.310120234,11270116.114267657,12775937.96738934,11589932.293703048,13442791.025573203,13942925.906535745,12722266.4979224,14600266.085370503,14866187.212059,14936133.6515846,13608250.734281491,12280254.842698582,14027934.698614923,13825044.782824928,9370691.80449831,9533048.390190354,9701736.487279251,8516841.090446098,9443838.824822633,9364852.622400708,10675149.238137288,11864137.72101284,11742429.723710775,12885260.082449311,11467406.715709897,12690455.363681272,11144443.841934573,9815462.194832023,9820668.402080366,9694690.695536984,9815317.107529247,9585090.849358326,9490934.549195984,10580321.827864258,10357739.355840078,9904135.934160378,9669618.420316638,13644156.129957588,13356814.415303038,11853810.286388464,11775592.976694366,11590485.543108916,11612288.84540094,12868801.298505137,13053035.151801929,14110520.33822723,13778267.472966751,12530386.508751629,12021290.84041947,11497172.066507123,11118384.805893648,10012741.049433025,8903535.797767593,9879758.226772675,8878044.28833642,8912295.660614314,8893381.490528656,8745347.529548453,9631829.455022588,9253797.523018852,10113809.633346066,8627578.21810162,8436459.608976576,8431611.204082683,9263388.742297878,9200360.676142124,8049840.762693316,7924927.841125282,7868657.633253898,7230972.840943344,6065311.089454257,9510080.885098493,10311356.508528523,10188843.301089196,9230875.838806592,10421951.542127308,9410805.585428568,9295633.88340653,8287272.486073527,7205341.804875426,7007599.814036851,6448621.827739158,6996861.265276186,6653012.160243738,7241345.740182835,7813596.111569532,7643831.547008324,7531588.959285109,7505410.359529986,7423733.098475824,6722836.719293342,6849695.54328337,6908397.18765669,6799747.286928598,5966884.493104179,5897396.60152033,6545954.712858573,6358798.550920685,6316020.342904109,5492587.888628663,6037932.844157421,6507796.793347505,6309120.805134576,5657328.519440842,6476220.235650866,6414659.974277817,6216635.331815537,6170705.76427205,6847120.495130398,7568256.8942576,6839261.199889245,6985216.111671757,7127510.381407448,7193205.759368735,6399743.077854154,5758539.531994228,6621291.371501154,6804726.057510258,6060577.235854323,5243187.541894077,5147318.963220172,5064263.508210289,4858667.85518512,3909371.044759281,4096096.090724261,4204594.980261365,4307863.510326613,5003951.526183036,4228045.443139293,4333588.643109683,5018962.503638574,5804053.423344479,5895996.5152875,5037398.072898928,5004869.981366244,4880399.674905674,3947814.281643769,3948862.58109716,4797672.732006527,4884605.922182759,5715605.453048547,6451408.939340082,7364789.98125288,7339247.45884328,6379593.836309846,6259926.059650292,6100968.986072023,5275627.779843024,5031561.367078741,4892291.1739766905,5546647.476200526,5516003.131957986,5482295.180712657,5456852.680862268,4775999.74259103,3957207.108413973,3931561.776743367,4698801.634696487,4061940.882940602,4708582.741603273,5294455.559226955,5380768.831610278,5275279.474289083,4521161.304549058,4425189.697850819,3752298.765401428,3150115.6873833905,3837971.635240448,3236858.334502481,3272351.204580219,3426944.4127864144,4117827.867354317,4050300.34362331,3335873.889345976,3912334.868152091],\"yaxis\":\"y\",\"type\":\"scatter\"},{\"hovertemplate\":\"date=%{x}<br>similarity=%{y}<extra></extra>\",\"legendgroup\":\"\",\"line\":{\"dash\":\"solid\"},\"marker\":{\"symbol\":\"circle\"},\"mode\":\"lines\",\"name\":\"\",\"orientation\":\"v\",\"showlegend\":false,\"x\":[\"2022-01-05\",\"2022-01-06\",\"2022-01-07\",\"2022-01-08\",\"2022-01-09\",\"2022-01-10\",\"2022-01-11\",\"2022-01-12\",\"2022-01-16\",\"2022-01-17\",\"2022-01-18\",\"2022-01-19\",\"2022-01-20\",\"2022-01-21\",\"2022-01-22\",\"2022-01-23\",\"2022-01-24\",\"2022-01-25\",\"2022-01-26\",\"2022-01-27\",\"2022-01-28\",\"2022-01-29\",\"2022-01-30\",\"2022-01-31\",\"2022-02-01\",\"2022-02-02\",\"2022-02-03\",\"2022-02-04\",\"2022-02-05\",\"2022-02-06\",\"2022-02-07\",\"2022-02-08\",\"2022-02-09\",\"2022-02-10\",\"2022-02-11\",\"2022-02-12\",\"2022-02-13\",\"2022-02-14\",\"2022-02-15\",\"2022-02-16\",\"2022-02-17\",\"2022-02-18\",\"2022-02-19\",\"2022-02-20\",\"2022-02-21\",\"2022-02-22\",\"2022-02-23\",\"2022-02-24\",\"2022-02-25\",\"2022-02-26\",\"2022-02-27\",\"2022-02-28\",\"2022-03-01\",\"2022-03-02\",\"2022-03-03\",\"2022-03-04\",\"2022-03-05\",\"2022-03-06\",\"2022-03-07\",\"2022-03-08\",\"2022-03-09\",\"2022-03-10\",\"2022-03-11\",\"2022-03-12\",\"2022-03-13\",\"2022-03-14\",\"2022-03-15\",\"2022-03-16\",\"2022-03-17\",\"2022-03-18\",\"2022-03-19\",\"2022-03-20\",\"2022-03-21\",\"2022-03-22\",\"2022-03-23\",\"2022-03-24\",\"2022-03-25\",\"2022-03-26\",\"2022-03-27\",\"2022-03-28\",\"2022-03-29\",\"2022-03-30\",\"2022-03-31\",\"2022-04-01\",\"2022-04-02\",\"2022-04-05\",\"2022-04-06\",\"2022-04-07\",\"2022-04-08\",\"2022-04-09\",\"2022-04-10\",\"2022-04-11\",\"2022-04-12\",\"2022-04-13\",\"2022-04-14\",\"2022-04-15\",\"2022-04-16\",\"2022-04-17\",\"2022-04-18\",\"2022-04-19\",\"2022-04-20\",\"2022-04-21\",\"2022-04-22\",\"2022-04-23\",\"2022-04-24\",\"2022-04-25\",\"2022-04-26\",\"2022-04-27\",\"2022-04-28\",\"2022-04-29\",\"2022-04-30\",\"2022-05-01\",\"2022-05-02\",\"2022-05-03\",\"2022-05-04\",\"2022-05-05\",\"2022-05-06\",\"2022-05-07\",\"2022-05-08\",\"2022-05-09\",\"2022-05-10\",\"2022-05-11\",\"2022-05-12\",\"2022-05-13\",\"2022-05-14\",\"2022-05-15\",\"2022-05-16\",\"2022-05-17\",\"2022-05-18\",\"2022-05-19\",\"2022-05-20\",\"2022-05-21\",\"2022-05-22\",\"2022-05-23\",\"2022-05-24\",\"2022-05-26\",\"2022-05-27\",\"2022-05-28\",\"2022-05-29\",\"2022-05-30\",\"2022-05-31\",\"2022-06-01\",\"2022-06-02\",\"2022-06-03\",\"2022-06-04\",\"2022-06-05\",\"2022-06-06\",\"2022-06-07\",\"2022-06-08\",\"2022-06-09\",\"2022-06-10\",\"2022-06-11\",\"2022-06-12\",\"2022-06-13\",\"2022-06-14\",\"2022-06-15\",\"2022-06-16\",\"2022-06-17\",\"2022-06-18\",\"2022-06-19\",\"2022-06-20\",\"2022-06-21\",\"2022-06-22\",\"2022-06-23\",\"2022-06-24\",\"2022-06-25\",\"2022-06-26\",\"2022-06-27\",\"2022-06-28\",\"2022-06-29\",\"2022-07-02\",\"2022-07-03\",\"2022-07-04\",\"2022-07-05\",\"2022-07-06\",\"2022-07-07\",\"2022-07-08\",\"2022-07-09\",\"2022-07-10\",\"2022-07-11\",\"2022-07-12\",\"2022-07-13\",\"2022-07-14\",\"2022-07-15\",\"2022-07-16\",\"2022-07-17\",\"2022-07-18\",\"2022-07-19\",\"2022-07-20\",\"2022-07-21\",\"2022-07-22\",\"2022-07-23\",\"2022-07-24\",\"2022-07-25\",\"2022-07-26\",\"2022-07-27\",\"2022-07-28\",\"2022-07-29\",\"2022-07-30\",\"2022-07-31\",\"2022-08-01\",\"2022-08-02\",\"2022-08-03\",\"2022-08-04\",\"2022-08-05\",\"2022-08-06\",\"2022-08-07\",\"2022-08-08\",\"2022-08-09\",\"2022-08-10\",\"2022-08-11\",\"2022-08-12\",\"2022-08-13\",\"2022-08-14\",\"2022-08-15\",\"2022-08-16\",\"2022-08-17\",\"2022-08-18\",\"2022-08-19\",\"2022-08-20\",\"2022-08-21\",\"2022-08-22\",\"2022-08-23\",\"2022-08-24\",\"2022-08-25\",\"2022-08-26\",\"2022-08-27\",\"2022-08-28\",\"2022-08-29\",\"2022-08-30\",\"2022-08-31\",\"2022-09-01\",\"2022-09-02\",\"2022-09-03\",\"2022-09-04\",\"2022-09-05\",\"2022-09-06\",\"2022-09-07\",\"2022-09-08\",\"2022-09-09\",\"2022-09-10\",\"2022-09-11\",\"2022-09-12\",\"2022-09-13\",\"2022-09-14\",\"2022-09-16\"],\"xaxis\":\"x\",\"y\":[2.279948569116892,2.8170590107523577,2.736492444507037,2.8976255769976773,3.1393252757336363,2.548503789934625,2.3873706574439857,2.306804091198666,1.4533689798219995,1.047574376349362,1.047574376349362,0.4794619314876699,0.2359851694040876,-0.16980943406855,-0.0480710530267588,-0.129229973721286,0.5200413918349331,0.9258359953075708,1.088153836696626,0.8852565349603068,0.6012003125294612,1.3722100591274715,0.5200413918349331,0.403092647354807,0.2247808864605898,0.5219671546176181,0.7002789155118353,0.7597161691432415,1.5918377199829217,1.5324004663515165,0.6408416618804303,0.7002789155118353,0.284218140091996,0.2247808864605898,-0.1912798889592508,0.8785906764060525,1.175776944563082,1.4135259590887042,1.3540887054572992,0.7002789155118353,1.796549171644974,1.4205718625001482,0.8834614208646833,0.7223282883740437,0.507484111719858,-0.1370484182427001,-0.2444705065697933,0.403092647354807,-0.7262151716419025,0.403092647354807,0.284218140091996,0.9380279300374588,1.2352141981944869,2.007898495402762,1.5918377199829217,0.6408416618804303,0.284218140091996,0.3436553937234008,-0.369591649853468,-1.3205877079559596,-1.201713200693148,-1.0234014397989308,-0.4290289034848729,-0.2507171425906557,0.8785906764060525,0.5219671546176181,0.403092647354807,-0.4884661571162791,-0.369591649853468,-1.4988994688501769,-1.9149602442700169,-0.6667779180104964,-0.7262151716419025,-0.1318426353278446,-1.4394622152187708,-0.2507171425906557,-0.7262151716419025,-2.033834751532829,-0.7856524252733074,-0.7856524252733074,-0.6667779180104964,-1.8555229906386117,-1.9149602442700169,-0.6667779180104964,-0.6073406643790902,-0.5130257273875258,-0.432459161142206,-0.6204478157146189,-0.9964251248594445,-0.4056036390604328,-0.1370484182427001,0.1583623246568054,0.2120733688203517,0.2926399350656715,0.8834614208646833,0.2657844129838986,0.5880506779651776,0.1852178467385788,-0.2713260286515668,-0.3787481169786594,-0.7278699040417119,-0.6204478157146189,-0.9158585586141246,-1.050136169022991,-0.432459161142206,-0.4861702053057526,-0.0564818519973803,-0.0564818519973803,-0.3321272754576053,-0.9813986410138243,-1.427772704833726,-0.9813986410138243,-1.387193244486462,-1.0219781013610885,-0.4538656564993965,0.0330878676677683,0.7635181539185155,0.8446770746130436,0.1142467883622963,0.0330878676677683,0.0736673280150323,0.0736673280150323,-0.4538656564993965,-1.346613784139198,-0.5350245771939236,-0.9002397203192972,-0.7785013392775061,-0.8190807996247701,-0.7785013392775061,0.0736673280150323,0.4269175454745381,1.4205718625001482,0.8297503767011369,0.9103169429464568,0.641761722128724,1.1251611196006426,0.7223282883740437,-0.2176149844880199,-0.2176149844880199,-0.3787481169786594,-0.2981815507333397,-0.754725426123485,-0.129229973721286,0.3983030107931419,0.2359851694040876,-0.3727067358048684,0.2359851694040876,-0.6567629582357148,-0.6567629582357148,-1.6306700065700446,-2.2393619117790005,-2.158202991084473,-1.7929878479590993,-0.3727067358048684,0.2359851694040876,1.1287332970438892,1.8997430436419005,2.346117107461801,2.346117107461801,1.696845741905582,1.2910511384329444,0.4794619314876699,0.6012003125294612,0.0330878676677683,-0.4538656564993965,-1.0625575617083525,-0.8596602599720332,-0.129229973721286,-0.129229973721286,0.0736673280150323,-0.4056036390604328,0.319495457147445,0.8028948546193635,0.8566058987829098,0.4000620233927647,0.641761722128724,0.2657844129838986,-0.1639039403244735,0.131506802575032,0.641761722128724,0.9103169429464568,0.6686172442104974,0.7223282883740437,1.259438730009509,0.964027987110003,0.3732065013109912,0.1046512804932591,0.3732065013109912,0.319495457147445,-0.5130257273875258,-0.942714080695898,-0.942714080695898,-0.9695696027776712,-0.9964251248594445,-1.1575582573500838,-1.1307027352683108,-1.2381248235954037,-1.1575582573500838,-0.8890030365323515,-1.3455469119224968,-1.5066800444131363,-0.8621475144505782,-0.1639039403244735,-0.1101928961609272,-0.4593146832239794,-0.3787481169786594,-0.4861702053057526,-1.050136169022991,-1.1307027352683108,-0.3787481169786594,-0.4861702053057526,-0.2713260286515668,0.2120733688203517,0.507484111719858,0.4000620233927647,-0.432459161142206,-0.4056036390604328,-0.2176149844880199,-0.7278699040417119,-0.5398812494692993,-0.4056036390604328,0.1852178467385788,0.2120733688203517,0.1852178467385788,0.453773067556311,-0.1101928961609272,-0.8352919923688048,-1.1575582573500838,-0.3518925948968865,-0.432459161142206,-0.0564818519973803,0.507484111719858,0.641761722128724,0.507484111719858,-0.2981815507333397,-0.7278699040417119,-0.9158585586141246,-1.5066800444131363,-1.2381248235954037,-1.3455469119224968,-1.264980345677177,-1.1575582573500838,-1.2112693015136304,-1.318691389840723,-1.5335355664949095,-0.9964251248594445],\"yaxis\":\"y2\",\"type\":\"scatter\"}],                        {\"template\":{\"data\":{\"histogram2dcontour\":[{\"type\":\"histogram2dcontour\",\"colorbar\":{\"outlinewidth\":0,\"ticks\":\"\"},\"colorscale\":[[0.0,\"#0d0887\"],[0.1111111111111111,\"#46039f\"],[0.2222222222222222,\"#7201a8\"],[0.3333333333333333,\"#9c179e\"],[0.4444444444444444,\"#bd3786\"],[0.5555555555555556,\"#d8576b\"],[0.6666666666666666,\"#ed7953\"],[0.7777777777777778,\"#fb9f3a\"],[0.8888888888888888,\"#fdca26\"],[1.0,\"#f0f921\"]]}],\"choropleth\":[{\"type\":\"choropleth\",\"colorbar\":{\"outlinewidth\":0,\"ticks\":\"\"}}],\"histogram2d\":[{\"type\":\"histogram2d\",\"colorbar\":{\"outlinewidth\":0,\"ticks\":\"\"},\"colorscale\":[[0.0,\"#0d0887\"],[0.1111111111111111,\"#46039f\"],[0.2222222222222222,\"#7201a8\"],[0.3333333333333333,\"#9c179e\"],[0.4444444444444444,\"#bd3786\"],[0.5555555555555556,\"#d8576b\"],[0.6666666666666666,\"#ed7953\"],[0.7777777777777778,\"#fb9f3a\"],[0.8888888888888888,\"#fdca26\"],[1.0,\"#f0f921\"]]}],\"heatmap\":[{\"type\":\"heatmap\",\"colorbar\":{\"outlinewidth\":0,\"ticks\":\"\"},\"colorscale\":[[0.0,\"#0d0887\"],[0.1111111111111111,\"#46039f\"],[0.2222222222222222,\"#7201a8\"],[0.3333333333333333,\"#9c179e\"],[0.4444444444444444,\"#bd3786\"],[0.5555555555555556,\"#d8576b\"],[0.6666666666666666,\"#ed7953\"],[0.7777777777777778,\"#fb9f3a\"],[0.8888888888888888,\"#fdca26\"],[1.0,\"#f0f921\"]]}],\"heatmapgl\":[{\"type\":\"heatmapgl\",\"colorbar\":{\"outlinewidth\":0,\"ticks\":\"\"},\"colorscale\":[[0.0,\"#0d0887\"],[0.1111111111111111,\"#46039f\"],[0.2222222222222222,\"#7201a8\"],[0.3333333333333333,\"#9c179e\"],[0.4444444444444444,\"#bd3786\"],[0.5555555555555556,\"#d8576b\"],[0.6666666666666666,\"#ed7953\"],[0.7777777777777778,\"#fb9f3a\"],[0.8888888888888888,\"#fdca26\"],[1.0,\"#f0f921\"]]}],\"contourcarpet\":[{\"type\":\"contourcarpet\",\"colorbar\":{\"outlinewidth\":0,\"ticks\":\"\"}}],\"contour\":[{\"type\":\"contour\",\"colorbar\":{\"outlinewidth\":0,\"ticks\":\"\"},\"colorscale\":[[0.0,\"#0d0887\"],[0.1111111111111111,\"#46039f\"],[0.2222222222222222,\"#7201a8\"],[0.3333333333333333,\"#9c179e\"],[0.4444444444444444,\"#bd3786\"],[0.5555555555555556,\"#d8576b\"],[0.6666666666666666,\"#ed7953\"],[0.7777777777777778,\"#fb9f3a\"],[0.8888888888888888,\"#fdca26\"],[1.0,\"#f0f921\"]]}],\"surface\":[{\"type\":\"surface\",\"colorbar\":{\"outlinewidth\":0,\"ticks\":\"\"},\"colorscale\":[[0.0,\"#0d0887\"],[0.1111111111111111,\"#46039f\"],[0.2222222222222222,\"#7201a8\"],[0.3333333333333333,\"#9c179e\"],[0.4444444444444444,\"#bd3786\"],[0.5555555555555556,\"#d8576b\"],[0.6666666666666666,\"#ed7953\"],[0.7777777777777778,\"#fb9f3a\"],[0.8888888888888888,\"#fdca26\"],[1.0,\"#f0f921\"]]}],\"mesh3d\":[{\"type\":\"mesh3d\",\"colorbar\":{\"outlinewidth\":0,\"ticks\":\"\"}}],\"scatter\":[{\"fillpattern\":{\"fillmode\":\"overlay\",\"size\":10,\"solidity\":0.2},\"type\":\"scatter\"}],\"parcoords\":[{\"type\":\"parcoords\",\"line\":{\"colorbar\":{\"outlinewidth\":0,\"ticks\":\"\"}}}],\"scatterpolargl\":[{\"type\":\"scatterpolargl\",\"marker\":{\"colorbar\":{\"outlinewidth\":0,\"ticks\":\"\"}}}],\"bar\":[{\"error_x\":{\"color\":\"#2a3f5f\"},\"error_y\":{\"color\":\"#2a3f5f\"},\"marker\":{\"line\":{\"color\":\"#E5ECF6\",\"width\":0.5},\"pattern\":{\"fillmode\":\"overlay\",\"size\":10,\"solidity\":0.2}},\"type\":\"bar\"}],\"scattergeo\":[{\"type\":\"scattergeo\",\"marker\":{\"colorbar\":{\"outlinewidth\":0,\"ticks\":\"\"}}}],\"scatterpolar\":[{\"type\":\"scatterpolar\",\"marker\":{\"colorbar\":{\"outlinewidth\":0,\"ticks\":\"\"}}}],\"histogram\":[{\"marker\":{\"pattern\":{\"fillmode\":\"overlay\",\"size\":10,\"solidity\":0.2}},\"type\":\"histogram\"}],\"scattergl\":[{\"type\":\"scattergl\",\"marker\":{\"colorbar\":{\"outlinewidth\":0,\"ticks\":\"\"}}}],\"scatter3d\":[{\"type\":\"scatter3d\",\"line\":{\"colorbar\":{\"outlinewidth\":0,\"ticks\":\"\"}},\"marker\":{\"colorbar\":{\"outlinewidth\":0,\"ticks\":\"\"}}}],\"scattermapbox\":[{\"type\":\"scattermapbox\",\"marker\":{\"colorbar\":{\"outlinewidth\":0,\"ticks\":\"\"}}}],\"scatterternary\":[{\"type\":\"scatterternary\",\"marker\":{\"colorbar\":{\"outlinewidth\":0,\"ticks\":\"\"}}}],\"scattercarpet\":[{\"type\":\"scattercarpet\",\"marker\":{\"colorbar\":{\"outlinewidth\":0,\"ticks\":\"\"}}}],\"carpet\":[{\"aaxis\":{\"endlinecolor\":\"#2a3f5f\",\"gridcolor\":\"white\",\"linecolor\":\"white\",\"minorgridcolor\":\"white\",\"startlinecolor\":\"#2a3f5f\"},\"baxis\":{\"endlinecolor\":\"#2a3f5f\",\"gridcolor\":\"white\",\"linecolor\":\"white\",\"minorgridcolor\":\"white\",\"startlinecolor\":\"#2a3f5f\"},\"type\":\"carpet\"}],\"table\":[{\"cells\":{\"fill\":{\"color\":\"#EBF0F8\"},\"line\":{\"color\":\"white\"}},\"header\":{\"fill\":{\"color\":\"#C8D4E3\"},\"line\":{\"color\":\"white\"}},\"type\":\"table\"}],\"barpolar\":[{\"marker\":{\"line\":{\"color\":\"#E5ECF6\",\"width\":0.5},\"pattern\":{\"fillmode\":\"overlay\",\"size\":10,\"solidity\":0.2}},\"type\":\"barpolar\"}],\"pie\":[{\"automargin\":true,\"type\":\"pie\"}]},\"layout\":{\"autotypenumbers\":\"strict\",\"colorway\":[\"#636efa\",\"#EF553B\",\"#00cc96\",\"#ab63fa\",\"#FFA15A\",\"#19d3f3\",\"#FF6692\",\"#B6E880\",\"#FF97FF\",\"#FECB52\"],\"font\":{\"color\":\"#2a3f5f\"},\"hovermode\":\"closest\",\"hoverlabel\":{\"align\":\"left\"},\"paper_bgcolor\":\"white\",\"plot_bgcolor\":\"#E5ECF6\",\"polar\":{\"bgcolor\":\"#E5ECF6\",\"angularaxis\":{\"gridcolor\":\"white\",\"linecolor\":\"white\",\"ticks\":\"\"},\"radialaxis\":{\"gridcolor\":\"white\",\"linecolor\":\"white\",\"ticks\":\"\"}},\"ternary\":{\"bgcolor\":\"#E5ECF6\",\"aaxis\":{\"gridcolor\":\"white\",\"linecolor\":\"white\",\"ticks\":\"\"},\"baxis\":{\"gridcolor\":\"white\",\"linecolor\":\"white\",\"ticks\":\"\"},\"caxis\":{\"gridcolor\":\"white\",\"linecolor\":\"white\",\"ticks\":\"\"}},\"coloraxis\":{\"colorbar\":{\"outlinewidth\":0,\"ticks\":\"\"}},\"colorscale\":{\"sequential\":[[0.0,\"#0d0887\"],[0.1111111111111111,\"#46039f\"],[0.2222222222222222,\"#7201a8\"],[0.3333333333333333,\"#9c179e\"],[0.4444444444444444,\"#bd3786\"],[0.5555555555555556,\"#d8576b\"],[0.6666666666666666,\"#ed7953\"],[0.7777777777777778,\"#fb9f3a\"],[0.8888888888888888,\"#fdca26\"],[1.0,\"#f0f921\"]],\"sequentialminus\":[[0.0,\"#0d0887\"],[0.1111111111111111,\"#46039f\"],[0.2222222222222222,\"#7201a8\"],[0.3333333333333333,\"#9c179e\"],[0.4444444444444444,\"#bd3786\"],[0.5555555555555556,\"#d8576b\"],[0.6666666666666666,\"#ed7953\"],[0.7777777777777778,\"#fb9f3a\"],[0.8888888888888888,\"#fdca26\"],[1.0,\"#f0f921\"]],\"diverging\":[[0,\"#8e0152\"],[0.1,\"#c51b7d\"],[0.2,\"#de77ae\"],[0.3,\"#f1b6da\"],[0.4,\"#fde0ef\"],[0.5,\"#f7f7f7\"],[0.6,\"#e6f5d0\"],[0.7,\"#b8e186\"],[0.8,\"#7fbc41\"],[0.9,\"#4d9221\"],[1,\"#276419\"]]},\"xaxis\":{\"gridcolor\":\"white\",\"linecolor\":\"white\",\"ticks\":\"\",\"title\":{\"standoff\":15},\"zerolinecolor\":\"white\",\"automargin\":true,\"zerolinewidth\":2},\"yaxis\":{\"gridcolor\":\"white\",\"linecolor\":\"white\",\"ticks\":\"\",\"title\":{\"standoff\":15},\"zerolinecolor\":\"white\",\"automargin\":true,\"zerolinewidth\":2},\"scene\":{\"xaxis\":{\"backgroundcolor\":\"#E5ECF6\",\"gridcolor\":\"white\",\"linecolor\":\"white\",\"showbackground\":true,\"ticks\":\"\",\"zerolinecolor\":\"white\",\"gridwidth\":2},\"yaxis\":{\"backgroundcolor\":\"#E5ECF6\",\"gridcolor\":\"white\",\"linecolor\":\"white\",\"showbackground\":true,\"ticks\":\"\",\"zerolinecolor\":\"white\",\"gridwidth\":2},\"zaxis\":{\"backgroundcolor\":\"#E5ECF6\",\"gridcolor\":\"white\",\"linecolor\":\"white\",\"showbackground\":true,\"ticks\":\"\",\"zerolinecolor\":\"white\",\"gridwidth\":2}},\"shapedefaults\":{\"line\":{\"color\":\"#2a3f5f\"}},\"annotationdefaults\":{\"arrowcolor\":\"#2a3f5f\",\"arrowhead\":0,\"arrowwidth\":1},\"geo\":{\"bgcolor\":\"white\",\"landcolor\":\"#E5ECF6\",\"subunitcolor\":\"white\",\"showland\":true,\"showlakes\":true,\"lakecolor\":\"white\"},\"title\":{\"x\":0.05},\"mapbox\":{\"style\":\"light\"}}},\"xaxis\":{\"anchor\":\"y\",\"domain\":[0.0,0.94]},\"yaxis\":{\"anchor\":\"x\",\"domain\":[0.0,1.0]},\"yaxis2\":{\"anchor\":\"x\",\"overlaying\":\"y\",\"side\":\"right\"}},                        {\"responsive\": true}                    ).then(function(){\n",
       "                            \n",
       "var gd = document.getElementById('c06cde85-8796-43bb-b69b-2162b501b6d5');\n",
       "var x = new MutationObserver(function (mutations, observer) {{\n",
       "        var display = window.getComputedStyle(gd).display;\n",
       "        if (!display || display === 'none') {{\n",
       "            console.log([gd, 'removed!']);\n",
       "            Plotly.purge(gd);\n",
       "            observer.disconnect();\n",
       "        }}\n",
       "}});\n",
       "\n",
       "// Listen for the removal of the full notebook cells\n",
       "var notebookContainer = gd.closest('#notebook-container');\n",
       "if (notebookContainer) {{\n",
       "    x.observe(notebookContainer, {childList: true});\n",
       "}}\n",
       "\n",
       "// Listen for the clearing of the current output cell\n",
       "var outputEl = gd.closest('.output');\n",
       "if (outputEl) {{\n",
       "    x.observe(outputEl, {childList: true});\n",
       "}}\n",
       "\n",
       "                        })                };                });            </script>        </div>"
      ]
     },
     "metadata": {},
     "output_type": "display_data"
    },
    {
     "data": {
      "application/vnd.plotly.v1+json": {
       "config": {
        "plotlyServerURL": "https://plot.ly"
       },
       "data": [
        {
         "hovertemplate": "date=%{x}<br>Mean=%{y}<extra></extra>",
         "legendgroup": "",
         "line": {
          "dash": "solid"
         },
         "marker": {
          "symbol": "circle"
         },
         "mode": "lines",
         "name": "",
         "orientation": "v",
         "showlegend": false,
         "type": "scatter",
         "x": [
          "2022-01-05",
          "2022-01-06",
          "2022-01-07",
          "2022-01-08",
          "2022-01-09",
          "2022-01-10",
          "2022-01-11",
          "2022-01-12",
          "2022-01-16",
          "2022-01-17",
          "2022-01-18",
          "2022-01-19",
          "2022-01-20",
          "2022-01-21",
          "2022-01-22",
          "2022-01-23",
          "2022-01-24",
          "2022-01-25",
          "2022-01-26",
          "2022-01-27",
          "2022-01-28",
          "2022-01-29",
          "2022-01-30",
          "2022-01-31",
          "2022-02-01",
          "2022-02-02",
          "2022-02-03",
          "2022-02-04",
          "2022-02-05",
          "2022-02-06",
          "2022-02-07",
          "2022-02-08",
          "2022-02-09",
          "2022-02-10",
          "2022-02-11",
          "2022-02-12",
          "2022-02-13",
          "2022-02-14",
          "2022-02-15",
          "2022-02-16",
          "2022-02-17",
          "2022-02-18",
          "2022-02-19",
          "2022-02-20",
          "2022-02-21",
          "2022-02-22",
          "2022-02-23",
          "2022-02-24",
          "2022-02-25",
          "2022-02-26",
          "2022-02-27",
          "2022-02-28",
          "2022-03-01",
          "2022-03-02",
          "2022-03-03",
          "2022-03-04",
          "2022-03-05",
          "2022-03-06",
          "2022-03-07",
          "2022-03-08",
          "2022-03-09",
          "2022-03-10",
          "2022-03-11",
          "2022-03-12",
          "2022-03-13",
          "2022-03-14",
          "2022-03-15",
          "2022-03-16",
          "2022-03-17",
          "2022-03-18",
          "2022-03-19",
          "2022-03-20",
          "2022-03-21",
          "2022-03-22",
          "2022-03-23",
          "2022-03-24",
          "2022-03-25",
          "2022-03-26",
          "2022-03-27",
          "2022-03-28",
          "2022-03-29",
          "2022-03-30",
          "2022-03-31",
          "2022-04-01",
          "2022-04-02",
          "2022-04-05",
          "2022-04-06",
          "2022-04-07",
          "2022-04-08",
          "2022-04-09",
          "2022-04-10",
          "2022-04-11",
          "2022-04-12",
          "2022-04-13",
          "2022-04-14",
          "2022-04-15",
          "2022-04-16",
          "2022-04-17",
          "2022-04-18",
          "2022-04-19",
          "2022-04-20",
          "2022-04-21",
          "2022-04-22",
          "2022-04-23",
          "2022-04-24",
          "2022-04-25",
          "2022-04-26",
          "2022-04-27",
          "2022-04-28",
          "2022-04-29",
          "2022-04-30",
          "2022-05-01",
          "2022-05-02",
          "2022-05-03",
          "2022-05-04",
          "2022-05-05",
          "2022-05-06",
          "2022-05-07",
          "2022-05-08",
          "2022-05-09",
          "2022-05-10",
          "2022-05-11",
          "2022-05-12",
          "2022-05-13",
          "2022-05-14",
          "2022-05-15",
          "2022-05-16",
          "2022-05-17",
          "2022-05-18",
          "2022-05-19",
          "2022-05-20",
          "2022-05-21",
          "2022-05-22",
          "2022-05-23",
          "2022-05-24",
          "2022-05-26",
          "2022-05-27",
          "2022-05-28",
          "2022-05-29",
          "2022-05-30",
          "2022-05-31",
          "2022-06-01",
          "2022-06-02",
          "2022-06-03",
          "2022-06-04",
          "2022-06-05",
          "2022-06-06",
          "2022-06-07",
          "2022-06-08",
          "2022-06-09",
          "2022-06-10",
          "2022-06-11",
          "2022-06-12",
          "2022-06-13",
          "2022-06-14",
          "2022-06-15",
          "2022-06-16",
          "2022-06-17",
          "2022-06-18",
          "2022-06-19",
          "2022-06-20",
          "2022-06-21",
          "2022-06-22",
          "2022-06-23",
          "2022-06-24",
          "2022-06-25",
          "2022-06-26",
          "2022-06-27",
          "2022-06-28",
          "2022-06-29",
          "2022-07-02",
          "2022-07-03",
          "2022-07-04",
          "2022-07-05",
          "2022-07-06",
          "2022-07-07",
          "2022-07-08",
          "2022-07-09",
          "2022-07-10",
          "2022-07-11",
          "2022-07-12",
          "2022-07-13",
          "2022-07-14",
          "2022-07-15",
          "2022-07-16",
          "2022-07-17",
          "2022-07-18",
          "2022-07-19",
          "2022-07-20",
          "2022-07-21",
          "2022-07-22",
          "2022-07-23",
          "2022-07-24",
          "2022-07-25",
          "2022-07-26",
          "2022-07-27",
          "2022-07-28",
          "2022-07-29",
          "2022-07-30",
          "2022-07-31",
          "2022-08-01",
          "2022-08-02",
          "2022-08-03",
          "2022-08-04",
          "2022-08-05",
          "2022-08-06",
          "2022-08-07",
          "2022-08-08",
          "2022-08-09",
          "2022-08-10",
          "2022-08-11",
          "2022-08-12",
          "2022-08-13",
          "2022-08-14",
          "2022-08-15",
          "2022-08-16",
          "2022-08-17",
          "2022-08-18",
          "2022-08-19",
          "2022-08-20",
          "2022-08-21",
          "2022-08-22",
          "2022-08-23",
          "2022-08-24",
          "2022-08-25",
          "2022-08-26",
          "2022-08-27",
          "2022-08-28",
          "2022-08-29",
          "2022-08-30",
          "2022-08-31",
          "2022-09-01",
          "2022-09-02",
          "2022-09-03",
          "2022-09-04",
          "2022-09-05",
          "2022-09-06",
          "2022-09-07",
          "2022-09-08",
          "2022-09-09",
          "2022-09-10",
          "2022-09-11",
          "2022-09-12",
          "2022-09-13",
          "2022-09-14",
          "2022-09-16"
         ],
         "xaxis": "x",
         "y": [
          16300560.396325707,
          17658648.89806571,
          17347162.93101469,
          16975064.4272259,
          16797785.791917797,
          16806788.914961446,
          16811833.251713973,
          16734018.396816732,
          17112088.201657716,
          17011946.553369317,
          16970497.972453773,
          16652439.489730489,
          14965479.43222849,
          13323793.673679637,
          12873959.016227724,
          11303651.720090585,
          11007467.34700925,
          10871655.621807251,
          12159820.822644686,
          13505607.403390111,
          13681356.340413606,
          14936296.611906191,
          14923038.910625257,
          12589322.572192566,
          12568194.290519638,
          12656150.217581045,
          12895523.888825014,
          13174352.579157157,
          14758873.283617333,
          14966112.54168266,
          13981120.739769287,
          14329206.281212503,
          12998453.810260974,
          13035101.46742987,
          12935524.996210158,
          14282421.110996926,
          14269045.839103565,
          14234745.430921003,
          13983623.878515448,
          12451147.474175066,
          15269480.34958822,
          15144035.258112026,
          13602820.084048048,
          11961488.017577806,
          11692883.442188185,
          10520623.18598848,
          10597508.98837556,
          12302652.732426368,
          12055658.914270565,
          13312310.455994308,
          13302684.301300997,
          15072063.977543931,
          16640913.820278505,
          16726833.162031168,
          15359834.212318948,
          14337334.69371573,
          13968809.536106026,
          13561663.795575554,
          13355494.93965335,
          11993273.990426429,
          12099160.81741657,
          12943501.406253258,
          12695278.590656549,
          12590908.615391329,
          12418870.720681133,
          12292307.862216016,
          13682690.17967298,
          12526529.102193069,
          12882839.583889768,
          11436021.607194657,
          11324391.68407502,
          12674892.310120234,
          11270116.114267657,
          12775937.96738934,
          11589932.293703048,
          13442791.025573203,
          13942925.906535745,
          12722266.4979224,
          14600266.085370503,
          14866187.212059,
          14936133.6515846,
          13608250.734281491,
          12280254.842698582,
          14027934.698614923,
          13825044.782824928,
          9370691.80449831,
          9533048.390190354,
          9701736.487279251,
          8516841.090446098,
          9443838.824822633,
          9364852.622400708,
          10675149.238137288,
          11864137.72101284,
          11742429.723710775,
          12885260.082449311,
          11467406.715709897,
          12690455.363681272,
          11144443.841934573,
          9815462.194832023,
          9820668.402080366,
          9694690.695536984,
          9815317.107529247,
          9585090.849358326,
          9490934.549195984,
          10580321.827864258,
          10357739.355840078,
          9904135.934160378,
          9669618.420316638,
          13644156.129957588,
          13356814.415303038,
          11853810.286388464,
          11775592.976694366,
          11590485.543108916,
          11612288.84540094,
          12868801.298505137,
          13053035.151801929,
          14110520.33822723,
          13778267.472966751,
          12530386.508751629,
          12021290.84041947,
          11497172.066507123,
          11118384.805893648,
          10012741.049433025,
          8903535.797767593,
          9879758.226772675,
          8878044.28833642,
          8912295.660614314,
          8893381.490528656,
          8745347.529548453,
          9631829.455022588,
          9253797.523018852,
          10113809.633346066,
          8627578.21810162,
          8436459.608976576,
          8431611.204082683,
          9263388.742297878,
          9200360.676142124,
          8049840.762693316,
          7924927.841125282,
          7868657.633253898,
          7230972.840943344,
          6065311.089454257,
          9510080.885098493,
          10311356.508528523,
          10188843.301089196,
          9230875.838806592,
          10421951.542127308,
          9410805.585428568,
          9295633.88340653,
          8287272.486073527,
          7205341.804875426,
          7007599.814036851,
          6448621.827739158,
          6996861.265276186,
          6653012.160243738,
          7241345.740182835,
          7813596.111569532,
          7643831.547008324,
          7531588.959285109,
          7505410.359529986,
          7423733.098475824,
          6722836.719293342,
          6849695.54328337,
          6908397.18765669,
          6799747.286928598,
          5966884.493104179,
          5897396.60152033,
          6545954.712858573,
          6358798.550920685,
          6316020.342904109,
          5492587.888628663,
          6037932.844157421,
          6507796.793347505,
          6309120.805134576,
          5657328.519440842,
          6476220.235650866,
          6414659.974277817,
          6216635.331815537,
          6170705.76427205,
          6847120.495130398,
          7568256.8942576,
          6839261.199889245,
          6985216.111671757,
          7127510.381407448,
          7193205.759368735,
          6399743.077854154,
          5758539.531994228,
          6621291.371501154,
          6804726.057510258,
          6060577.235854323,
          5243187.541894077,
          5147318.963220172,
          5064263.508210289,
          4858667.85518512,
          3909371.044759281,
          4096096.090724261,
          4204594.980261365,
          4307863.510326613,
          5003951.526183036,
          4228045.443139293,
          4333588.643109683,
          5018962.503638574,
          5804053.423344479,
          5895996.5152875,
          5037398.072898928,
          5004869.981366244,
          4880399.674905674,
          3947814.281643769,
          3948862.58109716,
          4797672.732006527,
          4884605.922182759,
          5715605.453048547,
          6451408.939340082,
          7364789.98125288,
          7339247.45884328,
          6379593.836309846,
          6259926.059650292,
          6100968.986072023,
          5275627.779843024,
          5031561.367078741,
          4892291.1739766905,
          5546647.476200526,
          5516003.131957986,
          5482295.180712657,
          5456852.680862268,
          4775999.74259103,
          3957207.108413973,
          3931561.776743367,
          4698801.634696487,
          4061940.882940602,
          4708582.741603273,
          5294455.559226955,
          5380768.831610278,
          5275279.474289083,
          4521161.304549058,
          4425189.697850819,
          3752298.765401428,
          3150115.6873833905,
          3837971.635240448,
          3236858.334502481,
          3272351.204580219,
          3426944.4127864144,
          4117827.867354317,
          4050300.34362331,
          3335873.889345976,
          3912334.868152091
         ],
         "yaxis": "y"
        },
        {
         "hovertemplate": "date=%{x}<br>knowledge=%{y}<extra></extra>",
         "legendgroup": "",
         "line": {
          "dash": "solid"
         },
         "marker": {
          "symbol": "circle"
         },
         "mode": "lines",
         "name": "",
         "orientation": "v",
         "showlegend": false,
         "type": "scatter",
         "x": [
          "2022-01-05",
          "2022-01-06",
          "2022-01-07",
          "2022-01-08",
          "2022-01-09",
          "2022-01-10",
          "2022-01-11",
          "2022-01-12",
          "2022-01-16",
          "2022-01-17",
          "2022-01-18",
          "2022-01-19",
          "2022-01-20",
          "2022-01-21",
          "2022-01-22",
          "2022-01-23",
          "2022-01-24",
          "2022-01-25",
          "2022-01-26",
          "2022-01-27",
          "2022-01-28",
          "2022-01-29",
          "2022-01-30",
          "2022-01-31",
          "2022-02-01",
          "2022-02-02",
          "2022-02-03",
          "2022-02-04",
          "2022-02-05",
          "2022-02-06",
          "2022-02-07",
          "2022-02-08",
          "2022-02-09",
          "2022-02-10",
          "2022-02-11",
          "2022-02-12",
          "2022-02-13",
          "2022-02-14",
          "2022-02-15",
          "2022-02-16",
          "2022-02-17",
          "2022-02-18",
          "2022-02-19",
          "2022-02-20",
          "2022-02-21",
          "2022-02-22",
          "2022-02-23",
          "2022-02-24",
          "2022-02-25",
          "2022-02-26",
          "2022-02-27",
          "2022-02-28",
          "2022-03-01",
          "2022-03-02",
          "2022-03-03",
          "2022-03-04",
          "2022-03-05",
          "2022-03-06",
          "2022-03-07",
          "2022-03-08",
          "2022-03-09",
          "2022-03-10",
          "2022-03-11",
          "2022-03-12",
          "2022-03-13",
          "2022-03-14",
          "2022-03-15",
          "2022-03-16",
          "2022-03-17",
          "2022-03-18",
          "2022-03-19",
          "2022-03-20",
          "2022-03-21",
          "2022-03-22",
          "2022-03-23",
          "2022-03-24",
          "2022-03-25",
          "2022-03-26",
          "2022-03-27",
          "2022-03-28",
          "2022-03-29",
          "2022-03-30",
          "2022-03-31",
          "2022-04-01",
          "2022-04-02",
          "2022-04-05",
          "2022-04-06",
          "2022-04-07",
          "2022-04-08",
          "2022-04-09",
          "2022-04-10",
          "2022-04-11",
          "2022-04-12",
          "2022-04-13",
          "2022-04-14",
          "2022-04-15",
          "2022-04-16",
          "2022-04-17",
          "2022-04-18",
          "2022-04-19",
          "2022-04-20",
          "2022-04-21",
          "2022-04-22",
          "2022-04-23",
          "2022-04-24",
          "2022-04-25",
          "2022-04-26",
          "2022-04-27",
          "2022-04-28",
          "2022-04-29",
          "2022-04-30",
          "2022-05-01",
          "2022-05-02",
          "2022-05-03",
          "2022-05-04",
          "2022-05-05",
          "2022-05-06",
          "2022-05-07",
          "2022-05-08",
          "2022-05-09",
          "2022-05-10",
          "2022-05-11",
          "2022-05-12",
          "2022-05-13",
          "2022-05-14",
          "2022-05-15",
          "2022-05-16",
          "2022-05-17",
          "2022-05-18",
          "2022-05-19",
          "2022-05-20",
          "2022-05-21",
          "2022-05-22",
          "2022-05-23",
          "2022-05-24",
          "2022-05-26",
          "2022-05-27",
          "2022-05-28",
          "2022-05-29",
          "2022-05-30",
          "2022-05-31",
          "2022-06-01",
          "2022-06-02",
          "2022-06-03",
          "2022-06-04",
          "2022-06-05",
          "2022-06-06",
          "2022-06-07",
          "2022-06-08",
          "2022-06-09",
          "2022-06-10",
          "2022-06-11",
          "2022-06-12",
          "2022-06-13",
          "2022-06-14",
          "2022-06-15",
          "2022-06-16",
          "2022-06-17",
          "2022-06-18",
          "2022-06-19",
          "2022-06-20",
          "2022-06-21",
          "2022-06-22",
          "2022-06-23",
          "2022-06-24",
          "2022-06-25",
          "2022-06-26",
          "2022-06-27",
          "2022-06-28",
          "2022-06-29",
          "2022-07-02",
          "2022-07-03",
          "2022-07-04",
          "2022-07-05",
          "2022-07-06",
          "2022-07-07",
          "2022-07-08",
          "2022-07-09",
          "2022-07-10",
          "2022-07-11",
          "2022-07-12",
          "2022-07-13",
          "2022-07-14",
          "2022-07-15",
          "2022-07-16",
          "2022-07-17",
          "2022-07-18",
          "2022-07-19",
          "2022-07-20",
          "2022-07-21",
          "2022-07-22",
          "2022-07-23",
          "2022-07-24",
          "2022-07-25",
          "2022-07-26",
          "2022-07-27",
          "2022-07-28",
          "2022-07-29",
          "2022-07-30",
          "2022-07-31",
          "2022-08-01",
          "2022-08-02",
          "2022-08-03",
          "2022-08-04",
          "2022-08-05",
          "2022-08-06",
          "2022-08-07",
          "2022-08-08",
          "2022-08-09",
          "2022-08-10",
          "2022-08-11",
          "2022-08-12",
          "2022-08-13",
          "2022-08-14",
          "2022-08-15",
          "2022-08-16",
          "2022-08-17",
          "2022-08-18",
          "2022-08-19",
          "2022-08-20",
          "2022-08-21",
          "2022-08-22",
          "2022-08-23",
          "2022-08-24",
          "2022-08-25",
          "2022-08-26",
          "2022-08-27",
          "2022-08-28",
          "2022-08-29",
          "2022-08-30",
          "2022-08-31",
          "2022-09-01",
          "2022-09-02",
          "2022-09-03",
          "2022-09-04",
          "2022-09-05",
          "2022-09-06",
          "2022-09-07",
          "2022-09-08",
          "2022-09-09",
          "2022-09-10",
          "2022-09-11",
          "2022-09-12",
          "2022-09-13",
          "2022-09-14",
          "2022-09-16"
         ],
         "xaxis": "x",
         "y": [
          1.902573561985016,
          2.3161703051125064,
          2.1003807000025114,
          2.178304724070009,
          2.346141083600005,
          2.370117706390005,
          2.292193682322506,
          2.4660241975500026,
          2.2206343887948226,
          2.3009677706169094,
          2.1224491443456044,
          1.7654118918029955,
          1.131670768539864,
          0.2390776371833415,
          -0.1179596153592686,
          -0.7874044638766609,
          -0.6178117689189204,
          -0.6535154941731823,
          0.1855220493019501,
          1.0959670432856037,
          1.1495226311669948,
          1.8011156170572562,
          1.577967334218126,
          0.978044164480294,
          0.7610906079408601,
          0.0620180368693503,
          0.218706716592276,
          -0.0344057660370633,
          0.8575144108472738,
          0.8454614354839726,
          0.1463888644124647,
          0.7128787064876513,
          -0.0344057660370633,
          0.3271834948619928,
          0.0620180368693503,
          0.9539382137536896,
          0.9418852383903884,
          0.9057263123004826,
          0.7128787064876513,
          -0.3839420515728182,
          2.172310568372509,
          2.052427454422512,
          1.5009651302525242,
          1.0034502073600364,
          1.0633917643350346,
          0.5119294401650469,
          0.4999411287700478,
          -0.3959950269361194,
          -0.4803658544792339,
          0.5079781253115209,
          0.4115543224051052,
          1.3155274746527457,
          2.5449309617095364,
          2.569036912436141,
          1.5445340065554805,
          0.749037632577557,
          0.8936733369371794,
          0.990097139843595,
          -0.1067236182168745,
          -0.902219992194798,
          -0.661160484928762,
          -0.4442069283893283,
          -1.1071205733709304,
          -1.4566568589066855,
          -0.7334783371085732,
          -0.661160484928762,
          -0.7937432139250812,
          -1.4446038835433823,
          -0.9504318936480068,
          -1.8182461198057405,
          -1.7700342183525335,
          -0.4924188298425351,
          -0.5285777559324407,
          0.6526138296711433,
          -0.0464587414003665,
          1.2552625978362355,
          0.4115543224051052,
          -1.0589086719177236,
          -0.3598361008462138,
          -0.5767896573856475,
          -0.6973194110186676,
          -1.5892395879030046,
          -1.709769341536025,
          -0.6973194110186676,
          -0.3959950269361194,
          0.0803502299450567,
          0.0563736071550576,
          -0.0515211953999398,
          -0.5850010524774275,
          -0.2013750878374366,
          -0.1953809321399365,
          0.2601749008700527,
          0.7876606022500413,
          0.8236255364350404,
          1.255204746655031,
          0.7157307338800429,
          1.1533040997975326,
          0.4939469730725473,
          -0.087486129584939,
          -0.1474276865599378,
          -0.2073692435349361,
          -0.1354393751649377,
          -0.48909456131743,
          -0.579006896779928,
          -0.0515211953999398,
          -0.1714043093499369,
          0.0503794514575581,
          0.0084203615750584,
          0.7210779281158639,
          0.1765961179883839,
          -0.8766637770123126,
          -0.8677378456987479,
          -1.2515528921820522,
          -1.0194786780293557,
          -0.3321819668848341,
          0.1051886674798631,
          0.9085224857007336,
          0.8103372412515157,
          0.453299988708907,
          0.3015591563782976,
          0.3640406755732537,
          0.2480035684969062,
          -0.3946634860797902,
          -0.930219364893704,
          -0.055478096164311,
          -0.6088858376053558,
          -0.7784785325630946,
          -0.4660709365883125,
          -0.6445895628596161,
          0.1230405301069925,
          0.1582742540125556,
          0.7037424224850429,
          0.0863443856425573,
          0.1103210084325564,
          0.0683619185500577,
          0.5718709971400462,
          0.5898534642325458,
          0.1103210084325564,
          -0.0095621055174411,
          -0.0814919738874389,
          -0.0994744409799385,
          -0.5190653398049292,
          -0.1268855466728333,
          0.5782630270988193,
          0.6228926836666459,
          -0.1804411345542247,
          0.8460409665057761,
          -0.055478096164311,
          -0.153663340613529,
          -1.0819601972243134,
          -1.8228124962502272,
          -1.974553328580836,
          -2.376220237691271,
          -1.53718269421614,
          -1.4479233810804868,
          -0.8141822578173565,
          0.1319664614205588,
          0.2212257745562106,
          0.5425593018445588,
          0.8460409665057761,
          0.8638928291329071,
          0.3461888129461243,
          0.2837072937511666,
          0.2033739119290796,
          -0.055478096164311,
          -1.189071372987096,
          -1.0819601972243134,
          -0.2786263790034428,
          -0.4035894173933549,
          -0.3054041729441384,
          -0.3092698903924341,
          0.4160229490050494,
          1.123333321310033,
          1.201257345377532,
          0.5119294401650469,
          0.907543716200038,
          0.7576898237625417,
          0.4399995717950485,
          0.3380989249375515,
          0.7516956680650422,
          1.2432164352600306,
          0.7816664465525408,
          0.7157307338800429,
          0.9135378718975384,
          0.9854677402675368,
          0.4819586616775483,
          0.0144145172725589,
          0.4819586616775483,
          0.6018417756275448,
          -0.093480285282439,
          -0.782808190494923,
          -0.9326620829324196,
          -0.8247672803774222,
          -0.8007906575874225,
          -1.3222822032699106,
          -1.274328957689912,
          -1.2563464905974122,
          -1.1724283108324145,
          -0.91467961583992,
          -1.5140951855899063,
          -1.496112718497407,
          -0.8367555917724218,
          -0.1714043093499369,
          -0.0635095067949394,
          -0.5370478068974287,
          -0.5969893638724275,
          -0.6689192322424259,
          -1.3342705146649108,
          -1.4721360957074074,
          -0.92067377153742,
          -0.878714681654921,
          -0.6389484537549263,
          -0.183392620744937,
          0.4399995717950485,
          0.3680697034250502,
          -0.2912874232999345,
          -0.3152640460899336,
          -0.2013750878374366,
          -0.7348549449149242,
          -0.8487439031674218,
          -0.6629250765449258,
          -0.0635095067949394,
          -0.0994744409799385,
          0.0863443856425573,
          0.1822508768025548,
          -0.387193914459932,
          -1.1244750652524151,
          -1.274328957689912,
          -0.6269601423599267,
          -1.0285685740924178,
          -0.5370478068974287,
          -0.0275445726099407,
          0.0563736071550576,
          0.0323969843650585,
          -0.6389484537549263,
          -0.8127789689824226,
          -1.3282763589674107,
          -1.8078088147673996,
          -1.280323113387412,
          -1.7598555691874007,
          -1.7178964793049016,
          -1.6040075210524043,
          -1.0705276639749164,
          -1.1604399994374144,
          -1.6579549223299033,
          -1.0225744183949177
         ],
         "yaxis": "y2"
        }
       ],
       "layout": {
        "template": {
         "data": {
          "bar": [
           {
            "error_x": {
             "color": "#2a3f5f"
            },
            "error_y": {
             "color": "#2a3f5f"
            },
            "marker": {
             "line": {
              "color": "#E5ECF6",
              "width": 0.5
             },
             "pattern": {
              "fillmode": "overlay",
              "size": 10,
              "solidity": 0.2
             }
            },
            "type": "bar"
           }
          ],
          "barpolar": [
           {
            "marker": {
             "line": {
              "color": "#E5ECF6",
              "width": 0.5
             },
             "pattern": {
              "fillmode": "overlay",
              "size": 10,
              "solidity": 0.2
             }
            },
            "type": "barpolar"
           }
          ],
          "carpet": [
           {
            "aaxis": {
             "endlinecolor": "#2a3f5f",
             "gridcolor": "white",
             "linecolor": "white",
             "minorgridcolor": "white",
             "startlinecolor": "#2a3f5f"
            },
            "baxis": {
             "endlinecolor": "#2a3f5f",
             "gridcolor": "white",
             "linecolor": "white",
             "minorgridcolor": "white",
             "startlinecolor": "#2a3f5f"
            },
            "type": "carpet"
           }
          ],
          "choropleth": [
           {
            "colorbar": {
             "outlinewidth": 0,
             "ticks": ""
            },
            "type": "choropleth"
           }
          ],
          "contour": [
           {
            "colorbar": {
             "outlinewidth": 0,
             "ticks": ""
            },
            "colorscale": [
             [
              0,
              "#0d0887"
             ],
             [
              0.1111111111111111,
              "#46039f"
             ],
             [
              0.2222222222222222,
              "#7201a8"
             ],
             [
              0.3333333333333333,
              "#9c179e"
             ],
             [
              0.4444444444444444,
              "#bd3786"
             ],
             [
              0.5555555555555556,
              "#d8576b"
             ],
             [
              0.6666666666666666,
              "#ed7953"
             ],
             [
              0.7777777777777778,
              "#fb9f3a"
             ],
             [
              0.8888888888888888,
              "#fdca26"
             ],
             [
              1,
              "#f0f921"
             ]
            ],
            "type": "contour"
           }
          ],
          "contourcarpet": [
           {
            "colorbar": {
             "outlinewidth": 0,
             "ticks": ""
            },
            "type": "contourcarpet"
           }
          ],
          "heatmap": [
           {
            "colorbar": {
             "outlinewidth": 0,
             "ticks": ""
            },
            "colorscale": [
             [
              0,
              "#0d0887"
             ],
             [
              0.1111111111111111,
              "#46039f"
             ],
             [
              0.2222222222222222,
              "#7201a8"
             ],
             [
              0.3333333333333333,
              "#9c179e"
             ],
             [
              0.4444444444444444,
              "#bd3786"
             ],
             [
              0.5555555555555556,
              "#d8576b"
             ],
             [
              0.6666666666666666,
              "#ed7953"
             ],
             [
              0.7777777777777778,
              "#fb9f3a"
             ],
             [
              0.8888888888888888,
              "#fdca26"
             ],
             [
              1,
              "#f0f921"
             ]
            ],
            "type": "heatmap"
           }
          ],
          "heatmapgl": [
           {
            "colorbar": {
             "outlinewidth": 0,
             "ticks": ""
            },
            "colorscale": [
             [
              0,
              "#0d0887"
             ],
             [
              0.1111111111111111,
              "#46039f"
             ],
             [
              0.2222222222222222,
              "#7201a8"
             ],
             [
              0.3333333333333333,
              "#9c179e"
             ],
             [
              0.4444444444444444,
              "#bd3786"
             ],
             [
              0.5555555555555556,
              "#d8576b"
             ],
             [
              0.6666666666666666,
              "#ed7953"
             ],
             [
              0.7777777777777778,
              "#fb9f3a"
             ],
             [
              0.8888888888888888,
              "#fdca26"
             ],
             [
              1,
              "#f0f921"
             ]
            ],
            "type": "heatmapgl"
           }
          ],
          "histogram": [
           {
            "marker": {
             "pattern": {
              "fillmode": "overlay",
              "size": 10,
              "solidity": 0.2
             }
            },
            "type": "histogram"
           }
          ],
          "histogram2d": [
           {
            "colorbar": {
             "outlinewidth": 0,
             "ticks": ""
            },
            "colorscale": [
             [
              0,
              "#0d0887"
             ],
             [
              0.1111111111111111,
              "#46039f"
             ],
             [
              0.2222222222222222,
              "#7201a8"
             ],
             [
              0.3333333333333333,
              "#9c179e"
             ],
             [
              0.4444444444444444,
              "#bd3786"
             ],
             [
              0.5555555555555556,
              "#d8576b"
             ],
             [
              0.6666666666666666,
              "#ed7953"
             ],
             [
              0.7777777777777778,
              "#fb9f3a"
             ],
             [
              0.8888888888888888,
              "#fdca26"
             ],
             [
              1,
              "#f0f921"
             ]
            ],
            "type": "histogram2d"
           }
          ],
          "histogram2dcontour": [
           {
            "colorbar": {
             "outlinewidth": 0,
             "ticks": ""
            },
            "colorscale": [
             [
              0,
              "#0d0887"
             ],
             [
              0.1111111111111111,
              "#46039f"
             ],
             [
              0.2222222222222222,
              "#7201a8"
             ],
             [
              0.3333333333333333,
              "#9c179e"
             ],
             [
              0.4444444444444444,
              "#bd3786"
             ],
             [
              0.5555555555555556,
              "#d8576b"
             ],
             [
              0.6666666666666666,
              "#ed7953"
             ],
             [
              0.7777777777777778,
              "#fb9f3a"
             ],
             [
              0.8888888888888888,
              "#fdca26"
             ],
             [
              1,
              "#f0f921"
             ]
            ],
            "type": "histogram2dcontour"
           }
          ],
          "mesh3d": [
           {
            "colorbar": {
             "outlinewidth": 0,
             "ticks": ""
            },
            "type": "mesh3d"
           }
          ],
          "parcoords": [
           {
            "line": {
             "colorbar": {
              "outlinewidth": 0,
              "ticks": ""
             }
            },
            "type": "parcoords"
           }
          ],
          "pie": [
           {
            "automargin": true,
            "type": "pie"
           }
          ],
          "scatter": [
           {
            "fillpattern": {
             "fillmode": "overlay",
             "size": 10,
             "solidity": 0.2
            },
            "type": "scatter"
           }
          ],
          "scatter3d": [
           {
            "line": {
             "colorbar": {
              "outlinewidth": 0,
              "ticks": ""
             }
            },
            "marker": {
             "colorbar": {
              "outlinewidth": 0,
              "ticks": ""
             }
            },
            "type": "scatter3d"
           }
          ],
          "scattercarpet": [
           {
            "marker": {
             "colorbar": {
              "outlinewidth": 0,
              "ticks": ""
             }
            },
            "type": "scattercarpet"
           }
          ],
          "scattergeo": [
           {
            "marker": {
             "colorbar": {
              "outlinewidth": 0,
              "ticks": ""
             }
            },
            "type": "scattergeo"
           }
          ],
          "scattergl": [
           {
            "marker": {
             "colorbar": {
              "outlinewidth": 0,
              "ticks": ""
             }
            },
            "type": "scattergl"
           }
          ],
          "scattermapbox": [
           {
            "marker": {
             "colorbar": {
              "outlinewidth": 0,
              "ticks": ""
             }
            },
            "type": "scattermapbox"
           }
          ],
          "scatterpolar": [
           {
            "marker": {
             "colorbar": {
              "outlinewidth": 0,
              "ticks": ""
             }
            },
            "type": "scatterpolar"
           }
          ],
          "scatterpolargl": [
           {
            "marker": {
             "colorbar": {
              "outlinewidth": 0,
              "ticks": ""
             }
            },
            "type": "scatterpolargl"
           }
          ],
          "scatterternary": [
           {
            "marker": {
             "colorbar": {
              "outlinewidth": 0,
              "ticks": ""
             }
            },
            "type": "scatterternary"
           }
          ],
          "surface": [
           {
            "colorbar": {
             "outlinewidth": 0,
             "ticks": ""
            },
            "colorscale": [
             [
              0,
              "#0d0887"
             ],
             [
              0.1111111111111111,
              "#46039f"
             ],
             [
              0.2222222222222222,
              "#7201a8"
             ],
             [
              0.3333333333333333,
              "#9c179e"
             ],
             [
              0.4444444444444444,
              "#bd3786"
             ],
             [
              0.5555555555555556,
              "#d8576b"
             ],
             [
              0.6666666666666666,
              "#ed7953"
             ],
             [
              0.7777777777777778,
              "#fb9f3a"
             ],
             [
              0.8888888888888888,
              "#fdca26"
             ],
             [
              1,
              "#f0f921"
             ]
            ],
            "type": "surface"
           }
          ],
          "table": [
           {
            "cells": {
             "fill": {
              "color": "#EBF0F8"
             },
             "line": {
              "color": "white"
             }
            },
            "header": {
             "fill": {
              "color": "#C8D4E3"
             },
             "line": {
              "color": "white"
             }
            },
            "type": "table"
           }
          ]
         },
         "layout": {
          "annotationdefaults": {
           "arrowcolor": "#2a3f5f",
           "arrowhead": 0,
           "arrowwidth": 1
          },
          "autotypenumbers": "strict",
          "coloraxis": {
           "colorbar": {
            "outlinewidth": 0,
            "ticks": ""
           }
          },
          "colorscale": {
           "diverging": [
            [
             0,
             "#8e0152"
            ],
            [
             0.1,
             "#c51b7d"
            ],
            [
             0.2,
             "#de77ae"
            ],
            [
             0.3,
             "#f1b6da"
            ],
            [
             0.4,
             "#fde0ef"
            ],
            [
             0.5,
             "#f7f7f7"
            ],
            [
             0.6,
             "#e6f5d0"
            ],
            [
             0.7,
             "#b8e186"
            ],
            [
             0.8,
             "#7fbc41"
            ],
            [
             0.9,
             "#4d9221"
            ],
            [
             1,
             "#276419"
            ]
           ],
           "sequential": [
            [
             0,
             "#0d0887"
            ],
            [
             0.1111111111111111,
             "#46039f"
            ],
            [
             0.2222222222222222,
             "#7201a8"
            ],
            [
             0.3333333333333333,
             "#9c179e"
            ],
            [
             0.4444444444444444,
             "#bd3786"
            ],
            [
             0.5555555555555556,
             "#d8576b"
            ],
            [
             0.6666666666666666,
             "#ed7953"
            ],
            [
             0.7777777777777778,
             "#fb9f3a"
            ],
            [
             0.8888888888888888,
             "#fdca26"
            ],
            [
             1,
             "#f0f921"
            ]
           ],
           "sequentialminus": [
            [
             0,
             "#0d0887"
            ],
            [
             0.1111111111111111,
             "#46039f"
            ],
            [
             0.2222222222222222,
             "#7201a8"
            ],
            [
             0.3333333333333333,
             "#9c179e"
            ],
            [
             0.4444444444444444,
             "#bd3786"
            ],
            [
             0.5555555555555556,
             "#d8576b"
            ],
            [
             0.6666666666666666,
             "#ed7953"
            ],
            [
             0.7777777777777778,
             "#fb9f3a"
            ],
            [
             0.8888888888888888,
             "#fdca26"
            ],
            [
             1,
             "#f0f921"
            ]
           ]
          },
          "colorway": [
           "#636efa",
           "#EF553B",
           "#00cc96",
           "#ab63fa",
           "#FFA15A",
           "#19d3f3",
           "#FF6692",
           "#B6E880",
           "#FF97FF",
           "#FECB52"
          ],
          "font": {
           "color": "#2a3f5f"
          },
          "geo": {
           "bgcolor": "white",
           "lakecolor": "white",
           "landcolor": "#E5ECF6",
           "showlakes": true,
           "showland": true,
           "subunitcolor": "white"
          },
          "hoverlabel": {
           "align": "left"
          },
          "hovermode": "closest",
          "mapbox": {
           "style": "light"
          },
          "paper_bgcolor": "white",
          "plot_bgcolor": "#E5ECF6",
          "polar": {
           "angularaxis": {
            "gridcolor": "white",
            "linecolor": "white",
            "ticks": ""
           },
           "bgcolor": "#E5ECF6",
           "radialaxis": {
            "gridcolor": "white",
            "linecolor": "white",
            "ticks": ""
           }
          },
          "scene": {
           "xaxis": {
            "backgroundcolor": "#E5ECF6",
            "gridcolor": "white",
            "gridwidth": 2,
            "linecolor": "white",
            "showbackground": true,
            "ticks": "",
            "zerolinecolor": "white"
           },
           "yaxis": {
            "backgroundcolor": "#E5ECF6",
            "gridcolor": "white",
            "gridwidth": 2,
            "linecolor": "white",
            "showbackground": true,
            "ticks": "",
            "zerolinecolor": "white"
           },
           "zaxis": {
            "backgroundcolor": "#E5ECF6",
            "gridcolor": "white",
            "gridwidth": 2,
            "linecolor": "white",
            "showbackground": true,
            "ticks": "",
            "zerolinecolor": "white"
           }
          },
          "shapedefaults": {
           "line": {
            "color": "#2a3f5f"
           }
          },
          "ternary": {
           "aaxis": {
            "gridcolor": "white",
            "linecolor": "white",
            "ticks": ""
           },
           "baxis": {
            "gridcolor": "white",
            "linecolor": "white",
            "ticks": ""
           },
           "bgcolor": "#E5ECF6",
           "caxis": {
            "gridcolor": "white",
            "linecolor": "white",
            "ticks": ""
           }
          },
          "title": {
           "x": 0.05
          },
          "xaxis": {
           "automargin": true,
           "gridcolor": "white",
           "linecolor": "white",
           "ticks": "",
           "title": {
            "standoff": 15
           },
           "zerolinecolor": "white",
           "zerolinewidth": 2
          },
          "yaxis": {
           "automargin": true,
           "gridcolor": "white",
           "linecolor": "white",
           "ticks": "",
           "title": {
            "standoff": 15
           },
           "zerolinecolor": "white",
           "zerolinewidth": 2
          }
         }
        },
        "xaxis": {
         "anchor": "y",
         "domain": [
          0,
          0.94
         ]
        },
        "yaxis": {
         "anchor": "x",
         "domain": [
          0,
          1
         ]
        },
        "yaxis2": {
         "anchor": "x",
         "overlaying": "y",
         "side": "right"
        }
       }
      },
      "text/html": [
       "<div>                            <div id=\"b0057af2-1be3-4610-be36-b81a1f48717f\" class=\"plotly-graph-div\" style=\"height:525px; width:100%;\"></div>            <script type=\"text/javascript\">                require([\"plotly\"], function(Plotly) {                    window.PLOTLYENV=window.PLOTLYENV || {};                                    if (document.getElementById(\"b0057af2-1be3-4610-be36-b81a1f48717f\")) {                    Plotly.newPlot(                        \"b0057af2-1be3-4610-be36-b81a1f48717f\",                        [{\"hovertemplate\":\"date=%{x}<br>Mean=%{y}<extra></extra>\",\"legendgroup\":\"\",\"line\":{\"dash\":\"solid\"},\"marker\":{\"symbol\":\"circle\"},\"mode\":\"lines\",\"name\":\"\",\"orientation\":\"v\",\"showlegend\":false,\"x\":[\"2022-01-05\",\"2022-01-06\",\"2022-01-07\",\"2022-01-08\",\"2022-01-09\",\"2022-01-10\",\"2022-01-11\",\"2022-01-12\",\"2022-01-16\",\"2022-01-17\",\"2022-01-18\",\"2022-01-19\",\"2022-01-20\",\"2022-01-21\",\"2022-01-22\",\"2022-01-23\",\"2022-01-24\",\"2022-01-25\",\"2022-01-26\",\"2022-01-27\",\"2022-01-28\",\"2022-01-29\",\"2022-01-30\",\"2022-01-31\",\"2022-02-01\",\"2022-02-02\",\"2022-02-03\",\"2022-02-04\",\"2022-02-05\",\"2022-02-06\",\"2022-02-07\",\"2022-02-08\",\"2022-02-09\",\"2022-02-10\",\"2022-02-11\",\"2022-02-12\",\"2022-02-13\",\"2022-02-14\",\"2022-02-15\",\"2022-02-16\",\"2022-02-17\",\"2022-02-18\",\"2022-02-19\",\"2022-02-20\",\"2022-02-21\",\"2022-02-22\",\"2022-02-23\",\"2022-02-24\",\"2022-02-25\",\"2022-02-26\",\"2022-02-27\",\"2022-02-28\",\"2022-03-01\",\"2022-03-02\",\"2022-03-03\",\"2022-03-04\",\"2022-03-05\",\"2022-03-06\",\"2022-03-07\",\"2022-03-08\",\"2022-03-09\",\"2022-03-10\",\"2022-03-11\",\"2022-03-12\",\"2022-03-13\",\"2022-03-14\",\"2022-03-15\",\"2022-03-16\",\"2022-03-17\",\"2022-03-18\",\"2022-03-19\",\"2022-03-20\",\"2022-03-21\",\"2022-03-22\",\"2022-03-23\",\"2022-03-24\",\"2022-03-25\",\"2022-03-26\",\"2022-03-27\",\"2022-03-28\",\"2022-03-29\",\"2022-03-30\",\"2022-03-31\",\"2022-04-01\",\"2022-04-02\",\"2022-04-05\",\"2022-04-06\",\"2022-04-07\",\"2022-04-08\",\"2022-04-09\",\"2022-04-10\",\"2022-04-11\",\"2022-04-12\",\"2022-04-13\",\"2022-04-14\",\"2022-04-15\",\"2022-04-16\",\"2022-04-17\",\"2022-04-18\",\"2022-04-19\",\"2022-04-20\",\"2022-04-21\",\"2022-04-22\",\"2022-04-23\",\"2022-04-24\",\"2022-04-25\",\"2022-04-26\",\"2022-04-27\",\"2022-04-28\",\"2022-04-29\",\"2022-04-30\",\"2022-05-01\",\"2022-05-02\",\"2022-05-03\",\"2022-05-04\",\"2022-05-05\",\"2022-05-06\",\"2022-05-07\",\"2022-05-08\",\"2022-05-09\",\"2022-05-10\",\"2022-05-11\",\"2022-05-12\",\"2022-05-13\",\"2022-05-14\",\"2022-05-15\",\"2022-05-16\",\"2022-05-17\",\"2022-05-18\",\"2022-05-19\",\"2022-05-20\",\"2022-05-21\",\"2022-05-22\",\"2022-05-23\",\"2022-05-24\",\"2022-05-26\",\"2022-05-27\",\"2022-05-28\",\"2022-05-29\",\"2022-05-30\",\"2022-05-31\",\"2022-06-01\",\"2022-06-02\",\"2022-06-03\",\"2022-06-04\",\"2022-06-05\",\"2022-06-06\",\"2022-06-07\",\"2022-06-08\",\"2022-06-09\",\"2022-06-10\",\"2022-06-11\",\"2022-06-12\",\"2022-06-13\",\"2022-06-14\",\"2022-06-15\",\"2022-06-16\",\"2022-06-17\",\"2022-06-18\",\"2022-06-19\",\"2022-06-20\",\"2022-06-21\",\"2022-06-22\",\"2022-06-23\",\"2022-06-24\",\"2022-06-25\",\"2022-06-26\",\"2022-06-27\",\"2022-06-28\",\"2022-06-29\",\"2022-07-02\",\"2022-07-03\",\"2022-07-04\",\"2022-07-05\",\"2022-07-06\",\"2022-07-07\",\"2022-07-08\",\"2022-07-09\",\"2022-07-10\",\"2022-07-11\",\"2022-07-12\",\"2022-07-13\",\"2022-07-14\",\"2022-07-15\",\"2022-07-16\",\"2022-07-17\",\"2022-07-18\",\"2022-07-19\",\"2022-07-20\",\"2022-07-21\",\"2022-07-22\",\"2022-07-23\",\"2022-07-24\",\"2022-07-25\",\"2022-07-26\",\"2022-07-27\",\"2022-07-28\",\"2022-07-29\",\"2022-07-30\",\"2022-07-31\",\"2022-08-01\",\"2022-08-02\",\"2022-08-03\",\"2022-08-04\",\"2022-08-05\",\"2022-08-06\",\"2022-08-07\",\"2022-08-08\",\"2022-08-09\",\"2022-08-10\",\"2022-08-11\",\"2022-08-12\",\"2022-08-13\",\"2022-08-14\",\"2022-08-15\",\"2022-08-16\",\"2022-08-17\",\"2022-08-18\",\"2022-08-19\",\"2022-08-20\",\"2022-08-21\",\"2022-08-22\",\"2022-08-23\",\"2022-08-24\",\"2022-08-25\",\"2022-08-26\",\"2022-08-27\",\"2022-08-28\",\"2022-08-29\",\"2022-08-30\",\"2022-08-31\",\"2022-09-01\",\"2022-09-02\",\"2022-09-03\",\"2022-09-04\",\"2022-09-05\",\"2022-09-06\",\"2022-09-07\",\"2022-09-08\",\"2022-09-09\",\"2022-09-10\",\"2022-09-11\",\"2022-09-12\",\"2022-09-13\",\"2022-09-14\",\"2022-09-16\"],\"xaxis\":\"x\",\"y\":[16300560.396325707,17658648.89806571,17347162.93101469,16975064.4272259,16797785.791917797,16806788.914961446,16811833.251713973,16734018.396816732,17112088.201657716,17011946.553369317,16970497.972453773,16652439.489730489,14965479.43222849,13323793.673679637,12873959.016227724,11303651.720090585,11007467.34700925,10871655.621807251,12159820.822644686,13505607.403390111,13681356.340413606,14936296.611906191,14923038.910625257,12589322.572192566,12568194.290519638,12656150.217581045,12895523.888825014,13174352.579157157,14758873.283617333,14966112.54168266,13981120.739769287,14329206.281212503,12998453.810260974,13035101.46742987,12935524.996210158,14282421.110996926,14269045.839103565,14234745.430921003,13983623.878515448,12451147.474175066,15269480.34958822,15144035.258112026,13602820.084048048,11961488.017577806,11692883.442188185,10520623.18598848,10597508.98837556,12302652.732426368,12055658.914270565,13312310.455994308,13302684.301300997,15072063.977543931,16640913.820278505,16726833.162031168,15359834.212318948,14337334.69371573,13968809.536106026,13561663.795575554,13355494.93965335,11993273.990426429,12099160.81741657,12943501.406253258,12695278.590656549,12590908.615391329,12418870.720681133,12292307.862216016,13682690.17967298,12526529.102193069,12882839.583889768,11436021.607194657,11324391.68407502,12674892.310120234,11270116.114267657,12775937.96738934,11589932.293703048,13442791.025573203,13942925.906535745,12722266.4979224,14600266.085370503,14866187.212059,14936133.6515846,13608250.734281491,12280254.842698582,14027934.698614923,13825044.782824928,9370691.80449831,9533048.390190354,9701736.487279251,8516841.090446098,9443838.824822633,9364852.622400708,10675149.238137288,11864137.72101284,11742429.723710775,12885260.082449311,11467406.715709897,12690455.363681272,11144443.841934573,9815462.194832023,9820668.402080366,9694690.695536984,9815317.107529247,9585090.849358326,9490934.549195984,10580321.827864258,10357739.355840078,9904135.934160378,9669618.420316638,13644156.129957588,13356814.415303038,11853810.286388464,11775592.976694366,11590485.543108916,11612288.84540094,12868801.298505137,13053035.151801929,14110520.33822723,13778267.472966751,12530386.508751629,12021290.84041947,11497172.066507123,11118384.805893648,10012741.049433025,8903535.797767593,9879758.226772675,8878044.28833642,8912295.660614314,8893381.490528656,8745347.529548453,9631829.455022588,9253797.523018852,10113809.633346066,8627578.21810162,8436459.608976576,8431611.204082683,9263388.742297878,9200360.676142124,8049840.762693316,7924927.841125282,7868657.633253898,7230972.840943344,6065311.089454257,9510080.885098493,10311356.508528523,10188843.301089196,9230875.838806592,10421951.542127308,9410805.585428568,9295633.88340653,8287272.486073527,7205341.804875426,7007599.814036851,6448621.827739158,6996861.265276186,6653012.160243738,7241345.740182835,7813596.111569532,7643831.547008324,7531588.959285109,7505410.359529986,7423733.098475824,6722836.719293342,6849695.54328337,6908397.18765669,6799747.286928598,5966884.493104179,5897396.60152033,6545954.712858573,6358798.550920685,6316020.342904109,5492587.888628663,6037932.844157421,6507796.793347505,6309120.805134576,5657328.519440842,6476220.235650866,6414659.974277817,6216635.331815537,6170705.76427205,6847120.495130398,7568256.8942576,6839261.199889245,6985216.111671757,7127510.381407448,7193205.759368735,6399743.077854154,5758539.531994228,6621291.371501154,6804726.057510258,6060577.235854323,5243187.541894077,5147318.963220172,5064263.508210289,4858667.85518512,3909371.044759281,4096096.090724261,4204594.980261365,4307863.510326613,5003951.526183036,4228045.443139293,4333588.643109683,5018962.503638574,5804053.423344479,5895996.5152875,5037398.072898928,5004869.981366244,4880399.674905674,3947814.281643769,3948862.58109716,4797672.732006527,4884605.922182759,5715605.453048547,6451408.939340082,7364789.98125288,7339247.45884328,6379593.836309846,6259926.059650292,6100968.986072023,5275627.779843024,5031561.367078741,4892291.1739766905,5546647.476200526,5516003.131957986,5482295.180712657,5456852.680862268,4775999.74259103,3957207.108413973,3931561.776743367,4698801.634696487,4061940.882940602,4708582.741603273,5294455.559226955,5380768.831610278,5275279.474289083,4521161.304549058,4425189.697850819,3752298.765401428,3150115.6873833905,3837971.635240448,3236858.334502481,3272351.204580219,3426944.4127864144,4117827.867354317,4050300.34362331,3335873.889345976,3912334.868152091],\"yaxis\":\"y\",\"type\":\"scatter\"},{\"hovertemplate\":\"date=%{x}<br>knowledge=%{y}<extra></extra>\",\"legendgroup\":\"\",\"line\":{\"dash\":\"solid\"},\"marker\":{\"symbol\":\"circle\"},\"mode\":\"lines\",\"name\":\"\",\"orientation\":\"v\",\"showlegend\":false,\"x\":[\"2022-01-05\",\"2022-01-06\",\"2022-01-07\",\"2022-01-08\",\"2022-01-09\",\"2022-01-10\",\"2022-01-11\",\"2022-01-12\",\"2022-01-16\",\"2022-01-17\",\"2022-01-18\",\"2022-01-19\",\"2022-01-20\",\"2022-01-21\",\"2022-01-22\",\"2022-01-23\",\"2022-01-24\",\"2022-01-25\",\"2022-01-26\",\"2022-01-27\",\"2022-01-28\",\"2022-01-29\",\"2022-01-30\",\"2022-01-31\",\"2022-02-01\",\"2022-02-02\",\"2022-02-03\",\"2022-02-04\",\"2022-02-05\",\"2022-02-06\",\"2022-02-07\",\"2022-02-08\",\"2022-02-09\",\"2022-02-10\",\"2022-02-11\",\"2022-02-12\",\"2022-02-13\",\"2022-02-14\",\"2022-02-15\",\"2022-02-16\",\"2022-02-17\",\"2022-02-18\",\"2022-02-19\",\"2022-02-20\",\"2022-02-21\",\"2022-02-22\",\"2022-02-23\",\"2022-02-24\",\"2022-02-25\",\"2022-02-26\",\"2022-02-27\",\"2022-02-28\",\"2022-03-01\",\"2022-03-02\",\"2022-03-03\",\"2022-03-04\",\"2022-03-05\",\"2022-03-06\",\"2022-03-07\",\"2022-03-08\",\"2022-03-09\",\"2022-03-10\",\"2022-03-11\",\"2022-03-12\",\"2022-03-13\",\"2022-03-14\",\"2022-03-15\",\"2022-03-16\",\"2022-03-17\",\"2022-03-18\",\"2022-03-19\",\"2022-03-20\",\"2022-03-21\",\"2022-03-22\",\"2022-03-23\",\"2022-03-24\",\"2022-03-25\",\"2022-03-26\",\"2022-03-27\",\"2022-03-28\",\"2022-03-29\",\"2022-03-30\",\"2022-03-31\",\"2022-04-01\",\"2022-04-02\",\"2022-04-05\",\"2022-04-06\",\"2022-04-07\",\"2022-04-08\",\"2022-04-09\",\"2022-04-10\",\"2022-04-11\",\"2022-04-12\",\"2022-04-13\",\"2022-04-14\",\"2022-04-15\",\"2022-04-16\",\"2022-04-17\",\"2022-04-18\",\"2022-04-19\",\"2022-04-20\",\"2022-04-21\",\"2022-04-22\",\"2022-04-23\",\"2022-04-24\",\"2022-04-25\",\"2022-04-26\",\"2022-04-27\",\"2022-04-28\",\"2022-04-29\",\"2022-04-30\",\"2022-05-01\",\"2022-05-02\",\"2022-05-03\",\"2022-05-04\",\"2022-05-05\",\"2022-05-06\",\"2022-05-07\",\"2022-05-08\",\"2022-05-09\",\"2022-05-10\",\"2022-05-11\",\"2022-05-12\",\"2022-05-13\",\"2022-05-14\",\"2022-05-15\",\"2022-05-16\",\"2022-05-17\",\"2022-05-18\",\"2022-05-19\",\"2022-05-20\",\"2022-05-21\",\"2022-05-22\",\"2022-05-23\",\"2022-05-24\",\"2022-05-26\",\"2022-05-27\",\"2022-05-28\",\"2022-05-29\",\"2022-05-30\",\"2022-05-31\",\"2022-06-01\",\"2022-06-02\",\"2022-06-03\",\"2022-06-04\",\"2022-06-05\",\"2022-06-06\",\"2022-06-07\",\"2022-06-08\",\"2022-06-09\",\"2022-06-10\",\"2022-06-11\",\"2022-06-12\",\"2022-06-13\",\"2022-06-14\",\"2022-06-15\",\"2022-06-16\",\"2022-06-17\",\"2022-06-18\",\"2022-06-19\",\"2022-06-20\",\"2022-06-21\",\"2022-06-22\",\"2022-06-23\",\"2022-06-24\",\"2022-06-25\",\"2022-06-26\",\"2022-06-27\",\"2022-06-28\",\"2022-06-29\",\"2022-07-02\",\"2022-07-03\",\"2022-07-04\",\"2022-07-05\",\"2022-07-06\",\"2022-07-07\",\"2022-07-08\",\"2022-07-09\",\"2022-07-10\",\"2022-07-11\",\"2022-07-12\",\"2022-07-13\",\"2022-07-14\",\"2022-07-15\",\"2022-07-16\",\"2022-07-17\",\"2022-07-18\",\"2022-07-19\",\"2022-07-20\",\"2022-07-21\",\"2022-07-22\",\"2022-07-23\",\"2022-07-24\",\"2022-07-25\",\"2022-07-26\",\"2022-07-27\",\"2022-07-28\",\"2022-07-29\",\"2022-07-30\",\"2022-07-31\",\"2022-08-01\",\"2022-08-02\",\"2022-08-03\",\"2022-08-04\",\"2022-08-05\",\"2022-08-06\",\"2022-08-07\",\"2022-08-08\",\"2022-08-09\",\"2022-08-10\",\"2022-08-11\",\"2022-08-12\",\"2022-08-13\",\"2022-08-14\",\"2022-08-15\",\"2022-08-16\",\"2022-08-17\",\"2022-08-18\",\"2022-08-19\",\"2022-08-20\",\"2022-08-21\",\"2022-08-22\",\"2022-08-23\",\"2022-08-24\",\"2022-08-25\",\"2022-08-26\",\"2022-08-27\",\"2022-08-28\",\"2022-08-29\",\"2022-08-30\",\"2022-08-31\",\"2022-09-01\",\"2022-09-02\",\"2022-09-03\",\"2022-09-04\",\"2022-09-05\",\"2022-09-06\",\"2022-09-07\",\"2022-09-08\",\"2022-09-09\",\"2022-09-10\",\"2022-09-11\",\"2022-09-12\",\"2022-09-13\",\"2022-09-14\",\"2022-09-16\"],\"xaxis\":\"x\",\"y\":[1.902573561985016,2.3161703051125064,2.1003807000025114,2.178304724070009,2.346141083600005,2.370117706390005,2.292193682322506,2.4660241975500026,2.2206343887948226,2.3009677706169094,2.1224491443456044,1.7654118918029955,1.131670768539864,0.2390776371833415,-0.1179596153592686,-0.7874044638766609,-0.6178117689189204,-0.6535154941731823,0.1855220493019501,1.0959670432856037,1.1495226311669948,1.8011156170572562,1.577967334218126,0.978044164480294,0.7610906079408601,0.0620180368693503,0.218706716592276,-0.0344057660370633,0.8575144108472738,0.8454614354839726,0.1463888644124647,0.7128787064876513,-0.0344057660370633,0.3271834948619928,0.0620180368693503,0.9539382137536896,0.9418852383903884,0.9057263123004826,0.7128787064876513,-0.3839420515728182,2.172310568372509,2.052427454422512,1.5009651302525242,1.0034502073600364,1.0633917643350346,0.5119294401650469,0.4999411287700478,-0.3959950269361194,-0.4803658544792339,0.5079781253115209,0.4115543224051052,1.3155274746527457,2.5449309617095364,2.569036912436141,1.5445340065554805,0.749037632577557,0.8936733369371794,0.990097139843595,-0.1067236182168745,-0.902219992194798,-0.661160484928762,-0.4442069283893283,-1.1071205733709304,-1.4566568589066855,-0.7334783371085732,-0.661160484928762,-0.7937432139250812,-1.4446038835433823,-0.9504318936480068,-1.8182461198057405,-1.7700342183525335,-0.4924188298425351,-0.5285777559324407,0.6526138296711433,-0.0464587414003665,1.2552625978362355,0.4115543224051052,-1.0589086719177236,-0.3598361008462138,-0.5767896573856475,-0.6973194110186676,-1.5892395879030046,-1.709769341536025,-0.6973194110186676,-0.3959950269361194,0.0803502299450567,0.0563736071550576,-0.0515211953999398,-0.5850010524774275,-0.2013750878374366,-0.1953809321399365,0.2601749008700527,0.7876606022500413,0.8236255364350404,1.255204746655031,0.7157307338800429,1.1533040997975326,0.4939469730725473,-0.087486129584939,-0.1474276865599378,-0.2073692435349361,-0.1354393751649377,-0.48909456131743,-0.579006896779928,-0.0515211953999398,-0.1714043093499369,0.0503794514575581,0.0084203615750584,0.7210779281158639,0.1765961179883839,-0.8766637770123126,-0.8677378456987479,-1.2515528921820522,-1.0194786780293557,-0.3321819668848341,0.1051886674798631,0.9085224857007336,0.8103372412515157,0.453299988708907,0.3015591563782976,0.3640406755732537,0.2480035684969062,-0.3946634860797902,-0.930219364893704,-0.055478096164311,-0.6088858376053558,-0.7784785325630946,-0.4660709365883125,-0.6445895628596161,0.1230405301069925,0.1582742540125556,0.7037424224850429,0.0863443856425573,0.1103210084325564,0.0683619185500577,0.5718709971400462,0.5898534642325458,0.1103210084325564,-0.0095621055174411,-0.0814919738874389,-0.0994744409799385,-0.5190653398049292,-0.1268855466728333,0.5782630270988193,0.6228926836666459,-0.1804411345542247,0.8460409665057761,-0.055478096164311,-0.153663340613529,-1.0819601972243134,-1.8228124962502272,-1.974553328580836,-2.376220237691271,-1.53718269421614,-1.4479233810804868,-0.8141822578173565,0.1319664614205588,0.2212257745562106,0.5425593018445588,0.8460409665057761,0.8638928291329071,0.3461888129461243,0.2837072937511666,0.2033739119290796,-0.055478096164311,-1.189071372987096,-1.0819601972243134,-0.2786263790034428,-0.4035894173933549,-0.3054041729441384,-0.3092698903924341,0.4160229490050494,1.123333321310033,1.201257345377532,0.5119294401650469,0.907543716200038,0.7576898237625417,0.4399995717950485,0.3380989249375515,0.7516956680650422,1.2432164352600306,0.7816664465525408,0.7157307338800429,0.9135378718975384,0.9854677402675368,0.4819586616775483,0.0144145172725589,0.4819586616775483,0.6018417756275448,-0.093480285282439,-0.782808190494923,-0.9326620829324196,-0.8247672803774222,-0.8007906575874225,-1.3222822032699106,-1.274328957689912,-1.2563464905974122,-1.1724283108324145,-0.91467961583992,-1.5140951855899063,-1.496112718497407,-0.8367555917724218,-0.1714043093499369,-0.0635095067949394,-0.5370478068974287,-0.5969893638724275,-0.6689192322424259,-1.3342705146649108,-1.4721360957074074,-0.92067377153742,-0.878714681654921,-0.6389484537549263,-0.183392620744937,0.4399995717950485,0.3680697034250502,-0.2912874232999345,-0.3152640460899336,-0.2013750878374366,-0.7348549449149242,-0.8487439031674218,-0.6629250765449258,-0.0635095067949394,-0.0994744409799385,0.0863443856425573,0.1822508768025548,-0.387193914459932,-1.1244750652524151,-1.274328957689912,-0.6269601423599267,-1.0285685740924178,-0.5370478068974287,-0.0275445726099407,0.0563736071550576,0.0323969843650585,-0.6389484537549263,-0.8127789689824226,-1.3282763589674107,-1.8078088147673996,-1.280323113387412,-1.7598555691874007,-1.7178964793049016,-1.6040075210524043,-1.0705276639749164,-1.1604399994374144,-1.6579549223299033,-1.0225744183949177],\"yaxis\":\"y2\",\"type\":\"scatter\"}],                        {\"template\":{\"data\":{\"histogram2dcontour\":[{\"type\":\"histogram2dcontour\",\"colorbar\":{\"outlinewidth\":0,\"ticks\":\"\"},\"colorscale\":[[0.0,\"#0d0887\"],[0.1111111111111111,\"#46039f\"],[0.2222222222222222,\"#7201a8\"],[0.3333333333333333,\"#9c179e\"],[0.4444444444444444,\"#bd3786\"],[0.5555555555555556,\"#d8576b\"],[0.6666666666666666,\"#ed7953\"],[0.7777777777777778,\"#fb9f3a\"],[0.8888888888888888,\"#fdca26\"],[1.0,\"#f0f921\"]]}],\"choropleth\":[{\"type\":\"choropleth\",\"colorbar\":{\"outlinewidth\":0,\"ticks\":\"\"}}],\"histogram2d\":[{\"type\":\"histogram2d\",\"colorbar\":{\"outlinewidth\":0,\"ticks\":\"\"},\"colorscale\":[[0.0,\"#0d0887\"],[0.1111111111111111,\"#46039f\"],[0.2222222222222222,\"#7201a8\"],[0.3333333333333333,\"#9c179e\"],[0.4444444444444444,\"#bd3786\"],[0.5555555555555556,\"#d8576b\"],[0.6666666666666666,\"#ed7953\"],[0.7777777777777778,\"#fb9f3a\"],[0.8888888888888888,\"#fdca26\"],[1.0,\"#f0f921\"]]}],\"heatmap\":[{\"type\":\"heatmap\",\"colorbar\":{\"outlinewidth\":0,\"ticks\":\"\"},\"colorscale\":[[0.0,\"#0d0887\"],[0.1111111111111111,\"#46039f\"],[0.2222222222222222,\"#7201a8\"],[0.3333333333333333,\"#9c179e\"],[0.4444444444444444,\"#bd3786\"],[0.5555555555555556,\"#d8576b\"],[0.6666666666666666,\"#ed7953\"],[0.7777777777777778,\"#fb9f3a\"],[0.8888888888888888,\"#fdca26\"],[1.0,\"#f0f921\"]]}],\"heatmapgl\":[{\"type\":\"heatmapgl\",\"colorbar\":{\"outlinewidth\":0,\"ticks\":\"\"},\"colorscale\":[[0.0,\"#0d0887\"],[0.1111111111111111,\"#46039f\"],[0.2222222222222222,\"#7201a8\"],[0.3333333333333333,\"#9c179e\"],[0.4444444444444444,\"#bd3786\"],[0.5555555555555556,\"#d8576b\"],[0.6666666666666666,\"#ed7953\"],[0.7777777777777778,\"#fb9f3a\"],[0.8888888888888888,\"#fdca26\"],[1.0,\"#f0f921\"]]}],\"contourcarpet\":[{\"type\":\"contourcarpet\",\"colorbar\":{\"outlinewidth\":0,\"ticks\":\"\"}}],\"contour\":[{\"type\":\"contour\",\"colorbar\":{\"outlinewidth\":0,\"ticks\":\"\"},\"colorscale\":[[0.0,\"#0d0887\"],[0.1111111111111111,\"#46039f\"],[0.2222222222222222,\"#7201a8\"],[0.3333333333333333,\"#9c179e\"],[0.4444444444444444,\"#bd3786\"],[0.5555555555555556,\"#d8576b\"],[0.6666666666666666,\"#ed7953\"],[0.7777777777777778,\"#fb9f3a\"],[0.8888888888888888,\"#fdca26\"],[1.0,\"#f0f921\"]]}],\"surface\":[{\"type\":\"surface\",\"colorbar\":{\"outlinewidth\":0,\"ticks\":\"\"},\"colorscale\":[[0.0,\"#0d0887\"],[0.1111111111111111,\"#46039f\"],[0.2222222222222222,\"#7201a8\"],[0.3333333333333333,\"#9c179e\"],[0.4444444444444444,\"#bd3786\"],[0.5555555555555556,\"#d8576b\"],[0.6666666666666666,\"#ed7953\"],[0.7777777777777778,\"#fb9f3a\"],[0.8888888888888888,\"#fdca26\"],[1.0,\"#f0f921\"]]}],\"mesh3d\":[{\"type\":\"mesh3d\",\"colorbar\":{\"outlinewidth\":0,\"ticks\":\"\"}}],\"scatter\":[{\"fillpattern\":{\"fillmode\":\"overlay\",\"size\":10,\"solidity\":0.2},\"type\":\"scatter\"}],\"parcoords\":[{\"type\":\"parcoords\",\"line\":{\"colorbar\":{\"outlinewidth\":0,\"ticks\":\"\"}}}],\"scatterpolargl\":[{\"type\":\"scatterpolargl\",\"marker\":{\"colorbar\":{\"outlinewidth\":0,\"ticks\":\"\"}}}],\"bar\":[{\"error_x\":{\"color\":\"#2a3f5f\"},\"error_y\":{\"color\":\"#2a3f5f\"},\"marker\":{\"line\":{\"color\":\"#E5ECF6\",\"width\":0.5},\"pattern\":{\"fillmode\":\"overlay\",\"size\":10,\"solidity\":0.2}},\"type\":\"bar\"}],\"scattergeo\":[{\"type\":\"scattergeo\",\"marker\":{\"colorbar\":{\"outlinewidth\":0,\"ticks\":\"\"}}}],\"scatterpolar\":[{\"type\":\"scatterpolar\",\"marker\":{\"colorbar\":{\"outlinewidth\":0,\"ticks\":\"\"}}}],\"histogram\":[{\"marker\":{\"pattern\":{\"fillmode\":\"overlay\",\"size\":10,\"solidity\":0.2}},\"type\":\"histogram\"}],\"scattergl\":[{\"type\":\"scattergl\",\"marker\":{\"colorbar\":{\"outlinewidth\":0,\"ticks\":\"\"}}}],\"scatter3d\":[{\"type\":\"scatter3d\",\"line\":{\"colorbar\":{\"outlinewidth\":0,\"ticks\":\"\"}},\"marker\":{\"colorbar\":{\"outlinewidth\":0,\"ticks\":\"\"}}}],\"scattermapbox\":[{\"type\":\"scattermapbox\",\"marker\":{\"colorbar\":{\"outlinewidth\":0,\"ticks\":\"\"}}}],\"scatterternary\":[{\"type\":\"scatterternary\",\"marker\":{\"colorbar\":{\"outlinewidth\":0,\"ticks\":\"\"}}}],\"scattercarpet\":[{\"type\":\"scattercarpet\",\"marker\":{\"colorbar\":{\"outlinewidth\":0,\"ticks\":\"\"}}}],\"carpet\":[{\"aaxis\":{\"endlinecolor\":\"#2a3f5f\",\"gridcolor\":\"white\",\"linecolor\":\"white\",\"minorgridcolor\":\"white\",\"startlinecolor\":\"#2a3f5f\"},\"baxis\":{\"endlinecolor\":\"#2a3f5f\",\"gridcolor\":\"white\",\"linecolor\":\"white\",\"minorgridcolor\":\"white\",\"startlinecolor\":\"#2a3f5f\"},\"type\":\"carpet\"}],\"table\":[{\"cells\":{\"fill\":{\"color\":\"#EBF0F8\"},\"line\":{\"color\":\"white\"}},\"header\":{\"fill\":{\"color\":\"#C8D4E3\"},\"line\":{\"color\":\"white\"}},\"type\":\"table\"}],\"barpolar\":[{\"marker\":{\"line\":{\"color\":\"#E5ECF6\",\"width\":0.5},\"pattern\":{\"fillmode\":\"overlay\",\"size\":10,\"solidity\":0.2}},\"type\":\"barpolar\"}],\"pie\":[{\"automargin\":true,\"type\":\"pie\"}]},\"layout\":{\"autotypenumbers\":\"strict\",\"colorway\":[\"#636efa\",\"#EF553B\",\"#00cc96\",\"#ab63fa\",\"#FFA15A\",\"#19d3f3\",\"#FF6692\",\"#B6E880\",\"#FF97FF\",\"#FECB52\"],\"font\":{\"color\":\"#2a3f5f\"},\"hovermode\":\"closest\",\"hoverlabel\":{\"align\":\"left\"},\"paper_bgcolor\":\"white\",\"plot_bgcolor\":\"#E5ECF6\",\"polar\":{\"bgcolor\":\"#E5ECF6\",\"angularaxis\":{\"gridcolor\":\"white\",\"linecolor\":\"white\",\"ticks\":\"\"},\"radialaxis\":{\"gridcolor\":\"white\",\"linecolor\":\"white\",\"ticks\":\"\"}},\"ternary\":{\"bgcolor\":\"#E5ECF6\",\"aaxis\":{\"gridcolor\":\"white\",\"linecolor\":\"white\",\"ticks\":\"\"},\"baxis\":{\"gridcolor\":\"white\",\"linecolor\":\"white\",\"ticks\":\"\"},\"caxis\":{\"gridcolor\":\"white\",\"linecolor\":\"white\",\"ticks\":\"\"}},\"coloraxis\":{\"colorbar\":{\"outlinewidth\":0,\"ticks\":\"\"}},\"colorscale\":{\"sequential\":[[0.0,\"#0d0887\"],[0.1111111111111111,\"#46039f\"],[0.2222222222222222,\"#7201a8\"],[0.3333333333333333,\"#9c179e\"],[0.4444444444444444,\"#bd3786\"],[0.5555555555555556,\"#d8576b\"],[0.6666666666666666,\"#ed7953\"],[0.7777777777777778,\"#fb9f3a\"],[0.8888888888888888,\"#fdca26\"],[1.0,\"#f0f921\"]],\"sequentialminus\":[[0.0,\"#0d0887\"],[0.1111111111111111,\"#46039f\"],[0.2222222222222222,\"#7201a8\"],[0.3333333333333333,\"#9c179e\"],[0.4444444444444444,\"#bd3786\"],[0.5555555555555556,\"#d8576b\"],[0.6666666666666666,\"#ed7953\"],[0.7777777777777778,\"#fb9f3a\"],[0.8888888888888888,\"#fdca26\"],[1.0,\"#f0f921\"]],\"diverging\":[[0,\"#8e0152\"],[0.1,\"#c51b7d\"],[0.2,\"#de77ae\"],[0.3,\"#f1b6da\"],[0.4,\"#fde0ef\"],[0.5,\"#f7f7f7\"],[0.6,\"#e6f5d0\"],[0.7,\"#b8e186\"],[0.8,\"#7fbc41\"],[0.9,\"#4d9221\"],[1,\"#276419\"]]},\"xaxis\":{\"gridcolor\":\"white\",\"linecolor\":\"white\",\"ticks\":\"\",\"title\":{\"standoff\":15},\"zerolinecolor\":\"white\",\"automargin\":true,\"zerolinewidth\":2},\"yaxis\":{\"gridcolor\":\"white\",\"linecolor\":\"white\",\"ticks\":\"\",\"title\":{\"standoff\":15},\"zerolinecolor\":\"white\",\"automargin\":true,\"zerolinewidth\":2},\"scene\":{\"xaxis\":{\"backgroundcolor\":\"#E5ECF6\",\"gridcolor\":\"white\",\"linecolor\":\"white\",\"showbackground\":true,\"ticks\":\"\",\"zerolinecolor\":\"white\",\"gridwidth\":2},\"yaxis\":{\"backgroundcolor\":\"#E5ECF6\",\"gridcolor\":\"white\",\"linecolor\":\"white\",\"showbackground\":true,\"ticks\":\"\",\"zerolinecolor\":\"white\",\"gridwidth\":2},\"zaxis\":{\"backgroundcolor\":\"#E5ECF6\",\"gridcolor\":\"white\",\"linecolor\":\"white\",\"showbackground\":true,\"ticks\":\"\",\"zerolinecolor\":\"white\",\"gridwidth\":2}},\"shapedefaults\":{\"line\":{\"color\":\"#2a3f5f\"}},\"annotationdefaults\":{\"arrowcolor\":\"#2a3f5f\",\"arrowhead\":0,\"arrowwidth\":1},\"geo\":{\"bgcolor\":\"white\",\"landcolor\":\"#E5ECF6\",\"subunitcolor\":\"white\",\"showland\":true,\"showlakes\":true,\"lakecolor\":\"white\"},\"title\":{\"x\":0.05},\"mapbox\":{\"style\":\"light\"}}},\"xaxis\":{\"anchor\":\"y\",\"domain\":[0.0,0.94]},\"yaxis\":{\"anchor\":\"x\",\"domain\":[0.0,1.0]},\"yaxis2\":{\"anchor\":\"x\",\"overlaying\":\"y\",\"side\":\"right\"}},                        {\"responsive\": true}                    ).then(function(){\n",
       "                            \n",
       "var gd = document.getElementById('b0057af2-1be3-4610-be36-b81a1f48717f');\n",
       "var x = new MutationObserver(function (mutations, observer) {{\n",
       "        var display = window.getComputedStyle(gd).display;\n",
       "        if (!display || display === 'none') {{\n",
       "            console.log([gd, 'removed!']);\n",
       "            Plotly.purge(gd);\n",
       "            observer.disconnect();\n",
       "        }}\n",
       "}});\n",
       "\n",
       "// Listen for the removal of the full notebook cells\n",
       "var notebookContainer = gd.closest('#notebook-container');\n",
       "if (notebookContainer) {{\n",
       "    x.observe(notebookContainer, {childList: true});\n",
       "}}\n",
       "\n",
       "// Listen for the clearing of the current output cell\n",
       "var outputEl = gd.closest('.output');\n",
       "if (outputEl) {{\n",
       "    x.observe(outputEl, {childList: true});\n",
       "}}\n",
       "\n",
       "                        })                };                });            </script>        </div>"
      ]
     },
     "metadata": {},
     "output_type": "display_data"
    },
    {
     "data": {
      "application/vnd.plotly.v1+json": {
       "config": {
        "plotlyServerURL": "https://plot.ly"
       },
       "data": [
        {
         "hovertemplate": "date=%{x}<br>Mean=%{y}<extra></extra>",
         "legendgroup": "",
         "line": {
          "dash": "solid"
         },
         "marker": {
          "symbol": "circle"
         },
         "mode": "lines",
         "name": "",
         "orientation": "v",
         "showlegend": false,
         "type": "scatter",
         "x": [
          "2022-01-05",
          "2022-01-06",
          "2022-01-07",
          "2022-01-08",
          "2022-01-09",
          "2022-01-10",
          "2022-01-11",
          "2022-01-12",
          "2022-01-16",
          "2022-01-17",
          "2022-01-18",
          "2022-01-19",
          "2022-01-20",
          "2022-01-21",
          "2022-01-22",
          "2022-01-23",
          "2022-01-24",
          "2022-01-25",
          "2022-01-26",
          "2022-01-27",
          "2022-01-28",
          "2022-01-29",
          "2022-01-30",
          "2022-01-31",
          "2022-02-01",
          "2022-02-02",
          "2022-02-03",
          "2022-02-04",
          "2022-02-05",
          "2022-02-06",
          "2022-02-07",
          "2022-02-08",
          "2022-02-09",
          "2022-02-10",
          "2022-02-11",
          "2022-02-12",
          "2022-02-13",
          "2022-02-14",
          "2022-02-15",
          "2022-02-16",
          "2022-02-17",
          "2022-02-18",
          "2022-02-19",
          "2022-02-20",
          "2022-02-21",
          "2022-02-22",
          "2022-02-23",
          "2022-02-24",
          "2022-02-25",
          "2022-02-26",
          "2022-02-27",
          "2022-02-28",
          "2022-03-01",
          "2022-03-02",
          "2022-03-03",
          "2022-03-04",
          "2022-03-05",
          "2022-03-06",
          "2022-03-07",
          "2022-03-08",
          "2022-03-09",
          "2022-03-10",
          "2022-03-11",
          "2022-03-12",
          "2022-03-13",
          "2022-03-14",
          "2022-03-15",
          "2022-03-16",
          "2022-03-17",
          "2022-03-18",
          "2022-03-19",
          "2022-03-20",
          "2022-03-21",
          "2022-03-22",
          "2022-03-23",
          "2022-03-24",
          "2022-03-25",
          "2022-03-26",
          "2022-03-27",
          "2022-03-28",
          "2022-03-29",
          "2022-03-30",
          "2022-03-31",
          "2022-04-01",
          "2022-04-02",
          "2022-04-05",
          "2022-04-06",
          "2022-04-07",
          "2022-04-08",
          "2022-04-09",
          "2022-04-10",
          "2022-04-11",
          "2022-04-12",
          "2022-04-13",
          "2022-04-14",
          "2022-04-15",
          "2022-04-16",
          "2022-04-17",
          "2022-04-18",
          "2022-04-19",
          "2022-04-20",
          "2022-04-21",
          "2022-04-22",
          "2022-04-23",
          "2022-04-24",
          "2022-04-25",
          "2022-04-26",
          "2022-04-27",
          "2022-04-28",
          "2022-04-29",
          "2022-04-30",
          "2022-05-01",
          "2022-05-02",
          "2022-05-03",
          "2022-05-04",
          "2022-05-05",
          "2022-05-06",
          "2022-05-07",
          "2022-05-08",
          "2022-05-09",
          "2022-05-10",
          "2022-05-11",
          "2022-05-12",
          "2022-05-13",
          "2022-05-14",
          "2022-05-15",
          "2022-05-16",
          "2022-05-17",
          "2022-05-18",
          "2022-05-19",
          "2022-05-20",
          "2022-05-21",
          "2022-05-22",
          "2022-05-23",
          "2022-05-24",
          "2022-05-26",
          "2022-05-27",
          "2022-05-28",
          "2022-05-29",
          "2022-05-30",
          "2022-05-31",
          "2022-06-01",
          "2022-06-02",
          "2022-06-03",
          "2022-06-04",
          "2022-06-05",
          "2022-06-06",
          "2022-06-07",
          "2022-06-08",
          "2022-06-09",
          "2022-06-10",
          "2022-06-11",
          "2022-06-12",
          "2022-06-13",
          "2022-06-14",
          "2022-06-15",
          "2022-06-16",
          "2022-06-17",
          "2022-06-18",
          "2022-06-19",
          "2022-06-20",
          "2022-06-21",
          "2022-06-22",
          "2022-06-23",
          "2022-06-24",
          "2022-06-25",
          "2022-06-26",
          "2022-06-27",
          "2022-06-28",
          "2022-06-29",
          "2022-07-02",
          "2022-07-03",
          "2022-07-04",
          "2022-07-05",
          "2022-07-06",
          "2022-07-07",
          "2022-07-08",
          "2022-07-09",
          "2022-07-10",
          "2022-07-11",
          "2022-07-12",
          "2022-07-13",
          "2022-07-14",
          "2022-07-15",
          "2022-07-16",
          "2022-07-17",
          "2022-07-18",
          "2022-07-19",
          "2022-07-20",
          "2022-07-21",
          "2022-07-22",
          "2022-07-23",
          "2022-07-24",
          "2022-07-25",
          "2022-07-26",
          "2022-07-27",
          "2022-07-28",
          "2022-07-29",
          "2022-07-30",
          "2022-07-31",
          "2022-08-01",
          "2022-08-02",
          "2022-08-03",
          "2022-08-04",
          "2022-08-05",
          "2022-08-06",
          "2022-08-07",
          "2022-08-08",
          "2022-08-09",
          "2022-08-10",
          "2022-08-11",
          "2022-08-12",
          "2022-08-13",
          "2022-08-14",
          "2022-08-15",
          "2022-08-16",
          "2022-08-17",
          "2022-08-18",
          "2022-08-19",
          "2022-08-20",
          "2022-08-21",
          "2022-08-22",
          "2022-08-23",
          "2022-08-24",
          "2022-08-25",
          "2022-08-26",
          "2022-08-27",
          "2022-08-28",
          "2022-08-29",
          "2022-08-30",
          "2022-08-31",
          "2022-09-01",
          "2022-09-02",
          "2022-09-03",
          "2022-09-04",
          "2022-09-05",
          "2022-09-06",
          "2022-09-07",
          "2022-09-08",
          "2022-09-09",
          "2022-09-10",
          "2022-09-11",
          "2022-09-12",
          "2022-09-13",
          "2022-09-14",
          "2022-09-16"
         ],
         "xaxis": "x",
         "y": [
          16300560.396325707,
          17658648.89806571,
          17347162.93101469,
          16975064.4272259,
          16797785.791917797,
          16806788.914961446,
          16811833.251713973,
          16734018.396816732,
          17112088.201657716,
          17011946.553369317,
          16970497.972453773,
          16652439.489730489,
          14965479.43222849,
          13323793.673679637,
          12873959.016227724,
          11303651.720090585,
          11007467.34700925,
          10871655.621807251,
          12159820.822644686,
          13505607.403390111,
          13681356.340413606,
          14936296.611906191,
          14923038.910625257,
          12589322.572192566,
          12568194.290519638,
          12656150.217581045,
          12895523.888825014,
          13174352.579157157,
          14758873.283617333,
          14966112.54168266,
          13981120.739769287,
          14329206.281212503,
          12998453.810260974,
          13035101.46742987,
          12935524.996210158,
          14282421.110996926,
          14269045.839103565,
          14234745.430921003,
          13983623.878515448,
          12451147.474175066,
          15269480.34958822,
          15144035.258112026,
          13602820.084048048,
          11961488.017577806,
          11692883.442188185,
          10520623.18598848,
          10597508.98837556,
          12302652.732426368,
          12055658.914270565,
          13312310.455994308,
          13302684.301300997,
          15072063.977543931,
          16640913.820278505,
          16726833.162031168,
          15359834.212318948,
          14337334.69371573,
          13968809.536106026,
          13561663.795575554,
          13355494.93965335,
          11993273.990426429,
          12099160.81741657,
          12943501.406253258,
          12695278.590656549,
          12590908.615391329,
          12418870.720681133,
          12292307.862216016,
          13682690.17967298,
          12526529.102193069,
          12882839.583889768,
          11436021.607194657,
          11324391.68407502,
          12674892.310120234,
          11270116.114267657,
          12775937.96738934,
          11589932.293703048,
          13442791.025573203,
          13942925.906535745,
          12722266.4979224,
          14600266.085370503,
          14866187.212059,
          14936133.6515846,
          13608250.734281491,
          12280254.842698582,
          14027934.698614923,
          13825044.782824928,
          9370691.80449831,
          9533048.390190354,
          9701736.487279251,
          8516841.090446098,
          9443838.824822633,
          9364852.622400708,
          10675149.238137288,
          11864137.72101284,
          11742429.723710775,
          12885260.082449311,
          11467406.715709897,
          12690455.363681272,
          11144443.841934573,
          9815462.194832023,
          9820668.402080366,
          9694690.695536984,
          9815317.107529247,
          9585090.849358326,
          9490934.549195984,
          10580321.827864258,
          10357739.355840078,
          9904135.934160378,
          9669618.420316638,
          13644156.129957588,
          13356814.415303038,
          11853810.286388464,
          11775592.976694366,
          11590485.543108916,
          11612288.84540094,
          12868801.298505137,
          13053035.151801929,
          14110520.33822723,
          13778267.472966751,
          12530386.508751629,
          12021290.84041947,
          11497172.066507123,
          11118384.805893648,
          10012741.049433025,
          8903535.797767593,
          9879758.226772675,
          8878044.28833642,
          8912295.660614314,
          8893381.490528656,
          8745347.529548453,
          9631829.455022588,
          9253797.523018852,
          10113809.633346066,
          8627578.21810162,
          8436459.608976576,
          8431611.204082683,
          9263388.742297878,
          9200360.676142124,
          8049840.762693316,
          7924927.841125282,
          7868657.633253898,
          7230972.840943344,
          6065311.089454257,
          9510080.885098493,
          10311356.508528523,
          10188843.301089196,
          9230875.838806592,
          10421951.542127308,
          9410805.585428568,
          9295633.88340653,
          8287272.486073527,
          7205341.804875426,
          7007599.814036851,
          6448621.827739158,
          6996861.265276186,
          6653012.160243738,
          7241345.740182835,
          7813596.111569532,
          7643831.547008324,
          7531588.959285109,
          7505410.359529986,
          7423733.098475824,
          6722836.719293342,
          6849695.54328337,
          6908397.18765669,
          6799747.286928598,
          5966884.493104179,
          5897396.60152033,
          6545954.712858573,
          6358798.550920685,
          6316020.342904109,
          5492587.888628663,
          6037932.844157421,
          6507796.793347505,
          6309120.805134576,
          5657328.519440842,
          6476220.235650866,
          6414659.974277817,
          6216635.331815537,
          6170705.76427205,
          6847120.495130398,
          7568256.8942576,
          6839261.199889245,
          6985216.111671757,
          7127510.381407448,
          7193205.759368735,
          6399743.077854154,
          5758539.531994228,
          6621291.371501154,
          6804726.057510258,
          6060577.235854323,
          5243187.541894077,
          5147318.963220172,
          5064263.508210289,
          4858667.85518512,
          3909371.044759281,
          4096096.090724261,
          4204594.980261365,
          4307863.510326613,
          5003951.526183036,
          4228045.443139293,
          4333588.643109683,
          5018962.503638574,
          5804053.423344479,
          5895996.5152875,
          5037398.072898928,
          5004869.981366244,
          4880399.674905674,
          3947814.281643769,
          3948862.58109716,
          4797672.732006527,
          4884605.922182759,
          5715605.453048547,
          6451408.939340082,
          7364789.98125288,
          7339247.45884328,
          6379593.836309846,
          6259926.059650292,
          6100968.986072023,
          5275627.779843024,
          5031561.367078741,
          4892291.1739766905,
          5546647.476200526,
          5516003.131957986,
          5482295.180712657,
          5456852.680862268,
          4775999.74259103,
          3957207.108413973,
          3931561.776743367,
          4698801.634696487,
          4061940.882940602,
          4708582.741603273,
          5294455.559226955,
          5380768.831610278,
          5275279.474289083,
          4521161.304549058,
          4425189.697850819,
          3752298.765401428,
          3150115.6873833905,
          3837971.635240448,
          3236858.334502481,
          3272351.204580219,
          3426944.4127864144,
          4117827.867354317,
          4050300.34362331,
          3335873.889345976,
          3912334.868152091
         ],
         "yaxis": "y"
        },
        {
         "hovertemplate": "date=%{x}<br>power=%{y}<extra></extra>",
         "legendgroup": "",
         "line": {
          "dash": "solid"
         },
         "marker": {
          "symbol": "circle"
         },
         "mode": "lines",
         "name": "",
         "orientation": "v",
         "showlegend": false,
         "type": "scatter",
         "x": [
          "2022-01-05",
          "2022-01-06",
          "2022-01-07",
          "2022-01-08",
          "2022-01-09",
          "2022-01-10",
          "2022-01-11",
          "2022-01-12",
          "2022-01-16",
          "2022-01-17",
          "2022-01-18",
          "2022-01-19",
          "2022-01-20",
          "2022-01-21",
          "2022-01-22",
          "2022-01-23",
          "2022-01-24",
          "2022-01-25",
          "2022-01-26",
          "2022-01-27",
          "2022-01-28",
          "2022-01-29",
          "2022-01-30",
          "2022-01-31",
          "2022-02-01",
          "2022-02-02",
          "2022-02-03",
          "2022-02-04",
          "2022-02-05",
          "2022-02-06",
          "2022-02-07",
          "2022-02-08",
          "2022-02-09",
          "2022-02-10",
          "2022-02-11",
          "2022-02-12",
          "2022-02-13",
          "2022-02-14",
          "2022-02-15",
          "2022-02-16",
          "2022-02-17",
          "2022-02-18",
          "2022-02-19",
          "2022-02-20",
          "2022-02-21",
          "2022-02-22",
          "2022-02-23",
          "2022-02-24",
          "2022-02-25",
          "2022-02-26",
          "2022-02-27",
          "2022-02-28",
          "2022-03-01",
          "2022-03-02",
          "2022-03-03",
          "2022-03-04",
          "2022-03-05",
          "2022-03-06",
          "2022-03-07",
          "2022-03-08",
          "2022-03-09",
          "2022-03-10",
          "2022-03-11",
          "2022-03-12",
          "2022-03-13",
          "2022-03-14",
          "2022-03-15",
          "2022-03-16",
          "2022-03-17",
          "2022-03-18",
          "2022-03-19",
          "2022-03-20",
          "2022-03-21",
          "2022-03-22",
          "2022-03-23",
          "2022-03-24",
          "2022-03-25",
          "2022-03-26",
          "2022-03-27",
          "2022-03-28",
          "2022-03-29",
          "2022-03-30",
          "2022-03-31",
          "2022-04-01",
          "2022-04-02",
          "2022-04-05",
          "2022-04-06",
          "2022-04-07",
          "2022-04-08",
          "2022-04-09",
          "2022-04-10",
          "2022-04-11",
          "2022-04-12",
          "2022-04-13",
          "2022-04-14",
          "2022-04-15",
          "2022-04-16",
          "2022-04-17",
          "2022-04-18",
          "2022-04-19",
          "2022-04-20",
          "2022-04-21",
          "2022-04-22",
          "2022-04-23",
          "2022-04-24",
          "2022-04-25",
          "2022-04-26",
          "2022-04-27",
          "2022-04-28",
          "2022-04-29",
          "2022-04-30",
          "2022-05-01",
          "2022-05-02",
          "2022-05-03",
          "2022-05-04",
          "2022-05-05",
          "2022-05-06",
          "2022-05-07",
          "2022-05-08",
          "2022-05-09",
          "2022-05-10",
          "2022-05-11",
          "2022-05-12",
          "2022-05-13",
          "2022-05-14",
          "2022-05-15",
          "2022-05-16",
          "2022-05-17",
          "2022-05-18",
          "2022-05-19",
          "2022-05-20",
          "2022-05-21",
          "2022-05-22",
          "2022-05-23",
          "2022-05-24",
          "2022-05-26",
          "2022-05-27",
          "2022-05-28",
          "2022-05-29",
          "2022-05-30",
          "2022-05-31",
          "2022-06-01",
          "2022-06-02",
          "2022-06-03",
          "2022-06-04",
          "2022-06-05",
          "2022-06-06",
          "2022-06-07",
          "2022-06-08",
          "2022-06-09",
          "2022-06-10",
          "2022-06-11",
          "2022-06-12",
          "2022-06-13",
          "2022-06-14",
          "2022-06-15",
          "2022-06-16",
          "2022-06-17",
          "2022-06-18",
          "2022-06-19",
          "2022-06-20",
          "2022-06-21",
          "2022-06-22",
          "2022-06-23",
          "2022-06-24",
          "2022-06-25",
          "2022-06-26",
          "2022-06-27",
          "2022-06-28",
          "2022-06-29",
          "2022-07-02",
          "2022-07-03",
          "2022-07-04",
          "2022-07-05",
          "2022-07-06",
          "2022-07-07",
          "2022-07-08",
          "2022-07-09",
          "2022-07-10",
          "2022-07-11",
          "2022-07-12",
          "2022-07-13",
          "2022-07-14",
          "2022-07-15",
          "2022-07-16",
          "2022-07-17",
          "2022-07-18",
          "2022-07-19",
          "2022-07-20",
          "2022-07-21",
          "2022-07-22",
          "2022-07-23",
          "2022-07-24",
          "2022-07-25",
          "2022-07-26",
          "2022-07-27",
          "2022-07-28",
          "2022-07-29",
          "2022-07-30",
          "2022-07-31",
          "2022-08-01",
          "2022-08-02",
          "2022-08-03",
          "2022-08-04",
          "2022-08-05",
          "2022-08-06",
          "2022-08-07",
          "2022-08-08",
          "2022-08-09",
          "2022-08-10",
          "2022-08-11",
          "2022-08-12",
          "2022-08-13",
          "2022-08-14",
          "2022-08-15",
          "2022-08-16",
          "2022-08-17",
          "2022-08-18",
          "2022-08-19",
          "2022-08-20",
          "2022-08-21",
          "2022-08-22",
          "2022-08-23",
          "2022-08-24",
          "2022-08-25",
          "2022-08-26",
          "2022-08-27",
          "2022-08-28",
          "2022-08-29",
          "2022-08-30",
          "2022-08-31",
          "2022-09-01",
          "2022-09-02",
          "2022-09-03",
          "2022-09-04",
          "2022-09-05",
          "2022-09-06",
          "2022-09-07",
          "2022-09-08",
          "2022-09-09",
          "2022-09-10",
          "2022-09-11",
          "2022-09-12",
          "2022-09-13",
          "2022-09-14",
          "2022-09-16"
         ],
         "xaxis": "x",
         "y": [
          0.758030934852771,
          1.6952328179434693,
          1.3093261602002402,
          1.3920204440023607,
          1.6676680566760962,
          1.612538534141349,
          1.8606213855477105,
          1.9433156693498304,
          1.9542631485931377,
          1.655877332281099,
          1.6985038774685324,
          0.931226064094716,
          0.504960612220374,
          -0.4328233819031797,
          -0.5180764722780479,
          -1.1574746500895616,
          -1.2853542856518645,
          -1.0722215597146936,
          -0.0491844752162714,
          1.2296118804067568,
          1.1869853352193214,
          2.16739587453031,
          2.039516238968007,
          2.320781833871944,
          1.8004271626002086,
          0.4475050172936942,
          0.4475050172936942,
          0.9158242214382568,
          0.8637887543110827,
          0.4475050172936942,
          -0.2809915224867359,
          1.0198951556926046,
          0.655646885802389,
          -0.228956055359563,
          0.5515759515480411,
          0.9678596885654296,
          1.2280370242012983,
          0.8117532871839098,
          1.0198951556926046,
          0.7076823529295618,
          2.1362689982214444,
          2.467046133429926,
          1.6952328179434693,
          1.3920204440023607,
          1.5574090116066015,
          0.9234195024570118,
          0.5375128447137834,
          -0.228956055359563,
          0.1873276816578265,
          0.3434340830393473,
          0.3954695501665202,
          0.655646885802389,
          1.488214359837167,
          1.2280370242012983,
          0.3954695501665202,
          -0.6452397923769515,
          -0.3850624567410838,
          -0.0208141868508682,
          -1.0094880622671671,
          -1.165594463648688,
          -0.7493107266312984,
          0.3954695501665202,
          -0.5411688581226047,
          -1.4257717992845556,
          -0.6452397923769515,
          -0.228956055359563,
          -0.3850624567410838,
          -1.113558996521514,
          -0.8533816608856464,
          -1.217629930775861,
          -0.8533816608856464,
          -0.3330269896139099,
          -0.2809915224867359,
          0.7076823529295618,
          0.0832567474034785,
          1.436178892709992,
          0.5515759515480411,
          -0.0728496539780422,
          -0.0208141868508682,
          -0.4891333909954307,
          -0.5411688581226047,
          -1.894091003429118,
          -2.3624102075736806,
          -2.102232871937813,
          -1.998161937683465,
          -0.2618652320400472,
          -0.3169947545747946,
          -0.427253799644288,
          -1.3368909214676128,
          -1.1163728313286252,
          -1.143937592595999,
          -0.6753366510506493,
          0.0137823806336871,
          0.2618652320400484,
          0.4823833221790366,
          0.0964766644358075,
          0.2894299933074221,
          -0.3169947545747946,
          -0.7304661735853967,
          -0.9234195024570108,
          -0.7580309348527698,
          -0.8682899799222639,
          -0.7855956961201435,
          -0.7304661735853967,
          -0.2067357095053004,
          -0.3721242771095413,
          0.0413471419010608,
          0.2067357095053016,
          1.1017322448444542,
          0.504960612220374,
          -0.8590888337775217,
          -0.7312091982152189,
          -1.4132339212141671,
          -0.5607030174654825,
          0.2065747959083349,
          0.3344544314706377,
          1.2722384255941903,
          0.931226064094716,
          0.931226064094716,
          0.3770809766580713,
          0.8033464285324132,
          0.4623340670329404,
          -0.3049437463408769,
          -0.6885826530277852,
          0.0360686151585967,
          -0.4754499270906133,
          -1.24272774046443,
          -0.8590888337775217,
          -1.2001011952769962,
          -0.4328233819031797,
          0.3169947545747957,
          0.6753366510506505,
          0.0137823806336871,
          0.1240414257031812,
          -0.1791709482379268,
          0.3721242771095425,
          0.5650776059811571,
          0.2067357095053016,
          0.0413471419010608,
          -0.0964766644358063,
          0.4272537996442893,
          0.0689119031684344,
          -1.114848104902127,
          -0.2196906559660078,
          0.4197075218455049,
          -0.0918110204037051,
          1.1869853352193214,
          0.0786951603460321,
          -0.0918110204037051,
          -0.8590888337775217,
          -1.7968728279010755,
          -1.626366647151338,
          -1.83949937308851,
          -0.5607030174654825,
          -0.0065579300288369,
          0.2065747959083349,
          1.016479154469585,
          0.6328402477826768,
          0.931226064094716,
          0.6328402477826768,
          0.9738526092821514,
          0.3770809766580713,
          0.0360686151585967,
          0.0786951603460321,
          -0.4328233819031797,
          -1.3706073760267323,
          -1.4132339212141671,
          -0.816462288590088,
          -0.8590888337775217,
          -0.5180764722780479,
          -0.0964766644358063,
          0.6477718897832775,
          1.254196637665494,
          1.6676680566760962,
          0.5650776059811571,
          0.9785490249917592,
          1.0612433087938795,
          0.758030934852771,
          0.8682899799222651,
          1.0061137862591325,
          1.612538534141349,
          1.033678547526506,
          1.3368909214676146,
          1.6952328179434693,
          1.9157509080824573,
          1.6676680566760962,
          1.2817613989328671,
          1.612538534141349,
          1.22663187639812,
          0.4823833221790366,
          -0.399689038376915,
          -0.7029014123180231,
          -0.7304661735853967,
          -0.3169947545747946,
          -0.5650776059811559,
          -0.5926423672485289,
          -0.7304661735853967,
          -0.7855956961201435,
          -0.3445595158421676,
          -1.1990671151307457,
          -1.2541966376654925,
          -0.4548185609116617,
          -0.0137823806336859,
          0.0413471419010608,
          -0.6477718897832763,
          -0.7029014123180231,
          -0.6753366510506493,
          -1.5574090116066006,
          -1.4471499665371068,
          -0.8682899799222639,
          -0.8958547411896376,
          -0.7580309348527698,
          -0.427253799644288,
          0.4823833221790366,
          0.3996890383769161,
          -0.2618652320400472,
          -0.3169947545747946,
          -0.0413471419010596,
          -0.5650776059811559,
          -0.9509842637243844,
          -0.8407252186548902,
          -0.2894299933074209,
          -0.0964766644358063,
          -0.0964766644358063,
          -0.0137823806336859,
          -0.5926423672485289,
          -1.0612433087938784,
          -1.143937592595999,
          -0.3445595158421676,
          -0.6753366510506493,
          -0.0689119031684332,
          0.1240414257031812,
          0.0689119031684344,
          0.1516061869705549,
          -0.8131604573875171,
          -1.171502353863372,
          -1.805491863012962,
          -1.9984451918845765,
          -1.3093261602002395,
          -1.860621385547709,
          -1.7227975792108414,
          -1.4471499665371068,
          -0.8958547411896376,
          -0.9234195024570108,
          -1.5574090116066006,
          -0.8131604573875171
         ],
         "yaxis": "y2"
        }
       ],
       "layout": {
        "template": {
         "data": {
          "bar": [
           {
            "error_x": {
             "color": "#2a3f5f"
            },
            "error_y": {
             "color": "#2a3f5f"
            },
            "marker": {
             "line": {
              "color": "#E5ECF6",
              "width": 0.5
             },
             "pattern": {
              "fillmode": "overlay",
              "size": 10,
              "solidity": 0.2
             }
            },
            "type": "bar"
           }
          ],
          "barpolar": [
           {
            "marker": {
             "line": {
              "color": "#E5ECF6",
              "width": 0.5
             },
             "pattern": {
              "fillmode": "overlay",
              "size": 10,
              "solidity": 0.2
             }
            },
            "type": "barpolar"
           }
          ],
          "carpet": [
           {
            "aaxis": {
             "endlinecolor": "#2a3f5f",
             "gridcolor": "white",
             "linecolor": "white",
             "minorgridcolor": "white",
             "startlinecolor": "#2a3f5f"
            },
            "baxis": {
             "endlinecolor": "#2a3f5f",
             "gridcolor": "white",
             "linecolor": "white",
             "minorgridcolor": "white",
             "startlinecolor": "#2a3f5f"
            },
            "type": "carpet"
           }
          ],
          "choropleth": [
           {
            "colorbar": {
             "outlinewidth": 0,
             "ticks": ""
            },
            "type": "choropleth"
           }
          ],
          "contour": [
           {
            "colorbar": {
             "outlinewidth": 0,
             "ticks": ""
            },
            "colorscale": [
             [
              0,
              "#0d0887"
             ],
             [
              0.1111111111111111,
              "#46039f"
             ],
             [
              0.2222222222222222,
              "#7201a8"
             ],
             [
              0.3333333333333333,
              "#9c179e"
             ],
             [
              0.4444444444444444,
              "#bd3786"
             ],
             [
              0.5555555555555556,
              "#d8576b"
             ],
             [
              0.6666666666666666,
              "#ed7953"
             ],
             [
              0.7777777777777778,
              "#fb9f3a"
             ],
             [
              0.8888888888888888,
              "#fdca26"
             ],
             [
              1,
              "#f0f921"
             ]
            ],
            "type": "contour"
           }
          ],
          "contourcarpet": [
           {
            "colorbar": {
             "outlinewidth": 0,
             "ticks": ""
            },
            "type": "contourcarpet"
           }
          ],
          "heatmap": [
           {
            "colorbar": {
             "outlinewidth": 0,
             "ticks": ""
            },
            "colorscale": [
             [
              0,
              "#0d0887"
             ],
             [
              0.1111111111111111,
              "#46039f"
             ],
             [
              0.2222222222222222,
              "#7201a8"
             ],
             [
              0.3333333333333333,
              "#9c179e"
             ],
             [
              0.4444444444444444,
              "#bd3786"
             ],
             [
              0.5555555555555556,
              "#d8576b"
             ],
             [
              0.6666666666666666,
              "#ed7953"
             ],
             [
              0.7777777777777778,
              "#fb9f3a"
             ],
             [
              0.8888888888888888,
              "#fdca26"
             ],
             [
              1,
              "#f0f921"
             ]
            ],
            "type": "heatmap"
           }
          ],
          "heatmapgl": [
           {
            "colorbar": {
             "outlinewidth": 0,
             "ticks": ""
            },
            "colorscale": [
             [
              0,
              "#0d0887"
             ],
             [
              0.1111111111111111,
              "#46039f"
             ],
             [
              0.2222222222222222,
              "#7201a8"
             ],
             [
              0.3333333333333333,
              "#9c179e"
             ],
             [
              0.4444444444444444,
              "#bd3786"
             ],
             [
              0.5555555555555556,
              "#d8576b"
             ],
             [
              0.6666666666666666,
              "#ed7953"
             ],
             [
              0.7777777777777778,
              "#fb9f3a"
             ],
             [
              0.8888888888888888,
              "#fdca26"
             ],
             [
              1,
              "#f0f921"
             ]
            ],
            "type": "heatmapgl"
           }
          ],
          "histogram": [
           {
            "marker": {
             "pattern": {
              "fillmode": "overlay",
              "size": 10,
              "solidity": 0.2
             }
            },
            "type": "histogram"
           }
          ],
          "histogram2d": [
           {
            "colorbar": {
             "outlinewidth": 0,
             "ticks": ""
            },
            "colorscale": [
             [
              0,
              "#0d0887"
             ],
             [
              0.1111111111111111,
              "#46039f"
             ],
             [
              0.2222222222222222,
              "#7201a8"
             ],
             [
              0.3333333333333333,
              "#9c179e"
             ],
             [
              0.4444444444444444,
              "#bd3786"
             ],
             [
              0.5555555555555556,
              "#d8576b"
             ],
             [
              0.6666666666666666,
              "#ed7953"
             ],
             [
              0.7777777777777778,
              "#fb9f3a"
             ],
             [
              0.8888888888888888,
              "#fdca26"
             ],
             [
              1,
              "#f0f921"
             ]
            ],
            "type": "histogram2d"
           }
          ],
          "histogram2dcontour": [
           {
            "colorbar": {
             "outlinewidth": 0,
             "ticks": ""
            },
            "colorscale": [
             [
              0,
              "#0d0887"
             ],
             [
              0.1111111111111111,
              "#46039f"
             ],
             [
              0.2222222222222222,
              "#7201a8"
             ],
             [
              0.3333333333333333,
              "#9c179e"
             ],
             [
              0.4444444444444444,
              "#bd3786"
             ],
             [
              0.5555555555555556,
              "#d8576b"
             ],
             [
              0.6666666666666666,
              "#ed7953"
             ],
             [
              0.7777777777777778,
              "#fb9f3a"
             ],
             [
              0.8888888888888888,
              "#fdca26"
             ],
             [
              1,
              "#f0f921"
             ]
            ],
            "type": "histogram2dcontour"
           }
          ],
          "mesh3d": [
           {
            "colorbar": {
             "outlinewidth": 0,
             "ticks": ""
            },
            "type": "mesh3d"
           }
          ],
          "parcoords": [
           {
            "line": {
             "colorbar": {
              "outlinewidth": 0,
              "ticks": ""
             }
            },
            "type": "parcoords"
           }
          ],
          "pie": [
           {
            "automargin": true,
            "type": "pie"
           }
          ],
          "scatter": [
           {
            "fillpattern": {
             "fillmode": "overlay",
             "size": 10,
             "solidity": 0.2
            },
            "type": "scatter"
           }
          ],
          "scatter3d": [
           {
            "line": {
             "colorbar": {
              "outlinewidth": 0,
              "ticks": ""
             }
            },
            "marker": {
             "colorbar": {
              "outlinewidth": 0,
              "ticks": ""
             }
            },
            "type": "scatter3d"
           }
          ],
          "scattercarpet": [
           {
            "marker": {
             "colorbar": {
              "outlinewidth": 0,
              "ticks": ""
             }
            },
            "type": "scattercarpet"
           }
          ],
          "scattergeo": [
           {
            "marker": {
             "colorbar": {
              "outlinewidth": 0,
              "ticks": ""
             }
            },
            "type": "scattergeo"
           }
          ],
          "scattergl": [
           {
            "marker": {
             "colorbar": {
              "outlinewidth": 0,
              "ticks": ""
             }
            },
            "type": "scattergl"
           }
          ],
          "scattermapbox": [
           {
            "marker": {
             "colorbar": {
              "outlinewidth": 0,
              "ticks": ""
             }
            },
            "type": "scattermapbox"
           }
          ],
          "scatterpolar": [
           {
            "marker": {
             "colorbar": {
              "outlinewidth": 0,
              "ticks": ""
             }
            },
            "type": "scatterpolar"
           }
          ],
          "scatterpolargl": [
           {
            "marker": {
             "colorbar": {
              "outlinewidth": 0,
              "ticks": ""
             }
            },
            "type": "scatterpolargl"
           }
          ],
          "scatterternary": [
           {
            "marker": {
             "colorbar": {
              "outlinewidth": 0,
              "ticks": ""
             }
            },
            "type": "scatterternary"
           }
          ],
          "surface": [
           {
            "colorbar": {
             "outlinewidth": 0,
             "ticks": ""
            },
            "colorscale": [
             [
              0,
              "#0d0887"
             ],
             [
              0.1111111111111111,
              "#46039f"
             ],
             [
              0.2222222222222222,
              "#7201a8"
             ],
             [
              0.3333333333333333,
              "#9c179e"
             ],
             [
              0.4444444444444444,
              "#bd3786"
             ],
             [
              0.5555555555555556,
              "#d8576b"
             ],
             [
              0.6666666666666666,
              "#ed7953"
             ],
             [
              0.7777777777777778,
              "#fb9f3a"
             ],
             [
              0.8888888888888888,
              "#fdca26"
             ],
             [
              1,
              "#f0f921"
             ]
            ],
            "type": "surface"
           }
          ],
          "table": [
           {
            "cells": {
             "fill": {
              "color": "#EBF0F8"
             },
             "line": {
              "color": "white"
             }
            },
            "header": {
             "fill": {
              "color": "#C8D4E3"
             },
             "line": {
              "color": "white"
             }
            },
            "type": "table"
           }
          ]
         },
         "layout": {
          "annotationdefaults": {
           "arrowcolor": "#2a3f5f",
           "arrowhead": 0,
           "arrowwidth": 1
          },
          "autotypenumbers": "strict",
          "coloraxis": {
           "colorbar": {
            "outlinewidth": 0,
            "ticks": ""
           }
          },
          "colorscale": {
           "diverging": [
            [
             0,
             "#8e0152"
            ],
            [
             0.1,
             "#c51b7d"
            ],
            [
             0.2,
             "#de77ae"
            ],
            [
             0.3,
             "#f1b6da"
            ],
            [
             0.4,
             "#fde0ef"
            ],
            [
             0.5,
             "#f7f7f7"
            ],
            [
             0.6,
             "#e6f5d0"
            ],
            [
             0.7,
             "#b8e186"
            ],
            [
             0.8,
             "#7fbc41"
            ],
            [
             0.9,
             "#4d9221"
            ],
            [
             1,
             "#276419"
            ]
           ],
           "sequential": [
            [
             0,
             "#0d0887"
            ],
            [
             0.1111111111111111,
             "#46039f"
            ],
            [
             0.2222222222222222,
             "#7201a8"
            ],
            [
             0.3333333333333333,
             "#9c179e"
            ],
            [
             0.4444444444444444,
             "#bd3786"
            ],
            [
             0.5555555555555556,
             "#d8576b"
            ],
            [
             0.6666666666666666,
             "#ed7953"
            ],
            [
             0.7777777777777778,
             "#fb9f3a"
            ],
            [
             0.8888888888888888,
             "#fdca26"
            ],
            [
             1,
             "#f0f921"
            ]
           ],
           "sequentialminus": [
            [
             0,
             "#0d0887"
            ],
            [
             0.1111111111111111,
             "#46039f"
            ],
            [
             0.2222222222222222,
             "#7201a8"
            ],
            [
             0.3333333333333333,
             "#9c179e"
            ],
            [
             0.4444444444444444,
             "#bd3786"
            ],
            [
             0.5555555555555556,
             "#d8576b"
            ],
            [
             0.6666666666666666,
             "#ed7953"
            ],
            [
             0.7777777777777778,
             "#fb9f3a"
            ],
            [
             0.8888888888888888,
             "#fdca26"
            ],
            [
             1,
             "#f0f921"
            ]
           ]
          },
          "colorway": [
           "#636efa",
           "#EF553B",
           "#00cc96",
           "#ab63fa",
           "#FFA15A",
           "#19d3f3",
           "#FF6692",
           "#B6E880",
           "#FF97FF",
           "#FECB52"
          ],
          "font": {
           "color": "#2a3f5f"
          },
          "geo": {
           "bgcolor": "white",
           "lakecolor": "white",
           "landcolor": "#E5ECF6",
           "showlakes": true,
           "showland": true,
           "subunitcolor": "white"
          },
          "hoverlabel": {
           "align": "left"
          },
          "hovermode": "closest",
          "mapbox": {
           "style": "light"
          },
          "paper_bgcolor": "white",
          "plot_bgcolor": "#E5ECF6",
          "polar": {
           "angularaxis": {
            "gridcolor": "white",
            "linecolor": "white",
            "ticks": ""
           },
           "bgcolor": "#E5ECF6",
           "radialaxis": {
            "gridcolor": "white",
            "linecolor": "white",
            "ticks": ""
           }
          },
          "scene": {
           "xaxis": {
            "backgroundcolor": "#E5ECF6",
            "gridcolor": "white",
            "gridwidth": 2,
            "linecolor": "white",
            "showbackground": true,
            "ticks": "",
            "zerolinecolor": "white"
           },
           "yaxis": {
            "backgroundcolor": "#E5ECF6",
            "gridcolor": "white",
            "gridwidth": 2,
            "linecolor": "white",
            "showbackground": true,
            "ticks": "",
            "zerolinecolor": "white"
           },
           "zaxis": {
            "backgroundcolor": "#E5ECF6",
            "gridcolor": "white",
            "gridwidth": 2,
            "linecolor": "white",
            "showbackground": true,
            "ticks": "",
            "zerolinecolor": "white"
           }
          },
          "shapedefaults": {
           "line": {
            "color": "#2a3f5f"
           }
          },
          "ternary": {
           "aaxis": {
            "gridcolor": "white",
            "linecolor": "white",
            "ticks": ""
           },
           "baxis": {
            "gridcolor": "white",
            "linecolor": "white",
            "ticks": ""
           },
           "bgcolor": "#E5ECF6",
           "caxis": {
            "gridcolor": "white",
            "linecolor": "white",
            "ticks": ""
           }
          },
          "title": {
           "x": 0.05
          },
          "xaxis": {
           "automargin": true,
           "gridcolor": "white",
           "linecolor": "white",
           "ticks": "",
           "title": {
            "standoff": 15
           },
           "zerolinecolor": "white",
           "zerolinewidth": 2
          },
          "yaxis": {
           "automargin": true,
           "gridcolor": "white",
           "linecolor": "white",
           "ticks": "",
           "title": {
            "standoff": 15
           },
           "zerolinecolor": "white",
           "zerolinewidth": 2
          }
         }
        },
        "xaxis": {
         "anchor": "y",
         "domain": [
          0,
          0.94
         ]
        },
        "yaxis": {
         "anchor": "x",
         "domain": [
          0,
          1
         ]
        },
        "yaxis2": {
         "anchor": "x",
         "overlaying": "y",
         "side": "right"
        }
       }
      },
      "text/html": [
       "<div>                            <div id=\"f7dfad98-6db5-46d7-af52-c4bcf3696846\" class=\"plotly-graph-div\" style=\"height:525px; width:100%;\"></div>            <script type=\"text/javascript\">                require([\"plotly\"], function(Plotly) {                    window.PLOTLYENV=window.PLOTLYENV || {};                                    if (document.getElementById(\"f7dfad98-6db5-46d7-af52-c4bcf3696846\")) {                    Plotly.newPlot(                        \"f7dfad98-6db5-46d7-af52-c4bcf3696846\",                        [{\"hovertemplate\":\"date=%{x}<br>Mean=%{y}<extra></extra>\",\"legendgroup\":\"\",\"line\":{\"dash\":\"solid\"},\"marker\":{\"symbol\":\"circle\"},\"mode\":\"lines\",\"name\":\"\",\"orientation\":\"v\",\"showlegend\":false,\"x\":[\"2022-01-05\",\"2022-01-06\",\"2022-01-07\",\"2022-01-08\",\"2022-01-09\",\"2022-01-10\",\"2022-01-11\",\"2022-01-12\",\"2022-01-16\",\"2022-01-17\",\"2022-01-18\",\"2022-01-19\",\"2022-01-20\",\"2022-01-21\",\"2022-01-22\",\"2022-01-23\",\"2022-01-24\",\"2022-01-25\",\"2022-01-26\",\"2022-01-27\",\"2022-01-28\",\"2022-01-29\",\"2022-01-30\",\"2022-01-31\",\"2022-02-01\",\"2022-02-02\",\"2022-02-03\",\"2022-02-04\",\"2022-02-05\",\"2022-02-06\",\"2022-02-07\",\"2022-02-08\",\"2022-02-09\",\"2022-02-10\",\"2022-02-11\",\"2022-02-12\",\"2022-02-13\",\"2022-02-14\",\"2022-02-15\",\"2022-02-16\",\"2022-02-17\",\"2022-02-18\",\"2022-02-19\",\"2022-02-20\",\"2022-02-21\",\"2022-02-22\",\"2022-02-23\",\"2022-02-24\",\"2022-02-25\",\"2022-02-26\",\"2022-02-27\",\"2022-02-28\",\"2022-03-01\",\"2022-03-02\",\"2022-03-03\",\"2022-03-04\",\"2022-03-05\",\"2022-03-06\",\"2022-03-07\",\"2022-03-08\",\"2022-03-09\",\"2022-03-10\",\"2022-03-11\",\"2022-03-12\",\"2022-03-13\",\"2022-03-14\",\"2022-03-15\",\"2022-03-16\",\"2022-03-17\",\"2022-03-18\",\"2022-03-19\",\"2022-03-20\",\"2022-03-21\",\"2022-03-22\",\"2022-03-23\",\"2022-03-24\",\"2022-03-25\",\"2022-03-26\",\"2022-03-27\",\"2022-03-28\",\"2022-03-29\",\"2022-03-30\",\"2022-03-31\",\"2022-04-01\",\"2022-04-02\",\"2022-04-05\",\"2022-04-06\",\"2022-04-07\",\"2022-04-08\",\"2022-04-09\",\"2022-04-10\",\"2022-04-11\",\"2022-04-12\",\"2022-04-13\",\"2022-04-14\",\"2022-04-15\",\"2022-04-16\",\"2022-04-17\",\"2022-04-18\",\"2022-04-19\",\"2022-04-20\",\"2022-04-21\",\"2022-04-22\",\"2022-04-23\",\"2022-04-24\",\"2022-04-25\",\"2022-04-26\",\"2022-04-27\",\"2022-04-28\",\"2022-04-29\",\"2022-04-30\",\"2022-05-01\",\"2022-05-02\",\"2022-05-03\",\"2022-05-04\",\"2022-05-05\",\"2022-05-06\",\"2022-05-07\",\"2022-05-08\",\"2022-05-09\",\"2022-05-10\",\"2022-05-11\",\"2022-05-12\",\"2022-05-13\",\"2022-05-14\",\"2022-05-15\",\"2022-05-16\",\"2022-05-17\",\"2022-05-18\",\"2022-05-19\",\"2022-05-20\",\"2022-05-21\",\"2022-05-22\",\"2022-05-23\",\"2022-05-24\",\"2022-05-26\",\"2022-05-27\",\"2022-05-28\",\"2022-05-29\",\"2022-05-30\",\"2022-05-31\",\"2022-06-01\",\"2022-06-02\",\"2022-06-03\",\"2022-06-04\",\"2022-06-05\",\"2022-06-06\",\"2022-06-07\",\"2022-06-08\",\"2022-06-09\",\"2022-06-10\",\"2022-06-11\",\"2022-06-12\",\"2022-06-13\",\"2022-06-14\",\"2022-06-15\",\"2022-06-16\",\"2022-06-17\",\"2022-06-18\",\"2022-06-19\",\"2022-06-20\",\"2022-06-21\",\"2022-06-22\",\"2022-06-23\",\"2022-06-24\",\"2022-06-25\",\"2022-06-26\",\"2022-06-27\",\"2022-06-28\",\"2022-06-29\",\"2022-07-02\",\"2022-07-03\",\"2022-07-04\",\"2022-07-05\",\"2022-07-06\",\"2022-07-07\",\"2022-07-08\",\"2022-07-09\",\"2022-07-10\",\"2022-07-11\",\"2022-07-12\",\"2022-07-13\",\"2022-07-14\",\"2022-07-15\",\"2022-07-16\",\"2022-07-17\",\"2022-07-18\",\"2022-07-19\",\"2022-07-20\",\"2022-07-21\",\"2022-07-22\",\"2022-07-23\",\"2022-07-24\",\"2022-07-25\",\"2022-07-26\",\"2022-07-27\",\"2022-07-28\",\"2022-07-29\",\"2022-07-30\",\"2022-07-31\",\"2022-08-01\",\"2022-08-02\",\"2022-08-03\",\"2022-08-04\",\"2022-08-05\",\"2022-08-06\",\"2022-08-07\",\"2022-08-08\",\"2022-08-09\",\"2022-08-10\",\"2022-08-11\",\"2022-08-12\",\"2022-08-13\",\"2022-08-14\",\"2022-08-15\",\"2022-08-16\",\"2022-08-17\",\"2022-08-18\",\"2022-08-19\",\"2022-08-20\",\"2022-08-21\",\"2022-08-22\",\"2022-08-23\",\"2022-08-24\",\"2022-08-25\",\"2022-08-26\",\"2022-08-27\",\"2022-08-28\",\"2022-08-29\",\"2022-08-30\",\"2022-08-31\",\"2022-09-01\",\"2022-09-02\",\"2022-09-03\",\"2022-09-04\",\"2022-09-05\",\"2022-09-06\",\"2022-09-07\",\"2022-09-08\",\"2022-09-09\",\"2022-09-10\",\"2022-09-11\",\"2022-09-12\",\"2022-09-13\",\"2022-09-14\",\"2022-09-16\"],\"xaxis\":\"x\",\"y\":[16300560.396325707,17658648.89806571,17347162.93101469,16975064.4272259,16797785.791917797,16806788.914961446,16811833.251713973,16734018.396816732,17112088.201657716,17011946.553369317,16970497.972453773,16652439.489730489,14965479.43222849,13323793.673679637,12873959.016227724,11303651.720090585,11007467.34700925,10871655.621807251,12159820.822644686,13505607.403390111,13681356.340413606,14936296.611906191,14923038.910625257,12589322.572192566,12568194.290519638,12656150.217581045,12895523.888825014,13174352.579157157,14758873.283617333,14966112.54168266,13981120.739769287,14329206.281212503,12998453.810260974,13035101.46742987,12935524.996210158,14282421.110996926,14269045.839103565,14234745.430921003,13983623.878515448,12451147.474175066,15269480.34958822,15144035.258112026,13602820.084048048,11961488.017577806,11692883.442188185,10520623.18598848,10597508.98837556,12302652.732426368,12055658.914270565,13312310.455994308,13302684.301300997,15072063.977543931,16640913.820278505,16726833.162031168,15359834.212318948,14337334.69371573,13968809.536106026,13561663.795575554,13355494.93965335,11993273.990426429,12099160.81741657,12943501.406253258,12695278.590656549,12590908.615391329,12418870.720681133,12292307.862216016,13682690.17967298,12526529.102193069,12882839.583889768,11436021.607194657,11324391.68407502,12674892.310120234,11270116.114267657,12775937.96738934,11589932.293703048,13442791.025573203,13942925.906535745,12722266.4979224,14600266.085370503,14866187.212059,14936133.6515846,13608250.734281491,12280254.842698582,14027934.698614923,13825044.782824928,9370691.80449831,9533048.390190354,9701736.487279251,8516841.090446098,9443838.824822633,9364852.622400708,10675149.238137288,11864137.72101284,11742429.723710775,12885260.082449311,11467406.715709897,12690455.363681272,11144443.841934573,9815462.194832023,9820668.402080366,9694690.695536984,9815317.107529247,9585090.849358326,9490934.549195984,10580321.827864258,10357739.355840078,9904135.934160378,9669618.420316638,13644156.129957588,13356814.415303038,11853810.286388464,11775592.976694366,11590485.543108916,11612288.84540094,12868801.298505137,13053035.151801929,14110520.33822723,13778267.472966751,12530386.508751629,12021290.84041947,11497172.066507123,11118384.805893648,10012741.049433025,8903535.797767593,9879758.226772675,8878044.28833642,8912295.660614314,8893381.490528656,8745347.529548453,9631829.455022588,9253797.523018852,10113809.633346066,8627578.21810162,8436459.608976576,8431611.204082683,9263388.742297878,9200360.676142124,8049840.762693316,7924927.841125282,7868657.633253898,7230972.840943344,6065311.089454257,9510080.885098493,10311356.508528523,10188843.301089196,9230875.838806592,10421951.542127308,9410805.585428568,9295633.88340653,8287272.486073527,7205341.804875426,7007599.814036851,6448621.827739158,6996861.265276186,6653012.160243738,7241345.740182835,7813596.111569532,7643831.547008324,7531588.959285109,7505410.359529986,7423733.098475824,6722836.719293342,6849695.54328337,6908397.18765669,6799747.286928598,5966884.493104179,5897396.60152033,6545954.712858573,6358798.550920685,6316020.342904109,5492587.888628663,6037932.844157421,6507796.793347505,6309120.805134576,5657328.519440842,6476220.235650866,6414659.974277817,6216635.331815537,6170705.76427205,6847120.495130398,7568256.8942576,6839261.199889245,6985216.111671757,7127510.381407448,7193205.759368735,6399743.077854154,5758539.531994228,6621291.371501154,6804726.057510258,6060577.235854323,5243187.541894077,5147318.963220172,5064263.508210289,4858667.85518512,3909371.044759281,4096096.090724261,4204594.980261365,4307863.510326613,5003951.526183036,4228045.443139293,4333588.643109683,5018962.503638574,5804053.423344479,5895996.5152875,5037398.072898928,5004869.981366244,4880399.674905674,3947814.281643769,3948862.58109716,4797672.732006527,4884605.922182759,5715605.453048547,6451408.939340082,7364789.98125288,7339247.45884328,6379593.836309846,6259926.059650292,6100968.986072023,5275627.779843024,5031561.367078741,4892291.1739766905,5546647.476200526,5516003.131957986,5482295.180712657,5456852.680862268,4775999.74259103,3957207.108413973,3931561.776743367,4698801.634696487,4061940.882940602,4708582.741603273,5294455.559226955,5380768.831610278,5275279.474289083,4521161.304549058,4425189.697850819,3752298.765401428,3150115.6873833905,3837971.635240448,3236858.334502481,3272351.204580219,3426944.4127864144,4117827.867354317,4050300.34362331,3335873.889345976,3912334.868152091],\"yaxis\":\"y\",\"type\":\"scatter\"},{\"hovertemplate\":\"date=%{x}<br>power=%{y}<extra></extra>\",\"legendgroup\":\"\",\"line\":{\"dash\":\"solid\"},\"marker\":{\"symbol\":\"circle\"},\"mode\":\"lines\",\"name\":\"\",\"orientation\":\"v\",\"showlegend\":false,\"x\":[\"2022-01-05\",\"2022-01-06\",\"2022-01-07\",\"2022-01-08\",\"2022-01-09\",\"2022-01-10\",\"2022-01-11\",\"2022-01-12\",\"2022-01-16\",\"2022-01-17\",\"2022-01-18\",\"2022-01-19\",\"2022-01-20\",\"2022-01-21\",\"2022-01-22\",\"2022-01-23\",\"2022-01-24\",\"2022-01-25\",\"2022-01-26\",\"2022-01-27\",\"2022-01-28\",\"2022-01-29\",\"2022-01-30\",\"2022-01-31\",\"2022-02-01\",\"2022-02-02\",\"2022-02-03\",\"2022-02-04\",\"2022-02-05\",\"2022-02-06\",\"2022-02-07\",\"2022-02-08\",\"2022-02-09\",\"2022-02-10\",\"2022-02-11\",\"2022-02-12\",\"2022-02-13\",\"2022-02-14\",\"2022-02-15\",\"2022-02-16\",\"2022-02-17\",\"2022-02-18\",\"2022-02-19\",\"2022-02-20\",\"2022-02-21\",\"2022-02-22\",\"2022-02-23\",\"2022-02-24\",\"2022-02-25\",\"2022-02-26\",\"2022-02-27\",\"2022-02-28\",\"2022-03-01\",\"2022-03-02\",\"2022-03-03\",\"2022-03-04\",\"2022-03-05\",\"2022-03-06\",\"2022-03-07\",\"2022-03-08\",\"2022-03-09\",\"2022-03-10\",\"2022-03-11\",\"2022-03-12\",\"2022-03-13\",\"2022-03-14\",\"2022-03-15\",\"2022-03-16\",\"2022-03-17\",\"2022-03-18\",\"2022-03-19\",\"2022-03-20\",\"2022-03-21\",\"2022-03-22\",\"2022-03-23\",\"2022-03-24\",\"2022-03-25\",\"2022-03-26\",\"2022-03-27\",\"2022-03-28\",\"2022-03-29\",\"2022-03-30\",\"2022-03-31\",\"2022-04-01\",\"2022-04-02\",\"2022-04-05\",\"2022-04-06\",\"2022-04-07\",\"2022-04-08\",\"2022-04-09\",\"2022-04-10\",\"2022-04-11\",\"2022-04-12\",\"2022-04-13\",\"2022-04-14\",\"2022-04-15\",\"2022-04-16\",\"2022-04-17\",\"2022-04-18\",\"2022-04-19\",\"2022-04-20\",\"2022-04-21\",\"2022-04-22\",\"2022-04-23\",\"2022-04-24\",\"2022-04-25\",\"2022-04-26\",\"2022-04-27\",\"2022-04-28\",\"2022-04-29\",\"2022-04-30\",\"2022-05-01\",\"2022-05-02\",\"2022-05-03\",\"2022-05-04\",\"2022-05-05\",\"2022-05-06\",\"2022-05-07\",\"2022-05-08\",\"2022-05-09\",\"2022-05-10\",\"2022-05-11\",\"2022-05-12\",\"2022-05-13\",\"2022-05-14\",\"2022-05-15\",\"2022-05-16\",\"2022-05-17\",\"2022-05-18\",\"2022-05-19\",\"2022-05-20\",\"2022-05-21\",\"2022-05-22\",\"2022-05-23\",\"2022-05-24\",\"2022-05-26\",\"2022-05-27\",\"2022-05-28\",\"2022-05-29\",\"2022-05-30\",\"2022-05-31\",\"2022-06-01\",\"2022-06-02\",\"2022-06-03\",\"2022-06-04\",\"2022-06-05\",\"2022-06-06\",\"2022-06-07\",\"2022-06-08\",\"2022-06-09\",\"2022-06-10\",\"2022-06-11\",\"2022-06-12\",\"2022-06-13\",\"2022-06-14\",\"2022-06-15\",\"2022-06-16\",\"2022-06-17\",\"2022-06-18\",\"2022-06-19\",\"2022-06-20\",\"2022-06-21\",\"2022-06-22\",\"2022-06-23\",\"2022-06-24\",\"2022-06-25\",\"2022-06-26\",\"2022-06-27\",\"2022-06-28\",\"2022-06-29\",\"2022-07-02\",\"2022-07-03\",\"2022-07-04\",\"2022-07-05\",\"2022-07-06\",\"2022-07-07\",\"2022-07-08\",\"2022-07-09\",\"2022-07-10\",\"2022-07-11\",\"2022-07-12\",\"2022-07-13\",\"2022-07-14\",\"2022-07-15\",\"2022-07-16\",\"2022-07-17\",\"2022-07-18\",\"2022-07-19\",\"2022-07-20\",\"2022-07-21\",\"2022-07-22\",\"2022-07-23\",\"2022-07-24\",\"2022-07-25\",\"2022-07-26\",\"2022-07-27\",\"2022-07-28\",\"2022-07-29\",\"2022-07-30\",\"2022-07-31\",\"2022-08-01\",\"2022-08-02\",\"2022-08-03\",\"2022-08-04\",\"2022-08-05\",\"2022-08-06\",\"2022-08-07\",\"2022-08-08\",\"2022-08-09\",\"2022-08-10\",\"2022-08-11\",\"2022-08-12\",\"2022-08-13\",\"2022-08-14\",\"2022-08-15\",\"2022-08-16\",\"2022-08-17\",\"2022-08-18\",\"2022-08-19\",\"2022-08-20\",\"2022-08-21\",\"2022-08-22\",\"2022-08-23\",\"2022-08-24\",\"2022-08-25\",\"2022-08-26\",\"2022-08-27\",\"2022-08-28\",\"2022-08-29\",\"2022-08-30\",\"2022-08-31\",\"2022-09-01\",\"2022-09-02\",\"2022-09-03\",\"2022-09-04\",\"2022-09-05\",\"2022-09-06\",\"2022-09-07\",\"2022-09-08\",\"2022-09-09\",\"2022-09-10\",\"2022-09-11\",\"2022-09-12\",\"2022-09-13\",\"2022-09-14\",\"2022-09-16\"],\"xaxis\":\"x\",\"y\":[0.758030934852771,1.6952328179434693,1.3093261602002402,1.3920204440023607,1.6676680566760962,1.612538534141349,1.8606213855477105,1.9433156693498304,1.9542631485931377,1.655877332281099,1.6985038774685324,0.931226064094716,0.504960612220374,-0.4328233819031797,-0.5180764722780479,-1.1574746500895616,-1.2853542856518645,-1.0722215597146936,-0.0491844752162714,1.2296118804067568,1.1869853352193214,2.16739587453031,2.039516238968007,2.320781833871944,1.8004271626002086,0.4475050172936942,0.4475050172936942,0.9158242214382568,0.8637887543110827,0.4475050172936942,-0.2809915224867359,1.0198951556926046,0.655646885802389,-0.228956055359563,0.5515759515480411,0.9678596885654296,1.2280370242012983,0.8117532871839098,1.0198951556926046,0.7076823529295618,2.1362689982214444,2.467046133429926,1.6952328179434693,1.3920204440023607,1.5574090116066015,0.9234195024570118,0.5375128447137834,-0.228956055359563,0.1873276816578265,0.3434340830393473,0.3954695501665202,0.655646885802389,1.488214359837167,1.2280370242012983,0.3954695501665202,-0.6452397923769515,-0.3850624567410838,-0.0208141868508682,-1.0094880622671671,-1.165594463648688,-0.7493107266312984,0.3954695501665202,-0.5411688581226047,-1.4257717992845556,-0.6452397923769515,-0.228956055359563,-0.3850624567410838,-1.113558996521514,-0.8533816608856464,-1.217629930775861,-0.8533816608856464,-0.3330269896139099,-0.2809915224867359,0.7076823529295618,0.0832567474034785,1.436178892709992,0.5515759515480411,-0.0728496539780422,-0.0208141868508682,-0.4891333909954307,-0.5411688581226047,-1.894091003429118,-2.3624102075736806,-2.102232871937813,-1.998161937683465,-0.2618652320400472,-0.3169947545747946,-0.427253799644288,-1.3368909214676128,-1.1163728313286252,-1.143937592595999,-0.6753366510506493,0.0137823806336871,0.2618652320400484,0.4823833221790366,0.0964766644358075,0.2894299933074221,-0.3169947545747946,-0.7304661735853967,-0.9234195024570108,-0.7580309348527698,-0.8682899799222639,-0.7855956961201435,-0.7304661735853967,-0.2067357095053004,-0.3721242771095413,0.0413471419010608,0.2067357095053016,1.1017322448444542,0.504960612220374,-0.8590888337775217,-0.7312091982152189,-1.4132339212141671,-0.5607030174654825,0.2065747959083349,0.3344544314706377,1.2722384255941903,0.931226064094716,0.931226064094716,0.3770809766580713,0.8033464285324132,0.4623340670329404,-0.3049437463408769,-0.6885826530277852,0.0360686151585967,-0.4754499270906133,-1.24272774046443,-0.8590888337775217,-1.2001011952769962,-0.4328233819031797,0.3169947545747957,0.6753366510506505,0.0137823806336871,0.1240414257031812,-0.1791709482379268,0.3721242771095425,0.5650776059811571,0.2067357095053016,0.0413471419010608,-0.0964766644358063,0.4272537996442893,0.0689119031684344,-1.114848104902127,-0.2196906559660078,0.4197075218455049,-0.0918110204037051,1.1869853352193214,0.0786951603460321,-0.0918110204037051,-0.8590888337775217,-1.7968728279010755,-1.626366647151338,-1.83949937308851,-0.5607030174654825,-0.0065579300288369,0.2065747959083349,1.016479154469585,0.6328402477826768,0.931226064094716,0.6328402477826768,0.9738526092821514,0.3770809766580713,0.0360686151585967,0.0786951603460321,-0.4328233819031797,-1.3706073760267323,-1.4132339212141671,-0.816462288590088,-0.8590888337775217,-0.5180764722780479,-0.0964766644358063,0.6477718897832775,1.254196637665494,1.6676680566760962,0.5650776059811571,0.9785490249917592,1.0612433087938795,0.758030934852771,0.8682899799222651,1.0061137862591325,1.612538534141349,1.033678547526506,1.3368909214676146,1.6952328179434693,1.9157509080824573,1.6676680566760962,1.2817613989328671,1.612538534141349,1.22663187639812,0.4823833221790366,-0.399689038376915,-0.7029014123180231,-0.7304661735853967,-0.3169947545747946,-0.5650776059811559,-0.5926423672485289,-0.7304661735853967,-0.7855956961201435,-0.3445595158421676,-1.1990671151307457,-1.2541966376654925,-0.4548185609116617,-0.0137823806336859,0.0413471419010608,-0.6477718897832763,-0.7029014123180231,-0.6753366510506493,-1.5574090116066006,-1.4471499665371068,-0.8682899799222639,-0.8958547411896376,-0.7580309348527698,-0.427253799644288,0.4823833221790366,0.3996890383769161,-0.2618652320400472,-0.3169947545747946,-0.0413471419010596,-0.5650776059811559,-0.9509842637243844,-0.8407252186548902,-0.2894299933074209,-0.0964766644358063,-0.0964766644358063,-0.0137823806336859,-0.5926423672485289,-1.0612433087938784,-1.143937592595999,-0.3445595158421676,-0.6753366510506493,-0.0689119031684332,0.1240414257031812,0.0689119031684344,0.1516061869705549,-0.8131604573875171,-1.171502353863372,-1.805491863012962,-1.9984451918845765,-1.3093261602002395,-1.860621385547709,-1.7227975792108414,-1.4471499665371068,-0.8958547411896376,-0.9234195024570108,-1.5574090116066006,-0.8131604573875171],\"yaxis\":\"y2\",\"type\":\"scatter\"}],                        {\"template\":{\"data\":{\"histogram2dcontour\":[{\"type\":\"histogram2dcontour\",\"colorbar\":{\"outlinewidth\":0,\"ticks\":\"\"},\"colorscale\":[[0.0,\"#0d0887\"],[0.1111111111111111,\"#46039f\"],[0.2222222222222222,\"#7201a8\"],[0.3333333333333333,\"#9c179e\"],[0.4444444444444444,\"#bd3786\"],[0.5555555555555556,\"#d8576b\"],[0.6666666666666666,\"#ed7953\"],[0.7777777777777778,\"#fb9f3a\"],[0.8888888888888888,\"#fdca26\"],[1.0,\"#f0f921\"]]}],\"choropleth\":[{\"type\":\"choropleth\",\"colorbar\":{\"outlinewidth\":0,\"ticks\":\"\"}}],\"histogram2d\":[{\"type\":\"histogram2d\",\"colorbar\":{\"outlinewidth\":0,\"ticks\":\"\"},\"colorscale\":[[0.0,\"#0d0887\"],[0.1111111111111111,\"#46039f\"],[0.2222222222222222,\"#7201a8\"],[0.3333333333333333,\"#9c179e\"],[0.4444444444444444,\"#bd3786\"],[0.5555555555555556,\"#d8576b\"],[0.6666666666666666,\"#ed7953\"],[0.7777777777777778,\"#fb9f3a\"],[0.8888888888888888,\"#fdca26\"],[1.0,\"#f0f921\"]]}],\"heatmap\":[{\"type\":\"heatmap\",\"colorbar\":{\"outlinewidth\":0,\"ticks\":\"\"},\"colorscale\":[[0.0,\"#0d0887\"],[0.1111111111111111,\"#46039f\"],[0.2222222222222222,\"#7201a8\"],[0.3333333333333333,\"#9c179e\"],[0.4444444444444444,\"#bd3786\"],[0.5555555555555556,\"#d8576b\"],[0.6666666666666666,\"#ed7953\"],[0.7777777777777778,\"#fb9f3a\"],[0.8888888888888888,\"#fdca26\"],[1.0,\"#f0f921\"]]}],\"heatmapgl\":[{\"type\":\"heatmapgl\",\"colorbar\":{\"outlinewidth\":0,\"ticks\":\"\"},\"colorscale\":[[0.0,\"#0d0887\"],[0.1111111111111111,\"#46039f\"],[0.2222222222222222,\"#7201a8\"],[0.3333333333333333,\"#9c179e\"],[0.4444444444444444,\"#bd3786\"],[0.5555555555555556,\"#d8576b\"],[0.6666666666666666,\"#ed7953\"],[0.7777777777777778,\"#fb9f3a\"],[0.8888888888888888,\"#fdca26\"],[1.0,\"#f0f921\"]]}],\"contourcarpet\":[{\"type\":\"contourcarpet\",\"colorbar\":{\"outlinewidth\":0,\"ticks\":\"\"}}],\"contour\":[{\"type\":\"contour\",\"colorbar\":{\"outlinewidth\":0,\"ticks\":\"\"},\"colorscale\":[[0.0,\"#0d0887\"],[0.1111111111111111,\"#46039f\"],[0.2222222222222222,\"#7201a8\"],[0.3333333333333333,\"#9c179e\"],[0.4444444444444444,\"#bd3786\"],[0.5555555555555556,\"#d8576b\"],[0.6666666666666666,\"#ed7953\"],[0.7777777777777778,\"#fb9f3a\"],[0.8888888888888888,\"#fdca26\"],[1.0,\"#f0f921\"]]}],\"surface\":[{\"type\":\"surface\",\"colorbar\":{\"outlinewidth\":0,\"ticks\":\"\"},\"colorscale\":[[0.0,\"#0d0887\"],[0.1111111111111111,\"#46039f\"],[0.2222222222222222,\"#7201a8\"],[0.3333333333333333,\"#9c179e\"],[0.4444444444444444,\"#bd3786\"],[0.5555555555555556,\"#d8576b\"],[0.6666666666666666,\"#ed7953\"],[0.7777777777777778,\"#fb9f3a\"],[0.8888888888888888,\"#fdca26\"],[1.0,\"#f0f921\"]]}],\"mesh3d\":[{\"type\":\"mesh3d\",\"colorbar\":{\"outlinewidth\":0,\"ticks\":\"\"}}],\"scatter\":[{\"fillpattern\":{\"fillmode\":\"overlay\",\"size\":10,\"solidity\":0.2},\"type\":\"scatter\"}],\"parcoords\":[{\"type\":\"parcoords\",\"line\":{\"colorbar\":{\"outlinewidth\":0,\"ticks\":\"\"}}}],\"scatterpolargl\":[{\"type\":\"scatterpolargl\",\"marker\":{\"colorbar\":{\"outlinewidth\":0,\"ticks\":\"\"}}}],\"bar\":[{\"error_x\":{\"color\":\"#2a3f5f\"},\"error_y\":{\"color\":\"#2a3f5f\"},\"marker\":{\"line\":{\"color\":\"#E5ECF6\",\"width\":0.5},\"pattern\":{\"fillmode\":\"overlay\",\"size\":10,\"solidity\":0.2}},\"type\":\"bar\"}],\"scattergeo\":[{\"type\":\"scattergeo\",\"marker\":{\"colorbar\":{\"outlinewidth\":0,\"ticks\":\"\"}}}],\"scatterpolar\":[{\"type\":\"scatterpolar\",\"marker\":{\"colorbar\":{\"outlinewidth\":0,\"ticks\":\"\"}}}],\"histogram\":[{\"marker\":{\"pattern\":{\"fillmode\":\"overlay\",\"size\":10,\"solidity\":0.2}},\"type\":\"histogram\"}],\"scattergl\":[{\"type\":\"scattergl\",\"marker\":{\"colorbar\":{\"outlinewidth\":0,\"ticks\":\"\"}}}],\"scatter3d\":[{\"type\":\"scatter3d\",\"line\":{\"colorbar\":{\"outlinewidth\":0,\"ticks\":\"\"}},\"marker\":{\"colorbar\":{\"outlinewidth\":0,\"ticks\":\"\"}}}],\"scattermapbox\":[{\"type\":\"scattermapbox\",\"marker\":{\"colorbar\":{\"outlinewidth\":0,\"ticks\":\"\"}}}],\"scatterternary\":[{\"type\":\"scatterternary\",\"marker\":{\"colorbar\":{\"outlinewidth\":0,\"ticks\":\"\"}}}],\"scattercarpet\":[{\"type\":\"scattercarpet\",\"marker\":{\"colorbar\":{\"outlinewidth\":0,\"ticks\":\"\"}}}],\"carpet\":[{\"aaxis\":{\"endlinecolor\":\"#2a3f5f\",\"gridcolor\":\"white\",\"linecolor\":\"white\",\"minorgridcolor\":\"white\",\"startlinecolor\":\"#2a3f5f\"},\"baxis\":{\"endlinecolor\":\"#2a3f5f\",\"gridcolor\":\"white\",\"linecolor\":\"white\",\"minorgridcolor\":\"white\",\"startlinecolor\":\"#2a3f5f\"},\"type\":\"carpet\"}],\"table\":[{\"cells\":{\"fill\":{\"color\":\"#EBF0F8\"},\"line\":{\"color\":\"white\"}},\"header\":{\"fill\":{\"color\":\"#C8D4E3\"},\"line\":{\"color\":\"white\"}},\"type\":\"table\"}],\"barpolar\":[{\"marker\":{\"line\":{\"color\":\"#E5ECF6\",\"width\":0.5},\"pattern\":{\"fillmode\":\"overlay\",\"size\":10,\"solidity\":0.2}},\"type\":\"barpolar\"}],\"pie\":[{\"automargin\":true,\"type\":\"pie\"}]},\"layout\":{\"autotypenumbers\":\"strict\",\"colorway\":[\"#636efa\",\"#EF553B\",\"#00cc96\",\"#ab63fa\",\"#FFA15A\",\"#19d3f3\",\"#FF6692\",\"#B6E880\",\"#FF97FF\",\"#FECB52\"],\"font\":{\"color\":\"#2a3f5f\"},\"hovermode\":\"closest\",\"hoverlabel\":{\"align\":\"left\"},\"paper_bgcolor\":\"white\",\"plot_bgcolor\":\"#E5ECF6\",\"polar\":{\"bgcolor\":\"#E5ECF6\",\"angularaxis\":{\"gridcolor\":\"white\",\"linecolor\":\"white\",\"ticks\":\"\"},\"radialaxis\":{\"gridcolor\":\"white\",\"linecolor\":\"white\",\"ticks\":\"\"}},\"ternary\":{\"bgcolor\":\"#E5ECF6\",\"aaxis\":{\"gridcolor\":\"white\",\"linecolor\":\"white\",\"ticks\":\"\"},\"baxis\":{\"gridcolor\":\"white\",\"linecolor\":\"white\",\"ticks\":\"\"},\"caxis\":{\"gridcolor\":\"white\",\"linecolor\":\"white\",\"ticks\":\"\"}},\"coloraxis\":{\"colorbar\":{\"outlinewidth\":0,\"ticks\":\"\"}},\"colorscale\":{\"sequential\":[[0.0,\"#0d0887\"],[0.1111111111111111,\"#46039f\"],[0.2222222222222222,\"#7201a8\"],[0.3333333333333333,\"#9c179e\"],[0.4444444444444444,\"#bd3786\"],[0.5555555555555556,\"#d8576b\"],[0.6666666666666666,\"#ed7953\"],[0.7777777777777778,\"#fb9f3a\"],[0.8888888888888888,\"#fdca26\"],[1.0,\"#f0f921\"]],\"sequentialminus\":[[0.0,\"#0d0887\"],[0.1111111111111111,\"#46039f\"],[0.2222222222222222,\"#7201a8\"],[0.3333333333333333,\"#9c179e\"],[0.4444444444444444,\"#bd3786\"],[0.5555555555555556,\"#d8576b\"],[0.6666666666666666,\"#ed7953\"],[0.7777777777777778,\"#fb9f3a\"],[0.8888888888888888,\"#fdca26\"],[1.0,\"#f0f921\"]],\"diverging\":[[0,\"#8e0152\"],[0.1,\"#c51b7d\"],[0.2,\"#de77ae\"],[0.3,\"#f1b6da\"],[0.4,\"#fde0ef\"],[0.5,\"#f7f7f7\"],[0.6,\"#e6f5d0\"],[0.7,\"#b8e186\"],[0.8,\"#7fbc41\"],[0.9,\"#4d9221\"],[1,\"#276419\"]]},\"xaxis\":{\"gridcolor\":\"white\",\"linecolor\":\"white\",\"ticks\":\"\",\"title\":{\"standoff\":15},\"zerolinecolor\":\"white\",\"automargin\":true,\"zerolinewidth\":2},\"yaxis\":{\"gridcolor\":\"white\",\"linecolor\":\"white\",\"ticks\":\"\",\"title\":{\"standoff\":15},\"zerolinecolor\":\"white\",\"automargin\":true,\"zerolinewidth\":2},\"scene\":{\"xaxis\":{\"backgroundcolor\":\"#E5ECF6\",\"gridcolor\":\"white\",\"linecolor\":\"white\",\"showbackground\":true,\"ticks\":\"\",\"zerolinecolor\":\"white\",\"gridwidth\":2},\"yaxis\":{\"backgroundcolor\":\"#E5ECF6\",\"gridcolor\":\"white\",\"linecolor\":\"white\",\"showbackground\":true,\"ticks\":\"\",\"zerolinecolor\":\"white\",\"gridwidth\":2},\"zaxis\":{\"backgroundcolor\":\"#E5ECF6\",\"gridcolor\":\"white\",\"linecolor\":\"white\",\"showbackground\":true,\"ticks\":\"\",\"zerolinecolor\":\"white\",\"gridwidth\":2}},\"shapedefaults\":{\"line\":{\"color\":\"#2a3f5f\"}},\"annotationdefaults\":{\"arrowcolor\":\"#2a3f5f\",\"arrowhead\":0,\"arrowwidth\":1},\"geo\":{\"bgcolor\":\"white\",\"landcolor\":\"#E5ECF6\",\"subunitcolor\":\"white\",\"showland\":true,\"showlakes\":true,\"lakecolor\":\"white\"},\"title\":{\"x\":0.05},\"mapbox\":{\"style\":\"light\"}}},\"xaxis\":{\"anchor\":\"y\",\"domain\":[0.0,0.94]},\"yaxis\":{\"anchor\":\"x\",\"domain\":[0.0,1.0]},\"yaxis2\":{\"anchor\":\"x\",\"overlaying\":\"y\",\"side\":\"right\"}},                        {\"responsive\": true}                    ).then(function(){\n",
       "                            \n",
       "var gd = document.getElementById('f7dfad98-6db5-46d7-af52-c4bcf3696846');\n",
       "var x = new MutationObserver(function (mutations, observer) {{\n",
       "        var display = window.getComputedStyle(gd).display;\n",
       "        if (!display || display === 'none') {{\n",
       "            console.log([gd, 'removed!']);\n",
       "            Plotly.purge(gd);\n",
       "            observer.disconnect();\n",
       "        }}\n",
       "}});\n",
       "\n",
       "// Listen for the removal of the full notebook cells\n",
       "var notebookContainer = gd.closest('#notebook-container');\n",
       "if (notebookContainer) {{\n",
       "    x.observe(notebookContainer, {childList: true});\n",
       "}}\n",
       "\n",
       "// Listen for the clearing of the current output cell\n",
       "var outputEl = gd.closest('.output');\n",
       "if (outputEl) {{\n",
       "    x.observe(outputEl, {childList: true});\n",
       "}}\n",
       "\n",
       "                        })                };                });            </script>        </div>"
      ]
     },
     "metadata": {},
     "output_type": "display_data"
    },
    {
     "data": {
      "application/vnd.plotly.v1+json": {
       "config": {
        "plotlyServerURL": "https://plot.ly"
       },
       "data": [
        {
         "hovertemplate": "date=%{x}<br>Mean=%{y}<extra></extra>",
         "legendgroup": "",
         "line": {
          "dash": "solid"
         },
         "marker": {
          "symbol": "circle"
         },
         "mode": "lines",
         "name": "",
         "orientation": "v",
         "showlegend": false,
         "type": "scatter",
         "x": [
          "2022-01-05",
          "2022-01-06",
          "2022-01-07",
          "2022-01-08",
          "2022-01-09",
          "2022-01-10",
          "2022-01-11",
          "2022-01-12",
          "2022-01-16",
          "2022-01-17",
          "2022-01-18",
          "2022-01-19",
          "2022-01-20",
          "2022-01-21",
          "2022-01-22",
          "2022-01-23",
          "2022-01-24",
          "2022-01-25",
          "2022-01-26",
          "2022-01-27",
          "2022-01-28",
          "2022-01-29",
          "2022-01-30",
          "2022-01-31",
          "2022-02-01",
          "2022-02-02",
          "2022-02-03",
          "2022-02-04",
          "2022-02-05",
          "2022-02-06",
          "2022-02-07",
          "2022-02-08",
          "2022-02-09",
          "2022-02-10",
          "2022-02-11",
          "2022-02-12",
          "2022-02-13",
          "2022-02-14",
          "2022-02-15",
          "2022-02-16",
          "2022-02-17",
          "2022-02-18",
          "2022-02-19",
          "2022-02-20",
          "2022-02-21",
          "2022-02-22",
          "2022-02-23",
          "2022-02-24",
          "2022-02-25",
          "2022-02-26",
          "2022-02-27",
          "2022-02-28",
          "2022-03-01",
          "2022-03-02",
          "2022-03-03",
          "2022-03-04",
          "2022-03-05",
          "2022-03-06",
          "2022-03-07",
          "2022-03-08",
          "2022-03-09",
          "2022-03-10",
          "2022-03-11",
          "2022-03-12",
          "2022-03-13",
          "2022-03-14",
          "2022-03-15",
          "2022-03-16",
          "2022-03-17",
          "2022-03-18",
          "2022-03-19",
          "2022-03-20",
          "2022-03-21",
          "2022-03-22",
          "2022-03-23",
          "2022-03-24",
          "2022-03-25",
          "2022-03-26",
          "2022-03-27",
          "2022-03-28",
          "2022-03-29",
          "2022-03-30",
          "2022-03-31",
          "2022-04-01",
          "2022-04-02",
          "2022-04-05",
          "2022-04-06",
          "2022-04-07",
          "2022-04-08",
          "2022-04-09",
          "2022-04-10",
          "2022-04-11",
          "2022-04-12",
          "2022-04-13",
          "2022-04-14",
          "2022-04-15",
          "2022-04-16",
          "2022-04-17",
          "2022-04-18",
          "2022-04-19",
          "2022-04-20",
          "2022-04-21",
          "2022-04-22",
          "2022-04-23",
          "2022-04-24",
          "2022-04-25",
          "2022-04-26",
          "2022-04-27",
          "2022-04-28",
          "2022-04-29",
          "2022-04-30",
          "2022-05-01",
          "2022-05-02",
          "2022-05-03",
          "2022-05-04",
          "2022-05-05",
          "2022-05-06",
          "2022-05-07",
          "2022-05-08",
          "2022-05-09",
          "2022-05-10",
          "2022-05-11",
          "2022-05-12",
          "2022-05-13",
          "2022-05-14",
          "2022-05-15",
          "2022-05-16",
          "2022-05-17",
          "2022-05-18",
          "2022-05-19",
          "2022-05-20",
          "2022-05-21",
          "2022-05-22",
          "2022-05-23",
          "2022-05-24",
          "2022-05-26",
          "2022-05-27",
          "2022-05-28",
          "2022-05-29",
          "2022-05-30",
          "2022-05-31",
          "2022-06-01",
          "2022-06-02",
          "2022-06-03",
          "2022-06-04",
          "2022-06-05",
          "2022-06-06",
          "2022-06-07",
          "2022-06-08",
          "2022-06-09",
          "2022-06-10",
          "2022-06-11",
          "2022-06-12",
          "2022-06-13",
          "2022-06-14",
          "2022-06-15",
          "2022-06-16",
          "2022-06-17",
          "2022-06-18",
          "2022-06-19",
          "2022-06-20",
          "2022-06-21",
          "2022-06-22",
          "2022-06-23",
          "2022-06-24",
          "2022-06-25",
          "2022-06-26",
          "2022-06-27",
          "2022-06-28",
          "2022-06-29",
          "2022-07-02",
          "2022-07-03",
          "2022-07-04",
          "2022-07-05",
          "2022-07-06",
          "2022-07-07",
          "2022-07-08",
          "2022-07-09",
          "2022-07-10",
          "2022-07-11",
          "2022-07-12",
          "2022-07-13",
          "2022-07-14",
          "2022-07-15",
          "2022-07-16",
          "2022-07-17",
          "2022-07-18",
          "2022-07-19",
          "2022-07-20",
          "2022-07-21",
          "2022-07-22",
          "2022-07-23",
          "2022-07-24",
          "2022-07-25",
          "2022-07-26",
          "2022-07-27",
          "2022-07-28",
          "2022-07-29",
          "2022-07-30",
          "2022-07-31",
          "2022-08-01",
          "2022-08-02",
          "2022-08-03",
          "2022-08-04",
          "2022-08-05",
          "2022-08-06",
          "2022-08-07",
          "2022-08-08",
          "2022-08-09",
          "2022-08-10",
          "2022-08-11",
          "2022-08-12",
          "2022-08-13",
          "2022-08-14",
          "2022-08-15",
          "2022-08-16",
          "2022-08-17",
          "2022-08-18",
          "2022-08-19",
          "2022-08-20",
          "2022-08-21",
          "2022-08-22",
          "2022-08-23",
          "2022-08-24",
          "2022-08-25",
          "2022-08-26",
          "2022-08-27",
          "2022-08-28",
          "2022-08-29",
          "2022-08-30",
          "2022-08-31",
          "2022-09-01",
          "2022-09-02",
          "2022-09-03",
          "2022-09-04",
          "2022-09-05",
          "2022-09-06",
          "2022-09-07",
          "2022-09-08",
          "2022-09-09",
          "2022-09-10",
          "2022-09-11",
          "2022-09-12",
          "2022-09-13",
          "2022-09-14",
          "2022-09-16"
         ],
         "xaxis": "x",
         "y": [
          16300560.396325707,
          17658648.89806571,
          17347162.93101469,
          16975064.4272259,
          16797785.791917797,
          16806788.914961446,
          16811833.251713973,
          16734018.396816732,
          17112088.201657716,
          17011946.553369317,
          16970497.972453773,
          16652439.489730489,
          14965479.43222849,
          13323793.673679637,
          12873959.016227724,
          11303651.720090585,
          11007467.34700925,
          10871655.621807251,
          12159820.822644686,
          13505607.403390111,
          13681356.340413606,
          14936296.611906191,
          14923038.910625257,
          12589322.572192566,
          12568194.290519638,
          12656150.217581045,
          12895523.888825014,
          13174352.579157157,
          14758873.283617333,
          14966112.54168266,
          13981120.739769287,
          14329206.281212503,
          12998453.810260974,
          13035101.46742987,
          12935524.996210158,
          14282421.110996926,
          14269045.839103565,
          14234745.430921003,
          13983623.878515448,
          12451147.474175066,
          15269480.34958822,
          15144035.258112026,
          13602820.084048048,
          11961488.017577806,
          11692883.442188185,
          10520623.18598848,
          10597508.98837556,
          12302652.732426368,
          12055658.914270565,
          13312310.455994308,
          13302684.301300997,
          15072063.977543931,
          16640913.820278505,
          16726833.162031168,
          15359834.212318948,
          14337334.69371573,
          13968809.536106026,
          13561663.795575554,
          13355494.93965335,
          11993273.990426429,
          12099160.81741657,
          12943501.406253258,
          12695278.590656549,
          12590908.615391329,
          12418870.720681133,
          12292307.862216016,
          13682690.17967298,
          12526529.102193069,
          12882839.583889768,
          11436021.607194657,
          11324391.68407502,
          12674892.310120234,
          11270116.114267657,
          12775937.96738934,
          11589932.293703048,
          13442791.025573203,
          13942925.906535745,
          12722266.4979224,
          14600266.085370503,
          14866187.212059,
          14936133.6515846,
          13608250.734281491,
          12280254.842698582,
          14027934.698614923,
          13825044.782824928,
          9370691.80449831,
          9533048.390190354,
          9701736.487279251,
          8516841.090446098,
          9443838.824822633,
          9364852.622400708,
          10675149.238137288,
          11864137.72101284,
          11742429.723710775,
          12885260.082449311,
          11467406.715709897,
          12690455.363681272,
          11144443.841934573,
          9815462.194832023,
          9820668.402080366,
          9694690.695536984,
          9815317.107529247,
          9585090.849358326,
          9490934.549195984,
          10580321.827864258,
          10357739.355840078,
          9904135.934160378,
          9669618.420316638,
          13644156.129957588,
          13356814.415303038,
          11853810.286388464,
          11775592.976694366,
          11590485.543108916,
          11612288.84540094,
          12868801.298505137,
          13053035.151801929,
          14110520.33822723,
          13778267.472966751,
          12530386.508751629,
          12021290.84041947,
          11497172.066507123,
          11118384.805893648,
          10012741.049433025,
          8903535.797767593,
          9879758.226772675,
          8878044.28833642,
          8912295.660614314,
          8893381.490528656,
          8745347.529548453,
          9631829.455022588,
          9253797.523018852,
          10113809.633346066,
          8627578.21810162,
          8436459.608976576,
          8431611.204082683,
          9263388.742297878,
          9200360.676142124,
          8049840.762693316,
          7924927.841125282,
          7868657.633253898,
          7230972.840943344,
          6065311.089454257,
          9510080.885098493,
          10311356.508528523,
          10188843.301089196,
          9230875.838806592,
          10421951.542127308,
          9410805.585428568,
          9295633.88340653,
          8287272.486073527,
          7205341.804875426,
          7007599.814036851,
          6448621.827739158,
          6996861.265276186,
          6653012.160243738,
          7241345.740182835,
          7813596.111569532,
          7643831.547008324,
          7531588.959285109,
          7505410.359529986,
          7423733.098475824,
          6722836.719293342,
          6849695.54328337,
          6908397.18765669,
          6799747.286928598,
          5966884.493104179,
          5897396.60152033,
          6545954.712858573,
          6358798.550920685,
          6316020.342904109,
          5492587.888628663,
          6037932.844157421,
          6507796.793347505,
          6309120.805134576,
          5657328.519440842,
          6476220.235650866,
          6414659.974277817,
          6216635.331815537,
          6170705.76427205,
          6847120.495130398,
          7568256.8942576,
          6839261.199889245,
          6985216.111671757,
          7127510.381407448,
          7193205.759368735,
          6399743.077854154,
          5758539.531994228,
          6621291.371501154,
          6804726.057510258,
          6060577.235854323,
          5243187.541894077,
          5147318.963220172,
          5064263.508210289,
          4858667.85518512,
          3909371.044759281,
          4096096.090724261,
          4204594.980261365,
          4307863.510326613,
          5003951.526183036,
          4228045.443139293,
          4333588.643109683,
          5018962.503638574,
          5804053.423344479,
          5895996.5152875,
          5037398.072898928,
          5004869.981366244,
          4880399.674905674,
          3947814.281643769,
          3948862.58109716,
          4797672.732006527,
          4884605.922182759,
          5715605.453048547,
          6451408.939340082,
          7364789.98125288,
          7339247.45884328,
          6379593.836309846,
          6259926.059650292,
          6100968.986072023,
          5275627.779843024,
          5031561.367078741,
          4892291.1739766905,
          5546647.476200526,
          5516003.131957986,
          5482295.180712657,
          5456852.680862268,
          4775999.74259103,
          3957207.108413973,
          3931561.776743367,
          4698801.634696487,
          4061940.882940602,
          4708582.741603273,
          5294455.559226955,
          5380768.831610278,
          5275279.474289083,
          4521161.304549058,
          4425189.697850819,
          3752298.765401428,
          3150115.6873833905,
          3837971.635240448,
          3236858.334502481,
          3272351.204580219,
          3426944.4127864144,
          4117827.867354317,
          4050300.34362331,
          3335873.889345976,
          3912334.868152091
         ],
         "yaxis": "y"
        },
        {
         "hovertemplate": "date=%{x}<br>status=%{y}<extra></extra>",
         "legendgroup": "",
         "line": {
          "dash": "solid"
         },
         "marker": {
          "symbol": "circle"
         },
         "mode": "lines",
         "name": "",
         "orientation": "v",
         "showlegend": false,
         "type": "scatter",
         "x": [
          "2022-01-05",
          "2022-01-06",
          "2022-01-07",
          "2022-01-08",
          "2022-01-09",
          "2022-01-10",
          "2022-01-11",
          "2022-01-12",
          "2022-01-16",
          "2022-01-17",
          "2022-01-18",
          "2022-01-19",
          "2022-01-20",
          "2022-01-21",
          "2022-01-22",
          "2022-01-23",
          "2022-01-24",
          "2022-01-25",
          "2022-01-26",
          "2022-01-27",
          "2022-01-28",
          "2022-01-29",
          "2022-01-30",
          "2022-01-31",
          "2022-02-01",
          "2022-02-02",
          "2022-02-03",
          "2022-02-04",
          "2022-02-05",
          "2022-02-06",
          "2022-02-07",
          "2022-02-08",
          "2022-02-09",
          "2022-02-10",
          "2022-02-11",
          "2022-02-12",
          "2022-02-13",
          "2022-02-14",
          "2022-02-15",
          "2022-02-16",
          "2022-02-17",
          "2022-02-18",
          "2022-02-19",
          "2022-02-20",
          "2022-02-21",
          "2022-02-22",
          "2022-02-23",
          "2022-02-24",
          "2022-02-25",
          "2022-02-26",
          "2022-02-27",
          "2022-02-28",
          "2022-03-01",
          "2022-03-02",
          "2022-03-03",
          "2022-03-04",
          "2022-03-05",
          "2022-03-06",
          "2022-03-07",
          "2022-03-08",
          "2022-03-09",
          "2022-03-10",
          "2022-03-11",
          "2022-03-12",
          "2022-03-13",
          "2022-03-14",
          "2022-03-15",
          "2022-03-16",
          "2022-03-17",
          "2022-03-18",
          "2022-03-19",
          "2022-03-20",
          "2022-03-21",
          "2022-03-22",
          "2022-03-23",
          "2022-03-24",
          "2022-03-25",
          "2022-03-26",
          "2022-03-27",
          "2022-03-28",
          "2022-03-29",
          "2022-03-30",
          "2022-03-31",
          "2022-04-01",
          "2022-04-02",
          "2022-04-05",
          "2022-04-06",
          "2022-04-07",
          "2022-04-08",
          "2022-04-09",
          "2022-04-10",
          "2022-04-11",
          "2022-04-12",
          "2022-04-13",
          "2022-04-14",
          "2022-04-15",
          "2022-04-16",
          "2022-04-17",
          "2022-04-18",
          "2022-04-19",
          "2022-04-20",
          "2022-04-21",
          "2022-04-22",
          "2022-04-23",
          "2022-04-24",
          "2022-04-25",
          "2022-04-26",
          "2022-04-27",
          "2022-04-28",
          "2022-04-29",
          "2022-04-30",
          "2022-05-01",
          "2022-05-02",
          "2022-05-03",
          "2022-05-04",
          "2022-05-05",
          "2022-05-06",
          "2022-05-07",
          "2022-05-08",
          "2022-05-09",
          "2022-05-10",
          "2022-05-11",
          "2022-05-12",
          "2022-05-13",
          "2022-05-14",
          "2022-05-15",
          "2022-05-16",
          "2022-05-17",
          "2022-05-18",
          "2022-05-19",
          "2022-05-20",
          "2022-05-21",
          "2022-05-22",
          "2022-05-23",
          "2022-05-24",
          "2022-05-26",
          "2022-05-27",
          "2022-05-28",
          "2022-05-29",
          "2022-05-30",
          "2022-05-31",
          "2022-06-01",
          "2022-06-02",
          "2022-06-03",
          "2022-06-04",
          "2022-06-05",
          "2022-06-06",
          "2022-06-07",
          "2022-06-08",
          "2022-06-09",
          "2022-06-10",
          "2022-06-11",
          "2022-06-12",
          "2022-06-13",
          "2022-06-14",
          "2022-06-15",
          "2022-06-16",
          "2022-06-17",
          "2022-06-18",
          "2022-06-19",
          "2022-06-20",
          "2022-06-21",
          "2022-06-22",
          "2022-06-23",
          "2022-06-24",
          "2022-06-25",
          "2022-06-26",
          "2022-06-27",
          "2022-06-28",
          "2022-06-29",
          "2022-07-02",
          "2022-07-03",
          "2022-07-04",
          "2022-07-05",
          "2022-07-06",
          "2022-07-07",
          "2022-07-08",
          "2022-07-09",
          "2022-07-10",
          "2022-07-11",
          "2022-07-12",
          "2022-07-13",
          "2022-07-14",
          "2022-07-15",
          "2022-07-16",
          "2022-07-17",
          "2022-07-18",
          "2022-07-19",
          "2022-07-20",
          "2022-07-21",
          "2022-07-22",
          "2022-07-23",
          "2022-07-24",
          "2022-07-25",
          "2022-07-26",
          "2022-07-27",
          "2022-07-28",
          "2022-07-29",
          "2022-07-30",
          "2022-07-31",
          "2022-08-01",
          "2022-08-02",
          "2022-08-03",
          "2022-08-04",
          "2022-08-05",
          "2022-08-06",
          "2022-08-07",
          "2022-08-08",
          "2022-08-09",
          "2022-08-10",
          "2022-08-11",
          "2022-08-12",
          "2022-08-13",
          "2022-08-14",
          "2022-08-15",
          "2022-08-16",
          "2022-08-17",
          "2022-08-18",
          "2022-08-19",
          "2022-08-20",
          "2022-08-21",
          "2022-08-22",
          "2022-08-23",
          "2022-08-24",
          "2022-08-25",
          "2022-08-26",
          "2022-08-27",
          "2022-08-28",
          "2022-08-29",
          "2022-08-30",
          "2022-08-31",
          "2022-09-01",
          "2022-09-02",
          "2022-09-03",
          "2022-09-04",
          "2022-09-05",
          "2022-09-06",
          "2022-09-07",
          "2022-09-08",
          "2022-09-09",
          "2022-09-10",
          "2022-09-11",
          "2022-09-12",
          "2022-09-13",
          "2022-09-14",
          "2022-09-16"
         ],
         "xaxis": "x",
         "y": [
          1.2291954747914176,
          1.6159086578718636,
          1.519230362101752,
          1.2291954747914176,
          1.325873770561529,
          1.519230362101752,
          1.325873770561529,
          1.519230362101752,
          3.30631806675582,
          2.70348307562222,
          2.5527743278388204,
          2.1006480844886206,
          1.3471043455716207,
          0.4428518588712212,
          -0.0092743844789784,
          0.2921431110878219,
          -0.7628181233959777,
          -0.7628181233959777,
          -0.3106918800457779,
          0.1414343633044217,
          0.1414343633044217,
          0.1414343633044217,
          0.8949781022214209,
          0.1454970363532205,
          0.3843727676794037,
          0.3843727676794037,
          0.7426863646686788,
          0.5038106333424957,
          2.1759407526257792,
          2.295378618288871,
          1.937065021299596,
          1.578751424310321,
          0.981562095994862,
          1.1009999616579538,
          -0.5711301576253299,
          -0.5711301576253299,
          -0.8100058889515132,
          -0.8100058889515132,
          -0.8100058889515132,
          -1.4071952172669715,
          1.132517179021306,
          1.325873770561529,
          0.7458039959408604,
          0.5524474044006372,
          0.2624125170903029,
          -0.3176572575303655,
          -0.2209789617602542,
          -1.5266330829300632,
          -1.0488816202776967,
          -0.0933786949729629,
          0.0260591706901286,
          0.6232484990055869,
          1.1009999616579538,
          1.817627155636504,
          1.459313558647229,
          0.8621242303317707,
          1.2204378273210457,
          1.3398756929841371,
          0.981562095994862,
          0.0260591706901286,
          -0.0933786949729629,
          -0.451692291962238,
          -0.8100058889515132,
          -0.929443754614605,
          -1.1683194859407882,
          -1.0488816202776967,
          -0.929443754614605,
          -0.8100058889515132,
          -0.3322544262991465,
          -0.929443754614605,
          -0.0933786949729629,
          0.3843727676794037,
          0.0260591706901286,
          0.7426863646686788,
          -0.0933786949729629,
          0.1454970363532205,
          -0.8100058889515132,
          -1.0488816202776967,
          -0.451692291962238,
          -1.1683194859407882,
          -0.929443754614605,
          -1.0488816202776967,
          -0.929443754614605,
          -0.6905680232884215,
          -0.5711301576253299,
          -0.7043704406108116,
          -0.5110138490705886,
          -0.6076921448406999,
          -0.8010487363809229,
          -0.6076921448406999,
          -0.5110138490705886,
          0.2624125170903029,
          0.2624125170903029,
          0.0690559255500801,
          0.2624125170903029,
          -0.0276223702200312,
          0.0690559255500801,
          -0.6076921448406999,
          -0.7043704406108116,
          -0.2209789617602542,
          -0.0276223702200312,
          0.0690559255500801,
          -0.0276223702200312,
          -0.0276223702200312,
          0.1657342213201917,
          -0.1243006659901428,
          0.1657342213201917,
          0.1657342213201917,
          0.2921431110878219,
          0.7442693544380216,
          0.1414343633044217,
          0.5935606066546214,
          0.5935606066546214,
          0.4428518588712212,
          1.045686850004821,
          0.5935606066546214,
          1.1963955977882212,
          1.045686850004821,
          0.7442693544380216,
          -0.3106918800457779,
          -0.7628181233959777,
          -0.1599831322623778,
          -0.6121093756125778,
          -1.2149443667461777,
          -1.2149443667461777,
          -1.0642356189627775,
          -0.9135268711793774,
          -0.9135268711793774,
          -1.0642356189627775,
          -0.4614006278291777,
          0.6491257001707489,
          1.2291954747914176,
          1.0358388832511949,
          0.9391605874810832,
          0.6491257001707489,
          0.8424822917109716,
          0.4557691086305261,
          -0.1243006659901428,
          -0.0276223702200312,
          0.1657342213201917,
          -0.2209789617602542,
          -0.3176572575303655,
          -0.7628181233959777,
          -1.0642356189627775,
          -0.0092743844789784,
          -0.4614006278291777,
          -0.1599831322623778,
          -0.4614006278291777,
          -0.4614006278291777,
          0.1414343633044217,
          -1.0642356189627775,
          -1.3656531145295772,
          -0.9135268711793774,
          -0.7628181233959777,
          -0.1599831322623778,
          0.5935606066546214,
          0.7442693544380216,
          0.5935606066546214,
          0.7442693544380216,
          0.4428518588712212,
          0.1414343633044217,
          -1.0642356189627775,
          -0.9135268711793774,
          -0.9135268711793774,
          -1.516361862312977,
          -1.2149443667461777,
          -0.9135268711793774,
          -0.1599831322623778,
          0.1414343633044217,
          -0.1599831322623778,
          -0.3176572575303655,
          -0.0276223702200312,
          -0.0276223702200312,
          -0.4143355533004772,
          -0.2209789617602542,
          -0.1243006659901428,
          0.1657342213201917,
          0.0690559255500801,
          0.6491257001707489,
          2.969404798653424,
          3.259439685963758,
          3.5494745732740927,
          3.259439685963758,
          3.1627613901936478,
          2.6793699113430898,
          0.5524474044006372,
          -0.0276223702200312,
          -0.0276223702200312,
          0.0690559255500801,
          -0.2209789617602542,
          -0.4143355533004772,
          -0.4143355533004772,
          -0.5110138490705886,
          -0.7043704406108116,
          -1.2844402152314802,
          -0.994405327921146,
          -1.091083623691257,
          -1.1877619194613689,
          -0.6076921448406999,
          -0.8977270321510343,
          -0.7043704406108116,
          -0.8010487363809229,
          -0.7043704406108116,
          -0.7043704406108116,
          -1.2844402152314802,
          -1.3811185110015916,
          -1.5744751025418149,
          -1.671153398311926,
          -1.091083623691257,
          -0.8977270321510343,
          -0.8010487363809229,
          -0.5110138490705886,
          -0.3176572575303655,
          -0.3176572575303655,
          -0.8977270321510343,
          -0.8010487363809229,
          -0.8977270321510343,
          -1.091083623691257,
          -1.1877619194613689,
          -0.8977270321510343,
          -0.4143355533004772,
          -0.2209789617602542,
          -0.2209789617602542,
          -0.3176572575303655,
          -0.3176572575303655,
          -0.5110138490705886,
          -0.8010487363809229,
          -0.8977270321510343,
          -0.2209789617602542,
          -0.2209789617602542,
          0.1657342213201917,
          0.6491257001707489,
          0.3590908128604145,
          0.5524474044006372,
          0.0690559255500801,
          0.0690559255500801,
          -0.1243006659901428,
          -0.6076921448406999,
          -0.2209789617602542,
          -0.7043704406108116,
          -0.6076921448406999,
          -0.7043704406108116,
          -0.7043704406108116,
          -0.7043704406108116,
          -1.091083623691257,
          -0.6076921448406999
         ],
         "yaxis": "y2"
        }
       ],
       "layout": {
        "template": {
         "data": {
          "bar": [
           {
            "error_x": {
             "color": "#2a3f5f"
            },
            "error_y": {
             "color": "#2a3f5f"
            },
            "marker": {
             "line": {
              "color": "#E5ECF6",
              "width": 0.5
             },
             "pattern": {
              "fillmode": "overlay",
              "size": 10,
              "solidity": 0.2
             }
            },
            "type": "bar"
           }
          ],
          "barpolar": [
           {
            "marker": {
             "line": {
              "color": "#E5ECF6",
              "width": 0.5
             },
             "pattern": {
              "fillmode": "overlay",
              "size": 10,
              "solidity": 0.2
             }
            },
            "type": "barpolar"
           }
          ],
          "carpet": [
           {
            "aaxis": {
             "endlinecolor": "#2a3f5f",
             "gridcolor": "white",
             "linecolor": "white",
             "minorgridcolor": "white",
             "startlinecolor": "#2a3f5f"
            },
            "baxis": {
             "endlinecolor": "#2a3f5f",
             "gridcolor": "white",
             "linecolor": "white",
             "minorgridcolor": "white",
             "startlinecolor": "#2a3f5f"
            },
            "type": "carpet"
           }
          ],
          "choropleth": [
           {
            "colorbar": {
             "outlinewidth": 0,
             "ticks": ""
            },
            "type": "choropleth"
           }
          ],
          "contour": [
           {
            "colorbar": {
             "outlinewidth": 0,
             "ticks": ""
            },
            "colorscale": [
             [
              0,
              "#0d0887"
             ],
             [
              0.1111111111111111,
              "#46039f"
             ],
             [
              0.2222222222222222,
              "#7201a8"
             ],
             [
              0.3333333333333333,
              "#9c179e"
             ],
             [
              0.4444444444444444,
              "#bd3786"
             ],
             [
              0.5555555555555556,
              "#d8576b"
             ],
             [
              0.6666666666666666,
              "#ed7953"
             ],
             [
              0.7777777777777778,
              "#fb9f3a"
             ],
             [
              0.8888888888888888,
              "#fdca26"
             ],
             [
              1,
              "#f0f921"
             ]
            ],
            "type": "contour"
           }
          ],
          "contourcarpet": [
           {
            "colorbar": {
             "outlinewidth": 0,
             "ticks": ""
            },
            "type": "contourcarpet"
           }
          ],
          "heatmap": [
           {
            "colorbar": {
             "outlinewidth": 0,
             "ticks": ""
            },
            "colorscale": [
             [
              0,
              "#0d0887"
             ],
             [
              0.1111111111111111,
              "#46039f"
             ],
             [
              0.2222222222222222,
              "#7201a8"
             ],
             [
              0.3333333333333333,
              "#9c179e"
             ],
             [
              0.4444444444444444,
              "#bd3786"
             ],
             [
              0.5555555555555556,
              "#d8576b"
             ],
             [
              0.6666666666666666,
              "#ed7953"
             ],
             [
              0.7777777777777778,
              "#fb9f3a"
             ],
             [
              0.8888888888888888,
              "#fdca26"
             ],
             [
              1,
              "#f0f921"
             ]
            ],
            "type": "heatmap"
           }
          ],
          "heatmapgl": [
           {
            "colorbar": {
             "outlinewidth": 0,
             "ticks": ""
            },
            "colorscale": [
             [
              0,
              "#0d0887"
             ],
             [
              0.1111111111111111,
              "#46039f"
             ],
             [
              0.2222222222222222,
              "#7201a8"
             ],
             [
              0.3333333333333333,
              "#9c179e"
             ],
             [
              0.4444444444444444,
              "#bd3786"
             ],
             [
              0.5555555555555556,
              "#d8576b"
             ],
             [
              0.6666666666666666,
              "#ed7953"
             ],
             [
              0.7777777777777778,
              "#fb9f3a"
             ],
             [
              0.8888888888888888,
              "#fdca26"
             ],
             [
              1,
              "#f0f921"
             ]
            ],
            "type": "heatmapgl"
           }
          ],
          "histogram": [
           {
            "marker": {
             "pattern": {
              "fillmode": "overlay",
              "size": 10,
              "solidity": 0.2
             }
            },
            "type": "histogram"
           }
          ],
          "histogram2d": [
           {
            "colorbar": {
             "outlinewidth": 0,
             "ticks": ""
            },
            "colorscale": [
             [
              0,
              "#0d0887"
             ],
             [
              0.1111111111111111,
              "#46039f"
             ],
             [
              0.2222222222222222,
              "#7201a8"
             ],
             [
              0.3333333333333333,
              "#9c179e"
             ],
             [
              0.4444444444444444,
              "#bd3786"
             ],
             [
              0.5555555555555556,
              "#d8576b"
             ],
             [
              0.6666666666666666,
              "#ed7953"
             ],
             [
              0.7777777777777778,
              "#fb9f3a"
             ],
             [
              0.8888888888888888,
              "#fdca26"
             ],
             [
              1,
              "#f0f921"
             ]
            ],
            "type": "histogram2d"
           }
          ],
          "histogram2dcontour": [
           {
            "colorbar": {
             "outlinewidth": 0,
             "ticks": ""
            },
            "colorscale": [
             [
              0,
              "#0d0887"
             ],
             [
              0.1111111111111111,
              "#46039f"
             ],
             [
              0.2222222222222222,
              "#7201a8"
             ],
             [
              0.3333333333333333,
              "#9c179e"
             ],
             [
              0.4444444444444444,
              "#bd3786"
             ],
             [
              0.5555555555555556,
              "#d8576b"
             ],
             [
              0.6666666666666666,
              "#ed7953"
             ],
             [
              0.7777777777777778,
              "#fb9f3a"
             ],
             [
              0.8888888888888888,
              "#fdca26"
             ],
             [
              1,
              "#f0f921"
             ]
            ],
            "type": "histogram2dcontour"
           }
          ],
          "mesh3d": [
           {
            "colorbar": {
             "outlinewidth": 0,
             "ticks": ""
            },
            "type": "mesh3d"
           }
          ],
          "parcoords": [
           {
            "line": {
             "colorbar": {
              "outlinewidth": 0,
              "ticks": ""
             }
            },
            "type": "parcoords"
           }
          ],
          "pie": [
           {
            "automargin": true,
            "type": "pie"
           }
          ],
          "scatter": [
           {
            "fillpattern": {
             "fillmode": "overlay",
             "size": 10,
             "solidity": 0.2
            },
            "type": "scatter"
           }
          ],
          "scatter3d": [
           {
            "line": {
             "colorbar": {
              "outlinewidth": 0,
              "ticks": ""
             }
            },
            "marker": {
             "colorbar": {
              "outlinewidth": 0,
              "ticks": ""
             }
            },
            "type": "scatter3d"
           }
          ],
          "scattercarpet": [
           {
            "marker": {
             "colorbar": {
              "outlinewidth": 0,
              "ticks": ""
             }
            },
            "type": "scattercarpet"
           }
          ],
          "scattergeo": [
           {
            "marker": {
             "colorbar": {
              "outlinewidth": 0,
              "ticks": ""
             }
            },
            "type": "scattergeo"
           }
          ],
          "scattergl": [
           {
            "marker": {
             "colorbar": {
              "outlinewidth": 0,
              "ticks": ""
             }
            },
            "type": "scattergl"
           }
          ],
          "scattermapbox": [
           {
            "marker": {
             "colorbar": {
              "outlinewidth": 0,
              "ticks": ""
             }
            },
            "type": "scattermapbox"
           }
          ],
          "scatterpolar": [
           {
            "marker": {
             "colorbar": {
              "outlinewidth": 0,
              "ticks": ""
             }
            },
            "type": "scatterpolar"
           }
          ],
          "scatterpolargl": [
           {
            "marker": {
             "colorbar": {
              "outlinewidth": 0,
              "ticks": ""
             }
            },
            "type": "scatterpolargl"
           }
          ],
          "scatterternary": [
           {
            "marker": {
             "colorbar": {
              "outlinewidth": 0,
              "ticks": ""
             }
            },
            "type": "scatterternary"
           }
          ],
          "surface": [
           {
            "colorbar": {
             "outlinewidth": 0,
             "ticks": ""
            },
            "colorscale": [
             [
              0,
              "#0d0887"
             ],
             [
              0.1111111111111111,
              "#46039f"
             ],
             [
              0.2222222222222222,
              "#7201a8"
             ],
             [
              0.3333333333333333,
              "#9c179e"
             ],
             [
              0.4444444444444444,
              "#bd3786"
             ],
             [
              0.5555555555555556,
              "#d8576b"
             ],
             [
              0.6666666666666666,
              "#ed7953"
             ],
             [
              0.7777777777777778,
              "#fb9f3a"
             ],
             [
              0.8888888888888888,
              "#fdca26"
             ],
             [
              1,
              "#f0f921"
             ]
            ],
            "type": "surface"
           }
          ],
          "table": [
           {
            "cells": {
             "fill": {
              "color": "#EBF0F8"
             },
             "line": {
              "color": "white"
             }
            },
            "header": {
             "fill": {
              "color": "#C8D4E3"
             },
             "line": {
              "color": "white"
             }
            },
            "type": "table"
           }
          ]
         },
         "layout": {
          "annotationdefaults": {
           "arrowcolor": "#2a3f5f",
           "arrowhead": 0,
           "arrowwidth": 1
          },
          "autotypenumbers": "strict",
          "coloraxis": {
           "colorbar": {
            "outlinewidth": 0,
            "ticks": ""
           }
          },
          "colorscale": {
           "diverging": [
            [
             0,
             "#8e0152"
            ],
            [
             0.1,
             "#c51b7d"
            ],
            [
             0.2,
             "#de77ae"
            ],
            [
             0.3,
             "#f1b6da"
            ],
            [
             0.4,
             "#fde0ef"
            ],
            [
             0.5,
             "#f7f7f7"
            ],
            [
             0.6,
             "#e6f5d0"
            ],
            [
             0.7,
             "#b8e186"
            ],
            [
             0.8,
             "#7fbc41"
            ],
            [
             0.9,
             "#4d9221"
            ],
            [
             1,
             "#276419"
            ]
           ],
           "sequential": [
            [
             0,
             "#0d0887"
            ],
            [
             0.1111111111111111,
             "#46039f"
            ],
            [
             0.2222222222222222,
             "#7201a8"
            ],
            [
             0.3333333333333333,
             "#9c179e"
            ],
            [
             0.4444444444444444,
             "#bd3786"
            ],
            [
             0.5555555555555556,
             "#d8576b"
            ],
            [
             0.6666666666666666,
             "#ed7953"
            ],
            [
             0.7777777777777778,
             "#fb9f3a"
            ],
            [
             0.8888888888888888,
             "#fdca26"
            ],
            [
             1,
             "#f0f921"
            ]
           ],
           "sequentialminus": [
            [
             0,
             "#0d0887"
            ],
            [
             0.1111111111111111,
             "#46039f"
            ],
            [
             0.2222222222222222,
             "#7201a8"
            ],
            [
             0.3333333333333333,
             "#9c179e"
            ],
            [
             0.4444444444444444,
             "#bd3786"
            ],
            [
             0.5555555555555556,
             "#d8576b"
            ],
            [
             0.6666666666666666,
             "#ed7953"
            ],
            [
             0.7777777777777778,
             "#fb9f3a"
            ],
            [
             0.8888888888888888,
             "#fdca26"
            ],
            [
             1,
             "#f0f921"
            ]
           ]
          },
          "colorway": [
           "#636efa",
           "#EF553B",
           "#00cc96",
           "#ab63fa",
           "#FFA15A",
           "#19d3f3",
           "#FF6692",
           "#B6E880",
           "#FF97FF",
           "#FECB52"
          ],
          "font": {
           "color": "#2a3f5f"
          },
          "geo": {
           "bgcolor": "white",
           "lakecolor": "white",
           "landcolor": "#E5ECF6",
           "showlakes": true,
           "showland": true,
           "subunitcolor": "white"
          },
          "hoverlabel": {
           "align": "left"
          },
          "hovermode": "closest",
          "mapbox": {
           "style": "light"
          },
          "paper_bgcolor": "white",
          "plot_bgcolor": "#E5ECF6",
          "polar": {
           "angularaxis": {
            "gridcolor": "white",
            "linecolor": "white",
            "ticks": ""
           },
           "bgcolor": "#E5ECF6",
           "radialaxis": {
            "gridcolor": "white",
            "linecolor": "white",
            "ticks": ""
           }
          },
          "scene": {
           "xaxis": {
            "backgroundcolor": "#E5ECF6",
            "gridcolor": "white",
            "gridwidth": 2,
            "linecolor": "white",
            "showbackground": true,
            "ticks": "",
            "zerolinecolor": "white"
           },
           "yaxis": {
            "backgroundcolor": "#E5ECF6",
            "gridcolor": "white",
            "gridwidth": 2,
            "linecolor": "white",
            "showbackground": true,
            "ticks": "",
            "zerolinecolor": "white"
           },
           "zaxis": {
            "backgroundcolor": "#E5ECF6",
            "gridcolor": "white",
            "gridwidth": 2,
            "linecolor": "white",
            "showbackground": true,
            "ticks": "",
            "zerolinecolor": "white"
           }
          },
          "shapedefaults": {
           "line": {
            "color": "#2a3f5f"
           }
          },
          "ternary": {
           "aaxis": {
            "gridcolor": "white",
            "linecolor": "white",
            "ticks": ""
           },
           "baxis": {
            "gridcolor": "white",
            "linecolor": "white",
            "ticks": ""
           },
           "bgcolor": "#E5ECF6",
           "caxis": {
            "gridcolor": "white",
            "linecolor": "white",
            "ticks": ""
           }
          },
          "title": {
           "x": 0.05
          },
          "xaxis": {
           "automargin": true,
           "gridcolor": "white",
           "linecolor": "white",
           "ticks": "",
           "title": {
            "standoff": 15
           },
           "zerolinecolor": "white",
           "zerolinewidth": 2
          },
          "yaxis": {
           "automargin": true,
           "gridcolor": "white",
           "linecolor": "white",
           "ticks": "",
           "title": {
            "standoff": 15
           },
           "zerolinecolor": "white",
           "zerolinewidth": 2
          }
         }
        },
        "xaxis": {
         "anchor": "y",
         "domain": [
          0,
          0.94
         ]
        },
        "yaxis": {
         "anchor": "x",
         "domain": [
          0,
          1
         ]
        },
        "yaxis2": {
         "anchor": "x",
         "overlaying": "y",
         "side": "right"
        }
       }
      },
      "text/html": [
       "<div>                            <div id=\"259bdda4-7a55-44a5-9499-d8694858bfcc\" class=\"plotly-graph-div\" style=\"height:525px; width:100%;\"></div>            <script type=\"text/javascript\">                require([\"plotly\"], function(Plotly) {                    window.PLOTLYENV=window.PLOTLYENV || {};                                    if (document.getElementById(\"259bdda4-7a55-44a5-9499-d8694858bfcc\")) {                    Plotly.newPlot(                        \"259bdda4-7a55-44a5-9499-d8694858bfcc\",                        [{\"hovertemplate\":\"date=%{x}<br>Mean=%{y}<extra></extra>\",\"legendgroup\":\"\",\"line\":{\"dash\":\"solid\"},\"marker\":{\"symbol\":\"circle\"},\"mode\":\"lines\",\"name\":\"\",\"orientation\":\"v\",\"showlegend\":false,\"x\":[\"2022-01-05\",\"2022-01-06\",\"2022-01-07\",\"2022-01-08\",\"2022-01-09\",\"2022-01-10\",\"2022-01-11\",\"2022-01-12\",\"2022-01-16\",\"2022-01-17\",\"2022-01-18\",\"2022-01-19\",\"2022-01-20\",\"2022-01-21\",\"2022-01-22\",\"2022-01-23\",\"2022-01-24\",\"2022-01-25\",\"2022-01-26\",\"2022-01-27\",\"2022-01-28\",\"2022-01-29\",\"2022-01-30\",\"2022-01-31\",\"2022-02-01\",\"2022-02-02\",\"2022-02-03\",\"2022-02-04\",\"2022-02-05\",\"2022-02-06\",\"2022-02-07\",\"2022-02-08\",\"2022-02-09\",\"2022-02-10\",\"2022-02-11\",\"2022-02-12\",\"2022-02-13\",\"2022-02-14\",\"2022-02-15\",\"2022-02-16\",\"2022-02-17\",\"2022-02-18\",\"2022-02-19\",\"2022-02-20\",\"2022-02-21\",\"2022-02-22\",\"2022-02-23\",\"2022-02-24\",\"2022-02-25\",\"2022-02-26\",\"2022-02-27\",\"2022-02-28\",\"2022-03-01\",\"2022-03-02\",\"2022-03-03\",\"2022-03-04\",\"2022-03-05\",\"2022-03-06\",\"2022-03-07\",\"2022-03-08\",\"2022-03-09\",\"2022-03-10\",\"2022-03-11\",\"2022-03-12\",\"2022-03-13\",\"2022-03-14\",\"2022-03-15\",\"2022-03-16\",\"2022-03-17\",\"2022-03-18\",\"2022-03-19\",\"2022-03-20\",\"2022-03-21\",\"2022-03-22\",\"2022-03-23\",\"2022-03-24\",\"2022-03-25\",\"2022-03-26\",\"2022-03-27\",\"2022-03-28\",\"2022-03-29\",\"2022-03-30\",\"2022-03-31\",\"2022-04-01\",\"2022-04-02\",\"2022-04-05\",\"2022-04-06\",\"2022-04-07\",\"2022-04-08\",\"2022-04-09\",\"2022-04-10\",\"2022-04-11\",\"2022-04-12\",\"2022-04-13\",\"2022-04-14\",\"2022-04-15\",\"2022-04-16\",\"2022-04-17\",\"2022-04-18\",\"2022-04-19\",\"2022-04-20\",\"2022-04-21\",\"2022-04-22\",\"2022-04-23\",\"2022-04-24\",\"2022-04-25\",\"2022-04-26\",\"2022-04-27\",\"2022-04-28\",\"2022-04-29\",\"2022-04-30\",\"2022-05-01\",\"2022-05-02\",\"2022-05-03\",\"2022-05-04\",\"2022-05-05\",\"2022-05-06\",\"2022-05-07\",\"2022-05-08\",\"2022-05-09\",\"2022-05-10\",\"2022-05-11\",\"2022-05-12\",\"2022-05-13\",\"2022-05-14\",\"2022-05-15\",\"2022-05-16\",\"2022-05-17\",\"2022-05-18\",\"2022-05-19\",\"2022-05-20\",\"2022-05-21\",\"2022-05-22\",\"2022-05-23\",\"2022-05-24\",\"2022-05-26\",\"2022-05-27\",\"2022-05-28\",\"2022-05-29\",\"2022-05-30\",\"2022-05-31\",\"2022-06-01\",\"2022-06-02\",\"2022-06-03\",\"2022-06-04\",\"2022-06-05\",\"2022-06-06\",\"2022-06-07\",\"2022-06-08\",\"2022-06-09\",\"2022-06-10\",\"2022-06-11\",\"2022-06-12\",\"2022-06-13\",\"2022-06-14\",\"2022-06-15\",\"2022-06-16\",\"2022-06-17\",\"2022-06-18\",\"2022-06-19\",\"2022-06-20\",\"2022-06-21\",\"2022-06-22\",\"2022-06-23\",\"2022-06-24\",\"2022-06-25\",\"2022-06-26\",\"2022-06-27\",\"2022-06-28\",\"2022-06-29\",\"2022-07-02\",\"2022-07-03\",\"2022-07-04\",\"2022-07-05\",\"2022-07-06\",\"2022-07-07\",\"2022-07-08\",\"2022-07-09\",\"2022-07-10\",\"2022-07-11\",\"2022-07-12\",\"2022-07-13\",\"2022-07-14\",\"2022-07-15\",\"2022-07-16\",\"2022-07-17\",\"2022-07-18\",\"2022-07-19\",\"2022-07-20\",\"2022-07-21\",\"2022-07-22\",\"2022-07-23\",\"2022-07-24\",\"2022-07-25\",\"2022-07-26\",\"2022-07-27\",\"2022-07-28\",\"2022-07-29\",\"2022-07-30\",\"2022-07-31\",\"2022-08-01\",\"2022-08-02\",\"2022-08-03\",\"2022-08-04\",\"2022-08-05\",\"2022-08-06\",\"2022-08-07\",\"2022-08-08\",\"2022-08-09\",\"2022-08-10\",\"2022-08-11\",\"2022-08-12\",\"2022-08-13\",\"2022-08-14\",\"2022-08-15\",\"2022-08-16\",\"2022-08-17\",\"2022-08-18\",\"2022-08-19\",\"2022-08-20\",\"2022-08-21\",\"2022-08-22\",\"2022-08-23\",\"2022-08-24\",\"2022-08-25\",\"2022-08-26\",\"2022-08-27\",\"2022-08-28\",\"2022-08-29\",\"2022-08-30\",\"2022-08-31\",\"2022-09-01\",\"2022-09-02\",\"2022-09-03\",\"2022-09-04\",\"2022-09-05\",\"2022-09-06\",\"2022-09-07\",\"2022-09-08\",\"2022-09-09\",\"2022-09-10\",\"2022-09-11\",\"2022-09-12\",\"2022-09-13\",\"2022-09-14\",\"2022-09-16\"],\"xaxis\":\"x\",\"y\":[16300560.396325707,17658648.89806571,17347162.93101469,16975064.4272259,16797785.791917797,16806788.914961446,16811833.251713973,16734018.396816732,17112088.201657716,17011946.553369317,16970497.972453773,16652439.489730489,14965479.43222849,13323793.673679637,12873959.016227724,11303651.720090585,11007467.34700925,10871655.621807251,12159820.822644686,13505607.403390111,13681356.340413606,14936296.611906191,14923038.910625257,12589322.572192566,12568194.290519638,12656150.217581045,12895523.888825014,13174352.579157157,14758873.283617333,14966112.54168266,13981120.739769287,14329206.281212503,12998453.810260974,13035101.46742987,12935524.996210158,14282421.110996926,14269045.839103565,14234745.430921003,13983623.878515448,12451147.474175066,15269480.34958822,15144035.258112026,13602820.084048048,11961488.017577806,11692883.442188185,10520623.18598848,10597508.98837556,12302652.732426368,12055658.914270565,13312310.455994308,13302684.301300997,15072063.977543931,16640913.820278505,16726833.162031168,15359834.212318948,14337334.69371573,13968809.536106026,13561663.795575554,13355494.93965335,11993273.990426429,12099160.81741657,12943501.406253258,12695278.590656549,12590908.615391329,12418870.720681133,12292307.862216016,13682690.17967298,12526529.102193069,12882839.583889768,11436021.607194657,11324391.68407502,12674892.310120234,11270116.114267657,12775937.96738934,11589932.293703048,13442791.025573203,13942925.906535745,12722266.4979224,14600266.085370503,14866187.212059,14936133.6515846,13608250.734281491,12280254.842698582,14027934.698614923,13825044.782824928,9370691.80449831,9533048.390190354,9701736.487279251,8516841.090446098,9443838.824822633,9364852.622400708,10675149.238137288,11864137.72101284,11742429.723710775,12885260.082449311,11467406.715709897,12690455.363681272,11144443.841934573,9815462.194832023,9820668.402080366,9694690.695536984,9815317.107529247,9585090.849358326,9490934.549195984,10580321.827864258,10357739.355840078,9904135.934160378,9669618.420316638,13644156.129957588,13356814.415303038,11853810.286388464,11775592.976694366,11590485.543108916,11612288.84540094,12868801.298505137,13053035.151801929,14110520.33822723,13778267.472966751,12530386.508751629,12021290.84041947,11497172.066507123,11118384.805893648,10012741.049433025,8903535.797767593,9879758.226772675,8878044.28833642,8912295.660614314,8893381.490528656,8745347.529548453,9631829.455022588,9253797.523018852,10113809.633346066,8627578.21810162,8436459.608976576,8431611.204082683,9263388.742297878,9200360.676142124,8049840.762693316,7924927.841125282,7868657.633253898,7230972.840943344,6065311.089454257,9510080.885098493,10311356.508528523,10188843.301089196,9230875.838806592,10421951.542127308,9410805.585428568,9295633.88340653,8287272.486073527,7205341.804875426,7007599.814036851,6448621.827739158,6996861.265276186,6653012.160243738,7241345.740182835,7813596.111569532,7643831.547008324,7531588.959285109,7505410.359529986,7423733.098475824,6722836.719293342,6849695.54328337,6908397.18765669,6799747.286928598,5966884.493104179,5897396.60152033,6545954.712858573,6358798.550920685,6316020.342904109,5492587.888628663,6037932.844157421,6507796.793347505,6309120.805134576,5657328.519440842,6476220.235650866,6414659.974277817,6216635.331815537,6170705.76427205,6847120.495130398,7568256.8942576,6839261.199889245,6985216.111671757,7127510.381407448,7193205.759368735,6399743.077854154,5758539.531994228,6621291.371501154,6804726.057510258,6060577.235854323,5243187.541894077,5147318.963220172,5064263.508210289,4858667.85518512,3909371.044759281,4096096.090724261,4204594.980261365,4307863.510326613,5003951.526183036,4228045.443139293,4333588.643109683,5018962.503638574,5804053.423344479,5895996.5152875,5037398.072898928,5004869.981366244,4880399.674905674,3947814.281643769,3948862.58109716,4797672.732006527,4884605.922182759,5715605.453048547,6451408.939340082,7364789.98125288,7339247.45884328,6379593.836309846,6259926.059650292,6100968.986072023,5275627.779843024,5031561.367078741,4892291.1739766905,5546647.476200526,5516003.131957986,5482295.180712657,5456852.680862268,4775999.74259103,3957207.108413973,3931561.776743367,4698801.634696487,4061940.882940602,4708582.741603273,5294455.559226955,5380768.831610278,5275279.474289083,4521161.304549058,4425189.697850819,3752298.765401428,3150115.6873833905,3837971.635240448,3236858.334502481,3272351.204580219,3426944.4127864144,4117827.867354317,4050300.34362331,3335873.889345976,3912334.868152091],\"yaxis\":\"y\",\"type\":\"scatter\"},{\"hovertemplate\":\"date=%{x}<br>status=%{y}<extra></extra>\",\"legendgroup\":\"\",\"line\":{\"dash\":\"solid\"},\"marker\":{\"symbol\":\"circle\"},\"mode\":\"lines\",\"name\":\"\",\"orientation\":\"v\",\"showlegend\":false,\"x\":[\"2022-01-05\",\"2022-01-06\",\"2022-01-07\",\"2022-01-08\",\"2022-01-09\",\"2022-01-10\",\"2022-01-11\",\"2022-01-12\",\"2022-01-16\",\"2022-01-17\",\"2022-01-18\",\"2022-01-19\",\"2022-01-20\",\"2022-01-21\",\"2022-01-22\",\"2022-01-23\",\"2022-01-24\",\"2022-01-25\",\"2022-01-26\",\"2022-01-27\",\"2022-01-28\",\"2022-01-29\",\"2022-01-30\",\"2022-01-31\",\"2022-02-01\",\"2022-02-02\",\"2022-02-03\",\"2022-02-04\",\"2022-02-05\",\"2022-02-06\",\"2022-02-07\",\"2022-02-08\",\"2022-02-09\",\"2022-02-10\",\"2022-02-11\",\"2022-02-12\",\"2022-02-13\",\"2022-02-14\",\"2022-02-15\",\"2022-02-16\",\"2022-02-17\",\"2022-02-18\",\"2022-02-19\",\"2022-02-20\",\"2022-02-21\",\"2022-02-22\",\"2022-02-23\",\"2022-02-24\",\"2022-02-25\",\"2022-02-26\",\"2022-02-27\",\"2022-02-28\",\"2022-03-01\",\"2022-03-02\",\"2022-03-03\",\"2022-03-04\",\"2022-03-05\",\"2022-03-06\",\"2022-03-07\",\"2022-03-08\",\"2022-03-09\",\"2022-03-10\",\"2022-03-11\",\"2022-03-12\",\"2022-03-13\",\"2022-03-14\",\"2022-03-15\",\"2022-03-16\",\"2022-03-17\",\"2022-03-18\",\"2022-03-19\",\"2022-03-20\",\"2022-03-21\",\"2022-03-22\",\"2022-03-23\",\"2022-03-24\",\"2022-03-25\",\"2022-03-26\",\"2022-03-27\",\"2022-03-28\",\"2022-03-29\",\"2022-03-30\",\"2022-03-31\",\"2022-04-01\",\"2022-04-02\",\"2022-04-05\",\"2022-04-06\",\"2022-04-07\",\"2022-04-08\",\"2022-04-09\",\"2022-04-10\",\"2022-04-11\",\"2022-04-12\",\"2022-04-13\",\"2022-04-14\",\"2022-04-15\",\"2022-04-16\",\"2022-04-17\",\"2022-04-18\",\"2022-04-19\",\"2022-04-20\",\"2022-04-21\",\"2022-04-22\",\"2022-04-23\",\"2022-04-24\",\"2022-04-25\",\"2022-04-26\",\"2022-04-27\",\"2022-04-28\",\"2022-04-29\",\"2022-04-30\",\"2022-05-01\",\"2022-05-02\",\"2022-05-03\",\"2022-05-04\",\"2022-05-05\",\"2022-05-06\",\"2022-05-07\",\"2022-05-08\",\"2022-05-09\",\"2022-05-10\",\"2022-05-11\",\"2022-05-12\",\"2022-05-13\",\"2022-05-14\",\"2022-05-15\",\"2022-05-16\",\"2022-05-17\",\"2022-05-18\",\"2022-05-19\",\"2022-05-20\",\"2022-05-21\",\"2022-05-22\",\"2022-05-23\",\"2022-05-24\",\"2022-05-26\",\"2022-05-27\",\"2022-05-28\",\"2022-05-29\",\"2022-05-30\",\"2022-05-31\",\"2022-06-01\",\"2022-06-02\",\"2022-06-03\",\"2022-06-04\",\"2022-06-05\",\"2022-06-06\",\"2022-06-07\",\"2022-06-08\",\"2022-06-09\",\"2022-06-10\",\"2022-06-11\",\"2022-06-12\",\"2022-06-13\",\"2022-06-14\",\"2022-06-15\",\"2022-06-16\",\"2022-06-17\",\"2022-06-18\",\"2022-06-19\",\"2022-06-20\",\"2022-06-21\",\"2022-06-22\",\"2022-06-23\",\"2022-06-24\",\"2022-06-25\",\"2022-06-26\",\"2022-06-27\",\"2022-06-28\",\"2022-06-29\",\"2022-07-02\",\"2022-07-03\",\"2022-07-04\",\"2022-07-05\",\"2022-07-06\",\"2022-07-07\",\"2022-07-08\",\"2022-07-09\",\"2022-07-10\",\"2022-07-11\",\"2022-07-12\",\"2022-07-13\",\"2022-07-14\",\"2022-07-15\",\"2022-07-16\",\"2022-07-17\",\"2022-07-18\",\"2022-07-19\",\"2022-07-20\",\"2022-07-21\",\"2022-07-22\",\"2022-07-23\",\"2022-07-24\",\"2022-07-25\",\"2022-07-26\",\"2022-07-27\",\"2022-07-28\",\"2022-07-29\",\"2022-07-30\",\"2022-07-31\",\"2022-08-01\",\"2022-08-02\",\"2022-08-03\",\"2022-08-04\",\"2022-08-05\",\"2022-08-06\",\"2022-08-07\",\"2022-08-08\",\"2022-08-09\",\"2022-08-10\",\"2022-08-11\",\"2022-08-12\",\"2022-08-13\",\"2022-08-14\",\"2022-08-15\",\"2022-08-16\",\"2022-08-17\",\"2022-08-18\",\"2022-08-19\",\"2022-08-20\",\"2022-08-21\",\"2022-08-22\",\"2022-08-23\",\"2022-08-24\",\"2022-08-25\",\"2022-08-26\",\"2022-08-27\",\"2022-08-28\",\"2022-08-29\",\"2022-08-30\",\"2022-08-31\",\"2022-09-01\",\"2022-09-02\",\"2022-09-03\",\"2022-09-04\",\"2022-09-05\",\"2022-09-06\",\"2022-09-07\",\"2022-09-08\",\"2022-09-09\",\"2022-09-10\",\"2022-09-11\",\"2022-09-12\",\"2022-09-13\",\"2022-09-14\",\"2022-09-16\"],\"xaxis\":\"x\",\"y\":[1.2291954747914176,1.6159086578718636,1.519230362101752,1.2291954747914176,1.325873770561529,1.519230362101752,1.325873770561529,1.519230362101752,3.30631806675582,2.70348307562222,2.5527743278388204,2.1006480844886206,1.3471043455716207,0.4428518588712212,-0.0092743844789784,0.2921431110878219,-0.7628181233959777,-0.7628181233959777,-0.3106918800457779,0.1414343633044217,0.1414343633044217,0.1414343633044217,0.8949781022214209,0.1454970363532205,0.3843727676794037,0.3843727676794037,0.7426863646686788,0.5038106333424957,2.1759407526257792,2.295378618288871,1.937065021299596,1.578751424310321,0.981562095994862,1.1009999616579538,-0.5711301576253299,-0.5711301576253299,-0.8100058889515132,-0.8100058889515132,-0.8100058889515132,-1.4071952172669715,1.132517179021306,1.325873770561529,0.7458039959408604,0.5524474044006372,0.2624125170903029,-0.3176572575303655,-0.2209789617602542,-1.5266330829300632,-1.0488816202776967,-0.0933786949729629,0.0260591706901286,0.6232484990055869,1.1009999616579538,1.817627155636504,1.459313558647229,0.8621242303317707,1.2204378273210457,1.3398756929841371,0.981562095994862,0.0260591706901286,-0.0933786949729629,-0.451692291962238,-0.8100058889515132,-0.929443754614605,-1.1683194859407882,-1.0488816202776967,-0.929443754614605,-0.8100058889515132,-0.3322544262991465,-0.929443754614605,-0.0933786949729629,0.3843727676794037,0.0260591706901286,0.7426863646686788,-0.0933786949729629,0.1454970363532205,-0.8100058889515132,-1.0488816202776967,-0.451692291962238,-1.1683194859407882,-0.929443754614605,-1.0488816202776967,-0.929443754614605,-0.6905680232884215,-0.5711301576253299,-0.7043704406108116,-0.5110138490705886,-0.6076921448406999,-0.8010487363809229,-0.6076921448406999,-0.5110138490705886,0.2624125170903029,0.2624125170903029,0.0690559255500801,0.2624125170903029,-0.0276223702200312,0.0690559255500801,-0.6076921448406999,-0.7043704406108116,-0.2209789617602542,-0.0276223702200312,0.0690559255500801,-0.0276223702200312,-0.0276223702200312,0.1657342213201917,-0.1243006659901428,0.1657342213201917,0.1657342213201917,0.2921431110878219,0.7442693544380216,0.1414343633044217,0.5935606066546214,0.5935606066546214,0.4428518588712212,1.045686850004821,0.5935606066546214,1.1963955977882212,1.045686850004821,0.7442693544380216,-0.3106918800457779,-0.7628181233959777,-0.1599831322623778,-0.6121093756125778,-1.2149443667461777,-1.2149443667461777,-1.0642356189627775,-0.9135268711793774,-0.9135268711793774,-1.0642356189627775,-0.4614006278291777,0.6491257001707489,1.2291954747914176,1.0358388832511949,0.9391605874810832,0.6491257001707489,0.8424822917109716,0.4557691086305261,-0.1243006659901428,-0.0276223702200312,0.1657342213201917,-0.2209789617602542,-0.3176572575303655,-0.7628181233959777,-1.0642356189627775,-0.0092743844789784,-0.4614006278291777,-0.1599831322623778,-0.4614006278291777,-0.4614006278291777,0.1414343633044217,-1.0642356189627775,-1.3656531145295772,-0.9135268711793774,-0.7628181233959777,-0.1599831322623778,0.5935606066546214,0.7442693544380216,0.5935606066546214,0.7442693544380216,0.4428518588712212,0.1414343633044217,-1.0642356189627775,-0.9135268711793774,-0.9135268711793774,-1.516361862312977,-1.2149443667461777,-0.9135268711793774,-0.1599831322623778,0.1414343633044217,-0.1599831322623778,-0.3176572575303655,-0.0276223702200312,-0.0276223702200312,-0.4143355533004772,-0.2209789617602542,-0.1243006659901428,0.1657342213201917,0.0690559255500801,0.6491257001707489,2.969404798653424,3.259439685963758,3.5494745732740927,3.259439685963758,3.1627613901936478,2.6793699113430898,0.5524474044006372,-0.0276223702200312,-0.0276223702200312,0.0690559255500801,-0.2209789617602542,-0.4143355533004772,-0.4143355533004772,-0.5110138490705886,-0.7043704406108116,-1.2844402152314802,-0.994405327921146,-1.091083623691257,-1.1877619194613689,-0.6076921448406999,-0.8977270321510343,-0.7043704406108116,-0.8010487363809229,-0.7043704406108116,-0.7043704406108116,-1.2844402152314802,-1.3811185110015916,-1.5744751025418149,-1.671153398311926,-1.091083623691257,-0.8977270321510343,-0.8010487363809229,-0.5110138490705886,-0.3176572575303655,-0.3176572575303655,-0.8977270321510343,-0.8010487363809229,-0.8977270321510343,-1.091083623691257,-1.1877619194613689,-0.8977270321510343,-0.4143355533004772,-0.2209789617602542,-0.2209789617602542,-0.3176572575303655,-0.3176572575303655,-0.5110138490705886,-0.8010487363809229,-0.8977270321510343,-0.2209789617602542,-0.2209789617602542,0.1657342213201917,0.6491257001707489,0.3590908128604145,0.5524474044006372,0.0690559255500801,0.0690559255500801,-0.1243006659901428,-0.6076921448406999,-0.2209789617602542,-0.7043704406108116,-0.6076921448406999,-0.7043704406108116,-0.7043704406108116,-0.7043704406108116,-1.091083623691257,-0.6076921448406999],\"yaxis\":\"y2\",\"type\":\"scatter\"}],                        {\"template\":{\"data\":{\"histogram2dcontour\":[{\"type\":\"histogram2dcontour\",\"colorbar\":{\"outlinewidth\":0,\"ticks\":\"\"},\"colorscale\":[[0.0,\"#0d0887\"],[0.1111111111111111,\"#46039f\"],[0.2222222222222222,\"#7201a8\"],[0.3333333333333333,\"#9c179e\"],[0.4444444444444444,\"#bd3786\"],[0.5555555555555556,\"#d8576b\"],[0.6666666666666666,\"#ed7953\"],[0.7777777777777778,\"#fb9f3a\"],[0.8888888888888888,\"#fdca26\"],[1.0,\"#f0f921\"]]}],\"choropleth\":[{\"type\":\"choropleth\",\"colorbar\":{\"outlinewidth\":0,\"ticks\":\"\"}}],\"histogram2d\":[{\"type\":\"histogram2d\",\"colorbar\":{\"outlinewidth\":0,\"ticks\":\"\"},\"colorscale\":[[0.0,\"#0d0887\"],[0.1111111111111111,\"#46039f\"],[0.2222222222222222,\"#7201a8\"],[0.3333333333333333,\"#9c179e\"],[0.4444444444444444,\"#bd3786\"],[0.5555555555555556,\"#d8576b\"],[0.6666666666666666,\"#ed7953\"],[0.7777777777777778,\"#fb9f3a\"],[0.8888888888888888,\"#fdca26\"],[1.0,\"#f0f921\"]]}],\"heatmap\":[{\"type\":\"heatmap\",\"colorbar\":{\"outlinewidth\":0,\"ticks\":\"\"},\"colorscale\":[[0.0,\"#0d0887\"],[0.1111111111111111,\"#46039f\"],[0.2222222222222222,\"#7201a8\"],[0.3333333333333333,\"#9c179e\"],[0.4444444444444444,\"#bd3786\"],[0.5555555555555556,\"#d8576b\"],[0.6666666666666666,\"#ed7953\"],[0.7777777777777778,\"#fb9f3a\"],[0.8888888888888888,\"#fdca26\"],[1.0,\"#f0f921\"]]}],\"heatmapgl\":[{\"type\":\"heatmapgl\",\"colorbar\":{\"outlinewidth\":0,\"ticks\":\"\"},\"colorscale\":[[0.0,\"#0d0887\"],[0.1111111111111111,\"#46039f\"],[0.2222222222222222,\"#7201a8\"],[0.3333333333333333,\"#9c179e\"],[0.4444444444444444,\"#bd3786\"],[0.5555555555555556,\"#d8576b\"],[0.6666666666666666,\"#ed7953\"],[0.7777777777777778,\"#fb9f3a\"],[0.8888888888888888,\"#fdca26\"],[1.0,\"#f0f921\"]]}],\"contourcarpet\":[{\"type\":\"contourcarpet\",\"colorbar\":{\"outlinewidth\":0,\"ticks\":\"\"}}],\"contour\":[{\"type\":\"contour\",\"colorbar\":{\"outlinewidth\":0,\"ticks\":\"\"},\"colorscale\":[[0.0,\"#0d0887\"],[0.1111111111111111,\"#46039f\"],[0.2222222222222222,\"#7201a8\"],[0.3333333333333333,\"#9c179e\"],[0.4444444444444444,\"#bd3786\"],[0.5555555555555556,\"#d8576b\"],[0.6666666666666666,\"#ed7953\"],[0.7777777777777778,\"#fb9f3a\"],[0.8888888888888888,\"#fdca26\"],[1.0,\"#f0f921\"]]}],\"surface\":[{\"type\":\"surface\",\"colorbar\":{\"outlinewidth\":0,\"ticks\":\"\"},\"colorscale\":[[0.0,\"#0d0887\"],[0.1111111111111111,\"#46039f\"],[0.2222222222222222,\"#7201a8\"],[0.3333333333333333,\"#9c179e\"],[0.4444444444444444,\"#bd3786\"],[0.5555555555555556,\"#d8576b\"],[0.6666666666666666,\"#ed7953\"],[0.7777777777777778,\"#fb9f3a\"],[0.8888888888888888,\"#fdca26\"],[1.0,\"#f0f921\"]]}],\"mesh3d\":[{\"type\":\"mesh3d\",\"colorbar\":{\"outlinewidth\":0,\"ticks\":\"\"}}],\"scatter\":[{\"fillpattern\":{\"fillmode\":\"overlay\",\"size\":10,\"solidity\":0.2},\"type\":\"scatter\"}],\"parcoords\":[{\"type\":\"parcoords\",\"line\":{\"colorbar\":{\"outlinewidth\":0,\"ticks\":\"\"}}}],\"scatterpolargl\":[{\"type\":\"scatterpolargl\",\"marker\":{\"colorbar\":{\"outlinewidth\":0,\"ticks\":\"\"}}}],\"bar\":[{\"error_x\":{\"color\":\"#2a3f5f\"},\"error_y\":{\"color\":\"#2a3f5f\"},\"marker\":{\"line\":{\"color\":\"#E5ECF6\",\"width\":0.5},\"pattern\":{\"fillmode\":\"overlay\",\"size\":10,\"solidity\":0.2}},\"type\":\"bar\"}],\"scattergeo\":[{\"type\":\"scattergeo\",\"marker\":{\"colorbar\":{\"outlinewidth\":0,\"ticks\":\"\"}}}],\"scatterpolar\":[{\"type\":\"scatterpolar\",\"marker\":{\"colorbar\":{\"outlinewidth\":0,\"ticks\":\"\"}}}],\"histogram\":[{\"marker\":{\"pattern\":{\"fillmode\":\"overlay\",\"size\":10,\"solidity\":0.2}},\"type\":\"histogram\"}],\"scattergl\":[{\"type\":\"scattergl\",\"marker\":{\"colorbar\":{\"outlinewidth\":0,\"ticks\":\"\"}}}],\"scatter3d\":[{\"type\":\"scatter3d\",\"line\":{\"colorbar\":{\"outlinewidth\":0,\"ticks\":\"\"}},\"marker\":{\"colorbar\":{\"outlinewidth\":0,\"ticks\":\"\"}}}],\"scattermapbox\":[{\"type\":\"scattermapbox\",\"marker\":{\"colorbar\":{\"outlinewidth\":0,\"ticks\":\"\"}}}],\"scatterternary\":[{\"type\":\"scatterternary\",\"marker\":{\"colorbar\":{\"outlinewidth\":0,\"ticks\":\"\"}}}],\"scattercarpet\":[{\"type\":\"scattercarpet\",\"marker\":{\"colorbar\":{\"outlinewidth\":0,\"ticks\":\"\"}}}],\"carpet\":[{\"aaxis\":{\"endlinecolor\":\"#2a3f5f\",\"gridcolor\":\"white\",\"linecolor\":\"white\",\"minorgridcolor\":\"white\",\"startlinecolor\":\"#2a3f5f\"},\"baxis\":{\"endlinecolor\":\"#2a3f5f\",\"gridcolor\":\"white\",\"linecolor\":\"white\",\"minorgridcolor\":\"white\",\"startlinecolor\":\"#2a3f5f\"},\"type\":\"carpet\"}],\"table\":[{\"cells\":{\"fill\":{\"color\":\"#EBF0F8\"},\"line\":{\"color\":\"white\"}},\"header\":{\"fill\":{\"color\":\"#C8D4E3\"},\"line\":{\"color\":\"white\"}},\"type\":\"table\"}],\"barpolar\":[{\"marker\":{\"line\":{\"color\":\"#E5ECF6\",\"width\":0.5},\"pattern\":{\"fillmode\":\"overlay\",\"size\":10,\"solidity\":0.2}},\"type\":\"barpolar\"}],\"pie\":[{\"automargin\":true,\"type\":\"pie\"}]},\"layout\":{\"autotypenumbers\":\"strict\",\"colorway\":[\"#636efa\",\"#EF553B\",\"#00cc96\",\"#ab63fa\",\"#FFA15A\",\"#19d3f3\",\"#FF6692\",\"#B6E880\",\"#FF97FF\",\"#FECB52\"],\"font\":{\"color\":\"#2a3f5f\"},\"hovermode\":\"closest\",\"hoverlabel\":{\"align\":\"left\"},\"paper_bgcolor\":\"white\",\"plot_bgcolor\":\"#E5ECF6\",\"polar\":{\"bgcolor\":\"#E5ECF6\",\"angularaxis\":{\"gridcolor\":\"white\",\"linecolor\":\"white\",\"ticks\":\"\"},\"radialaxis\":{\"gridcolor\":\"white\",\"linecolor\":\"white\",\"ticks\":\"\"}},\"ternary\":{\"bgcolor\":\"#E5ECF6\",\"aaxis\":{\"gridcolor\":\"white\",\"linecolor\":\"white\",\"ticks\":\"\"},\"baxis\":{\"gridcolor\":\"white\",\"linecolor\":\"white\",\"ticks\":\"\"},\"caxis\":{\"gridcolor\":\"white\",\"linecolor\":\"white\",\"ticks\":\"\"}},\"coloraxis\":{\"colorbar\":{\"outlinewidth\":0,\"ticks\":\"\"}},\"colorscale\":{\"sequential\":[[0.0,\"#0d0887\"],[0.1111111111111111,\"#46039f\"],[0.2222222222222222,\"#7201a8\"],[0.3333333333333333,\"#9c179e\"],[0.4444444444444444,\"#bd3786\"],[0.5555555555555556,\"#d8576b\"],[0.6666666666666666,\"#ed7953\"],[0.7777777777777778,\"#fb9f3a\"],[0.8888888888888888,\"#fdca26\"],[1.0,\"#f0f921\"]],\"sequentialminus\":[[0.0,\"#0d0887\"],[0.1111111111111111,\"#46039f\"],[0.2222222222222222,\"#7201a8\"],[0.3333333333333333,\"#9c179e\"],[0.4444444444444444,\"#bd3786\"],[0.5555555555555556,\"#d8576b\"],[0.6666666666666666,\"#ed7953\"],[0.7777777777777778,\"#fb9f3a\"],[0.8888888888888888,\"#fdca26\"],[1.0,\"#f0f921\"]],\"diverging\":[[0,\"#8e0152\"],[0.1,\"#c51b7d\"],[0.2,\"#de77ae\"],[0.3,\"#f1b6da\"],[0.4,\"#fde0ef\"],[0.5,\"#f7f7f7\"],[0.6,\"#e6f5d0\"],[0.7,\"#b8e186\"],[0.8,\"#7fbc41\"],[0.9,\"#4d9221\"],[1,\"#276419\"]]},\"xaxis\":{\"gridcolor\":\"white\",\"linecolor\":\"white\",\"ticks\":\"\",\"title\":{\"standoff\":15},\"zerolinecolor\":\"white\",\"automargin\":true,\"zerolinewidth\":2},\"yaxis\":{\"gridcolor\":\"white\",\"linecolor\":\"white\",\"ticks\":\"\",\"title\":{\"standoff\":15},\"zerolinecolor\":\"white\",\"automargin\":true,\"zerolinewidth\":2},\"scene\":{\"xaxis\":{\"backgroundcolor\":\"#E5ECF6\",\"gridcolor\":\"white\",\"linecolor\":\"white\",\"showbackground\":true,\"ticks\":\"\",\"zerolinecolor\":\"white\",\"gridwidth\":2},\"yaxis\":{\"backgroundcolor\":\"#E5ECF6\",\"gridcolor\":\"white\",\"linecolor\":\"white\",\"showbackground\":true,\"ticks\":\"\",\"zerolinecolor\":\"white\",\"gridwidth\":2},\"zaxis\":{\"backgroundcolor\":\"#E5ECF6\",\"gridcolor\":\"white\",\"linecolor\":\"white\",\"showbackground\":true,\"ticks\":\"\",\"zerolinecolor\":\"white\",\"gridwidth\":2}},\"shapedefaults\":{\"line\":{\"color\":\"#2a3f5f\"}},\"annotationdefaults\":{\"arrowcolor\":\"#2a3f5f\",\"arrowhead\":0,\"arrowwidth\":1},\"geo\":{\"bgcolor\":\"white\",\"landcolor\":\"#E5ECF6\",\"subunitcolor\":\"white\",\"showland\":true,\"showlakes\":true,\"lakecolor\":\"white\"},\"title\":{\"x\":0.05},\"mapbox\":{\"style\":\"light\"}}},\"xaxis\":{\"anchor\":\"y\",\"domain\":[0.0,0.94]},\"yaxis\":{\"anchor\":\"x\",\"domain\":[0.0,1.0]},\"yaxis2\":{\"anchor\":\"x\",\"overlaying\":\"y\",\"side\":\"right\"}},                        {\"responsive\": true}                    ).then(function(){\n",
       "                            \n",
       "var gd = document.getElementById('259bdda4-7a55-44a5-9499-d8694858bfcc');\n",
       "var x = new MutationObserver(function (mutations, observer) {{\n",
       "        var display = window.getComputedStyle(gd).display;\n",
       "        if (!display || display === 'none') {{\n",
       "            console.log([gd, 'removed!']);\n",
       "            Plotly.purge(gd);\n",
       "            observer.disconnect();\n",
       "        }}\n",
       "}});\n",
       "\n",
       "// Listen for the removal of the full notebook cells\n",
       "var notebookContainer = gd.closest('#notebook-container');\n",
       "if (notebookContainer) {{\n",
       "    x.observe(notebookContainer, {childList: true});\n",
       "}}\n",
       "\n",
       "// Listen for the clearing of the current output cell\n",
       "var outputEl = gd.closest('.output');\n",
       "if (outputEl) {{\n",
       "    x.observe(outputEl, {childList: true});\n",
       "}}\n",
       "\n",
       "                        })                };                });            </script>        </div>"
      ]
     },
     "metadata": {},
     "output_type": "display_data"
    },
    {
     "data": {
      "application/vnd.plotly.v1+json": {
       "config": {
        "plotlyServerURL": "https://plot.ly"
       },
       "data": [
        {
         "hovertemplate": "date=%{x}<br>Mean=%{y}<extra></extra>",
         "legendgroup": "",
         "line": {
          "dash": "solid"
         },
         "marker": {
          "symbol": "circle"
         },
         "mode": "lines",
         "name": "",
         "orientation": "v",
         "showlegend": false,
         "type": "scatter",
         "x": [
          "2022-01-05",
          "2022-01-06",
          "2022-01-07",
          "2022-01-08",
          "2022-01-09",
          "2022-01-10",
          "2022-01-11",
          "2022-01-12",
          "2022-01-16",
          "2022-01-17",
          "2022-01-18",
          "2022-01-19",
          "2022-01-20",
          "2022-01-21",
          "2022-01-22",
          "2022-01-23",
          "2022-01-24",
          "2022-01-25",
          "2022-01-26",
          "2022-01-27",
          "2022-01-28",
          "2022-01-29",
          "2022-01-30",
          "2022-01-31",
          "2022-02-01",
          "2022-02-02",
          "2022-02-03",
          "2022-02-04",
          "2022-02-05",
          "2022-02-06",
          "2022-02-07",
          "2022-02-08",
          "2022-02-09",
          "2022-02-10",
          "2022-02-11",
          "2022-02-12",
          "2022-02-13",
          "2022-02-14",
          "2022-02-15",
          "2022-02-16",
          "2022-02-17",
          "2022-02-18",
          "2022-02-19",
          "2022-02-20",
          "2022-02-21",
          "2022-02-22",
          "2022-02-23",
          "2022-02-24",
          "2022-02-25",
          "2022-02-26",
          "2022-02-27",
          "2022-02-28",
          "2022-03-01",
          "2022-03-02",
          "2022-03-03",
          "2022-03-04",
          "2022-03-05",
          "2022-03-06",
          "2022-03-07",
          "2022-03-08",
          "2022-03-09",
          "2022-03-10",
          "2022-03-11",
          "2022-03-12",
          "2022-03-13",
          "2022-03-14",
          "2022-03-15",
          "2022-03-16",
          "2022-03-17",
          "2022-03-18",
          "2022-03-19",
          "2022-03-20",
          "2022-03-21",
          "2022-03-22",
          "2022-03-23",
          "2022-03-24",
          "2022-03-25",
          "2022-03-26",
          "2022-03-27",
          "2022-03-28",
          "2022-03-29",
          "2022-03-30",
          "2022-03-31",
          "2022-04-01",
          "2022-04-02",
          "2022-04-05",
          "2022-04-06",
          "2022-04-07",
          "2022-04-08",
          "2022-04-09",
          "2022-04-10",
          "2022-04-11",
          "2022-04-12",
          "2022-04-13",
          "2022-04-14",
          "2022-04-15",
          "2022-04-16",
          "2022-04-17",
          "2022-04-18",
          "2022-04-19",
          "2022-04-20",
          "2022-04-21",
          "2022-04-22",
          "2022-04-23",
          "2022-04-24",
          "2022-04-25",
          "2022-04-26",
          "2022-04-27",
          "2022-04-28",
          "2022-04-29",
          "2022-04-30",
          "2022-05-01",
          "2022-05-02",
          "2022-05-03",
          "2022-05-04",
          "2022-05-05",
          "2022-05-06",
          "2022-05-07",
          "2022-05-08",
          "2022-05-09",
          "2022-05-10",
          "2022-05-11",
          "2022-05-12",
          "2022-05-13",
          "2022-05-14",
          "2022-05-15",
          "2022-05-16",
          "2022-05-17",
          "2022-05-18",
          "2022-05-19",
          "2022-05-20",
          "2022-05-21",
          "2022-05-22",
          "2022-05-23",
          "2022-05-24",
          "2022-05-26",
          "2022-05-27",
          "2022-05-28",
          "2022-05-29",
          "2022-05-30",
          "2022-05-31",
          "2022-06-01",
          "2022-06-02",
          "2022-06-03",
          "2022-06-04",
          "2022-06-05",
          "2022-06-06",
          "2022-06-07",
          "2022-06-08",
          "2022-06-09",
          "2022-06-10",
          "2022-06-11",
          "2022-06-12",
          "2022-06-13",
          "2022-06-14",
          "2022-06-15",
          "2022-06-16",
          "2022-06-17",
          "2022-06-18",
          "2022-06-19",
          "2022-06-20",
          "2022-06-21",
          "2022-06-22",
          "2022-06-23",
          "2022-06-24",
          "2022-06-25",
          "2022-06-26",
          "2022-06-27",
          "2022-06-28",
          "2022-06-29",
          "2022-07-02",
          "2022-07-03",
          "2022-07-04",
          "2022-07-05",
          "2022-07-06",
          "2022-07-07",
          "2022-07-08",
          "2022-07-09",
          "2022-07-10",
          "2022-07-11",
          "2022-07-12",
          "2022-07-13",
          "2022-07-14",
          "2022-07-15",
          "2022-07-16",
          "2022-07-17",
          "2022-07-18",
          "2022-07-19",
          "2022-07-20",
          "2022-07-21",
          "2022-07-22",
          "2022-07-23",
          "2022-07-24",
          "2022-07-25",
          "2022-07-26",
          "2022-07-27",
          "2022-07-28",
          "2022-07-29",
          "2022-07-30",
          "2022-07-31",
          "2022-08-01",
          "2022-08-02",
          "2022-08-03",
          "2022-08-04",
          "2022-08-05",
          "2022-08-06",
          "2022-08-07",
          "2022-08-08",
          "2022-08-09",
          "2022-08-10",
          "2022-08-11",
          "2022-08-12",
          "2022-08-13",
          "2022-08-14",
          "2022-08-15",
          "2022-08-16",
          "2022-08-17",
          "2022-08-18",
          "2022-08-19",
          "2022-08-20",
          "2022-08-21",
          "2022-08-22",
          "2022-08-23",
          "2022-08-24",
          "2022-08-25",
          "2022-08-26",
          "2022-08-27",
          "2022-08-28",
          "2022-08-29",
          "2022-08-30",
          "2022-08-31",
          "2022-09-01",
          "2022-09-02",
          "2022-09-03",
          "2022-09-04",
          "2022-09-05",
          "2022-09-06",
          "2022-09-07",
          "2022-09-08",
          "2022-09-09",
          "2022-09-10",
          "2022-09-11",
          "2022-09-12",
          "2022-09-13",
          "2022-09-14",
          "2022-09-16"
         ],
         "xaxis": "x",
         "y": [
          16300560.396325707,
          17658648.89806571,
          17347162.93101469,
          16975064.4272259,
          16797785.791917797,
          16806788.914961446,
          16811833.251713973,
          16734018.396816732,
          17112088.201657716,
          17011946.553369317,
          16970497.972453773,
          16652439.489730489,
          14965479.43222849,
          13323793.673679637,
          12873959.016227724,
          11303651.720090585,
          11007467.34700925,
          10871655.621807251,
          12159820.822644686,
          13505607.403390111,
          13681356.340413606,
          14936296.611906191,
          14923038.910625257,
          12589322.572192566,
          12568194.290519638,
          12656150.217581045,
          12895523.888825014,
          13174352.579157157,
          14758873.283617333,
          14966112.54168266,
          13981120.739769287,
          14329206.281212503,
          12998453.810260974,
          13035101.46742987,
          12935524.996210158,
          14282421.110996926,
          14269045.839103565,
          14234745.430921003,
          13983623.878515448,
          12451147.474175066,
          15269480.34958822,
          15144035.258112026,
          13602820.084048048,
          11961488.017577806,
          11692883.442188185,
          10520623.18598848,
          10597508.98837556,
          12302652.732426368,
          12055658.914270565,
          13312310.455994308,
          13302684.301300997,
          15072063.977543931,
          16640913.820278505,
          16726833.162031168,
          15359834.212318948,
          14337334.69371573,
          13968809.536106026,
          13561663.795575554,
          13355494.93965335,
          11993273.990426429,
          12099160.81741657,
          12943501.406253258,
          12695278.590656549,
          12590908.615391329,
          12418870.720681133,
          12292307.862216016,
          13682690.17967298,
          12526529.102193069,
          12882839.583889768,
          11436021.607194657,
          11324391.68407502,
          12674892.310120234,
          11270116.114267657,
          12775937.96738934,
          11589932.293703048,
          13442791.025573203,
          13942925.906535745,
          12722266.4979224,
          14600266.085370503,
          14866187.212059,
          14936133.6515846,
          13608250.734281491,
          12280254.842698582,
          14027934.698614923,
          13825044.782824928,
          9370691.80449831,
          9533048.390190354,
          9701736.487279251,
          8516841.090446098,
          9443838.824822633,
          9364852.622400708,
          10675149.238137288,
          11864137.72101284,
          11742429.723710775,
          12885260.082449311,
          11467406.715709897,
          12690455.363681272,
          11144443.841934573,
          9815462.194832023,
          9820668.402080366,
          9694690.695536984,
          9815317.107529247,
          9585090.849358326,
          9490934.549195984,
          10580321.827864258,
          10357739.355840078,
          9904135.934160378,
          9669618.420316638,
          13644156.129957588,
          13356814.415303038,
          11853810.286388464,
          11775592.976694366,
          11590485.543108916,
          11612288.84540094,
          12868801.298505137,
          13053035.151801929,
          14110520.33822723,
          13778267.472966751,
          12530386.508751629,
          12021290.84041947,
          11497172.066507123,
          11118384.805893648,
          10012741.049433025,
          8903535.797767593,
          9879758.226772675,
          8878044.28833642,
          8912295.660614314,
          8893381.490528656,
          8745347.529548453,
          9631829.455022588,
          9253797.523018852,
          10113809.633346066,
          8627578.21810162,
          8436459.608976576,
          8431611.204082683,
          9263388.742297878,
          9200360.676142124,
          8049840.762693316,
          7924927.841125282,
          7868657.633253898,
          7230972.840943344,
          6065311.089454257,
          9510080.885098493,
          10311356.508528523,
          10188843.301089196,
          9230875.838806592,
          10421951.542127308,
          9410805.585428568,
          9295633.88340653,
          8287272.486073527,
          7205341.804875426,
          7007599.814036851,
          6448621.827739158,
          6996861.265276186,
          6653012.160243738,
          7241345.740182835,
          7813596.111569532,
          7643831.547008324,
          7531588.959285109,
          7505410.359529986,
          7423733.098475824,
          6722836.719293342,
          6849695.54328337,
          6908397.18765669,
          6799747.286928598,
          5966884.493104179,
          5897396.60152033,
          6545954.712858573,
          6358798.550920685,
          6316020.342904109,
          5492587.888628663,
          6037932.844157421,
          6507796.793347505,
          6309120.805134576,
          5657328.519440842,
          6476220.235650866,
          6414659.974277817,
          6216635.331815537,
          6170705.76427205,
          6847120.495130398,
          7568256.8942576,
          6839261.199889245,
          6985216.111671757,
          7127510.381407448,
          7193205.759368735,
          6399743.077854154,
          5758539.531994228,
          6621291.371501154,
          6804726.057510258,
          6060577.235854323,
          5243187.541894077,
          5147318.963220172,
          5064263.508210289,
          4858667.85518512,
          3909371.044759281,
          4096096.090724261,
          4204594.980261365,
          4307863.510326613,
          5003951.526183036,
          4228045.443139293,
          4333588.643109683,
          5018962.503638574,
          5804053.423344479,
          5895996.5152875,
          5037398.072898928,
          5004869.981366244,
          4880399.674905674,
          3947814.281643769,
          3948862.58109716,
          4797672.732006527,
          4884605.922182759,
          5715605.453048547,
          6451408.939340082,
          7364789.98125288,
          7339247.45884328,
          6379593.836309846,
          6259926.059650292,
          6100968.986072023,
          5275627.779843024,
          5031561.367078741,
          4892291.1739766905,
          5546647.476200526,
          5516003.131957986,
          5482295.180712657,
          5456852.680862268,
          4775999.74259103,
          3957207.108413973,
          3931561.776743367,
          4698801.634696487,
          4061940.882940602,
          4708582.741603273,
          5294455.559226955,
          5380768.831610278,
          5275279.474289083,
          4521161.304549058,
          4425189.697850819,
          3752298.765401428,
          3150115.6873833905,
          3837971.635240448,
          3236858.334502481,
          3272351.204580219,
          3426944.4127864144,
          4117827.867354317,
          4050300.34362331,
          3335873.889345976,
          3912334.868152091
         ],
         "yaxis": "y"
        },
        {
         "hovertemplate": "date=%{x}<br>support=%{y}<extra></extra>",
         "legendgroup": "",
         "line": {
          "dash": "solid"
         },
         "marker": {
          "symbol": "circle"
         },
         "mode": "lines",
         "name": "",
         "orientation": "v",
         "showlegend": false,
         "type": "scatter",
         "x": [
          "2022-01-05",
          "2022-01-06",
          "2022-01-07",
          "2022-01-08",
          "2022-01-09",
          "2022-01-10",
          "2022-01-11",
          "2022-01-12",
          "2022-01-16",
          "2022-01-17",
          "2022-01-18",
          "2022-01-19",
          "2022-01-20",
          "2022-01-21",
          "2022-01-22",
          "2022-01-23",
          "2022-01-24",
          "2022-01-25",
          "2022-01-26",
          "2022-01-27",
          "2022-01-28",
          "2022-01-29",
          "2022-01-30",
          "2022-01-31",
          "2022-02-01",
          "2022-02-02",
          "2022-02-03",
          "2022-02-04",
          "2022-02-05",
          "2022-02-06",
          "2022-02-07",
          "2022-02-08",
          "2022-02-09",
          "2022-02-10",
          "2022-02-11",
          "2022-02-12",
          "2022-02-13",
          "2022-02-14",
          "2022-02-15",
          "2022-02-16",
          "2022-02-17",
          "2022-02-18",
          "2022-02-19",
          "2022-02-20",
          "2022-02-21",
          "2022-02-22",
          "2022-02-23",
          "2022-02-24",
          "2022-02-25",
          "2022-02-26",
          "2022-02-27",
          "2022-02-28",
          "2022-03-01",
          "2022-03-02",
          "2022-03-03",
          "2022-03-04",
          "2022-03-05",
          "2022-03-06",
          "2022-03-07",
          "2022-03-08",
          "2022-03-09",
          "2022-03-10",
          "2022-03-11",
          "2022-03-12",
          "2022-03-13",
          "2022-03-14",
          "2022-03-15",
          "2022-03-16",
          "2022-03-17",
          "2022-03-18",
          "2022-03-19",
          "2022-03-20",
          "2022-03-21",
          "2022-03-22",
          "2022-03-23",
          "2022-03-24",
          "2022-03-25",
          "2022-03-26",
          "2022-03-27",
          "2022-03-28",
          "2022-03-29",
          "2022-03-30",
          "2022-03-31",
          "2022-04-01",
          "2022-04-02",
          "2022-04-05",
          "2022-04-06",
          "2022-04-07",
          "2022-04-08",
          "2022-04-09",
          "2022-04-10",
          "2022-04-11",
          "2022-04-12",
          "2022-04-13",
          "2022-04-14",
          "2022-04-15",
          "2022-04-16",
          "2022-04-17",
          "2022-04-18",
          "2022-04-19",
          "2022-04-20",
          "2022-04-21",
          "2022-04-22",
          "2022-04-23",
          "2022-04-24",
          "2022-04-25",
          "2022-04-26",
          "2022-04-27",
          "2022-04-28",
          "2022-04-29",
          "2022-04-30",
          "2022-05-01",
          "2022-05-02",
          "2022-05-03",
          "2022-05-04",
          "2022-05-05",
          "2022-05-06",
          "2022-05-07",
          "2022-05-08",
          "2022-05-09",
          "2022-05-10",
          "2022-05-11",
          "2022-05-12",
          "2022-05-13",
          "2022-05-14",
          "2022-05-15",
          "2022-05-16",
          "2022-05-17",
          "2022-05-18",
          "2022-05-19",
          "2022-05-20",
          "2022-05-21",
          "2022-05-22",
          "2022-05-23",
          "2022-05-24",
          "2022-05-26",
          "2022-05-27",
          "2022-05-28",
          "2022-05-29",
          "2022-05-30",
          "2022-05-31",
          "2022-06-01",
          "2022-06-02",
          "2022-06-03",
          "2022-06-04",
          "2022-06-05",
          "2022-06-06",
          "2022-06-07",
          "2022-06-08",
          "2022-06-09",
          "2022-06-10",
          "2022-06-11",
          "2022-06-12",
          "2022-06-13",
          "2022-06-14",
          "2022-06-15",
          "2022-06-16",
          "2022-06-17",
          "2022-06-18",
          "2022-06-19",
          "2022-06-20",
          "2022-06-21",
          "2022-06-22",
          "2022-06-23",
          "2022-06-24",
          "2022-06-25",
          "2022-06-26",
          "2022-06-27",
          "2022-06-28",
          "2022-06-29",
          "2022-07-02",
          "2022-07-03",
          "2022-07-04",
          "2022-07-05",
          "2022-07-06",
          "2022-07-07",
          "2022-07-08",
          "2022-07-09",
          "2022-07-10",
          "2022-07-11",
          "2022-07-12",
          "2022-07-13",
          "2022-07-14",
          "2022-07-15",
          "2022-07-16",
          "2022-07-17",
          "2022-07-18",
          "2022-07-19",
          "2022-07-20",
          "2022-07-21",
          "2022-07-22",
          "2022-07-23",
          "2022-07-24",
          "2022-07-25",
          "2022-07-26",
          "2022-07-27",
          "2022-07-28",
          "2022-07-29",
          "2022-07-30",
          "2022-07-31",
          "2022-08-01",
          "2022-08-02",
          "2022-08-03",
          "2022-08-04",
          "2022-08-05",
          "2022-08-06",
          "2022-08-07",
          "2022-08-08",
          "2022-08-09",
          "2022-08-10",
          "2022-08-11",
          "2022-08-12",
          "2022-08-13",
          "2022-08-14",
          "2022-08-15",
          "2022-08-16",
          "2022-08-17",
          "2022-08-18",
          "2022-08-19",
          "2022-08-20",
          "2022-08-21",
          "2022-08-22",
          "2022-08-23",
          "2022-08-24",
          "2022-08-25",
          "2022-08-26",
          "2022-08-27",
          "2022-08-28",
          "2022-08-29",
          "2022-08-30",
          "2022-08-31",
          "2022-09-01",
          "2022-09-02",
          "2022-09-03",
          "2022-09-04",
          "2022-09-05",
          "2022-09-06",
          "2022-09-07",
          "2022-09-08",
          "2022-09-09",
          "2022-09-10",
          "2022-09-11",
          "2022-09-12",
          "2022-09-13",
          "2022-09-14",
          "2022-09-16"
         ],
         "xaxis": "x",
         "y": [
          2.6425167013536948,
          2.522185257779222,
          1.92052803990686,
          1.6798651527579145,
          1.92052803990686,
          2.2815223706302774,
          1.800196596332387,
          1.6798651527579145,
          3.091855641934764,
          2.43221466799901,
          3.3117359665800152,
          1.112932720127503,
          1.3328130447727544,
          -0.4262295523892558,
          -1.5256311756155114,
          -1.0858705263250097,
          -1.5256311756155114,
          -1.3057508509702598,
          -0.6461098770345062,
          -0.4262295523892558,
          0.6731720708370009,
          0.8930523954822513,
          1.112932720127503,
          -0.5120468639191789,
          -0.9323838417632814,
          -0.4069626194581536,
          -0.7222153528412302,
          -0.8272995973022559,
          0.5387955806910766,
          0.5387955806910766,
          0.9591325585351792,
          0.5387955806910766,
          0.5387955806910766,
          0.5387955806910766,
          -0.7222153528412302,
          -0.5120468639191789,
          -1.142552330685333,
          -1.247636575146358,
          -1.4578050640684097,
          -1.5628893085294349,
          1.318870822034497,
          0.7172136041621345,
          -0.606432275157063,
          -1.0877580494549528,
          -0.8470951623060078,
          -1.2080894930294253,
          -0.606432275157063,
          -1.3527208196073837,
          -0.1967941305361021,
          1.274385291918256,
          1.3794695363792815,
          1.7998065142233837,
          2.1150592476064607,
          2.1150592476064607,
          0.9591325585351792,
          -0.0917098860750769,
          0.8540483140741534,
          1.3794695363792815,
          1.6947222697623583,
          1.4845537808403069,
          1.274385291918256,
          1.064216802996205,
          0.4337113362300513,
          0.2235428473079998,
          -0.6171311083802047,
          -0.5120468639191789,
          -0.4069626194581536,
          -0.4069626194581536,
          -0.0917098860750769,
          -0.7222153528412302,
          0.1184586028469746,
          0.1184586028469746,
          -0.0917098860750769,
          0.2235428473079998,
          -0.5120468639191789,
          -0.5120468639191789,
          -1.247636575146358,
          -1.247636575146358,
          -0.9323838417632814,
          -1.3527208196073837,
          -1.142552330685333,
          -1.142552330685333,
          -0.6171311083802047,
          0.2235428473079998,
          0.8540483140741534,
          -0.606432275157063,
          -0.1251065008591728,
          -0.0047750572847004,
          -0.606432275157063,
          -0.1251065008591728,
          -0.4861008315825902,
          0.1155563862897722,
          0.1155563862897722,
          0.1155563862897722,
          0.1155563862897722,
          -0.1251065008591728,
          -0.1251065008591728,
          -0.8470951623060078,
          -1.0877580494549528,
          -1.328420936603898,
          -0.9674266058804804,
          -1.328420936603898,
          0.2358878298642443,
          0.5968821605876619,
          0.9578764913110792,
          1.318870822034497,
          2.040859483481332,
          2.7628481449281668,
          1.112932720127503,
          0.4532917461917493,
          0.4532917461917493,
          0.0135310969012473,
          0.2334114215464977,
          -0.6461098770345062,
          -0.2063492277440042,
          0.6731720708370009,
          0.8930523954822513,
          0.2334114215464977,
          -1.0858705263250097,
          0.2334114215464977,
          0.2334114215464977,
          -0.4262295523892558,
          0.0135310969012473,
          0.4532917461917493,
          0.6731720708370009,
          -1.0858705263250097,
          -0.4262295523892558,
          0.0135310969012473,
          -0.6461098770345062,
          -1.0858705263250097,
          1.5595337091834425,
          1.198539378460025,
          0.9578764913110792,
          0.8375450477366072,
          0.356219273438717,
          -0.2454379444336455,
          -0.606432275157063,
          -0.2454379444336455,
          0.2358878298642443,
          0.4765507170131898,
          0.5968821605876619,
          1.078207934885552,
          -0.8659902016797578,
          0.6731720708370009,
          0.6731720708370009,
          -0.4262295523892558,
          0.2334114215464977,
          0.8930523954822513,
          1.3328130447727544,
          0.2334114215464977,
          -0.6461098770345062,
          -0.6461098770345062,
          -0.4262295523892558,
          0.2334114215464977,
          0.0135310969012473,
          0.4532917461917493,
          0.2334114215464977,
          -0.4262295523892558,
          -0.2063492277440042,
          -0.4262295523892558,
          -1.0858705263250097,
          -1.0858705263250097,
          -0.8659902016797578,
          -0.2063492277440042,
          -0.8659902016797578,
          -1.7455115002607624,
          -1.0858705263250097,
          -0.8659902016797578,
          0.0135310969012473,
          -0.2063492277440042,
          1.078207934885552,
          1.318870822034497,
          1.4392022656089696,
          1.078207934885552,
          0.356219273438717,
          0.2358878298642443,
          0.5968821605876619,
          0.2358878298642443,
          -0.0047750572847004,
          0.5968821605876619,
          1.318870822034497,
          1.078207934885552,
          0.9578764913110792,
          1.318870822034497,
          1.198539378460025,
          0.5968821605876619,
          -0.0047750572847004,
          0.2358878298642443,
          0.2358878298642443,
          -0.4861008315825902,
          -0.8470951623060078,
          -0.7267637187315353,
          -0.8470951623060078,
          -1.0877580494549528,
          -1.569083823752843,
          -1.4487523801783704,
          -1.569083823752843,
          -1.689415267327315,
          -1.328420936603898,
          -1.328420936603898,
          -1.328420936603898,
          -0.606432275157063,
          -0.1251065008591728,
          -0.1251065008591728,
          -0.4861008315825902,
          -0.606432275157063,
          -0.606432275157063,
          -1.569083823752843,
          -0.606432275157063,
          -0.2454379444336455,
          0.356219273438717,
          0.4765507170131898,
          0.5968821605876619,
          0.8375450477366072,
          -0.1251065008591728,
          -0.3657693880081179,
          -0.9674266058804804,
          -1.2080894930294253,
          -1.328420936603898,
          -0.7267637187315353,
          -0.9674266058804804,
          -0.2454379444336455,
          -0.1251065008591728,
          -0.0047750572847004,
          -0.1251065008591728,
          -0.606432275157063,
          -0.8470951623060078,
          -0.7267637187315353,
          -0.4861008315825902,
          -0.7267637187315353,
          -0.3657693880081179,
          -0.0047750572847004,
          0.2358878298642443,
          -0.606432275157063,
          -0.9674266058804804,
          -0.7267637187315353,
          -0.8470951623060078,
          -1.2080894930294253,
          -0.9674266058804804,
          -0.7267637187315353,
          -0.4861008315825902,
          -0.3657693880081179,
          -0.0047750572847004,
          -0.2454379444336455,
          -0.606432275157063,
          -0.3657693880081179
         ],
         "yaxis": "y2"
        }
       ],
       "layout": {
        "template": {
         "data": {
          "bar": [
           {
            "error_x": {
             "color": "#2a3f5f"
            },
            "error_y": {
             "color": "#2a3f5f"
            },
            "marker": {
             "line": {
              "color": "#E5ECF6",
              "width": 0.5
             },
             "pattern": {
              "fillmode": "overlay",
              "size": 10,
              "solidity": 0.2
             }
            },
            "type": "bar"
           }
          ],
          "barpolar": [
           {
            "marker": {
             "line": {
              "color": "#E5ECF6",
              "width": 0.5
             },
             "pattern": {
              "fillmode": "overlay",
              "size": 10,
              "solidity": 0.2
             }
            },
            "type": "barpolar"
           }
          ],
          "carpet": [
           {
            "aaxis": {
             "endlinecolor": "#2a3f5f",
             "gridcolor": "white",
             "linecolor": "white",
             "minorgridcolor": "white",
             "startlinecolor": "#2a3f5f"
            },
            "baxis": {
             "endlinecolor": "#2a3f5f",
             "gridcolor": "white",
             "linecolor": "white",
             "minorgridcolor": "white",
             "startlinecolor": "#2a3f5f"
            },
            "type": "carpet"
           }
          ],
          "choropleth": [
           {
            "colorbar": {
             "outlinewidth": 0,
             "ticks": ""
            },
            "type": "choropleth"
           }
          ],
          "contour": [
           {
            "colorbar": {
             "outlinewidth": 0,
             "ticks": ""
            },
            "colorscale": [
             [
              0,
              "#0d0887"
             ],
             [
              0.1111111111111111,
              "#46039f"
             ],
             [
              0.2222222222222222,
              "#7201a8"
             ],
             [
              0.3333333333333333,
              "#9c179e"
             ],
             [
              0.4444444444444444,
              "#bd3786"
             ],
             [
              0.5555555555555556,
              "#d8576b"
             ],
             [
              0.6666666666666666,
              "#ed7953"
             ],
             [
              0.7777777777777778,
              "#fb9f3a"
             ],
             [
              0.8888888888888888,
              "#fdca26"
             ],
             [
              1,
              "#f0f921"
             ]
            ],
            "type": "contour"
           }
          ],
          "contourcarpet": [
           {
            "colorbar": {
             "outlinewidth": 0,
             "ticks": ""
            },
            "type": "contourcarpet"
           }
          ],
          "heatmap": [
           {
            "colorbar": {
             "outlinewidth": 0,
             "ticks": ""
            },
            "colorscale": [
             [
              0,
              "#0d0887"
             ],
             [
              0.1111111111111111,
              "#46039f"
             ],
             [
              0.2222222222222222,
              "#7201a8"
             ],
             [
              0.3333333333333333,
              "#9c179e"
             ],
             [
              0.4444444444444444,
              "#bd3786"
             ],
             [
              0.5555555555555556,
              "#d8576b"
             ],
             [
              0.6666666666666666,
              "#ed7953"
             ],
             [
              0.7777777777777778,
              "#fb9f3a"
             ],
             [
              0.8888888888888888,
              "#fdca26"
             ],
             [
              1,
              "#f0f921"
             ]
            ],
            "type": "heatmap"
           }
          ],
          "heatmapgl": [
           {
            "colorbar": {
             "outlinewidth": 0,
             "ticks": ""
            },
            "colorscale": [
             [
              0,
              "#0d0887"
             ],
             [
              0.1111111111111111,
              "#46039f"
             ],
             [
              0.2222222222222222,
              "#7201a8"
             ],
             [
              0.3333333333333333,
              "#9c179e"
             ],
             [
              0.4444444444444444,
              "#bd3786"
             ],
             [
              0.5555555555555556,
              "#d8576b"
             ],
             [
              0.6666666666666666,
              "#ed7953"
             ],
             [
              0.7777777777777778,
              "#fb9f3a"
             ],
             [
              0.8888888888888888,
              "#fdca26"
             ],
             [
              1,
              "#f0f921"
             ]
            ],
            "type": "heatmapgl"
           }
          ],
          "histogram": [
           {
            "marker": {
             "pattern": {
              "fillmode": "overlay",
              "size": 10,
              "solidity": 0.2
             }
            },
            "type": "histogram"
           }
          ],
          "histogram2d": [
           {
            "colorbar": {
             "outlinewidth": 0,
             "ticks": ""
            },
            "colorscale": [
             [
              0,
              "#0d0887"
             ],
             [
              0.1111111111111111,
              "#46039f"
             ],
             [
              0.2222222222222222,
              "#7201a8"
             ],
             [
              0.3333333333333333,
              "#9c179e"
             ],
             [
              0.4444444444444444,
              "#bd3786"
             ],
             [
              0.5555555555555556,
              "#d8576b"
             ],
             [
              0.6666666666666666,
              "#ed7953"
             ],
             [
              0.7777777777777778,
              "#fb9f3a"
             ],
             [
              0.8888888888888888,
              "#fdca26"
             ],
             [
              1,
              "#f0f921"
             ]
            ],
            "type": "histogram2d"
           }
          ],
          "histogram2dcontour": [
           {
            "colorbar": {
             "outlinewidth": 0,
             "ticks": ""
            },
            "colorscale": [
             [
              0,
              "#0d0887"
             ],
             [
              0.1111111111111111,
              "#46039f"
             ],
             [
              0.2222222222222222,
              "#7201a8"
             ],
             [
              0.3333333333333333,
              "#9c179e"
             ],
             [
              0.4444444444444444,
              "#bd3786"
             ],
             [
              0.5555555555555556,
              "#d8576b"
             ],
             [
              0.6666666666666666,
              "#ed7953"
             ],
             [
              0.7777777777777778,
              "#fb9f3a"
             ],
             [
              0.8888888888888888,
              "#fdca26"
             ],
             [
              1,
              "#f0f921"
             ]
            ],
            "type": "histogram2dcontour"
           }
          ],
          "mesh3d": [
           {
            "colorbar": {
             "outlinewidth": 0,
             "ticks": ""
            },
            "type": "mesh3d"
           }
          ],
          "parcoords": [
           {
            "line": {
             "colorbar": {
              "outlinewidth": 0,
              "ticks": ""
             }
            },
            "type": "parcoords"
           }
          ],
          "pie": [
           {
            "automargin": true,
            "type": "pie"
           }
          ],
          "scatter": [
           {
            "fillpattern": {
             "fillmode": "overlay",
             "size": 10,
             "solidity": 0.2
            },
            "type": "scatter"
           }
          ],
          "scatter3d": [
           {
            "line": {
             "colorbar": {
              "outlinewidth": 0,
              "ticks": ""
             }
            },
            "marker": {
             "colorbar": {
              "outlinewidth": 0,
              "ticks": ""
             }
            },
            "type": "scatter3d"
           }
          ],
          "scattercarpet": [
           {
            "marker": {
             "colorbar": {
              "outlinewidth": 0,
              "ticks": ""
             }
            },
            "type": "scattercarpet"
           }
          ],
          "scattergeo": [
           {
            "marker": {
             "colorbar": {
              "outlinewidth": 0,
              "ticks": ""
             }
            },
            "type": "scattergeo"
           }
          ],
          "scattergl": [
           {
            "marker": {
             "colorbar": {
              "outlinewidth": 0,
              "ticks": ""
             }
            },
            "type": "scattergl"
           }
          ],
          "scattermapbox": [
           {
            "marker": {
             "colorbar": {
              "outlinewidth": 0,
              "ticks": ""
             }
            },
            "type": "scattermapbox"
           }
          ],
          "scatterpolar": [
           {
            "marker": {
             "colorbar": {
              "outlinewidth": 0,
              "ticks": ""
             }
            },
            "type": "scatterpolar"
           }
          ],
          "scatterpolargl": [
           {
            "marker": {
             "colorbar": {
              "outlinewidth": 0,
              "ticks": ""
             }
            },
            "type": "scatterpolargl"
           }
          ],
          "scatterternary": [
           {
            "marker": {
             "colorbar": {
              "outlinewidth": 0,
              "ticks": ""
             }
            },
            "type": "scatterternary"
           }
          ],
          "surface": [
           {
            "colorbar": {
             "outlinewidth": 0,
             "ticks": ""
            },
            "colorscale": [
             [
              0,
              "#0d0887"
             ],
             [
              0.1111111111111111,
              "#46039f"
             ],
             [
              0.2222222222222222,
              "#7201a8"
             ],
             [
              0.3333333333333333,
              "#9c179e"
             ],
             [
              0.4444444444444444,
              "#bd3786"
             ],
             [
              0.5555555555555556,
              "#d8576b"
             ],
             [
              0.6666666666666666,
              "#ed7953"
             ],
             [
              0.7777777777777778,
              "#fb9f3a"
             ],
             [
              0.8888888888888888,
              "#fdca26"
             ],
             [
              1,
              "#f0f921"
             ]
            ],
            "type": "surface"
           }
          ],
          "table": [
           {
            "cells": {
             "fill": {
              "color": "#EBF0F8"
             },
             "line": {
              "color": "white"
             }
            },
            "header": {
             "fill": {
              "color": "#C8D4E3"
             },
             "line": {
              "color": "white"
             }
            },
            "type": "table"
           }
          ]
         },
         "layout": {
          "annotationdefaults": {
           "arrowcolor": "#2a3f5f",
           "arrowhead": 0,
           "arrowwidth": 1
          },
          "autotypenumbers": "strict",
          "coloraxis": {
           "colorbar": {
            "outlinewidth": 0,
            "ticks": ""
           }
          },
          "colorscale": {
           "diverging": [
            [
             0,
             "#8e0152"
            ],
            [
             0.1,
             "#c51b7d"
            ],
            [
             0.2,
             "#de77ae"
            ],
            [
             0.3,
             "#f1b6da"
            ],
            [
             0.4,
             "#fde0ef"
            ],
            [
             0.5,
             "#f7f7f7"
            ],
            [
             0.6,
             "#e6f5d0"
            ],
            [
             0.7,
             "#b8e186"
            ],
            [
             0.8,
             "#7fbc41"
            ],
            [
             0.9,
             "#4d9221"
            ],
            [
             1,
             "#276419"
            ]
           ],
           "sequential": [
            [
             0,
             "#0d0887"
            ],
            [
             0.1111111111111111,
             "#46039f"
            ],
            [
             0.2222222222222222,
             "#7201a8"
            ],
            [
             0.3333333333333333,
             "#9c179e"
            ],
            [
             0.4444444444444444,
             "#bd3786"
            ],
            [
             0.5555555555555556,
             "#d8576b"
            ],
            [
             0.6666666666666666,
             "#ed7953"
            ],
            [
             0.7777777777777778,
             "#fb9f3a"
            ],
            [
             0.8888888888888888,
             "#fdca26"
            ],
            [
             1,
             "#f0f921"
            ]
           ],
           "sequentialminus": [
            [
             0,
             "#0d0887"
            ],
            [
             0.1111111111111111,
             "#46039f"
            ],
            [
             0.2222222222222222,
             "#7201a8"
            ],
            [
             0.3333333333333333,
             "#9c179e"
            ],
            [
             0.4444444444444444,
             "#bd3786"
            ],
            [
             0.5555555555555556,
             "#d8576b"
            ],
            [
             0.6666666666666666,
             "#ed7953"
            ],
            [
             0.7777777777777778,
             "#fb9f3a"
            ],
            [
             0.8888888888888888,
             "#fdca26"
            ],
            [
             1,
             "#f0f921"
            ]
           ]
          },
          "colorway": [
           "#636efa",
           "#EF553B",
           "#00cc96",
           "#ab63fa",
           "#FFA15A",
           "#19d3f3",
           "#FF6692",
           "#B6E880",
           "#FF97FF",
           "#FECB52"
          ],
          "font": {
           "color": "#2a3f5f"
          },
          "geo": {
           "bgcolor": "white",
           "lakecolor": "white",
           "landcolor": "#E5ECF6",
           "showlakes": true,
           "showland": true,
           "subunitcolor": "white"
          },
          "hoverlabel": {
           "align": "left"
          },
          "hovermode": "closest",
          "mapbox": {
           "style": "light"
          },
          "paper_bgcolor": "white",
          "plot_bgcolor": "#E5ECF6",
          "polar": {
           "angularaxis": {
            "gridcolor": "white",
            "linecolor": "white",
            "ticks": ""
           },
           "bgcolor": "#E5ECF6",
           "radialaxis": {
            "gridcolor": "white",
            "linecolor": "white",
            "ticks": ""
           }
          },
          "scene": {
           "xaxis": {
            "backgroundcolor": "#E5ECF6",
            "gridcolor": "white",
            "gridwidth": 2,
            "linecolor": "white",
            "showbackground": true,
            "ticks": "",
            "zerolinecolor": "white"
           },
           "yaxis": {
            "backgroundcolor": "#E5ECF6",
            "gridcolor": "white",
            "gridwidth": 2,
            "linecolor": "white",
            "showbackground": true,
            "ticks": "",
            "zerolinecolor": "white"
           },
           "zaxis": {
            "backgroundcolor": "#E5ECF6",
            "gridcolor": "white",
            "gridwidth": 2,
            "linecolor": "white",
            "showbackground": true,
            "ticks": "",
            "zerolinecolor": "white"
           }
          },
          "shapedefaults": {
           "line": {
            "color": "#2a3f5f"
           }
          },
          "ternary": {
           "aaxis": {
            "gridcolor": "white",
            "linecolor": "white",
            "ticks": ""
           },
           "baxis": {
            "gridcolor": "white",
            "linecolor": "white",
            "ticks": ""
           },
           "bgcolor": "#E5ECF6",
           "caxis": {
            "gridcolor": "white",
            "linecolor": "white",
            "ticks": ""
           }
          },
          "title": {
           "x": 0.05
          },
          "xaxis": {
           "automargin": true,
           "gridcolor": "white",
           "linecolor": "white",
           "ticks": "",
           "title": {
            "standoff": 15
           },
           "zerolinecolor": "white",
           "zerolinewidth": 2
          },
          "yaxis": {
           "automargin": true,
           "gridcolor": "white",
           "linecolor": "white",
           "ticks": "",
           "title": {
            "standoff": 15
           },
           "zerolinecolor": "white",
           "zerolinewidth": 2
          }
         }
        },
        "xaxis": {
         "anchor": "y",
         "domain": [
          0,
          0.94
         ]
        },
        "yaxis": {
         "anchor": "x",
         "domain": [
          0,
          1
         ]
        },
        "yaxis2": {
         "anchor": "x",
         "overlaying": "y",
         "side": "right"
        }
       }
      },
      "text/html": [
       "<div>                            <div id=\"87bd118d-c2b2-4d16-8f56-1f30d0cce88b\" class=\"plotly-graph-div\" style=\"height:525px; width:100%;\"></div>            <script type=\"text/javascript\">                require([\"plotly\"], function(Plotly) {                    window.PLOTLYENV=window.PLOTLYENV || {};                                    if (document.getElementById(\"87bd118d-c2b2-4d16-8f56-1f30d0cce88b\")) {                    Plotly.newPlot(                        \"87bd118d-c2b2-4d16-8f56-1f30d0cce88b\",                        [{\"hovertemplate\":\"date=%{x}<br>Mean=%{y}<extra></extra>\",\"legendgroup\":\"\",\"line\":{\"dash\":\"solid\"},\"marker\":{\"symbol\":\"circle\"},\"mode\":\"lines\",\"name\":\"\",\"orientation\":\"v\",\"showlegend\":false,\"x\":[\"2022-01-05\",\"2022-01-06\",\"2022-01-07\",\"2022-01-08\",\"2022-01-09\",\"2022-01-10\",\"2022-01-11\",\"2022-01-12\",\"2022-01-16\",\"2022-01-17\",\"2022-01-18\",\"2022-01-19\",\"2022-01-20\",\"2022-01-21\",\"2022-01-22\",\"2022-01-23\",\"2022-01-24\",\"2022-01-25\",\"2022-01-26\",\"2022-01-27\",\"2022-01-28\",\"2022-01-29\",\"2022-01-30\",\"2022-01-31\",\"2022-02-01\",\"2022-02-02\",\"2022-02-03\",\"2022-02-04\",\"2022-02-05\",\"2022-02-06\",\"2022-02-07\",\"2022-02-08\",\"2022-02-09\",\"2022-02-10\",\"2022-02-11\",\"2022-02-12\",\"2022-02-13\",\"2022-02-14\",\"2022-02-15\",\"2022-02-16\",\"2022-02-17\",\"2022-02-18\",\"2022-02-19\",\"2022-02-20\",\"2022-02-21\",\"2022-02-22\",\"2022-02-23\",\"2022-02-24\",\"2022-02-25\",\"2022-02-26\",\"2022-02-27\",\"2022-02-28\",\"2022-03-01\",\"2022-03-02\",\"2022-03-03\",\"2022-03-04\",\"2022-03-05\",\"2022-03-06\",\"2022-03-07\",\"2022-03-08\",\"2022-03-09\",\"2022-03-10\",\"2022-03-11\",\"2022-03-12\",\"2022-03-13\",\"2022-03-14\",\"2022-03-15\",\"2022-03-16\",\"2022-03-17\",\"2022-03-18\",\"2022-03-19\",\"2022-03-20\",\"2022-03-21\",\"2022-03-22\",\"2022-03-23\",\"2022-03-24\",\"2022-03-25\",\"2022-03-26\",\"2022-03-27\",\"2022-03-28\",\"2022-03-29\",\"2022-03-30\",\"2022-03-31\",\"2022-04-01\",\"2022-04-02\",\"2022-04-05\",\"2022-04-06\",\"2022-04-07\",\"2022-04-08\",\"2022-04-09\",\"2022-04-10\",\"2022-04-11\",\"2022-04-12\",\"2022-04-13\",\"2022-04-14\",\"2022-04-15\",\"2022-04-16\",\"2022-04-17\",\"2022-04-18\",\"2022-04-19\",\"2022-04-20\",\"2022-04-21\",\"2022-04-22\",\"2022-04-23\",\"2022-04-24\",\"2022-04-25\",\"2022-04-26\",\"2022-04-27\",\"2022-04-28\",\"2022-04-29\",\"2022-04-30\",\"2022-05-01\",\"2022-05-02\",\"2022-05-03\",\"2022-05-04\",\"2022-05-05\",\"2022-05-06\",\"2022-05-07\",\"2022-05-08\",\"2022-05-09\",\"2022-05-10\",\"2022-05-11\",\"2022-05-12\",\"2022-05-13\",\"2022-05-14\",\"2022-05-15\",\"2022-05-16\",\"2022-05-17\",\"2022-05-18\",\"2022-05-19\",\"2022-05-20\",\"2022-05-21\",\"2022-05-22\",\"2022-05-23\",\"2022-05-24\",\"2022-05-26\",\"2022-05-27\",\"2022-05-28\",\"2022-05-29\",\"2022-05-30\",\"2022-05-31\",\"2022-06-01\",\"2022-06-02\",\"2022-06-03\",\"2022-06-04\",\"2022-06-05\",\"2022-06-06\",\"2022-06-07\",\"2022-06-08\",\"2022-06-09\",\"2022-06-10\",\"2022-06-11\",\"2022-06-12\",\"2022-06-13\",\"2022-06-14\",\"2022-06-15\",\"2022-06-16\",\"2022-06-17\",\"2022-06-18\",\"2022-06-19\",\"2022-06-20\",\"2022-06-21\",\"2022-06-22\",\"2022-06-23\",\"2022-06-24\",\"2022-06-25\",\"2022-06-26\",\"2022-06-27\",\"2022-06-28\",\"2022-06-29\",\"2022-07-02\",\"2022-07-03\",\"2022-07-04\",\"2022-07-05\",\"2022-07-06\",\"2022-07-07\",\"2022-07-08\",\"2022-07-09\",\"2022-07-10\",\"2022-07-11\",\"2022-07-12\",\"2022-07-13\",\"2022-07-14\",\"2022-07-15\",\"2022-07-16\",\"2022-07-17\",\"2022-07-18\",\"2022-07-19\",\"2022-07-20\",\"2022-07-21\",\"2022-07-22\",\"2022-07-23\",\"2022-07-24\",\"2022-07-25\",\"2022-07-26\",\"2022-07-27\",\"2022-07-28\",\"2022-07-29\",\"2022-07-30\",\"2022-07-31\",\"2022-08-01\",\"2022-08-02\",\"2022-08-03\",\"2022-08-04\",\"2022-08-05\",\"2022-08-06\",\"2022-08-07\",\"2022-08-08\",\"2022-08-09\",\"2022-08-10\",\"2022-08-11\",\"2022-08-12\",\"2022-08-13\",\"2022-08-14\",\"2022-08-15\",\"2022-08-16\",\"2022-08-17\",\"2022-08-18\",\"2022-08-19\",\"2022-08-20\",\"2022-08-21\",\"2022-08-22\",\"2022-08-23\",\"2022-08-24\",\"2022-08-25\",\"2022-08-26\",\"2022-08-27\",\"2022-08-28\",\"2022-08-29\",\"2022-08-30\",\"2022-08-31\",\"2022-09-01\",\"2022-09-02\",\"2022-09-03\",\"2022-09-04\",\"2022-09-05\",\"2022-09-06\",\"2022-09-07\",\"2022-09-08\",\"2022-09-09\",\"2022-09-10\",\"2022-09-11\",\"2022-09-12\",\"2022-09-13\",\"2022-09-14\",\"2022-09-16\"],\"xaxis\":\"x\",\"y\":[16300560.396325707,17658648.89806571,17347162.93101469,16975064.4272259,16797785.791917797,16806788.914961446,16811833.251713973,16734018.396816732,17112088.201657716,17011946.553369317,16970497.972453773,16652439.489730489,14965479.43222849,13323793.673679637,12873959.016227724,11303651.720090585,11007467.34700925,10871655.621807251,12159820.822644686,13505607.403390111,13681356.340413606,14936296.611906191,14923038.910625257,12589322.572192566,12568194.290519638,12656150.217581045,12895523.888825014,13174352.579157157,14758873.283617333,14966112.54168266,13981120.739769287,14329206.281212503,12998453.810260974,13035101.46742987,12935524.996210158,14282421.110996926,14269045.839103565,14234745.430921003,13983623.878515448,12451147.474175066,15269480.34958822,15144035.258112026,13602820.084048048,11961488.017577806,11692883.442188185,10520623.18598848,10597508.98837556,12302652.732426368,12055658.914270565,13312310.455994308,13302684.301300997,15072063.977543931,16640913.820278505,16726833.162031168,15359834.212318948,14337334.69371573,13968809.536106026,13561663.795575554,13355494.93965335,11993273.990426429,12099160.81741657,12943501.406253258,12695278.590656549,12590908.615391329,12418870.720681133,12292307.862216016,13682690.17967298,12526529.102193069,12882839.583889768,11436021.607194657,11324391.68407502,12674892.310120234,11270116.114267657,12775937.96738934,11589932.293703048,13442791.025573203,13942925.906535745,12722266.4979224,14600266.085370503,14866187.212059,14936133.6515846,13608250.734281491,12280254.842698582,14027934.698614923,13825044.782824928,9370691.80449831,9533048.390190354,9701736.487279251,8516841.090446098,9443838.824822633,9364852.622400708,10675149.238137288,11864137.72101284,11742429.723710775,12885260.082449311,11467406.715709897,12690455.363681272,11144443.841934573,9815462.194832023,9820668.402080366,9694690.695536984,9815317.107529247,9585090.849358326,9490934.549195984,10580321.827864258,10357739.355840078,9904135.934160378,9669618.420316638,13644156.129957588,13356814.415303038,11853810.286388464,11775592.976694366,11590485.543108916,11612288.84540094,12868801.298505137,13053035.151801929,14110520.33822723,13778267.472966751,12530386.508751629,12021290.84041947,11497172.066507123,11118384.805893648,10012741.049433025,8903535.797767593,9879758.226772675,8878044.28833642,8912295.660614314,8893381.490528656,8745347.529548453,9631829.455022588,9253797.523018852,10113809.633346066,8627578.21810162,8436459.608976576,8431611.204082683,9263388.742297878,9200360.676142124,8049840.762693316,7924927.841125282,7868657.633253898,7230972.840943344,6065311.089454257,9510080.885098493,10311356.508528523,10188843.301089196,9230875.838806592,10421951.542127308,9410805.585428568,9295633.88340653,8287272.486073527,7205341.804875426,7007599.814036851,6448621.827739158,6996861.265276186,6653012.160243738,7241345.740182835,7813596.111569532,7643831.547008324,7531588.959285109,7505410.359529986,7423733.098475824,6722836.719293342,6849695.54328337,6908397.18765669,6799747.286928598,5966884.493104179,5897396.60152033,6545954.712858573,6358798.550920685,6316020.342904109,5492587.888628663,6037932.844157421,6507796.793347505,6309120.805134576,5657328.519440842,6476220.235650866,6414659.974277817,6216635.331815537,6170705.76427205,6847120.495130398,7568256.8942576,6839261.199889245,6985216.111671757,7127510.381407448,7193205.759368735,6399743.077854154,5758539.531994228,6621291.371501154,6804726.057510258,6060577.235854323,5243187.541894077,5147318.963220172,5064263.508210289,4858667.85518512,3909371.044759281,4096096.090724261,4204594.980261365,4307863.510326613,5003951.526183036,4228045.443139293,4333588.643109683,5018962.503638574,5804053.423344479,5895996.5152875,5037398.072898928,5004869.981366244,4880399.674905674,3947814.281643769,3948862.58109716,4797672.732006527,4884605.922182759,5715605.453048547,6451408.939340082,7364789.98125288,7339247.45884328,6379593.836309846,6259926.059650292,6100968.986072023,5275627.779843024,5031561.367078741,4892291.1739766905,5546647.476200526,5516003.131957986,5482295.180712657,5456852.680862268,4775999.74259103,3957207.108413973,3931561.776743367,4698801.634696487,4061940.882940602,4708582.741603273,5294455.559226955,5380768.831610278,5275279.474289083,4521161.304549058,4425189.697850819,3752298.765401428,3150115.6873833905,3837971.635240448,3236858.334502481,3272351.204580219,3426944.4127864144,4117827.867354317,4050300.34362331,3335873.889345976,3912334.868152091],\"yaxis\":\"y\",\"type\":\"scatter\"},{\"hovertemplate\":\"date=%{x}<br>support=%{y}<extra></extra>\",\"legendgroup\":\"\",\"line\":{\"dash\":\"solid\"},\"marker\":{\"symbol\":\"circle\"},\"mode\":\"lines\",\"name\":\"\",\"orientation\":\"v\",\"showlegend\":false,\"x\":[\"2022-01-05\",\"2022-01-06\",\"2022-01-07\",\"2022-01-08\",\"2022-01-09\",\"2022-01-10\",\"2022-01-11\",\"2022-01-12\",\"2022-01-16\",\"2022-01-17\",\"2022-01-18\",\"2022-01-19\",\"2022-01-20\",\"2022-01-21\",\"2022-01-22\",\"2022-01-23\",\"2022-01-24\",\"2022-01-25\",\"2022-01-26\",\"2022-01-27\",\"2022-01-28\",\"2022-01-29\",\"2022-01-30\",\"2022-01-31\",\"2022-02-01\",\"2022-02-02\",\"2022-02-03\",\"2022-02-04\",\"2022-02-05\",\"2022-02-06\",\"2022-02-07\",\"2022-02-08\",\"2022-02-09\",\"2022-02-10\",\"2022-02-11\",\"2022-02-12\",\"2022-02-13\",\"2022-02-14\",\"2022-02-15\",\"2022-02-16\",\"2022-02-17\",\"2022-02-18\",\"2022-02-19\",\"2022-02-20\",\"2022-02-21\",\"2022-02-22\",\"2022-02-23\",\"2022-02-24\",\"2022-02-25\",\"2022-02-26\",\"2022-02-27\",\"2022-02-28\",\"2022-03-01\",\"2022-03-02\",\"2022-03-03\",\"2022-03-04\",\"2022-03-05\",\"2022-03-06\",\"2022-03-07\",\"2022-03-08\",\"2022-03-09\",\"2022-03-10\",\"2022-03-11\",\"2022-03-12\",\"2022-03-13\",\"2022-03-14\",\"2022-03-15\",\"2022-03-16\",\"2022-03-17\",\"2022-03-18\",\"2022-03-19\",\"2022-03-20\",\"2022-03-21\",\"2022-03-22\",\"2022-03-23\",\"2022-03-24\",\"2022-03-25\",\"2022-03-26\",\"2022-03-27\",\"2022-03-28\",\"2022-03-29\",\"2022-03-30\",\"2022-03-31\",\"2022-04-01\",\"2022-04-02\",\"2022-04-05\",\"2022-04-06\",\"2022-04-07\",\"2022-04-08\",\"2022-04-09\",\"2022-04-10\",\"2022-04-11\",\"2022-04-12\",\"2022-04-13\",\"2022-04-14\",\"2022-04-15\",\"2022-04-16\",\"2022-04-17\",\"2022-04-18\",\"2022-04-19\",\"2022-04-20\",\"2022-04-21\",\"2022-04-22\",\"2022-04-23\",\"2022-04-24\",\"2022-04-25\",\"2022-04-26\",\"2022-04-27\",\"2022-04-28\",\"2022-04-29\",\"2022-04-30\",\"2022-05-01\",\"2022-05-02\",\"2022-05-03\",\"2022-05-04\",\"2022-05-05\",\"2022-05-06\",\"2022-05-07\",\"2022-05-08\",\"2022-05-09\",\"2022-05-10\",\"2022-05-11\",\"2022-05-12\",\"2022-05-13\",\"2022-05-14\",\"2022-05-15\",\"2022-05-16\",\"2022-05-17\",\"2022-05-18\",\"2022-05-19\",\"2022-05-20\",\"2022-05-21\",\"2022-05-22\",\"2022-05-23\",\"2022-05-24\",\"2022-05-26\",\"2022-05-27\",\"2022-05-28\",\"2022-05-29\",\"2022-05-30\",\"2022-05-31\",\"2022-06-01\",\"2022-06-02\",\"2022-06-03\",\"2022-06-04\",\"2022-06-05\",\"2022-06-06\",\"2022-06-07\",\"2022-06-08\",\"2022-06-09\",\"2022-06-10\",\"2022-06-11\",\"2022-06-12\",\"2022-06-13\",\"2022-06-14\",\"2022-06-15\",\"2022-06-16\",\"2022-06-17\",\"2022-06-18\",\"2022-06-19\",\"2022-06-20\",\"2022-06-21\",\"2022-06-22\",\"2022-06-23\",\"2022-06-24\",\"2022-06-25\",\"2022-06-26\",\"2022-06-27\",\"2022-06-28\",\"2022-06-29\",\"2022-07-02\",\"2022-07-03\",\"2022-07-04\",\"2022-07-05\",\"2022-07-06\",\"2022-07-07\",\"2022-07-08\",\"2022-07-09\",\"2022-07-10\",\"2022-07-11\",\"2022-07-12\",\"2022-07-13\",\"2022-07-14\",\"2022-07-15\",\"2022-07-16\",\"2022-07-17\",\"2022-07-18\",\"2022-07-19\",\"2022-07-20\",\"2022-07-21\",\"2022-07-22\",\"2022-07-23\",\"2022-07-24\",\"2022-07-25\",\"2022-07-26\",\"2022-07-27\",\"2022-07-28\",\"2022-07-29\",\"2022-07-30\",\"2022-07-31\",\"2022-08-01\",\"2022-08-02\",\"2022-08-03\",\"2022-08-04\",\"2022-08-05\",\"2022-08-06\",\"2022-08-07\",\"2022-08-08\",\"2022-08-09\",\"2022-08-10\",\"2022-08-11\",\"2022-08-12\",\"2022-08-13\",\"2022-08-14\",\"2022-08-15\",\"2022-08-16\",\"2022-08-17\",\"2022-08-18\",\"2022-08-19\",\"2022-08-20\",\"2022-08-21\",\"2022-08-22\",\"2022-08-23\",\"2022-08-24\",\"2022-08-25\",\"2022-08-26\",\"2022-08-27\",\"2022-08-28\",\"2022-08-29\",\"2022-08-30\",\"2022-08-31\",\"2022-09-01\",\"2022-09-02\",\"2022-09-03\",\"2022-09-04\",\"2022-09-05\",\"2022-09-06\",\"2022-09-07\",\"2022-09-08\",\"2022-09-09\",\"2022-09-10\",\"2022-09-11\",\"2022-09-12\",\"2022-09-13\",\"2022-09-14\",\"2022-09-16\"],\"xaxis\":\"x\",\"y\":[2.6425167013536948,2.522185257779222,1.92052803990686,1.6798651527579145,1.92052803990686,2.2815223706302774,1.800196596332387,1.6798651527579145,3.091855641934764,2.43221466799901,3.3117359665800152,1.112932720127503,1.3328130447727544,-0.4262295523892558,-1.5256311756155114,-1.0858705263250097,-1.5256311756155114,-1.3057508509702598,-0.6461098770345062,-0.4262295523892558,0.6731720708370009,0.8930523954822513,1.112932720127503,-0.5120468639191789,-0.9323838417632814,-0.4069626194581536,-0.7222153528412302,-0.8272995973022559,0.5387955806910766,0.5387955806910766,0.9591325585351792,0.5387955806910766,0.5387955806910766,0.5387955806910766,-0.7222153528412302,-0.5120468639191789,-1.142552330685333,-1.247636575146358,-1.4578050640684097,-1.5628893085294349,1.318870822034497,0.7172136041621345,-0.606432275157063,-1.0877580494549528,-0.8470951623060078,-1.2080894930294253,-0.606432275157063,-1.3527208196073837,-0.1967941305361021,1.274385291918256,1.3794695363792815,1.7998065142233837,2.1150592476064607,2.1150592476064607,0.9591325585351792,-0.0917098860750769,0.8540483140741534,1.3794695363792815,1.6947222697623583,1.4845537808403069,1.274385291918256,1.064216802996205,0.4337113362300513,0.2235428473079998,-0.6171311083802047,-0.5120468639191789,-0.4069626194581536,-0.4069626194581536,-0.0917098860750769,-0.7222153528412302,0.1184586028469746,0.1184586028469746,-0.0917098860750769,0.2235428473079998,-0.5120468639191789,-0.5120468639191789,-1.247636575146358,-1.247636575146358,-0.9323838417632814,-1.3527208196073837,-1.142552330685333,-1.142552330685333,-0.6171311083802047,0.2235428473079998,0.8540483140741534,-0.606432275157063,-0.1251065008591728,-0.0047750572847004,-0.606432275157063,-0.1251065008591728,-0.4861008315825902,0.1155563862897722,0.1155563862897722,0.1155563862897722,0.1155563862897722,-0.1251065008591728,-0.1251065008591728,-0.8470951623060078,-1.0877580494549528,-1.328420936603898,-0.9674266058804804,-1.328420936603898,0.2358878298642443,0.5968821605876619,0.9578764913110792,1.318870822034497,2.040859483481332,2.7628481449281668,1.112932720127503,0.4532917461917493,0.4532917461917493,0.0135310969012473,0.2334114215464977,-0.6461098770345062,-0.2063492277440042,0.6731720708370009,0.8930523954822513,0.2334114215464977,-1.0858705263250097,0.2334114215464977,0.2334114215464977,-0.4262295523892558,0.0135310969012473,0.4532917461917493,0.6731720708370009,-1.0858705263250097,-0.4262295523892558,0.0135310969012473,-0.6461098770345062,-1.0858705263250097,1.5595337091834425,1.198539378460025,0.9578764913110792,0.8375450477366072,0.356219273438717,-0.2454379444336455,-0.606432275157063,-0.2454379444336455,0.2358878298642443,0.4765507170131898,0.5968821605876619,1.078207934885552,-0.8659902016797578,0.6731720708370009,0.6731720708370009,-0.4262295523892558,0.2334114215464977,0.8930523954822513,1.3328130447727544,0.2334114215464977,-0.6461098770345062,-0.6461098770345062,-0.4262295523892558,0.2334114215464977,0.0135310969012473,0.4532917461917493,0.2334114215464977,-0.4262295523892558,-0.2063492277440042,-0.4262295523892558,-1.0858705263250097,-1.0858705263250097,-0.8659902016797578,-0.2063492277440042,-0.8659902016797578,-1.7455115002607624,-1.0858705263250097,-0.8659902016797578,0.0135310969012473,-0.2063492277440042,1.078207934885552,1.318870822034497,1.4392022656089696,1.078207934885552,0.356219273438717,0.2358878298642443,0.5968821605876619,0.2358878298642443,-0.0047750572847004,0.5968821605876619,1.318870822034497,1.078207934885552,0.9578764913110792,1.318870822034497,1.198539378460025,0.5968821605876619,-0.0047750572847004,0.2358878298642443,0.2358878298642443,-0.4861008315825902,-0.8470951623060078,-0.7267637187315353,-0.8470951623060078,-1.0877580494549528,-1.569083823752843,-1.4487523801783704,-1.569083823752843,-1.689415267327315,-1.328420936603898,-1.328420936603898,-1.328420936603898,-0.606432275157063,-0.1251065008591728,-0.1251065008591728,-0.4861008315825902,-0.606432275157063,-0.606432275157063,-1.569083823752843,-0.606432275157063,-0.2454379444336455,0.356219273438717,0.4765507170131898,0.5968821605876619,0.8375450477366072,-0.1251065008591728,-0.3657693880081179,-0.9674266058804804,-1.2080894930294253,-1.328420936603898,-0.7267637187315353,-0.9674266058804804,-0.2454379444336455,-0.1251065008591728,-0.0047750572847004,-0.1251065008591728,-0.606432275157063,-0.8470951623060078,-0.7267637187315353,-0.4861008315825902,-0.7267637187315353,-0.3657693880081179,-0.0047750572847004,0.2358878298642443,-0.606432275157063,-0.9674266058804804,-0.7267637187315353,-0.8470951623060078,-1.2080894930294253,-0.9674266058804804,-0.7267637187315353,-0.4861008315825902,-0.3657693880081179,-0.0047750572847004,-0.2454379444336455,-0.606432275157063,-0.3657693880081179],\"yaxis\":\"y2\",\"type\":\"scatter\"}],                        {\"template\":{\"data\":{\"histogram2dcontour\":[{\"type\":\"histogram2dcontour\",\"colorbar\":{\"outlinewidth\":0,\"ticks\":\"\"},\"colorscale\":[[0.0,\"#0d0887\"],[0.1111111111111111,\"#46039f\"],[0.2222222222222222,\"#7201a8\"],[0.3333333333333333,\"#9c179e\"],[0.4444444444444444,\"#bd3786\"],[0.5555555555555556,\"#d8576b\"],[0.6666666666666666,\"#ed7953\"],[0.7777777777777778,\"#fb9f3a\"],[0.8888888888888888,\"#fdca26\"],[1.0,\"#f0f921\"]]}],\"choropleth\":[{\"type\":\"choropleth\",\"colorbar\":{\"outlinewidth\":0,\"ticks\":\"\"}}],\"histogram2d\":[{\"type\":\"histogram2d\",\"colorbar\":{\"outlinewidth\":0,\"ticks\":\"\"},\"colorscale\":[[0.0,\"#0d0887\"],[0.1111111111111111,\"#46039f\"],[0.2222222222222222,\"#7201a8\"],[0.3333333333333333,\"#9c179e\"],[0.4444444444444444,\"#bd3786\"],[0.5555555555555556,\"#d8576b\"],[0.6666666666666666,\"#ed7953\"],[0.7777777777777778,\"#fb9f3a\"],[0.8888888888888888,\"#fdca26\"],[1.0,\"#f0f921\"]]}],\"heatmap\":[{\"type\":\"heatmap\",\"colorbar\":{\"outlinewidth\":0,\"ticks\":\"\"},\"colorscale\":[[0.0,\"#0d0887\"],[0.1111111111111111,\"#46039f\"],[0.2222222222222222,\"#7201a8\"],[0.3333333333333333,\"#9c179e\"],[0.4444444444444444,\"#bd3786\"],[0.5555555555555556,\"#d8576b\"],[0.6666666666666666,\"#ed7953\"],[0.7777777777777778,\"#fb9f3a\"],[0.8888888888888888,\"#fdca26\"],[1.0,\"#f0f921\"]]}],\"heatmapgl\":[{\"type\":\"heatmapgl\",\"colorbar\":{\"outlinewidth\":0,\"ticks\":\"\"},\"colorscale\":[[0.0,\"#0d0887\"],[0.1111111111111111,\"#46039f\"],[0.2222222222222222,\"#7201a8\"],[0.3333333333333333,\"#9c179e\"],[0.4444444444444444,\"#bd3786\"],[0.5555555555555556,\"#d8576b\"],[0.6666666666666666,\"#ed7953\"],[0.7777777777777778,\"#fb9f3a\"],[0.8888888888888888,\"#fdca26\"],[1.0,\"#f0f921\"]]}],\"contourcarpet\":[{\"type\":\"contourcarpet\",\"colorbar\":{\"outlinewidth\":0,\"ticks\":\"\"}}],\"contour\":[{\"type\":\"contour\",\"colorbar\":{\"outlinewidth\":0,\"ticks\":\"\"},\"colorscale\":[[0.0,\"#0d0887\"],[0.1111111111111111,\"#46039f\"],[0.2222222222222222,\"#7201a8\"],[0.3333333333333333,\"#9c179e\"],[0.4444444444444444,\"#bd3786\"],[0.5555555555555556,\"#d8576b\"],[0.6666666666666666,\"#ed7953\"],[0.7777777777777778,\"#fb9f3a\"],[0.8888888888888888,\"#fdca26\"],[1.0,\"#f0f921\"]]}],\"surface\":[{\"type\":\"surface\",\"colorbar\":{\"outlinewidth\":0,\"ticks\":\"\"},\"colorscale\":[[0.0,\"#0d0887\"],[0.1111111111111111,\"#46039f\"],[0.2222222222222222,\"#7201a8\"],[0.3333333333333333,\"#9c179e\"],[0.4444444444444444,\"#bd3786\"],[0.5555555555555556,\"#d8576b\"],[0.6666666666666666,\"#ed7953\"],[0.7777777777777778,\"#fb9f3a\"],[0.8888888888888888,\"#fdca26\"],[1.0,\"#f0f921\"]]}],\"mesh3d\":[{\"type\":\"mesh3d\",\"colorbar\":{\"outlinewidth\":0,\"ticks\":\"\"}}],\"scatter\":[{\"fillpattern\":{\"fillmode\":\"overlay\",\"size\":10,\"solidity\":0.2},\"type\":\"scatter\"}],\"parcoords\":[{\"type\":\"parcoords\",\"line\":{\"colorbar\":{\"outlinewidth\":0,\"ticks\":\"\"}}}],\"scatterpolargl\":[{\"type\":\"scatterpolargl\",\"marker\":{\"colorbar\":{\"outlinewidth\":0,\"ticks\":\"\"}}}],\"bar\":[{\"error_x\":{\"color\":\"#2a3f5f\"},\"error_y\":{\"color\":\"#2a3f5f\"},\"marker\":{\"line\":{\"color\":\"#E5ECF6\",\"width\":0.5},\"pattern\":{\"fillmode\":\"overlay\",\"size\":10,\"solidity\":0.2}},\"type\":\"bar\"}],\"scattergeo\":[{\"type\":\"scattergeo\",\"marker\":{\"colorbar\":{\"outlinewidth\":0,\"ticks\":\"\"}}}],\"scatterpolar\":[{\"type\":\"scatterpolar\",\"marker\":{\"colorbar\":{\"outlinewidth\":0,\"ticks\":\"\"}}}],\"histogram\":[{\"marker\":{\"pattern\":{\"fillmode\":\"overlay\",\"size\":10,\"solidity\":0.2}},\"type\":\"histogram\"}],\"scattergl\":[{\"type\":\"scattergl\",\"marker\":{\"colorbar\":{\"outlinewidth\":0,\"ticks\":\"\"}}}],\"scatter3d\":[{\"type\":\"scatter3d\",\"line\":{\"colorbar\":{\"outlinewidth\":0,\"ticks\":\"\"}},\"marker\":{\"colorbar\":{\"outlinewidth\":0,\"ticks\":\"\"}}}],\"scattermapbox\":[{\"type\":\"scattermapbox\",\"marker\":{\"colorbar\":{\"outlinewidth\":0,\"ticks\":\"\"}}}],\"scatterternary\":[{\"type\":\"scatterternary\",\"marker\":{\"colorbar\":{\"outlinewidth\":0,\"ticks\":\"\"}}}],\"scattercarpet\":[{\"type\":\"scattercarpet\",\"marker\":{\"colorbar\":{\"outlinewidth\":0,\"ticks\":\"\"}}}],\"carpet\":[{\"aaxis\":{\"endlinecolor\":\"#2a3f5f\",\"gridcolor\":\"white\",\"linecolor\":\"white\",\"minorgridcolor\":\"white\",\"startlinecolor\":\"#2a3f5f\"},\"baxis\":{\"endlinecolor\":\"#2a3f5f\",\"gridcolor\":\"white\",\"linecolor\":\"white\",\"minorgridcolor\":\"white\",\"startlinecolor\":\"#2a3f5f\"},\"type\":\"carpet\"}],\"table\":[{\"cells\":{\"fill\":{\"color\":\"#EBF0F8\"},\"line\":{\"color\":\"white\"}},\"header\":{\"fill\":{\"color\":\"#C8D4E3\"},\"line\":{\"color\":\"white\"}},\"type\":\"table\"}],\"barpolar\":[{\"marker\":{\"line\":{\"color\":\"#E5ECF6\",\"width\":0.5},\"pattern\":{\"fillmode\":\"overlay\",\"size\":10,\"solidity\":0.2}},\"type\":\"barpolar\"}],\"pie\":[{\"automargin\":true,\"type\":\"pie\"}]},\"layout\":{\"autotypenumbers\":\"strict\",\"colorway\":[\"#636efa\",\"#EF553B\",\"#00cc96\",\"#ab63fa\",\"#FFA15A\",\"#19d3f3\",\"#FF6692\",\"#B6E880\",\"#FF97FF\",\"#FECB52\"],\"font\":{\"color\":\"#2a3f5f\"},\"hovermode\":\"closest\",\"hoverlabel\":{\"align\":\"left\"},\"paper_bgcolor\":\"white\",\"plot_bgcolor\":\"#E5ECF6\",\"polar\":{\"bgcolor\":\"#E5ECF6\",\"angularaxis\":{\"gridcolor\":\"white\",\"linecolor\":\"white\",\"ticks\":\"\"},\"radialaxis\":{\"gridcolor\":\"white\",\"linecolor\":\"white\",\"ticks\":\"\"}},\"ternary\":{\"bgcolor\":\"#E5ECF6\",\"aaxis\":{\"gridcolor\":\"white\",\"linecolor\":\"white\",\"ticks\":\"\"},\"baxis\":{\"gridcolor\":\"white\",\"linecolor\":\"white\",\"ticks\":\"\"},\"caxis\":{\"gridcolor\":\"white\",\"linecolor\":\"white\",\"ticks\":\"\"}},\"coloraxis\":{\"colorbar\":{\"outlinewidth\":0,\"ticks\":\"\"}},\"colorscale\":{\"sequential\":[[0.0,\"#0d0887\"],[0.1111111111111111,\"#46039f\"],[0.2222222222222222,\"#7201a8\"],[0.3333333333333333,\"#9c179e\"],[0.4444444444444444,\"#bd3786\"],[0.5555555555555556,\"#d8576b\"],[0.6666666666666666,\"#ed7953\"],[0.7777777777777778,\"#fb9f3a\"],[0.8888888888888888,\"#fdca26\"],[1.0,\"#f0f921\"]],\"sequentialminus\":[[0.0,\"#0d0887\"],[0.1111111111111111,\"#46039f\"],[0.2222222222222222,\"#7201a8\"],[0.3333333333333333,\"#9c179e\"],[0.4444444444444444,\"#bd3786\"],[0.5555555555555556,\"#d8576b\"],[0.6666666666666666,\"#ed7953\"],[0.7777777777777778,\"#fb9f3a\"],[0.8888888888888888,\"#fdca26\"],[1.0,\"#f0f921\"]],\"diverging\":[[0,\"#8e0152\"],[0.1,\"#c51b7d\"],[0.2,\"#de77ae\"],[0.3,\"#f1b6da\"],[0.4,\"#fde0ef\"],[0.5,\"#f7f7f7\"],[0.6,\"#e6f5d0\"],[0.7,\"#b8e186\"],[0.8,\"#7fbc41\"],[0.9,\"#4d9221\"],[1,\"#276419\"]]},\"xaxis\":{\"gridcolor\":\"white\",\"linecolor\":\"white\",\"ticks\":\"\",\"title\":{\"standoff\":15},\"zerolinecolor\":\"white\",\"automargin\":true,\"zerolinewidth\":2},\"yaxis\":{\"gridcolor\":\"white\",\"linecolor\":\"white\",\"ticks\":\"\",\"title\":{\"standoff\":15},\"zerolinecolor\":\"white\",\"automargin\":true,\"zerolinewidth\":2},\"scene\":{\"xaxis\":{\"backgroundcolor\":\"#E5ECF6\",\"gridcolor\":\"white\",\"linecolor\":\"white\",\"showbackground\":true,\"ticks\":\"\",\"zerolinecolor\":\"white\",\"gridwidth\":2},\"yaxis\":{\"backgroundcolor\":\"#E5ECF6\",\"gridcolor\":\"white\",\"linecolor\":\"white\",\"showbackground\":true,\"ticks\":\"\",\"zerolinecolor\":\"white\",\"gridwidth\":2},\"zaxis\":{\"backgroundcolor\":\"#E5ECF6\",\"gridcolor\":\"white\",\"linecolor\":\"white\",\"showbackground\":true,\"ticks\":\"\",\"zerolinecolor\":\"white\",\"gridwidth\":2}},\"shapedefaults\":{\"line\":{\"color\":\"#2a3f5f\"}},\"annotationdefaults\":{\"arrowcolor\":\"#2a3f5f\",\"arrowhead\":0,\"arrowwidth\":1},\"geo\":{\"bgcolor\":\"white\",\"landcolor\":\"#E5ECF6\",\"subunitcolor\":\"white\",\"showland\":true,\"showlakes\":true,\"lakecolor\":\"white\"},\"title\":{\"x\":0.05},\"mapbox\":{\"style\":\"light\"}}},\"xaxis\":{\"anchor\":\"y\",\"domain\":[0.0,0.94]},\"yaxis\":{\"anchor\":\"x\",\"domain\":[0.0,1.0]},\"yaxis2\":{\"anchor\":\"x\",\"overlaying\":\"y\",\"side\":\"right\"}},                        {\"responsive\": true}                    ).then(function(){\n",
       "                            \n",
       "var gd = document.getElementById('87bd118d-c2b2-4d16-8f56-1f30d0cce88b');\n",
       "var x = new MutationObserver(function (mutations, observer) {{\n",
       "        var display = window.getComputedStyle(gd).display;\n",
       "        if (!display || display === 'none') {{\n",
       "            console.log([gd, 'removed!']);\n",
       "            Plotly.purge(gd);\n",
       "            observer.disconnect();\n",
       "        }}\n",
       "}});\n",
       "\n",
       "// Listen for the removal of the full notebook cells\n",
       "var notebookContainer = gd.closest('#notebook-container');\n",
       "if (notebookContainer) {{\n",
       "    x.observe(notebookContainer, {childList: true});\n",
       "}}\n",
       "\n",
       "// Listen for the clearing of the current output cell\n",
       "var outputEl = gd.closest('.output');\n",
       "if (outputEl) {{\n",
       "    x.observe(outputEl, {childList: true});\n",
       "}}\n",
       "\n",
       "                        })                };                });            </script>        </div>"
      ]
     },
     "metadata": {},
     "output_type": "display_data"
    },
    {
     "data": {
      "application/vnd.plotly.v1+json": {
       "config": {
        "plotlyServerURL": "https://plot.ly"
       },
       "data": [
        {
         "hovertemplate": "date=%{x}<br>Mean=%{y}<extra></extra>",
         "legendgroup": "",
         "line": {
          "dash": "solid"
         },
         "marker": {
          "symbol": "circle"
         },
         "mode": "lines",
         "name": "",
         "orientation": "v",
         "showlegend": false,
         "type": "scatter",
         "x": [
          "2022-01-05",
          "2022-01-06",
          "2022-01-07",
          "2022-01-08",
          "2022-01-09",
          "2022-01-10",
          "2022-01-11",
          "2022-01-12",
          "2022-01-16",
          "2022-01-17",
          "2022-01-18",
          "2022-01-19",
          "2022-01-20",
          "2022-01-21",
          "2022-01-22",
          "2022-01-23",
          "2022-01-24",
          "2022-01-25",
          "2022-01-26",
          "2022-01-27",
          "2022-01-28",
          "2022-01-29",
          "2022-01-30",
          "2022-01-31",
          "2022-02-01",
          "2022-02-02",
          "2022-02-03",
          "2022-02-04",
          "2022-02-05",
          "2022-02-06",
          "2022-02-07",
          "2022-02-08",
          "2022-02-09",
          "2022-02-10",
          "2022-02-11",
          "2022-02-12",
          "2022-02-13",
          "2022-02-14",
          "2022-02-15",
          "2022-02-16",
          "2022-02-17",
          "2022-02-18",
          "2022-02-19",
          "2022-02-20",
          "2022-02-21",
          "2022-02-22",
          "2022-02-23",
          "2022-02-24",
          "2022-02-25",
          "2022-02-26",
          "2022-02-27",
          "2022-02-28",
          "2022-03-01",
          "2022-03-02",
          "2022-03-03",
          "2022-03-04",
          "2022-03-05",
          "2022-03-06",
          "2022-03-07",
          "2022-03-08",
          "2022-03-09",
          "2022-03-10",
          "2022-03-11",
          "2022-03-12",
          "2022-03-13",
          "2022-03-14",
          "2022-03-15",
          "2022-03-16",
          "2022-03-17",
          "2022-03-18",
          "2022-03-19",
          "2022-03-20",
          "2022-03-21",
          "2022-03-22",
          "2022-03-23",
          "2022-03-24",
          "2022-03-25",
          "2022-03-26",
          "2022-03-27",
          "2022-03-28",
          "2022-03-29",
          "2022-03-30",
          "2022-03-31",
          "2022-04-01",
          "2022-04-02",
          "2022-04-05",
          "2022-04-06",
          "2022-04-07",
          "2022-04-08",
          "2022-04-09",
          "2022-04-10",
          "2022-04-11",
          "2022-04-12",
          "2022-04-13",
          "2022-04-14",
          "2022-04-15",
          "2022-04-16",
          "2022-04-17",
          "2022-04-18",
          "2022-04-19",
          "2022-04-20",
          "2022-04-21",
          "2022-04-22",
          "2022-04-23",
          "2022-04-24",
          "2022-04-25",
          "2022-04-26",
          "2022-04-27",
          "2022-04-28",
          "2022-04-29",
          "2022-04-30",
          "2022-05-01",
          "2022-05-02",
          "2022-05-03",
          "2022-05-04",
          "2022-05-05",
          "2022-05-06",
          "2022-05-07",
          "2022-05-08",
          "2022-05-09",
          "2022-05-10",
          "2022-05-11",
          "2022-05-12",
          "2022-05-13",
          "2022-05-14",
          "2022-05-15",
          "2022-05-16",
          "2022-05-17",
          "2022-05-18",
          "2022-05-19",
          "2022-05-20",
          "2022-05-21",
          "2022-05-22",
          "2022-05-23",
          "2022-05-24",
          "2022-05-26",
          "2022-05-27",
          "2022-05-28",
          "2022-05-29",
          "2022-05-30",
          "2022-05-31",
          "2022-06-01",
          "2022-06-02",
          "2022-06-03",
          "2022-06-04",
          "2022-06-05",
          "2022-06-06",
          "2022-06-07",
          "2022-06-08",
          "2022-06-09",
          "2022-06-10",
          "2022-06-11",
          "2022-06-12",
          "2022-06-13",
          "2022-06-14",
          "2022-06-15",
          "2022-06-16",
          "2022-06-17",
          "2022-06-18",
          "2022-06-19",
          "2022-06-20",
          "2022-06-21",
          "2022-06-22",
          "2022-06-23",
          "2022-06-24",
          "2022-06-25",
          "2022-06-26",
          "2022-06-27",
          "2022-06-28",
          "2022-06-29",
          "2022-07-02",
          "2022-07-03",
          "2022-07-04",
          "2022-07-05",
          "2022-07-06",
          "2022-07-07",
          "2022-07-08",
          "2022-07-09",
          "2022-07-10",
          "2022-07-11",
          "2022-07-12",
          "2022-07-13",
          "2022-07-14",
          "2022-07-15",
          "2022-07-16",
          "2022-07-17",
          "2022-07-18",
          "2022-07-19",
          "2022-07-20",
          "2022-07-21",
          "2022-07-22",
          "2022-07-23",
          "2022-07-24",
          "2022-07-25",
          "2022-07-26",
          "2022-07-27",
          "2022-07-28",
          "2022-07-29",
          "2022-07-30",
          "2022-07-31",
          "2022-08-01",
          "2022-08-02",
          "2022-08-03",
          "2022-08-04",
          "2022-08-05",
          "2022-08-06",
          "2022-08-07",
          "2022-08-08",
          "2022-08-09",
          "2022-08-10",
          "2022-08-11",
          "2022-08-12",
          "2022-08-13",
          "2022-08-14",
          "2022-08-15",
          "2022-08-16",
          "2022-08-17",
          "2022-08-18",
          "2022-08-19",
          "2022-08-20",
          "2022-08-21",
          "2022-08-22",
          "2022-08-23",
          "2022-08-24",
          "2022-08-25",
          "2022-08-26",
          "2022-08-27",
          "2022-08-28",
          "2022-08-29",
          "2022-08-30",
          "2022-08-31",
          "2022-09-01",
          "2022-09-02",
          "2022-09-03",
          "2022-09-04",
          "2022-09-05",
          "2022-09-06",
          "2022-09-07",
          "2022-09-08",
          "2022-09-09",
          "2022-09-10",
          "2022-09-11",
          "2022-09-12",
          "2022-09-13",
          "2022-09-14",
          "2022-09-16"
         ],
         "xaxis": "x",
         "y": [
          16300560.396325707,
          17658648.89806571,
          17347162.93101469,
          16975064.4272259,
          16797785.791917797,
          16806788.914961446,
          16811833.251713973,
          16734018.396816732,
          17112088.201657716,
          17011946.553369317,
          16970497.972453773,
          16652439.489730489,
          14965479.43222849,
          13323793.673679637,
          12873959.016227724,
          11303651.720090585,
          11007467.34700925,
          10871655.621807251,
          12159820.822644686,
          13505607.403390111,
          13681356.340413606,
          14936296.611906191,
          14923038.910625257,
          12589322.572192566,
          12568194.290519638,
          12656150.217581045,
          12895523.888825014,
          13174352.579157157,
          14758873.283617333,
          14966112.54168266,
          13981120.739769287,
          14329206.281212503,
          12998453.810260974,
          13035101.46742987,
          12935524.996210158,
          14282421.110996926,
          14269045.839103565,
          14234745.430921003,
          13983623.878515448,
          12451147.474175066,
          15269480.34958822,
          15144035.258112026,
          13602820.084048048,
          11961488.017577806,
          11692883.442188185,
          10520623.18598848,
          10597508.98837556,
          12302652.732426368,
          12055658.914270565,
          13312310.455994308,
          13302684.301300997,
          15072063.977543931,
          16640913.820278505,
          16726833.162031168,
          15359834.212318948,
          14337334.69371573,
          13968809.536106026,
          13561663.795575554,
          13355494.93965335,
          11993273.990426429,
          12099160.81741657,
          12943501.406253258,
          12695278.590656549,
          12590908.615391329,
          12418870.720681133,
          12292307.862216016,
          13682690.17967298,
          12526529.102193069,
          12882839.583889768,
          11436021.607194657,
          11324391.68407502,
          12674892.310120234,
          11270116.114267657,
          12775937.96738934,
          11589932.293703048,
          13442791.025573203,
          13942925.906535745,
          12722266.4979224,
          14600266.085370503,
          14866187.212059,
          14936133.6515846,
          13608250.734281491,
          12280254.842698582,
          14027934.698614923,
          13825044.782824928,
          9370691.80449831,
          9533048.390190354,
          9701736.487279251,
          8516841.090446098,
          9443838.824822633,
          9364852.622400708,
          10675149.238137288,
          11864137.72101284,
          11742429.723710775,
          12885260.082449311,
          11467406.715709897,
          12690455.363681272,
          11144443.841934573,
          9815462.194832023,
          9820668.402080366,
          9694690.695536984,
          9815317.107529247,
          9585090.849358326,
          9490934.549195984,
          10580321.827864258,
          10357739.355840078,
          9904135.934160378,
          9669618.420316638,
          13644156.129957588,
          13356814.415303038,
          11853810.286388464,
          11775592.976694366,
          11590485.543108916,
          11612288.84540094,
          12868801.298505137,
          13053035.151801929,
          14110520.33822723,
          13778267.472966751,
          12530386.508751629,
          12021290.84041947,
          11497172.066507123,
          11118384.805893648,
          10012741.049433025,
          8903535.797767593,
          9879758.226772675,
          8878044.28833642,
          8912295.660614314,
          8893381.490528656,
          8745347.529548453,
          9631829.455022588,
          9253797.523018852,
          10113809.633346066,
          8627578.21810162,
          8436459.608976576,
          8431611.204082683,
          9263388.742297878,
          9200360.676142124,
          8049840.762693316,
          7924927.841125282,
          7868657.633253898,
          7230972.840943344,
          6065311.089454257,
          9510080.885098493,
          10311356.508528523,
          10188843.301089196,
          9230875.838806592,
          10421951.542127308,
          9410805.585428568,
          9295633.88340653,
          8287272.486073527,
          7205341.804875426,
          7007599.814036851,
          6448621.827739158,
          6996861.265276186,
          6653012.160243738,
          7241345.740182835,
          7813596.111569532,
          7643831.547008324,
          7531588.959285109,
          7505410.359529986,
          7423733.098475824,
          6722836.719293342,
          6849695.54328337,
          6908397.18765669,
          6799747.286928598,
          5966884.493104179,
          5897396.60152033,
          6545954.712858573,
          6358798.550920685,
          6316020.342904109,
          5492587.888628663,
          6037932.844157421,
          6507796.793347505,
          6309120.805134576,
          5657328.519440842,
          6476220.235650866,
          6414659.974277817,
          6216635.331815537,
          6170705.76427205,
          6847120.495130398,
          7568256.8942576,
          6839261.199889245,
          6985216.111671757,
          7127510.381407448,
          7193205.759368735,
          6399743.077854154,
          5758539.531994228,
          6621291.371501154,
          6804726.057510258,
          6060577.235854323,
          5243187.541894077,
          5147318.963220172,
          5064263.508210289,
          4858667.85518512,
          3909371.044759281,
          4096096.090724261,
          4204594.980261365,
          4307863.510326613,
          5003951.526183036,
          4228045.443139293,
          4333588.643109683,
          5018962.503638574,
          5804053.423344479,
          5895996.5152875,
          5037398.072898928,
          5004869.981366244,
          4880399.674905674,
          3947814.281643769,
          3948862.58109716,
          4797672.732006527,
          4884605.922182759,
          5715605.453048547,
          6451408.939340082,
          7364789.98125288,
          7339247.45884328,
          6379593.836309846,
          6259926.059650292,
          6100968.986072023,
          5275627.779843024,
          5031561.367078741,
          4892291.1739766905,
          5546647.476200526,
          5516003.131957986,
          5482295.180712657,
          5456852.680862268,
          4775999.74259103,
          3957207.108413973,
          3931561.776743367,
          4698801.634696487,
          4061940.882940602,
          4708582.741603273,
          5294455.559226955,
          5380768.831610278,
          5275279.474289083,
          4521161.304549058,
          4425189.697850819,
          3752298.765401428,
          3150115.6873833905,
          3837971.635240448,
          3236858.334502481,
          3272351.204580219,
          3426944.4127864144,
          4117827.867354317,
          4050300.34362331,
          3335873.889345976,
          3912334.868152091
         ],
         "yaxis": "y"
        },
        {
         "hovertemplate": "date=%{x}<br>romance=%{y}<extra></extra>",
         "legendgroup": "",
         "line": {
          "dash": "solid"
         },
         "marker": {
          "symbol": "circle"
         },
         "mode": "lines",
         "name": "",
         "orientation": "v",
         "showlegend": false,
         "type": "scatter",
         "x": [
          "2022-01-05",
          "2022-01-06",
          "2022-01-07",
          "2022-01-08",
          "2022-01-09",
          "2022-01-10",
          "2022-01-11",
          "2022-01-12",
          "2022-01-16",
          "2022-01-17",
          "2022-01-18",
          "2022-01-19",
          "2022-01-20",
          "2022-01-21",
          "2022-01-22",
          "2022-01-23",
          "2022-01-24",
          "2022-01-25",
          "2022-01-26",
          "2022-01-27",
          "2022-01-28",
          "2022-01-29",
          "2022-01-30",
          "2022-01-31",
          "2022-02-01",
          "2022-02-02",
          "2022-02-03",
          "2022-02-04",
          "2022-02-05",
          "2022-02-06",
          "2022-02-07",
          "2022-02-08",
          "2022-02-09",
          "2022-02-10",
          "2022-02-11",
          "2022-02-12",
          "2022-02-13",
          "2022-02-14",
          "2022-02-15",
          "2022-02-16",
          "2022-02-17",
          "2022-02-18",
          "2022-02-19",
          "2022-02-20",
          "2022-02-21",
          "2022-02-22",
          "2022-02-23",
          "2022-02-24",
          "2022-02-25",
          "2022-02-26",
          "2022-02-27",
          "2022-02-28",
          "2022-03-01",
          "2022-03-02",
          "2022-03-03",
          "2022-03-04",
          "2022-03-05",
          "2022-03-06",
          "2022-03-07",
          "2022-03-08",
          "2022-03-09",
          "2022-03-10",
          "2022-03-11",
          "2022-03-12",
          "2022-03-13",
          "2022-03-14",
          "2022-03-15",
          "2022-03-16",
          "2022-03-17",
          "2022-03-18",
          "2022-03-19",
          "2022-03-20",
          "2022-03-21",
          "2022-03-22",
          "2022-03-23",
          "2022-03-24",
          "2022-03-25",
          "2022-03-26",
          "2022-03-27",
          "2022-03-28",
          "2022-03-29",
          "2022-03-30",
          "2022-03-31",
          "2022-04-01",
          "2022-04-02",
          "2022-04-05",
          "2022-04-06",
          "2022-04-07",
          "2022-04-08",
          "2022-04-09",
          "2022-04-10",
          "2022-04-11",
          "2022-04-12",
          "2022-04-13",
          "2022-04-14",
          "2022-04-15",
          "2022-04-16",
          "2022-04-17",
          "2022-04-18",
          "2022-04-19",
          "2022-04-20",
          "2022-04-21",
          "2022-04-22",
          "2022-04-23",
          "2022-04-24",
          "2022-04-25",
          "2022-04-26",
          "2022-04-27",
          "2022-04-28",
          "2022-04-29",
          "2022-04-30",
          "2022-05-01",
          "2022-05-02",
          "2022-05-03",
          "2022-05-04",
          "2022-05-05",
          "2022-05-06",
          "2022-05-07",
          "2022-05-08",
          "2022-05-09",
          "2022-05-10",
          "2022-05-11",
          "2022-05-12",
          "2022-05-13",
          "2022-05-14",
          "2022-05-15",
          "2022-05-16",
          "2022-05-17",
          "2022-05-18",
          "2022-05-19",
          "2022-05-20",
          "2022-05-21",
          "2022-05-22",
          "2022-05-23",
          "2022-05-24",
          "2022-05-26",
          "2022-05-27",
          "2022-05-28",
          "2022-05-29",
          "2022-05-30",
          "2022-05-31",
          "2022-06-01",
          "2022-06-02",
          "2022-06-03",
          "2022-06-04",
          "2022-06-05",
          "2022-06-06",
          "2022-06-07",
          "2022-06-08",
          "2022-06-09",
          "2022-06-10",
          "2022-06-11",
          "2022-06-12",
          "2022-06-13",
          "2022-06-14",
          "2022-06-15",
          "2022-06-16",
          "2022-06-17",
          "2022-06-18",
          "2022-06-19",
          "2022-06-20",
          "2022-06-21",
          "2022-06-22",
          "2022-06-23",
          "2022-06-24",
          "2022-06-25",
          "2022-06-26",
          "2022-06-27",
          "2022-06-28",
          "2022-06-29",
          "2022-07-02",
          "2022-07-03",
          "2022-07-04",
          "2022-07-05",
          "2022-07-06",
          "2022-07-07",
          "2022-07-08",
          "2022-07-09",
          "2022-07-10",
          "2022-07-11",
          "2022-07-12",
          "2022-07-13",
          "2022-07-14",
          "2022-07-15",
          "2022-07-16",
          "2022-07-17",
          "2022-07-18",
          "2022-07-19",
          "2022-07-20",
          "2022-07-21",
          "2022-07-22",
          "2022-07-23",
          "2022-07-24",
          "2022-07-25",
          "2022-07-26",
          "2022-07-27",
          "2022-07-28",
          "2022-07-29",
          "2022-07-30",
          "2022-07-31",
          "2022-08-01",
          "2022-08-02",
          "2022-08-03",
          "2022-08-04",
          "2022-08-05",
          "2022-08-06",
          "2022-08-07",
          "2022-08-08",
          "2022-08-09",
          "2022-08-10",
          "2022-08-11",
          "2022-08-12",
          "2022-08-13",
          "2022-08-14",
          "2022-08-15",
          "2022-08-16",
          "2022-08-17",
          "2022-08-18",
          "2022-08-19",
          "2022-08-20",
          "2022-08-21",
          "2022-08-22",
          "2022-08-23",
          "2022-08-24",
          "2022-08-25",
          "2022-08-26",
          "2022-08-27",
          "2022-08-28",
          "2022-08-29",
          "2022-08-30",
          "2022-08-31",
          "2022-09-01",
          "2022-09-02",
          "2022-09-03",
          "2022-09-04",
          "2022-09-05",
          "2022-09-06",
          "2022-09-07",
          "2022-09-08",
          "2022-09-09",
          "2022-09-10",
          "2022-09-11",
          "2022-09-12",
          "2022-09-13",
          "2022-09-14",
          "2022-09-16"
         ],
         "xaxis": "x",
         "y": [
          0.4922460432950941,
          0.9787009566690692,
          0.9787009566690692,
          0.7354734999820812,
          0.4922460432950941,
          0.0057911299211193,
          0.2490185866081065,
          0.0057911299211193,
          0.1686187227840119,
          1.3024342725385856,
          1.680372789123444,
          0.924495755953728,
          -0.5872583103857036,
          0.5465572393688705,
          0.5465572393688705,
          -0.5872583103857036,
          -1.7210738601402773,
          0.1686187227840119,
          -0.2093197938008456,
          -0.5872583103857036,
          0.924495755953728,
          1.3024342725385856,
          2.436249822293159,
          1.7430248909867343,
          2.313658039821677,
          1.4577083165692633,
          0.8870751677343204,
          0.3164420188993775,
          1.172391742151791,
          0.6017585933168493,
          0.6017585933168493,
          0.6017585933168493,
          -0.2541911299355648,
          -1.1101408531879786,
          -1.3954574276054497,
          -0.5395077043530359,
          -0.5395077043530359,
          -0.2541911299355648,
          0.6017585933168493,
          0.6017585933168493,
          0.0057911299211193,
          0.7354734999820812,
          0.4922460432950941,
          0.4922460432950941,
          0.2490185866081065,
          0.2490185866081065,
          0.2490185866081065,
          0.0311254444819065,
          -0.8248242787705073,
          -0.8248242787705073,
          -1.3954574276054497,
          -1.966090576440392,
          -1.1101408531879786,
          -0.5395077043530359,
          0.6017585933168493,
          0.0311254444819065,
          0.0311254444819065,
          0.3164420188993775,
          -0.5395077043530359,
          -1.1101408531879786,
          -1.966090576440392,
          -1.3954574276054497,
          -0.5395077043530359,
          0.3164420188993775,
          0.8870751677343204,
          1.4577083165692633,
          1.4577083165692633,
          0.8870751677343204,
          1.7430248909867343,
          0.3164420188993775,
          -0.5395077043530359,
          -1.1101408531879786,
          -0.8248242787705073,
          0.0311254444819065,
          -1.6807740020229212,
          -1.1101408531879786,
          -0.5395077043530359,
          -0.2541911299355648,
          0.8870751677343204,
          0.6017585933168493,
          0.6017585933168493,
          0.8870751677343204,
          0.3164420188993775,
          0.6017585933168493,
          -0.5395077043530359,
          -0.7238912401398429,
          -0.4806637834528556,
          -0.7238912401398429,
          -1.2103461535138176,
          -1.2103461535138176,
          -1.6968010668877926,
          -0.9671186968268304,
          -0.9671186968268304,
          -0.7238912401398429,
          0.0057911299211193,
          -0.2374363267658681,
          0.0057911299211193,
          -0.7238912401398429,
          -0.9671186968268304,
          -0.9671186968268304,
          -1.6968010668877926,
          -1.4535736102008052,
          -0.9671186968268304,
          0.0057911299211193,
          0.4922460432950941,
          0.9787009566690692,
          1.2219284133560562,
          1.2219284133560562,
          0.5465572393688705,
          1.680372789123444,
          0.924495755953728,
          0.5465572393688705,
          0.924495755953728,
          0.1686187227840119,
          1.3024342725385856,
          0.924495755953728,
          1.680372789123444,
          0.924495755953728,
          0.1686187227840119,
          0.1686187227840119,
          -0.5872583103857036,
          -0.2093197938008456,
          -1.3431353435554192,
          -1.3431353435554192,
          -0.2093197938008456,
          0.1686187227840119,
          0.1686187227840119,
          0.1686187227840119,
          0.5465572393688705,
          -0.2093197938008456,
          0.9787009566690692,
          1.2219284133560562,
          0.7354734999820812,
          0.9787009566690692,
          2.194838240104006,
          2.4380656967909937,
          2.4380656967909937,
          1.2219284133560562,
          1.9516107834170184,
          1.7083833267300312,
          0.4922460432950941,
          -0.2374363267658681,
          -1.3431353435554192,
          -1.7210738601402773,
          -0.9651968269705612,
          -0.9651968269705612,
          -1.3431353435554192,
          -0.9651968269705612,
          0.924495755953728,
          0.5465572393688705,
          0.1686187227840119,
          -0.5872583103857036,
          0.1686187227840119,
          1.680372789123444,
          -0.2093197938008456,
          0.1686187227840119,
          -0.5872583103857036,
          -0.5872583103857036,
          -0.9651968269705612,
          -2.0990123767251347,
          -2.4769508933099926,
          -1.3431353435554192,
          -0.5872583103857036,
          -0.5872583103857036,
          -0.2093197938008456,
          -0.2093197938008456,
          0.1686187227840119,
          -0.5872583103857036,
          0.5465572393688705,
          0.5465572393688705,
          -0.4806637834528556,
          -0.2374363267658681,
          -0.2374363267658681,
          -0.4806637834528556,
          -0.7238912401398429,
          0.0057911299211193,
          0.2490185866081065,
          0.2490185866081065,
          0.2490185866081065,
          0.7354734999820812,
          1.7083833267300312,
          0.9787009566690692,
          1.9516107834170184,
          2.194838240104006,
          1.9516107834170184,
          0.9787009566690692,
          0.4922460432950941,
          1.7083833267300312,
          0.7354734999820812,
          0.2490185866081065,
          -0.2374363267658681,
          0.0057911299211193,
          -0.4806637834528556,
          -1.4535736102008052,
          -1.4535736102008052,
          -1.2103461535138176,
          -0.9671186968268304,
          -1.2103461535138176,
          -0.7238912401398429,
          -0.4806637834528556,
          -0.7238912401398429,
          -0.4806637834528556,
          -0.7238912401398429,
          -0.4806637834528556,
          -0.7238912401398429,
          -0.7238912401398429,
          -0.9671186968268304,
          -1.2103461535138176,
          -0.7238912401398429,
          -0.7238912401398429,
          -0.7238912401398429,
          -1.2103461535138176,
          -0.7238912401398429,
          -0.7238912401398429,
          -0.4806637834528556,
          -0.4806637834528556,
          -0.7238912401398429,
          0.4922460432950941,
          0.0057911299211193,
          0.2490185866081065,
          -0.2374363267658681,
          0.2490185866081065,
          0.7354734999820812,
          1.4651558700430434,
          1.4651558700430434,
          1.7083833267300312,
          1.9516107834170184,
          1.4651558700430434,
          1.2219284133560562,
          -0.7238912401398429,
          -0.4806637834528556,
          -1.2103461535138176,
          -1.2103461535138176,
          -0.7238912401398429,
          -0.9671186968268304,
          -0.4806637834528556,
          -0.4806637834528556,
          0.0057911299211193,
          -0.4806637834528556,
          -0.9671186968268304,
          -0.9671186968268304,
          -1.2103461535138176,
          -0.7238912401398429,
          -1.2103461535138176,
          -0.7238912401398429,
          -0.4806637834528556
         ],
         "yaxis": "y2"
        }
       ],
       "layout": {
        "template": {
         "data": {
          "bar": [
           {
            "error_x": {
             "color": "#2a3f5f"
            },
            "error_y": {
             "color": "#2a3f5f"
            },
            "marker": {
             "line": {
              "color": "#E5ECF6",
              "width": 0.5
             },
             "pattern": {
              "fillmode": "overlay",
              "size": 10,
              "solidity": 0.2
             }
            },
            "type": "bar"
           }
          ],
          "barpolar": [
           {
            "marker": {
             "line": {
              "color": "#E5ECF6",
              "width": 0.5
             },
             "pattern": {
              "fillmode": "overlay",
              "size": 10,
              "solidity": 0.2
             }
            },
            "type": "barpolar"
           }
          ],
          "carpet": [
           {
            "aaxis": {
             "endlinecolor": "#2a3f5f",
             "gridcolor": "white",
             "linecolor": "white",
             "minorgridcolor": "white",
             "startlinecolor": "#2a3f5f"
            },
            "baxis": {
             "endlinecolor": "#2a3f5f",
             "gridcolor": "white",
             "linecolor": "white",
             "minorgridcolor": "white",
             "startlinecolor": "#2a3f5f"
            },
            "type": "carpet"
           }
          ],
          "choropleth": [
           {
            "colorbar": {
             "outlinewidth": 0,
             "ticks": ""
            },
            "type": "choropleth"
           }
          ],
          "contour": [
           {
            "colorbar": {
             "outlinewidth": 0,
             "ticks": ""
            },
            "colorscale": [
             [
              0,
              "#0d0887"
             ],
             [
              0.1111111111111111,
              "#46039f"
             ],
             [
              0.2222222222222222,
              "#7201a8"
             ],
             [
              0.3333333333333333,
              "#9c179e"
             ],
             [
              0.4444444444444444,
              "#bd3786"
             ],
             [
              0.5555555555555556,
              "#d8576b"
             ],
             [
              0.6666666666666666,
              "#ed7953"
             ],
             [
              0.7777777777777778,
              "#fb9f3a"
             ],
             [
              0.8888888888888888,
              "#fdca26"
             ],
             [
              1,
              "#f0f921"
             ]
            ],
            "type": "contour"
           }
          ],
          "contourcarpet": [
           {
            "colorbar": {
             "outlinewidth": 0,
             "ticks": ""
            },
            "type": "contourcarpet"
           }
          ],
          "heatmap": [
           {
            "colorbar": {
             "outlinewidth": 0,
             "ticks": ""
            },
            "colorscale": [
             [
              0,
              "#0d0887"
             ],
             [
              0.1111111111111111,
              "#46039f"
             ],
             [
              0.2222222222222222,
              "#7201a8"
             ],
             [
              0.3333333333333333,
              "#9c179e"
             ],
             [
              0.4444444444444444,
              "#bd3786"
             ],
             [
              0.5555555555555556,
              "#d8576b"
             ],
             [
              0.6666666666666666,
              "#ed7953"
             ],
             [
              0.7777777777777778,
              "#fb9f3a"
             ],
             [
              0.8888888888888888,
              "#fdca26"
             ],
             [
              1,
              "#f0f921"
             ]
            ],
            "type": "heatmap"
           }
          ],
          "heatmapgl": [
           {
            "colorbar": {
             "outlinewidth": 0,
             "ticks": ""
            },
            "colorscale": [
             [
              0,
              "#0d0887"
             ],
             [
              0.1111111111111111,
              "#46039f"
             ],
             [
              0.2222222222222222,
              "#7201a8"
             ],
             [
              0.3333333333333333,
              "#9c179e"
             ],
             [
              0.4444444444444444,
              "#bd3786"
             ],
             [
              0.5555555555555556,
              "#d8576b"
             ],
             [
              0.6666666666666666,
              "#ed7953"
             ],
             [
              0.7777777777777778,
              "#fb9f3a"
             ],
             [
              0.8888888888888888,
              "#fdca26"
             ],
             [
              1,
              "#f0f921"
             ]
            ],
            "type": "heatmapgl"
           }
          ],
          "histogram": [
           {
            "marker": {
             "pattern": {
              "fillmode": "overlay",
              "size": 10,
              "solidity": 0.2
             }
            },
            "type": "histogram"
           }
          ],
          "histogram2d": [
           {
            "colorbar": {
             "outlinewidth": 0,
             "ticks": ""
            },
            "colorscale": [
             [
              0,
              "#0d0887"
             ],
             [
              0.1111111111111111,
              "#46039f"
             ],
             [
              0.2222222222222222,
              "#7201a8"
             ],
             [
              0.3333333333333333,
              "#9c179e"
             ],
             [
              0.4444444444444444,
              "#bd3786"
             ],
             [
              0.5555555555555556,
              "#d8576b"
             ],
             [
              0.6666666666666666,
              "#ed7953"
             ],
             [
              0.7777777777777778,
              "#fb9f3a"
             ],
             [
              0.8888888888888888,
              "#fdca26"
             ],
             [
              1,
              "#f0f921"
             ]
            ],
            "type": "histogram2d"
           }
          ],
          "histogram2dcontour": [
           {
            "colorbar": {
             "outlinewidth": 0,
             "ticks": ""
            },
            "colorscale": [
             [
              0,
              "#0d0887"
             ],
             [
              0.1111111111111111,
              "#46039f"
             ],
             [
              0.2222222222222222,
              "#7201a8"
             ],
             [
              0.3333333333333333,
              "#9c179e"
             ],
             [
              0.4444444444444444,
              "#bd3786"
             ],
             [
              0.5555555555555556,
              "#d8576b"
             ],
             [
              0.6666666666666666,
              "#ed7953"
             ],
             [
              0.7777777777777778,
              "#fb9f3a"
             ],
             [
              0.8888888888888888,
              "#fdca26"
             ],
             [
              1,
              "#f0f921"
             ]
            ],
            "type": "histogram2dcontour"
           }
          ],
          "mesh3d": [
           {
            "colorbar": {
             "outlinewidth": 0,
             "ticks": ""
            },
            "type": "mesh3d"
           }
          ],
          "parcoords": [
           {
            "line": {
             "colorbar": {
              "outlinewidth": 0,
              "ticks": ""
             }
            },
            "type": "parcoords"
           }
          ],
          "pie": [
           {
            "automargin": true,
            "type": "pie"
           }
          ],
          "scatter": [
           {
            "fillpattern": {
             "fillmode": "overlay",
             "size": 10,
             "solidity": 0.2
            },
            "type": "scatter"
           }
          ],
          "scatter3d": [
           {
            "line": {
             "colorbar": {
              "outlinewidth": 0,
              "ticks": ""
             }
            },
            "marker": {
             "colorbar": {
              "outlinewidth": 0,
              "ticks": ""
             }
            },
            "type": "scatter3d"
           }
          ],
          "scattercarpet": [
           {
            "marker": {
             "colorbar": {
              "outlinewidth": 0,
              "ticks": ""
             }
            },
            "type": "scattercarpet"
           }
          ],
          "scattergeo": [
           {
            "marker": {
             "colorbar": {
              "outlinewidth": 0,
              "ticks": ""
             }
            },
            "type": "scattergeo"
           }
          ],
          "scattergl": [
           {
            "marker": {
             "colorbar": {
              "outlinewidth": 0,
              "ticks": ""
             }
            },
            "type": "scattergl"
           }
          ],
          "scattermapbox": [
           {
            "marker": {
             "colorbar": {
              "outlinewidth": 0,
              "ticks": ""
             }
            },
            "type": "scattermapbox"
           }
          ],
          "scatterpolar": [
           {
            "marker": {
             "colorbar": {
              "outlinewidth": 0,
              "ticks": ""
             }
            },
            "type": "scatterpolar"
           }
          ],
          "scatterpolargl": [
           {
            "marker": {
             "colorbar": {
              "outlinewidth": 0,
              "ticks": ""
             }
            },
            "type": "scatterpolargl"
           }
          ],
          "scatterternary": [
           {
            "marker": {
             "colorbar": {
              "outlinewidth": 0,
              "ticks": ""
             }
            },
            "type": "scatterternary"
           }
          ],
          "surface": [
           {
            "colorbar": {
             "outlinewidth": 0,
             "ticks": ""
            },
            "colorscale": [
             [
              0,
              "#0d0887"
             ],
             [
              0.1111111111111111,
              "#46039f"
             ],
             [
              0.2222222222222222,
              "#7201a8"
             ],
             [
              0.3333333333333333,
              "#9c179e"
             ],
             [
              0.4444444444444444,
              "#bd3786"
             ],
             [
              0.5555555555555556,
              "#d8576b"
             ],
             [
              0.6666666666666666,
              "#ed7953"
             ],
             [
              0.7777777777777778,
              "#fb9f3a"
             ],
             [
              0.8888888888888888,
              "#fdca26"
             ],
             [
              1,
              "#f0f921"
             ]
            ],
            "type": "surface"
           }
          ],
          "table": [
           {
            "cells": {
             "fill": {
              "color": "#EBF0F8"
             },
             "line": {
              "color": "white"
             }
            },
            "header": {
             "fill": {
              "color": "#C8D4E3"
             },
             "line": {
              "color": "white"
             }
            },
            "type": "table"
           }
          ]
         },
         "layout": {
          "annotationdefaults": {
           "arrowcolor": "#2a3f5f",
           "arrowhead": 0,
           "arrowwidth": 1
          },
          "autotypenumbers": "strict",
          "coloraxis": {
           "colorbar": {
            "outlinewidth": 0,
            "ticks": ""
           }
          },
          "colorscale": {
           "diverging": [
            [
             0,
             "#8e0152"
            ],
            [
             0.1,
             "#c51b7d"
            ],
            [
             0.2,
             "#de77ae"
            ],
            [
             0.3,
             "#f1b6da"
            ],
            [
             0.4,
             "#fde0ef"
            ],
            [
             0.5,
             "#f7f7f7"
            ],
            [
             0.6,
             "#e6f5d0"
            ],
            [
             0.7,
             "#b8e186"
            ],
            [
             0.8,
             "#7fbc41"
            ],
            [
             0.9,
             "#4d9221"
            ],
            [
             1,
             "#276419"
            ]
           ],
           "sequential": [
            [
             0,
             "#0d0887"
            ],
            [
             0.1111111111111111,
             "#46039f"
            ],
            [
             0.2222222222222222,
             "#7201a8"
            ],
            [
             0.3333333333333333,
             "#9c179e"
            ],
            [
             0.4444444444444444,
             "#bd3786"
            ],
            [
             0.5555555555555556,
             "#d8576b"
            ],
            [
             0.6666666666666666,
             "#ed7953"
            ],
            [
             0.7777777777777778,
             "#fb9f3a"
            ],
            [
             0.8888888888888888,
             "#fdca26"
            ],
            [
             1,
             "#f0f921"
            ]
           ],
           "sequentialminus": [
            [
             0,
             "#0d0887"
            ],
            [
             0.1111111111111111,
             "#46039f"
            ],
            [
             0.2222222222222222,
             "#7201a8"
            ],
            [
             0.3333333333333333,
             "#9c179e"
            ],
            [
             0.4444444444444444,
             "#bd3786"
            ],
            [
             0.5555555555555556,
             "#d8576b"
            ],
            [
             0.6666666666666666,
             "#ed7953"
            ],
            [
             0.7777777777777778,
             "#fb9f3a"
            ],
            [
             0.8888888888888888,
             "#fdca26"
            ],
            [
             1,
             "#f0f921"
            ]
           ]
          },
          "colorway": [
           "#636efa",
           "#EF553B",
           "#00cc96",
           "#ab63fa",
           "#FFA15A",
           "#19d3f3",
           "#FF6692",
           "#B6E880",
           "#FF97FF",
           "#FECB52"
          ],
          "font": {
           "color": "#2a3f5f"
          },
          "geo": {
           "bgcolor": "white",
           "lakecolor": "white",
           "landcolor": "#E5ECF6",
           "showlakes": true,
           "showland": true,
           "subunitcolor": "white"
          },
          "hoverlabel": {
           "align": "left"
          },
          "hovermode": "closest",
          "mapbox": {
           "style": "light"
          },
          "paper_bgcolor": "white",
          "plot_bgcolor": "#E5ECF6",
          "polar": {
           "angularaxis": {
            "gridcolor": "white",
            "linecolor": "white",
            "ticks": ""
           },
           "bgcolor": "#E5ECF6",
           "radialaxis": {
            "gridcolor": "white",
            "linecolor": "white",
            "ticks": ""
           }
          },
          "scene": {
           "xaxis": {
            "backgroundcolor": "#E5ECF6",
            "gridcolor": "white",
            "gridwidth": 2,
            "linecolor": "white",
            "showbackground": true,
            "ticks": "",
            "zerolinecolor": "white"
           },
           "yaxis": {
            "backgroundcolor": "#E5ECF6",
            "gridcolor": "white",
            "gridwidth": 2,
            "linecolor": "white",
            "showbackground": true,
            "ticks": "",
            "zerolinecolor": "white"
           },
           "zaxis": {
            "backgroundcolor": "#E5ECF6",
            "gridcolor": "white",
            "gridwidth": 2,
            "linecolor": "white",
            "showbackground": true,
            "ticks": "",
            "zerolinecolor": "white"
           }
          },
          "shapedefaults": {
           "line": {
            "color": "#2a3f5f"
           }
          },
          "ternary": {
           "aaxis": {
            "gridcolor": "white",
            "linecolor": "white",
            "ticks": ""
           },
           "baxis": {
            "gridcolor": "white",
            "linecolor": "white",
            "ticks": ""
           },
           "bgcolor": "#E5ECF6",
           "caxis": {
            "gridcolor": "white",
            "linecolor": "white",
            "ticks": ""
           }
          },
          "title": {
           "x": 0.05
          },
          "xaxis": {
           "automargin": true,
           "gridcolor": "white",
           "linecolor": "white",
           "ticks": "",
           "title": {
            "standoff": 15
           },
           "zerolinecolor": "white",
           "zerolinewidth": 2
          },
          "yaxis": {
           "automargin": true,
           "gridcolor": "white",
           "linecolor": "white",
           "ticks": "",
           "title": {
            "standoff": 15
           },
           "zerolinecolor": "white",
           "zerolinewidth": 2
          }
         }
        },
        "xaxis": {
         "anchor": "y",
         "domain": [
          0,
          0.94
         ]
        },
        "yaxis": {
         "anchor": "x",
         "domain": [
          0,
          1
         ]
        },
        "yaxis2": {
         "anchor": "x",
         "overlaying": "y",
         "side": "right"
        }
       }
      },
      "text/html": [
       "<div>                            <div id=\"bfb85705-0b9d-496b-8868-6e36f2916b64\" class=\"plotly-graph-div\" style=\"height:525px; width:100%;\"></div>            <script type=\"text/javascript\">                require([\"plotly\"], function(Plotly) {                    window.PLOTLYENV=window.PLOTLYENV || {};                                    if (document.getElementById(\"bfb85705-0b9d-496b-8868-6e36f2916b64\")) {                    Plotly.newPlot(                        \"bfb85705-0b9d-496b-8868-6e36f2916b64\",                        [{\"hovertemplate\":\"date=%{x}<br>Mean=%{y}<extra></extra>\",\"legendgroup\":\"\",\"line\":{\"dash\":\"solid\"},\"marker\":{\"symbol\":\"circle\"},\"mode\":\"lines\",\"name\":\"\",\"orientation\":\"v\",\"showlegend\":false,\"x\":[\"2022-01-05\",\"2022-01-06\",\"2022-01-07\",\"2022-01-08\",\"2022-01-09\",\"2022-01-10\",\"2022-01-11\",\"2022-01-12\",\"2022-01-16\",\"2022-01-17\",\"2022-01-18\",\"2022-01-19\",\"2022-01-20\",\"2022-01-21\",\"2022-01-22\",\"2022-01-23\",\"2022-01-24\",\"2022-01-25\",\"2022-01-26\",\"2022-01-27\",\"2022-01-28\",\"2022-01-29\",\"2022-01-30\",\"2022-01-31\",\"2022-02-01\",\"2022-02-02\",\"2022-02-03\",\"2022-02-04\",\"2022-02-05\",\"2022-02-06\",\"2022-02-07\",\"2022-02-08\",\"2022-02-09\",\"2022-02-10\",\"2022-02-11\",\"2022-02-12\",\"2022-02-13\",\"2022-02-14\",\"2022-02-15\",\"2022-02-16\",\"2022-02-17\",\"2022-02-18\",\"2022-02-19\",\"2022-02-20\",\"2022-02-21\",\"2022-02-22\",\"2022-02-23\",\"2022-02-24\",\"2022-02-25\",\"2022-02-26\",\"2022-02-27\",\"2022-02-28\",\"2022-03-01\",\"2022-03-02\",\"2022-03-03\",\"2022-03-04\",\"2022-03-05\",\"2022-03-06\",\"2022-03-07\",\"2022-03-08\",\"2022-03-09\",\"2022-03-10\",\"2022-03-11\",\"2022-03-12\",\"2022-03-13\",\"2022-03-14\",\"2022-03-15\",\"2022-03-16\",\"2022-03-17\",\"2022-03-18\",\"2022-03-19\",\"2022-03-20\",\"2022-03-21\",\"2022-03-22\",\"2022-03-23\",\"2022-03-24\",\"2022-03-25\",\"2022-03-26\",\"2022-03-27\",\"2022-03-28\",\"2022-03-29\",\"2022-03-30\",\"2022-03-31\",\"2022-04-01\",\"2022-04-02\",\"2022-04-05\",\"2022-04-06\",\"2022-04-07\",\"2022-04-08\",\"2022-04-09\",\"2022-04-10\",\"2022-04-11\",\"2022-04-12\",\"2022-04-13\",\"2022-04-14\",\"2022-04-15\",\"2022-04-16\",\"2022-04-17\",\"2022-04-18\",\"2022-04-19\",\"2022-04-20\",\"2022-04-21\",\"2022-04-22\",\"2022-04-23\",\"2022-04-24\",\"2022-04-25\",\"2022-04-26\",\"2022-04-27\",\"2022-04-28\",\"2022-04-29\",\"2022-04-30\",\"2022-05-01\",\"2022-05-02\",\"2022-05-03\",\"2022-05-04\",\"2022-05-05\",\"2022-05-06\",\"2022-05-07\",\"2022-05-08\",\"2022-05-09\",\"2022-05-10\",\"2022-05-11\",\"2022-05-12\",\"2022-05-13\",\"2022-05-14\",\"2022-05-15\",\"2022-05-16\",\"2022-05-17\",\"2022-05-18\",\"2022-05-19\",\"2022-05-20\",\"2022-05-21\",\"2022-05-22\",\"2022-05-23\",\"2022-05-24\",\"2022-05-26\",\"2022-05-27\",\"2022-05-28\",\"2022-05-29\",\"2022-05-30\",\"2022-05-31\",\"2022-06-01\",\"2022-06-02\",\"2022-06-03\",\"2022-06-04\",\"2022-06-05\",\"2022-06-06\",\"2022-06-07\",\"2022-06-08\",\"2022-06-09\",\"2022-06-10\",\"2022-06-11\",\"2022-06-12\",\"2022-06-13\",\"2022-06-14\",\"2022-06-15\",\"2022-06-16\",\"2022-06-17\",\"2022-06-18\",\"2022-06-19\",\"2022-06-20\",\"2022-06-21\",\"2022-06-22\",\"2022-06-23\",\"2022-06-24\",\"2022-06-25\",\"2022-06-26\",\"2022-06-27\",\"2022-06-28\",\"2022-06-29\",\"2022-07-02\",\"2022-07-03\",\"2022-07-04\",\"2022-07-05\",\"2022-07-06\",\"2022-07-07\",\"2022-07-08\",\"2022-07-09\",\"2022-07-10\",\"2022-07-11\",\"2022-07-12\",\"2022-07-13\",\"2022-07-14\",\"2022-07-15\",\"2022-07-16\",\"2022-07-17\",\"2022-07-18\",\"2022-07-19\",\"2022-07-20\",\"2022-07-21\",\"2022-07-22\",\"2022-07-23\",\"2022-07-24\",\"2022-07-25\",\"2022-07-26\",\"2022-07-27\",\"2022-07-28\",\"2022-07-29\",\"2022-07-30\",\"2022-07-31\",\"2022-08-01\",\"2022-08-02\",\"2022-08-03\",\"2022-08-04\",\"2022-08-05\",\"2022-08-06\",\"2022-08-07\",\"2022-08-08\",\"2022-08-09\",\"2022-08-10\",\"2022-08-11\",\"2022-08-12\",\"2022-08-13\",\"2022-08-14\",\"2022-08-15\",\"2022-08-16\",\"2022-08-17\",\"2022-08-18\",\"2022-08-19\",\"2022-08-20\",\"2022-08-21\",\"2022-08-22\",\"2022-08-23\",\"2022-08-24\",\"2022-08-25\",\"2022-08-26\",\"2022-08-27\",\"2022-08-28\",\"2022-08-29\",\"2022-08-30\",\"2022-08-31\",\"2022-09-01\",\"2022-09-02\",\"2022-09-03\",\"2022-09-04\",\"2022-09-05\",\"2022-09-06\",\"2022-09-07\",\"2022-09-08\",\"2022-09-09\",\"2022-09-10\",\"2022-09-11\",\"2022-09-12\",\"2022-09-13\",\"2022-09-14\",\"2022-09-16\"],\"xaxis\":\"x\",\"y\":[16300560.396325707,17658648.89806571,17347162.93101469,16975064.4272259,16797785.791917797,16806788.914961446,16811833.251713973,16734018.396816732,17112088.201657716,17011946.553369317,16970497.972453773,16652439.489730489,14965479.43222849,13323793.673679637,12873959.016227724,11303651.720090585,11007467.34700925,10871655.621807251,12159820.822644686,13505607.403390111,13681356.340413606,14936296.611906191,14923038.910625257,12589322.572192566,12568194.290519638,12656150.217581045,12895523.888825014,13174352.579157157,14758873.283617333,14966112.54168266,13981120.739769287,14329206.281212503,12998453.810260974,13035101.46742987,12935524.996210158,14282421.110996926,14269045.839103565,14234745.430921003,13983623.878515448,12451147.474175066,15269480.34958822,15144035.258112026,13602820.084048048,11961488.017577806,11692883.442188185,10520623.18598848,10597508.98837556,12302652.732426368,12055658.914270565,13312310.455994308,13302684.301300997,15072063.977543931,16640913.820278505,16726833.162031168,15359834.212318948,14337334.69371573,13968809.536106026,13561663.795575554,13355494.93965335,11993273.990426429,12099160.81741657,12943501.406253258,12695278.590656549,12590908.615391329,12418870.720681133,12292307.862216016,13682690.17967298,12526529.102193069,12882839.583889768,11436021.607194657,11324391.68407502,12674892.310120234,11270116.114267657,12775937.96738934,11589932.293703048,13442791.025573203,13942925.906535745,12722266.4979224,14600266.085370503,14866187.212059,14936133.6515846,13608250.734281491,12280254.842698582,14027934.698614923,13825044.782824928,9370691.80449831,9533048.390190354,9701736.487279251,8516841.090446098,9443838.824822633,9364852.622400708,10675149.238137288,11864137.72101284,11742429.723710775,12885260.082449311,11467406.715709897,12690455.363681272,11144443.841934573,9815462.194832023,9820668.402080366,9694690.695536984,9815317.107529247,9585090.849358326,9490934.549195984,10580321.827864258,10357739.355840078,9904135.934160378,9669618.420316638,13644156.129957588,13356814.415303038,11853810.286388464,11775592.976694366,11590485.543108916,11612288.84540094,12868801.298505137,13053035.151801929,14110520.33822723,13778267.472966751,12530386.508751629,12021290.84041947,11497172.066507123,11118384.805893648,10012741.049433025,8903535.797767593,9879758.226772675,8878044.28833642,8912295.660614314,8893381.490528656,8745347.529548453,9631829.455022588,9253797.523018852,10113809.633346066,8627578.21810162,8436459.608976576,8431611.204082683,9263388.742297878,9200360.676142124,8049840.762693316,7924927.841125282,7868657.633253898,7230972.840943344,6065311.089454257,9510080.885098493,10311356.508528523,10188843.301089196,9230875.838806592,10421951.542127308,9410805.585428568,9295633.88340653,8287272.486073527,7205341.804875426,7007599.814036851,6448621.827739158,6996861.265276186,6653012.160243738,7241345.740182835,7813596.111569532,7643831.547008324,7531588.959285109,7505410.359529986,7423733.098475824,6722836.719293342,6849695.54328337,6908397.18765669,6799747.286928598,5966884.493104179,5897396.60152033,6545954.712858573,6358798.550920685,6316020.342904109,5492587.888628663,6037932.844157421,6507796.793347505,6309120.805134576,5657328.519440842,6476220.235650866,6414659.974277817,6216635.331815537,6170705.76427205,6847120.495130398,7568256.8942576,6839261.199889245,6985216.111671757,7127510.381407448,7193205.759368735,6399743.077854154,5758539.531994228,6621291.371501154,6804726.057510258,6060577.235854323,5243187.541894077,5147318.963220172,5064263.508210289,4858667.85518512,3909371.044759281,4096096.090724261,4204594.980261365,4307863.510326613,5003951.526183036,4228045.443139293,4333588.643109683,5018962.503638574,5804053.423344479,5895996.5152875,5037398.072898928,5004869.981366244,4880399.674905674,3947814.281643769,3948862.58109716,4797672.732006527,4884605.922182759,5715605.453048547,6451408.939340082,7364789.98125288,7339247.45884328,6379593.836309846,6259926.059650292,6100968.986072023,5275627.779843024,5031561.367078741,4892291.1739766905,5546647.476200526,5516003.131957986,5482295.180712657,5456852.680862268,4775999.74259103,3957207.108413973,3931561.776743367,4698801.634696487,4061940.882940602,4708582.741603273,5294455.559226955,5380768.831610278,5275279.474289083,4521161.304549058,4425189.697850819,3752298.765401428,3150115.6873833905,3837971.635240448,3236858.334502481,3272351.204580219,3426944.4127864144,4117827.867354317,4050300.34362331,3335873.889345976,3912334.868152091],\"yaxis\":\"y\",\"type\":\"scatter\"},{\"hovertemplate\":\"date=%{x}<br>romance=%{y}<extra></extra>\",\"legendgroup\":\"\",\"line\":{\"dash\":\"solid\"},\"marker\":{\"symbol\":\"circle\"},\"mode\":\"lines\",\"name\":\"\",\"orientation\":\"v\",\"showlegend\":false,\"x\":[\"2022-01-05\",\"2022-01-06\",\"2022-01-07\",\"2022-01-08\",\"2022-01-09\",\"2022-01-10\",\"2022-01-11\",\"2022-01-12\",\"2022-01-16\",\"2022-01-17\",\"2022-01-18\",\"2022-01-19\",\"2022-01-20\",\"2022-01-21\",\"2022-01-22\",\"2022-01-23\",\"2022-01-24\",\"2022-01-25\",\"2022-01-26\",\"2022-01-27\",\"2022-01-28\",\"2022-01-29\",\"2022-01-30\",\"2022-01-31\",\"2022-02-01\",\"2022-02-02\",\"2022-02-03\",\"2022-02-04\",\"2022-02-05\",\"2022-02-06\",\"2022-02-07\",\"2022-02-08\",\"2022-02-09\",\"2022-02-10\",\"2022-02-11\",\"2022-02-12\",\"2022-02-13\",\"2022-02-14\",\"2022-02-15\",\"2022-02-16\",\"2022-02-17\",\"2022-02-18\",\"2022-02-19\",\"2022-02-20\",\"2022-02-21\",\"2022-02-22\",\"2022-02-23\",\"2022-02-24\",\"2022-02-25\",\"2022-02-26\",\"2022-02-27\",\"2022-02-28\",\"2022-03-01\",\"2022-03-02\",\"2022-03-03\",\"2022-03-04\",\"2022-03-05\",\"2022-03-06\",\"2022-03-07\",\"2022-03-08\",\"2022-03-09\",\"2022-03-10\",\"2022-03-11\",\"2022-03-12\",\"2022-03-13\",\"2022-03-14\",\"2022-03-15\",\"2022-03-16\",\"2022-03-17\",\"2022-03-18\",\"2022-03-19\",\"2022-03-20\",\"2022-03-21\",\"2022-03-22\",\"2022-03-23\",\"2022-03-24\",\"2022-03-25\",\"2022-03-26\",\"2022-03-27\",\"2022-03-28\",\"2022-03-29\",\"2022-03-30\",\"2022-03-31\",\"2022-04-01\",\"2022-04-02\",\"2022-04-05\",\"2022-04-06\",\"2022-04-07\",\"2022-04-08\",\"2022-04-09\",\"2022-04-10\",\"2022-04-11\",\"2022-04-12\",\"2022-04-13\",\"2022-04-14\",\"2022-04-15\",\"2022-04-16\",\"2022-04-17\",\"2022-04-18\",\"2022-04-19\",\"2022-04-20\",\"2022-04-21\",\"2022-04-22\",\"2022-04-23\",\"2022-04-24\",\"2022-04-25\",\"2022-04-26\",\"2022-04-27\",\"2022-04-28\",\"2022-04-29\",\"2022-04-30\",\"2022-05-01\",\"2022-05-02\",\"2022-05-03\",\"2022-05-04\",\"2022-05-05\",\"2022-05-06\",\"2022-05-07\",\"2022-05-08\",\"2022-05-09\",\"2022-05-10\",\"2022-05-11\",\"2022-05-12\",\"2022-05-13\",\"2022-05-14\",\"2022-05-15\",\"2022-05-16\",\"2022-05-17\",\"2022-05-18\",\"2022-05-19\",\"2022-05-20\",\"2022-05-21\",\"2022-05-22\",\"2022-05-23\",\"2022-05-24\",\"2022-05-26\",\"2022-05-27\",\"2022-05-28\",\"2022-05-29\",\"2022-05-30\",\"2022-05-31\",\"2022-06-01\",\"2022-06-02\",\"2022-06-03\",\"2022-06-04\",\"2022-06-05\",\"2022-06-06\",\"2022-06-07\",\"2022-06-08\",\"2022-06-09\",\"2022-06-10\",\"2022-06-11\",\"2022-06-12\",\"2022-06-13\",\"2022-06-14\",\"2022-06-15\",\"2022-06-16\",\"2022-06-17\",\"2022-06-18\",\"2022-06-19\",\"2022-06-20\",\"2022-06-21\",\"2022-06-22\",\"2022-06-23\",\"2022-06-24\",\"2022-06-25\",\"2022-06-26\",\"2022-06-27\",\"2022-06-28\",\"2022-06-29\",\"2022-07-02\",\"2022-07-03\",\"2022-07-04\",\"2022-07-05\",\"2022-07-06\",\"2022-07-07\",\"2022-07-08\",\"2022-07-09\",\"2022-07-10\",\"2022-07-11\",\"2022-07-12\",\"2022-07-13\",\"2022-07-14\",\"2022-07-15\",\"2022-07-16\",\"2022-07-17\",\"2022-07-18\",\"2022-07-19\",\"2022-07-20\",\"2022-07-21\",\"2022-07-22\",\"2022-07-23\",\"2022-07-24\",\"2022-07-25\",\"2022-07-26\",\"2022-07-27\",\"2022-07-28\",\"2022-07-29\",\"2022-07-30\",\"2022-07-31\",\"2022-08-01\",\"2022-08-02\",\"2022-08-03\",\"2022-08-04\",\"2022-08-05\",\"2022-08-06\",\"2022-08-07\",\"2022-08-08\",\"2022-08-09\",\"2022-08-10\",\"2022-08-11\",\"2022-08-12\",\"2022-08-13\",\"2022-08-14\",\"2022-08-15\",\"2022-08-16\",\"2022-08-17\",\"2022-08-18\",\"2022-08-19\",\"2022-08-20\",\"2022-08-21\",\"2022-08-22\",\"2022-08-23\",\"2022-08-24\",\"2022-08-25\",\"2022-08-26\",\"2022-08-27\",\"2022-08-28\",\"2022-08-29\",\"2022-08-30\",\"2022-08-31\",\"2022-09-01\",\"2022-09-02\",\"2022-09-03\",\"2022-09-04\",\"2022-09-05\",\"2022-09-06\",\"2022-09-07\",\"2022-09-08\",\"2022-09-09\",\"2022-09-10\",\"2022-09-11\",\"2022-09-12\",\"2022-09-13\",\"2022-09-14\",\"2022-09-16\"],\"xaxis\":\"x\",\"y\":[0.4922460432950941,0.9787009566690692,0.9787009566690692,0.7354734999820812,0.4922460432950941,0.0057911299211193,0.2490185866081065,0.0057911299211193,0.1686187227840119,1.3024342725385856,1.680372789123444,0.924495755953728,-0.5872583103857036,0.5465572393688705,0.5465572393688705,-0.5872583103857036,-1.7210738601402773,0.1686187227840119,-0.2093197938008456,-0.5872583103857036,0.924495755953728,1.3024342725385856,2.436249822293159,1.7430248909867343,2.313658039821677,1.4577083165692633,0.8870751677343204,0.3164420188993775,1.172391742151791,0.6017585933168493,0.6017585933168493,0.6017585933168493,-0.2541911299355648,-1.1101408531879786,-1.3954574276054497,-0.5395077043530359,-0.5395077043530359,-0.2541911299355648,0.6017585933168493,0.6017585933168493,0.0057911299211193,0.7354734999820812,0.4922460432950941,0.4922460432950941,0.2490185866081065,0.2490185866081065,0.2490185866081065,0.0311254444819065,-0.8248242787705073,-0.8248242787705073,-1.3954574276054497,-1.966090576440392,-1.1101408531879786,-0.5395077043530359,0.6017585933168493,0.0311254444819065,0.0311254444819065,0.3164420188993775,-0.5395077043530359,-1.1101408531879786,-1.966090576440392,-1.3954574276054497,-0.5395077043530359,0.3164420188993775,0.8870751677343204,1.4577083165692633,1.4577083165692633,0.8870751677343204,1.7430248909867343,0.3164420188993775,-0.5395077043530359,-1.1101408531879786,-0.8248242787705073,0.0311254444819065,-1.6807740020229212,-1.1101408531879786,-0.5395077043530359,-0.2541911299355648,0.8870751677343204,0.6017585933168493,0.6017585933168493,0.8870751677343204,0.3164420188993775,0.6017585933168493,-0.5395077043530359,-0.7238912401398429,-0.4806637834528556,-0.7238912401398429,-1.2103461535138176,-1.2103461535138176,-1.6968010668877926,-0.9671186968268304,-0.9671186968268304,-0.7238912401398429,0.0057911299211193,-0.2374363267658681,0.0057911299211193,-0.7238912401398429,-0.9671186968268304,-0.9671186968268304,-1.6968010668877926,-1.4535736102008052,-0.9671186968268304,0.0057911299211193,0.4922460432950941,0.9787009566690692,1.2219284133560562,1.2219284133560562,0.5465572393688705,1.680372789123444,0.924495755953728,0.5465572393688705,0.924495755953728,0.1686187227840119,1.3024342725385856,0.924495755953728,1.680372789123444,0.924495755953728,0.1686187227840119,0.1686187227840119,-0.5872583103857036,-0.2093197938008456,-1.3431353435554192,-1.3431353435554192,-0.2093197938008456,0.1686187227840119,0.1686187227840119,0.1686187227840119,0.5465572393688705,-0.2093197938008456,0.9787009566690692,1.2219284133560562,0.7354734999820812,0.9787009566690692,2.194838240104006,2.4380656967909937,2.4380656967909937,1.2219284133560562,1.9516107834170184,1.7083833267300312,0.4922460432950941,-0.2374363267658681,-1.3431353435554192,-1.7210738601402773,-0.9651968269705612,-0.9651968269705612,-1.3431353435554192,-0.9651968269705612,0.924495755953728,0.5465572393688705,0.1686187227840119,-0.5872583103857036,0.1686187227840119,1.680372789123444,-0.2093197938008456,0.1686187227840119,-0.5872583103857036,-0.5872583103857036,-0.9651968269705612,-2.0990123767251347,-2.4769508933099926,-1.3431353435554192,-0.5872583103857036,-0.5872583103857036,-0.2093197938008456,-0.2093197938008456,0.1686187227840119,-0.5872583103857036,0.5465572393688705,0.5465572393688705,-0.4806637834528556,-0.2374363267658681,-0.2374363267658681,-0.4806637834528556,-0.7238912401398429,0.0057911299211193,0.2490185866081065,0.2490185866081065,0.2490185866081065,0.7354734999820812,1.7083833267300312,0.9787009566690692,1.9516107834170184,2.194838240104006,1.9516107834170184,0.9787009566690692,0.4922460432950941,1.7083833267300312,0.7354734999820812,0.2490185866081065,-0.2374363267658681,0.0057911299211193,-0.4806637834528556,-1.4535736102008052,-1.4535736102008052,-1.2103461535138176,-0.9671186968268304,-1.2103461535138176,-0.7238912401398429,-0.4806637834528556,-0.7238912401398429,-0.4806637834528556,-0.7238912401398429,-0.4806637834528556,-0.7238912401398429,-0.7238912401398429,-0.9671186968268304,-1.2103461535138176,-0.7238912401398429,-0.7238912401398429,-0.7238912401398429,-1.2103461535138176,-0.7238912401398429,-0.7238912401398429,-0.4806637834528556,-0.4806637834528556,-0.7238912401398429,0.4922460432950941,0.0057911299211193,0.2490185866081065,-0.2374363267658681,0.2490185866081065,0.7354734999820812,1.4651558700430434,1.4651558700430434,1.7083833267300312,1.9516107834170184,1.4651558700430434,1.2219284133560562,-0.7238912401398429,-0.4806637834528556,-1.2103461535138176,-1.2103461535138176,-0.7238912401398429,-0.9671186968268304,-0.4806637834528556,-0.4806637834528556,0.0057911299211193,-0.4806637834528556,-0.9671186968268304,-0.9671186968268304,-1.2103461535138176,-0.7238912401398429,-1.2103461535138176,-0.7238912401398429,-0.4806637834528556],\"yaxis\":\"y2\",\"type\":\"scatter\"}],                        {\"template\":{\"data\":{\"histogram2dcontour\":[{\"type\":\"histogram2dcontour\",\"colorbar\":{\"outlinewidth\":0,\"ticks\":\"\"},\"colorscale\":[[0.0,\"#0d0887\"],[0.1111111111111111,\"#46039f\"],[0.2222222222222222,\"#7201a8\"],[0.3333333333333333,\"#9c179e\"],[0.4444444444444444,\"#bd3786\"],[0.5555555555555556,\"#d8576b\"],[0.6666666666666666,\"#ed7953\"],[0.7777777777777778,\"#fb9f3a\"],[0.8888888888888888,\"#fdca26\"],[1.0,\"#f0f921\"]]}],\"choropleth\":[{\"type\":\"choropleth\",\"colorbar\":{\"outlinewidth\":0,\"ticks\":\"\"}}],\"histogram2d\":[{\"type\":\"histogram2d\",\"colorbar\":{\"outlinewidth\":0,\"ticks\":\"\"},\"colorscale\":[[0.0,\"#0d0887\"],[0.1111111111111111,\"#46039f\"],[0.2222222222222222,\"#7201a8\"],[0.3333333333333333,\"#9c179e\"],[0.4444444444444444,\"#bd3786\"],[0.5555555555555556,\"#d8576b\"],[0.6666666666666666,\"#ed7953\"],[0.7777777777777778,\"#fb9f3a\"],[0.8888888888888888,\"#fdca26\"],[1.0,\"#f0f921\"]]}],\"heatmap\":[{\"type\":\"heatmap\",\"colorbar\":{\"outlinewidth\":0,\"ticks\":\"\"},\"colorscale\":[[0.0,\"#0d0887\"],[0.1111111111111111,\"#46039f\"],[0.2222222222222222,\"#7201a8\"],[0.3333333333333333,\"#9c179e\"],[0.4444444444444444,\"#bd3786\"],[0.5555555555555556,\"#d8576b\"],[0.6666666666666666,\"#ed7953\"],[0.7777777777777778,\"#fb9f3a\"],[0.8888888888888888,\"#fdca26\"],[1.0,\"#f0f921\"]]}],\"heatmapgl\":[{\"type\":\"heatmapgl\",\"colorbar\":{\"outlinewidth\":0,\"ticks\":\"\"},\"colorscale\":[[0.0,\"#0d0887\"],[0.1111111111111111,\"#46039f\"],[0.2222222222222222,\"#7201a8\"],[0.3333333333333333,\"#9c179e\"],[0.4444444444444444,\"#bd3786\"],[0.5555555555555556,\"#d8576b\"],[0.6666666666666666,\"#ed7953\"],[0.7777777777777778,\"#fb9f3a\"],[0.8888888888888888,\"#fdca26\"],[1.0,\"#f0f921\"]]}],\"contourcarpet\":[{\"type\":\"contourcarpet\",\"colorbar\":{\"outlinewidth\":0,\"ticks\":\"\"}}],\"contour\":[{\"type\":\"contour\",\"colorbar\":{\"outlinewidth\":0,\"ticks\":\"\"},\"colorscale\":[[0.0,\"#0d0887\"],[0.1111111111111111,\"#46039f\"],[0.2222222222222222,\"#7201a8\"],[0.3333333333333333,\"#9c179e\"],[0.4444444444444444,\"#bd3786\"],[0.5555555555555556,\"#d8576b\"],[0.6666666666666666,\"#ed7953\"],[0.7777777777777778,\"#fb9f3a\"],[0.8888888888888888,\"#fdca26\"],[1.0,\"#f0f921\"]]}],\"surface\":[{\"type\":\"surface\",\"colorbar\":{\"outlinewidth\":0,\"ticks\":\"\"},\"colorscale\":[[0.0,\"#0d0887\"],[0.1111111111111111,\"#46039f\"],[0.2222222222222222,\"#7201a8\"],[0.3333333333333333,\"#9c179e\"],[0.4444444444444444,\"#bd3786\"],[0.5555555555555556,\"#d8576b\"],[0.6666666666666666,\"#ed7953\"],[0.7777777777777778,\"#fb9f3a\"],[0.8888888888888888,\"#fdca26\"],[1.0,\"#f0f921\"]]}],\"mesh3d\":[{\"type\":\"mesh3d\",\"colorbar\":{\"outlinewidth\":0,\"ticks\":\"\"}}],\"scatter\":[{\"fillpattern\":{\"fillmode\":\"overlay\",\"size\":10,\"solidity\":0.2},\"type\":\"scatter\"}],\"parcoords\":[{\"type\":\"parcoords\",\"line\":{\"colorbar\":{\"outlinewidth\":0,\"ticks\":\"\"}}}],\"scatterpolargl\":[{\"type\":\"scatterpolargl\",\"marker\":{\"colorbar\":{\"outlinewidth\":0,\"ticks\":\"\"}}}],\"bar\":[{\"error_x\":{\"color\":\"#2a3f5f\"},\"error_y\":{\"color\":\"#2a3f5f\"},\"marker\":{\"line\":{\"color\":\"#E5ECF6\",\"width\":0.5},\"pattern\":{\"fillmode\":\"overlay\",\"size\":10,\"solidity\":0.2}},\"type\":\"bar\"}],\"scattergeo\":[{\"type\":\"scattergeo\",\"marker\":{\"colorbar\":{\"outlinewidth\":0,\"ticks\":\"\"}}}],\"scatterpolar\":[{\"type\":\"scatterpolar\",\"marker\":{\"colorbar\":{\"outlinewidth\":0,\"ticks\":\"\"}}}],\"histogram\":[{\"marker\":{\"pattern\":{\"fillmode\":\"overlay\",\"size\":10,\"solidity\":0.2}},\"type\":\"histogram\"}],\"scattergl\":[{\"type\":\"scattergl\",\"marker\":{\"colorbar\":{\"outlinewidth\":0,\"ticks\":\"\"}}}],\"scatter3d\":[{\"type\":\"scatter3d\",\"line\":{\"colorbar\":{\"outlinewidth\":0,\"ticks\":\"\"}},\"marker\":{\"colorbar\":{\"outlinewidth\":0,\"ticks\":\"\"}}}],\"scattermapbox\":[{\"type\":\"scattermapbox\",\"marker\":{\"colorbar\":{\"outlinewidth\":0,\"ticks\":\"\"}}}],\"scatterternary\":[{\"type\":\"scatterternary\",\"marker\":{\"colorbar\":{\"outlinewidth\":0,\"ticks\":\"\"}}}],\"scattercarpet\":[{\"type\":\"scattercarpet\",\"marker\":{\"colorbar\":{\"outlinewidth\":0,\"ticks\":\"\"}}}],\"carpet\":[{\"aaxis\":{\"endlinecolor\":\"#2a3f5f\",\"gridcolor\":\"white\",\"linecolor\":\"white\",\"minorgridcolor\":\"white\",\"startlinecolor\":\"#2a3f5f\"},\"baxis\":{\"endlinecolor\":\"#2a3f5f\",\"gridcolor\":\"white\",\"linecolor\":\"white\",\"minorgridcolor\":\"white\",\"startlinecolor\":\"#2a3f5f\"},\"type\":\"carpet\"}],\"table\":[{\"cells\":{\"fill\":{\"color\":\"#EBF0F8\"},\"line\":{\"color\":\"white\"}},\"header\":{\"fill\":{\"color\":\"#C8D4E3\"},\"line\":{\"color\":\"white\"}},\"type\":\"table\"}],\"barpolar\":[{\"marker\":{\"line\":{\"color\":\"#E5ECF6\",\"width\":0.5},\"pattern\":{\"fillmode\":\"overlay\",\"size\":10,\"solidity\":0.2}},\"type\":\"barpolar\"}],\"pie\":[{\"automargin\":true,\"type\":\"pie\"}]},\"layout\":{\"autotypenumbers\":\"strict\",\"colorway\":[\"#636efa\",\"#EF553B\",\"#00cc96\",\"#ab63fa\",\"#FFA15A\",\"#19d3f3\",\"#FF6692\",\"#B6E880\",\"#FF97FF\",\"#FECB52\"],\"font\":{\"color\":\"#2a3f5f\"},\"hovermode\":\"closest\",\"hoverlabel\":{\"align\":\"left\"},\"paper_bgcolor\":\"white\",\"plot_bgcolor\":\"#E5ECF6\",\"polar\":{\"bgcolor\":\"#E5ECF6\",\"angularaxis\":{\"gridcolor\":\"white\",\"linecolor\":\"white\",\"ticks\":\"\"},\"radialaxis\":{\"gridcolor\":\"white\",\"linecolor\":\"white\",\"ticks\":\"\"}},\"ternary\":{\"bgcolor\":\"#E5ECF6\",\"aaxis\":{\"gridcolor\":\"white\",\"linecolor\":\"white\",\"ticks\":\"\"},\"baxis\":{\"gridcolor\":\"white\",\"linecolor\":\"white\",\"ticks\":\"\"},\"caxis\":{\"gridcolor\":\"white\",\"linecolor\":\"white\",\"ticks\":\"\"}},\"coloraxis\":{\"colorbar\":{\"outlinewidth\":0,\"ticks\":\"\"}},\"colorscale\":{\"sequential\":[[0.0,\"#0d0887\"],[0.1111111111111111,\"#46039f\"],[0.2222222222222222,\"#7201a8\"],[0.3333333333333333,\"#9c179e\"],[0.4444444444444444,\"#bd3786\"],[0.5555555555555556,\"#d8576b\"],[0.6666666666666666,\"#ed7953\"],[0.7777777777777778,\"#fb9f3a\"],[0.8888888888888888,\"#fdca26\"],[1.0,\"#f0f921\"]],\"sequentialminus\":[[0.0,\"#0d0887\"],[0.1111111111111111,\"#46039f\"],[0.2222222222222222,\"#7201a8\"],[0.3333333333333333,\"#9c179e\"],[0.4444444444444444,\"#bd3786\"],[0.5555555555555556,\"#d8576b\"],[0.6666666666666666,\"#ed7953\"],[0.7777777777777778,\"#fb9f3a\"],[0.8888888888888888,\"#fdca26\"],[1.0,\"#f0f921\"]],\"diverging\":[[0,\"#8e0152\"],[0.1,\"#c51b7d\"],[0.2,\"#de77ae\"],[0.3,\"#f1b6da\"],[0.4,\"#fde0ef\"],[0.5,\"#f7f7f7\"],[0.6,\"#e6f5d0\"],[0.7,\"#b8e186\"],[0.8,\"#7fbc41\"],[0.9,\"#4d9221\"],[1,\"#276419\"]]},\"xaxis\":{\"gridcolor\":\"white\",\"linecolor\":\"white\",\"ticks\":\"\",\"title\":{\"standoff\":15},\"zerolinecolor\":\"white\",\"automargin\":true,\"zerolinewidth\":2},\"yaxis\":{\"gridcolor\":\"white\",\"linecolor\":\"white\",\"ticks\":\"\",\"title\":{\"standoff\":15},\"zerolinecolor\":\"white\",\"automargin\":true,\"zerolinewidth\":2},\"scene\":{\"xaxis\":{\"backgroundcolor\":\"#E5ECF6\",\"gridcolor\":\"white\",\"linecolor\":\"white\",\"showbackground\":true,\"ticks\":\"\",\"zerolinecolor\":\"white\",\"gridwidth\":2},\"yaxis\":{\"backgroundcolor\":\"#E5ECF6\",\"gridcolor\":\"white\",\"linecolor\":\"white\",\"showbackground\":true,\"ticks\":\"\",\"zerolinecolor\":\"white\",\"gridwidth\":2},\"zaxis\":{\"backgroundcolor\":\"#E5ECF6\",\"gridcolor\":\"white\",\"linecolor\":\"white\",\"showbackground\":true,\"ticks\":\"\",\"zerolinecolor\":\"white\",\"gridwidth\":2}},\"shapedefaults\":{\"line\":{\"color\":\"#2a3f5f\"}},\"annotationdefaults\":{\"arrowcolor\":\"#2a3f5f\",\"arrowhead\":0,\"arrowwidth\":1},\"geo\":{\"bgcolor\":\"white\",\"landcolor\":\"#E5ECF6\",\"subunitcolor\":\"white\",\"showland\":true,\"showlakes\":true,\"lakecolor\":\"white\"},\"title\":{\"x\":0.05},\"mapbox\":{\"style\":\"light\"}}},\"xaxis\":{\"anchor\":\"y\",\"domain\":[0.0,0.94]},\"yaxis\":{\"anchor\":\"x\",\"domain\":[0.0,1.0]},\"yaxis2\":{\"anchor\":\"x\",\"overlaying\":\"y\",\"side\":\"right\"}},                        {\"responsive\": true}                    ).then(function(){\n",
       "                            \n",
       "var gd = document.getElementById('bfb85705-0b9d-496b-8868-6e36f2916b64');\n",
       "var x = new MutationObserver(function (mutations, observer) {{\n",
       "        var display = window.getComputedStyle(gd).display;\n",
       "        if (!display || display === 'none') {{\n",
       "            console.log([gd, 'removed!']);\n",
       "            Plotly.purge(gd);\n",
       "            observer.disconnect();\n",
       "        }}\n",
       "}});\n",
       "\n",
       "// Listen for the removal of the full notebook cells\n",
       "var notebookContainer = gd.closest('#notebook-container');\n",
       "if (notebookContainer) {{\n",
       "    x.observe(notebookContainer, {childList: true});\n",
       "}}\n",
       "\n",
       "// Listen for the clearing of the current output cell\n",
       "var outputEl = gd.closest('.output');\n",
       "if (outputEl) {{\n",
       "    x.observe(outputEl, {childList: true});\n",
       "}}\n",
       "\n",
       "                        })                };                });            </script>        </div>"
      ]
     },
     "metadata": {},
     "output_type": "display_data"
    },
    {
     "data": {
      "application/vnd.plotly.v1+json": {
       "config": {
        "plotlyServerURL": "https://plot.ly"
       },
       "data": [
        {
         "hovertemplate": "date=%{x}<br>Mean=%{y}<extra></extra>",
         "legendgroup": "",
         "line": {
          "dash": "solid"
         },
         "marker": {
          "symbol": "circle"
         },
         "mode": "lines",
         "name": "",
         "orientation": "v",
         "showlegend": false,
         "type": "scatter",
         "x": [
          "2022-01-05",
          "2022-01-06",
          "2022-01-07",
          "2022-01-08",
          "2022-01-09",
          "2022-01-10",
          "2022-01-11",
          "2022-01-12",
          "2022-01-16",
          "2022-01-17",
          "2022-01-18",
          "2022-01-19",
          "2022-01-20",
          "2022-01-21",
          "2022-01-22",
          "2022-01-23",
          "2022-01-24",
          "2022-01-25",
          "2022-01-26",
          "2022-01-27",
          "2022-01-28",
          "2022-01-29",
          "2022-01-30",
          "2022-01-31",
          "2022-02-01",
          "2022-02-02",
          "2022-02-03",
          "2022-02-04",
          "2022-02-05",
          "2022-02-06",
          "2022-02-07",
          "2022-02-08",
          "2022-02-09",
          "2022-02-10",
          "2022-02-11",
          "2022-02-12",
          "2022-02-13",
          "2022-02-14",
          "2022-02-15",
          "2022-02-16",
          "2022-02-17",
          "2022-02-18",
          "2022-02-19",
          "2022-02-20",
          "2022-02-21",
          "2022-02-22",
          "2022-02-23",
          "2022-02-24",
          "2022-02-25",
          "2022-02-26",
          "2022-02-27",
          "2022-02-28",
          "2022-03-01",
          "2022-03-02",
          "2022-03-03",
          "2022-03-04",
          "2022-03-05",
          "2022-03-06",
          "2022-03-07",
          "2022-03-08",
          "2022-03-09",
          "2022-03-10",
          "2022-03-11",
          "2022-03-12",
          "2022-03-13",
          "2022-03-14",
          "2022-03-15",
          "2022-03-16",
          "2022-03-17",
          "2022-03-18",
          "2022-03-19",
          "2022-03-20",
          "2022-03-21",
          "2022-03-22",
          "2022-03-23",
          "2022-03-24",
          "2022-03-25",
          "2022-03-26",
          "2022-03-27",
          "2022-03-28",
          "2022-03-29",
          "2022-03-30",
          "2022-03-31",
          "2022-04-01",
          "2022-04-02",
          "2022-04-05",
          "2022-04-06",
          "2022-04-07",
          "2022-04-08",
          "2022-04-09",
          "2022-04-10",
          "2022-04-11",
          "2022-04-12",
          "2022-04-13",
          "2022-04-14",
          "2022-04-15",
          "2022-04-16",
          "2022-04-17",
          "2022-04-18",
          "2022-04-19",
          "2022-04-20",
          "2022-04-21",
          "2022-04-22",
          "2022-04-23",
          "2022-04-24",
          "2022-04-25",
          "2022-04-26",
          "2022-04-27",
          "2022-04-28",
          "2022-04-29",
          "2022-04-30",
          "2022-05-01",
          "2022-05-02",
          "2022-05-03",
          "2022-05-04",
          "2022-05-05",
          "2022-05-06",
          "2022-05-07",
          "2022-05-08",
          "2022-05-09",
          "2022-05-10",
          "2022-05-11",
          "2022-05-12",
          "2022-05-13",
          "2022-05-14",
          "2022-05-15",
          "2022-05-16",
          "2022-05-17",
          "2022-05-18",
          "2022-05-19",
          "2022-05-20",
          "2022-05-21",
          "2022-05-22",
          "2022-05-23",
          "2022-05-24",
          "2022-05-26",
          "2022-05-27",
          "2022-05-28",
          "2022-05-29",
          "2022-05-30",
          "2022-05-31",
          "2022-06-01",
          "2022-06-02",
          "2022-06-03",
          "2022-06-04",
          "2022-06-05",
          "2022-06-06",
          "2022-06-07",
          "2022-06-08",
          "2022-06-09",
          "2022-06-10",
          "2022-06-11",
          "2022-06-12",
          "2022-06-13",
          "2022-06-14",
          "2022-06-15",
          "2022-06-16",
          "2022-06-17",
          "2022-06-18",
          "2022-06-19",
          "2022-06-20",
          "2022-06-21",
          "2022-06-22",
          "2022-06-23",
          "2022-06-24",
          "2022-06-25",
          "2022-06-26",
          "2022-06-27",
          "2022-06-28",
          "2022-06-29",
          "2022-07-02",
          "2022-07-03",
          "2022-07-04",
          "2022-07-05",
          "2022-07-06",
          "2022-07-07",
          "2022-07-08",
          "2022-07-09",
          "2022-07-10",
          "2022-07-11",
          "2022-07-12",
          "2022-07-13",
          "2022-07-14",
          "2022-07-15",
          "2022-07-16",
          "2022-07-17",
          "2022-07-18",
          "2022-07-19",
          "2022-07-20",
          "2022-07-21",
          "2022-07-22",
          "2022-07-23",
          "2022-07-24",
          "2022-07-25",
          "2022-07-26",
          "2022-07-27",
          "2022-07-28",
          "2022-07-29",
          "2022-07-30",
          "2022-07-31",
          "2022-08-01",
          "2022-08-02",
          "2022-08-03",
          "2022-08-04",
          "2022-08-05",
          "2022-08-06",
          "2022-08-07",
          "2022-08-08",
          "2022-08-09",
          "2022-08-10",
          "2022-08-11",
          "2022-08-12",
          "2022-08-13",
          "2022-08-14",
          "2022-08-15",
          "2022-08-16",
          "2022-08-17",
          "2022-08-18",
          "2022-08-19",
          "2022-08-20",
          "2022-08-21",
          "2022-08-22",
          "2022-08-23",
          "2022-08-24",
          "2022-08-25",
          "2022-08-26",
          "2022-08-27",
          "2022-08-28",
          "2022-08-29",
          "2022-08-30",
          "2022-08-31",
          "2022-09-01",
          "2022-09-02",
          "2022-09-03",
          "2022-09-04",
          "2022-09-05",
          "2022-09-06",
          "2022-09-07",
          "2022-09-08",
          "2022-09-09",
          "2022-09-10",
          "2022-09-11",
          "2022-09-12",
          "2022-09-13",
          "2022-09-14",
          "2022-09-16"
         ],
         "xaxis": "x",
         "y": [
          16300560.396325707,
          17658648.89806571,
          17347162.93101469,
          16975064.4272259,
          16797785.791917797,
          16806788.914961446,
          16811833.251713973,
          16734018.396816732,
          17112088.201657716,
          17011946.553369317,
          16970497.972453773,
          16652439.489730489,
          14965479.43222849,
          13323793.673679637,
          12873959.016227724,
          11303651.720090585,
          11007467.34700925,
          10871655.621807251,
          12159820.822644686,
          13505607.403390111,
          13681356.340413606,
          14936296.611906191,
          14923038.910625257,
          12589322.572192566,
          12568194.290519638,
          12656150.217581045,
          12895523.888825014,
          13174352.579157157,
          14758873.283617333,
          14966112.54168266,
          13981120.739769287,
          14329206.281212503,
          12998453.810260974,
          13035101.46742987,
          12935524.996210158,
          14282421.110996926,
          14269045.839103565,
          14234745.430921003,
          13983623.878515448,
          12451147.474175066,
          15269480.34958822,
          15144035.258112026,
          13602820.084048048,
          11961488.017577806,
          11692883.442188185,
          10520623.18598848,
          10597508.98837556,
          12302652.732426368,
          12055658.914270565,
          13312310.455994308,
          13302684.301300997,
          15072063.977543931,
          16640913.820278505,
          16726833.162031168,
          15359834.212318948,
          14337334.69371573,
          13968809.536106026,
          13561663.795575554,
          13355494.93965335,
          11993273.990426429,
          12099160.81741657,
          12943501.406253258,
          12695278.590656549,
          12590908.615391329,
          12418870.720681133,
          12292307.862216016,
          13682690.17967298,
          12526529.102193069,
          12882839.583889768,
          11436021.607194657,
          11324391.68407502,
          12674892.310120234,
          11270116.114267657,
          12775937.96738934,
          11589932.293703048,
          13442791.025573203,
          13942925.906535745,
          12722266.4979224,
          14600266.085370503,
          14866187.212059,
          14936133.6515846,
          13608250.734281491,
          12280254.842698582,
          14027934.698614923,
          13825044.782824928,
          9370691.80449831,
          9533048.390190354,
          9701736.487279251,
          8516841.090446098,
          9443838.824822633,
          9364852.622400708,
          10675149.238137288,
          11864137.72101284,
          11742429.723710775,
          12885260.082449311,
          11467406.715709897,
          12690455.363681272,
          11144443.841934573,
          9815462.194832023,
          9820668.402080366,
          9694690.695536984,
          9815317.107529247,
          9585090.849358326,
          9490934.549195984,
          10580321.827864258,
          10357739.355840078,
          9904135.934160378,
          9669618.420316638,
          13644156.129957588,
          13356814.415303038,
          11853810.286388464,
          11775592.976694366,
          11590485.543108916,
          11612288.84540094,
          12868801.298505137,
          13053035.151801929,
          14110520.33822723,
          13778267.472966751,
          12530386.508751629,
          12021290.84041947,
          11497172.066507123,
          11118384.805893648,
          10012741.049433025,
          8903535.797767593,
          9879758.226772675,
          8878044.28833642,
          8912295.660614314,
          8893381.490528656,
          8745347.529548453,
          9631829.455022588,
          9253797.523018852,
          10113809.633346066,
          8627578.21810162,
          8436459.608976576,
          8431611.204082683,
          9263388.742297878,
          9200360.676142124,
          8049840.762693316,
          7924927.841125282,
          7868657.633253898,
          7230972.840943344,
          6065311.089454257,
          9510080.885098493,
          10311356.508528523,
          10188843.301089196,
          9230875.838806592,
          10421951.542127308,
          9410805.585428568,
          9295633.88340653,
          8287272.486073527,
          7205341.804875426,
          7007599.814036851,
          6448621.827739158,
          6996861.265276186,
          6653012.160243738,
          7241345.740182835,
          7813596.111569532,
          7643831.547008324,
          7531588.959285109,
          7505410.359529986,
          7423733.098475824,
          6722836.719293342,
          6849695.54328337,
          6908397.18765669,
          6799747.286928598,
          5966884.493104179,
          5897396.60152033,
          6545954.712858573,
          6358798.550920685,
          6316020.342904109,
          5492587.888628663,
          6037932.844157421,
          6507796.793347505,
          6309120.805134576,
          5657328.519440842,
          6476220.235650866,
          6414659.974277817,
          6216635.331815537,
          6170705.76427205,
          6847120.495130398,
          7568256.8942576,
          6839261.199889245,
          6985216.111671757,
          7127510.381407448,
          7193205.759368735,
          6399743.077854154,
          5758539.531994228,
          6621291.371501154,
          6804726.057510258,
          6060577.235854323,
          5243187.541894077,
          5147318.963220172,
          5064263.508210289,
          4858667.85518512,
          3909371.044759281,
          4096096.090724261,
          4204594.980261365,
          4307863.510326613,
          5003951.526183036,
          4228045.443139293,
          4333588.643109683,
          5018962.503638574,
          5804053.423344479,
          5895996.5152875,
          5037398.072898928,
          5004869.981366244,
          4880399.674905674,
          3947814.281643769,
          3948862.58109716,
          4797672.732006527,
          4884605.922182759,
          5715605.453048547,
          6451408.939340082,
          7364789.98125288,
          7339247.45884328,
          6379593.836309846,
          6259926.059650292,
          6100968.986072023,
          5275627.779843024,
          5031561.367078741,
          4892291.1739766905,
          5546647.476200526,
          5516003.131957986,
          5482295.180712657,
          5456852.680862268,
          4775999.74259103,
          3957207.108413973,
          3931561.776743367,
          4698801.634696487,
          4061940.882940602,
          4708582.741603273,
          5294455.559226955,
          5380768.831610278,
          5275279.474289083,
          4521161.304549058,
          4425189.697850819,
          3752298.765401428,
          3150115.6873833905,
          3837971.635240448,
          3236858.334502481,
          3272351.204580219,
          3426944.4127864144,
          4117827.867354317,
          4050300.34362331,
          3335873.889345976,
          3912334.868152091
         ],
         "yaxis": "y"
        },
        {
         "hovertemplate": "date=%{x}<br>trust=%{y}<extra></extra>",
         "legendgroup": "",
         "line": {
          "dash": "solid"
         },
         "marker": {
          "symbol": "circle"
         },
         "mode": "lines",
         "name": "",
         "orientation": "v",
         "showlegend": false,
         "type": "scatter",
         "x": [
          "2022-01-05",
          "2022-01-06",
          "2022-01-07",
          "2022-01-08",
          "2022-01-09",
          "2022-01-10",
          "2022-01-11",
          "2022-01-12",
          "2022-01-16",
          "2022-01-17",
          "2022-01-18",
          "2022-01-19",
          "2022-01-20",
          "2022-01-21",
          "2022-01-22",
          "2022-01-23",
          "2022-01-24",
          "2022-01-25",
          "2022-01-26",
          "2022-01-27",
          "2022-01-28",
          "2022-01-29",
          "2022-01-30",
          "2022-01-31",
          "2022-02-01",
          "2022-02-02",
          "2022-02-03",
          "2022-02-04",
          "2022-02-05",
          "2022-02-06",
          "2022-02-07",
          "2022-02-08",
          "2022-02-09",
          "2022-02-10",
          "2022-02-11",
          "2022-02-12",
          "2022-02-13",
          "2022-02-14",
          "2022-02-15",
          "2022-02-16",
          "2022-02-17",
          "2022-02-18",
          "2022-02-19",
          "2022-02-20",
          "2022-02-21",
          "2022-02-22",
          "2022-02-23",
          "2022-02-24",
          "2022-02-25",
          "2022-02-26",
          "2022-02-27",
          "2022-02-28",
          "2022-03-01",
          "2022-03-02",
          "2022-03-03",
          "2022-03-04",
          "2022-03-05",
          "2022-03-06",
          "2022-03-07",
          "2022-03-08",
          "2022-03-09",
          "2022-03-10",
          "2022-03-11",
          "2022-03-12",
          "2022-03-13",
          "2022-03-14",
          "2022-03-15",
          "2022-03-16",
          "2022-03-17",
          "2022-03-18",
          "2022-03-19",
          "2022-03-20",
          "2022-03-21",
          "2022-03-22",
          "2022-03-23",
          "2022-03-24",
          "2022-03-25",
          "2022-03-26",
          "2022-03-27",
          "2022-03-28",
          "2022-03-29",
          "2022-03-30",
          "2022-03-31",
          "2022-04-01",
          "2022-04-02",
          "2022-04-05",
          "2022-04-06",
          "2022-04-07",
          "2022-04-08",
          "2022-04-09",
          "2022-04-10",
          "2022-04-11",
          "2022-04-12",
          "2022-04-13",
          "2022-04-14",
          "2022-04-15",
          "2022-04-16",
          "2022-04-17",
          "2022-04-18",
          "2022-04-19",
          "2022-04-20",
          "2022-04-21",
          "2022-04-22",
          "2022-04-23",
          "2022-04-24",
          "2022-04-25",
          "2022-04-26",
          "2022-04-27",
          "2022-04-28",
          "2022-04-29",
          "2022-04-30",
          "2022-05-01",
          "2022-05-02",
          "2022-05-03",
          "2022-05-04",
          "2022-05-05",
          "2022-05-06",
          "2022-05-07",
          "2022-05-08",
          "2022-05-09",
          "2022-05-10",
          "2022-05-11",
          "2022-05-12",
          "2022-05-13",
          "2022-05-14",
          "2022-05-15",
          "2022-05-16",
          "2022-05-17",
          "2022-05-18",
          "2022-05-19",
          "2022-05-20",
          "2022-05-21",
          "2022-05-22",
          "2022-05-23",
          "2022-05-24",
          "2022-05-26",
          "2022-05-27",
          "2022-05-28",
          "2022-05-29",
          "2022-05-30",
          "2022-05-31",
          "2022-06-01",
          "2022-06-02",
          "2022-06-03",
          "2022-06-04",
          "2022-06-05",
          "2022-06-06",
          "2022-06-07",
          "2022-06-08",
          "2022-06-09",
          "2022-06-10",
          "2022-06-11",
          "2022-06-12",
          "2022-06-13",
          "2022-06-14",
          "2022-06-15",
          "2022-06-16",
          "2022-06-17",
          "2022-06-18",
          "2022-06-19",
          "2022-06-20",
          "2022-06-21",
          "2022-06-22",
          "2022-06-23",
          "2022-06-24",
          "2022-06-25",
          "2022-06-26",
          "2022-06-27",
          "2022-06-28",
          "2022-06-29",
          "2022-07-02",
          "2022-07-03",
          "2022-07-04",
          "2022-07-05",
          "2022-07-06",
          "2022-07-07",
          "2022-07-08",
          "2022-07-09",
          "2022-07-10",
          "2022-07-11",
          "2022-07-12",
          "2022-07-13",
          "2022-07-14",
          "2022-07-15",
          "2022-07-16",
          "2022-07-17",
          "2022-07-18",
          "2022-07-19",
          "2022-07-20",
          "2022-07-21",
          "2022-07-22",
          "2022-07-23",
          "2022-07-24",
          "2022-07-25",
          "2022-07-26",
          "2022-07-27",
          "2022-07-28",
          "2022-07-29",
          "2022-07-30",
          "2022-07-31",
          "2022-08-01",
          "2022-08-02",
          "2022-08-03",
          "2022-08-04",
          "2022-08-05",
          "2022-08-06",
          "2022-08-07",
          "2022-08-08",
          "2022-08-09",
          "2022-08-10",
          "2022-08-11",
          "2022-08-12",
          "2022-08-13",
          "2022-08-14",
          "2022-08-15",
          "2022-08-16",
          "2022-08-17",
          "2022-08-18",
          "2022-08-19",
          "2022-08-20",
          "2022-08-21",
          "2022-08-22",
          "2022-08-23",
          "2022-08-24",
          "2022-08-25",
          "2022-08-26",
          "2022-08-27",
          "2022-08-28",
          "2022-08-29",
          "2022-08-30",
          "2022-08-31",
          "2022-09-01",
          "2022-09-02",
          "2022-09-03",
          "2022-09-04",
          "2022-09-05",
          "2022-09-06",
          "2022-09-07",
          "2022-09-08",
          "2022-09-09",
          "2022-09-10",
          "2022-09-11",
          "2022-09-12",
          "2022-09-13",
          "2022-09-14",
          "2022-09-16"
         ],
         "xaxis": "x",
         "y": [
          0.5922035965346039,
          1.1698886532832014,
          1.234075881810823,
          1.4266375673936889,
          1.4587311816575002,
          1.6833864815041764,
          1.811760938559421,
          1.9722290098784752,
          1.994317368686592,
          1.994317368686592,
          1.8056264968312368,
          1.9188410199444497,
          1.5037211018626695,
          1.0131248350387492,
          0.3338376963594738,
          -0.6096166629172979,
          -0.7605693604015807,
          -0.8737838835147933,
          -0.232234919206589,
          0.3338376963594738,
          0.6734812656991115,
          1.4659829274915994,
          0.7112194400701827,
          0.7167720876566162,
          0.8201075131379102,
          0.3034303857314388,
          -0.3165821671563277,
          -0.9365947200440942,
          -0.8849270073034478,
          -0.6782561563408586,
          -1.918281262116392,
          -1.76327812389445,
          -1.8149458366350972,
          -1.1432655710066837,
          -0.5749207308595645,
          -0.4715853053782693,
          -0.058243603453092,
          -0.2132467416750336,
          -0.1099113161937395,
          -1.2982687092286251,
          1.4266375673936889,
          1.522918410185122,
          1.1698886532832014,
          0.720578053589848,
          1.1377950390193905,
          0.4317355252155492,
          0.4317355252155492,
          -1.401604134709919,
          -0.7815915818221526,
          0.2517626729907912,
          0.2517626729907912,
          0.4584335239533804,
          1.38845235328503,
          2.370138895357328,
          1.1301137895817934,
          0.3034303857314388,
          1.6984586297289124,
          2.576809746319916,
          1.853461767950854,
          0.6134366621753221,
          1.0267783641004995,
          1.078446076841147,
          -0.161579028934386,
          -0.2649144544156812,
          0.4584335239533804,
          0.7167720876566162,
          0.510101236694027,
          0.5617689494346745,
          1.1301137895817934,
          -0.5232530181189169,
          -0.5232530181189169,
          -0.5232530181189169,
          -0.5749207308595645,
          0.1484272475094972,
          -0.8849270073034478,
          0.045091822028202,
          -0.7815915818221526,
          -0.8849270073034478,
          0.1484272475094972,
          -0.4715853053782693,
          -0.5232530181189169,
          -1.039930145525389,
          -0.6782561563408586,
          0.8201075131379102,
          0.8201075131379102,
          0.1107993825774393,
          -0.0817623030054264,
          0.0145185397860064,
          -0.563166516962591,
          -0.1459495315330482,
          0.174986611105061,
          0.2391738396326834,
          0.8810461249089027,
          0.9773269677003356,
          1.0415141962279573,
          0.5280163680069822,
          1.555012024448933,
          1.4587311816575002,
          0.9773269677003356,
          0.8489525106450915,
          0.9773269677003356,
          1.1377950390193905,
          -0.2101367600606706,
          -0.5310729026987798,
          -0.5310729026987798,
          -0.3706048313797252,
          0.0145185397860064,
          0.1428929968412505,
          0.2960995219884026,
          0.1074086501330486,
          -0.7228311860305104,
          -0.420925791061943,
          -0.2699730935776602,
          0.5602667425858989,
          1.2395538812651743,
          1.0131248350387492,
          1.352768404378387,
          0.748957614441253,
          -0.0812822217223053,
          -0.3077112679487305,
          -0.3831876166908727,
          -0.232234919206589,
          -0.4964021398040853,
          -1.1002129297412184,
          -0.7605693604015807,
          -1.1756892784833608,
          -0.4586639654330142,
          0.0696704757619775,
          -0.1944967448355179,
          0.6357430913280404,
          0.7526716678536586,
          1.0736078104917686,
          0.9452333534365244,
          0.6884844393260369,
          0.4959227537431709,
          0.5922035965346039,
          0.5280163680069822,
          0.2070802253688722,
          -0.0496686887416152,
          -0.2422303743244811,
          -0.6273537454902127,
          -1.1408515737111886,
          1.0886011837808915,
          1.8056264968312368,
          1.1263393581519618,
          0.2206231732462612,
          1.5414592762337418,
          1.352768404378387,
          0.9753866606676788,
          -0.0812822217223053,
          -0.6473548372883682,
          -0.420925791061943,
          -0.9115220578858644,
          -1.062474755370148,
          -1.2511656272255025,
          -0.9115220578858644,
          -0.4586639654330142,
          -0.836045709143723,
          -1.1756892784833608,
          -0.986998406628006,
          -0.7228311860305104,
          -0.8737838835147933,
          -0.9115220578858644,
          -0.5718784885462268,
          -0.7228311860305104,
          -1.3643801503387147,
          -1.3266419759676435,
          -0.836045709143723,
          -1.213427452854431,
          -1.5153328478229984,
          -1.2050388022388103,
          -0.8199154310730786,
          -0.1138559172692376,
          0.1428929968412505,
          -0.1138559172692376,
          0.3354546824241163,
          0.271267453896494,
          0.2070802253688722,
          0.0787057683136281,
          0.4959227537431709,
          1.651292867240366,
          1.3945439531298784,
          2.036416238406097,
          2.036416238406097,
          2.068509852669908,
          1.7154800957679883,
          0.4959227537431709,
          0.7847652821174698,
          0.399641910951738,
          0.0787057683136281,
          -0.4989792884349693,
          -0.9161962738645116,
          -0.8520090453368898,
          -0.884102659600701,
          -1.590162173404542,
          -1.4296941020854872,
          -1.4296941020854872,
          -1.3334132592940544,
          -1.0124771166559443,
          -1.3655068735578657,
          -1.397600487821676,
          -1.2692260307664327,
          -0.4668856741711581,
          -0.3064176028521035,
          -0.5952601312264022,
          -0.6915409740178352,
          -0.5952601312264022,
          -0.9161962738645116,
          -1.1729451879749997,
          -0.9482898881283228,
          -0.9482898881283228,
          -0.0175750744778047,
          0.2391738396326834,
          0.816858896381281,
          1.234075881810823,
          0.8489525106450915,
          0.7526716678536586,
          0.271267453896494,
          -0.0496686887416152,
          -0.4668856741711581,
          -0.8520090453368898,
          -0.6915409740178352,
          -0.659447359754024,
          -0.4989792884349693,
          -0.563166516962591,
          -0.8199154310730786,
          -1.558068559140731,
          -0.980383502392134,
          -0.6273537454902127,
          -1.076664345183567,
          -0.7557282025454569,
          -0.3706048313797252,
          0.0145185397860064,
          -0.2101367600606706,
          -0.5952601312264022,
          -0.6915409740178352,
          -1.076664345183567,
          -1.397600487821676,
          -1.2692260307664327,
          -1.911098316042652,
          -1.9431919303064624,
          -1.590162173404542,
          -1.2050388022388103,
          -1.4296941020854872,
          -1.558068559140731,
          -0.6915409740178352
         ],
         "yaxis": "y2"
        }
       ],
       "layout": {
        "template": {
         "data": {
          "bar": [
           {
            "error_x": {
             "color": "#2a3f5f"
            },
            "error_y": {
             "color": "#2a3f5f"
            },
            "marker": {
             "line": {
              "color": "#E5ECF6",
              "width": 0.5
             },
             "pattern": {
              "fillmode": "overlay",
              "size": 10,
              "solidity": 0.2
             }
            },
            "type": "bar"
           }
          ],
          "barpolar": [
           {
            "marker": {
             "line": {
              "color": "#E5ECF6",
              "width": 0.5
             },
             "pattern": {
              "fillmode": "overlay",
              "size": 10,
              "solidity": 0.2
             }
            },
            "type": "barpolar"
           }
          ],
          "carpet": [
           {
            "aaxis": {
             "endlinecolor": "#2a3f5f",
             "gridcolor": "white",
             "linecolor": "white",
             "minorgridcolor": "white",
             "startlinecolor": "#2a3f5f"
            },
            "baxis": {
             "endlinecolor": "#2a3f5f",
             "gridcolor": "white",
             "linecolor": "white",
             "minorgridcolor": "white",
             "startlinecolor": "#2a3f5f"
            },
            "type": "carpet"
           }
          ],
          "choropleth": [
           {
            "colorbar": {
             "outlinewidth": 0,
             "ticks": ""
            },
            "type": "choropleth"
           }
          ],
          "contour": [
           {
            "colorbar": {
             "outlinewidth": 0,
             "ticks": ""
            },
            "colorscale": [
             [
              0,
              "#0d0887"
             ],
             [
              0.1111111111111111,
              "#46039f"
             ],
             [
              0.2222222222222222,
              "#7201a8"
             ],
             [
              0.3333333333333333,
              "#9c179e"
             ],
             [
              0.4444444444444444,
              "#bd3786"
             ],
             [
              0.5555555555555556,
              "#d8576b"
             ],
             [
              0.6666666666666666,
              "#ed7953"
             ],
             [
              0.7777777777777778,
              "#fb9f3a"
             ],
             [
              0.8888888888888888,
              "#fdca26"
             ],
             [
              1,
              "#f0f921"
             ]
            ],
            "type": "contour"
           }
          ],
          "contourcarpet": [
           {
            "colorbar": {
             "outlinewidth": 0,
             "ticks": ""
            },
            "type": "contourcarpet"
           }
          ],
          "heatmap": [
           {
            "colorbar": {
             "outlinewidth": 0,
             "ticks": ""
            },
            "colorscale": [
             [
              0,
              "#0d0887"
             ],
             [
              0.1111111111111111,
              "#46039f"
             ],
             [
              0.2222222222222222,
              "#7201a8"
             ],
             [
              0.3333333333333333,
              "#9c179e"
             ],
             [
              0.4444444444444444,
              "#bd3786"
             ],
             [
              0.5555555555555556,
              "#d8576b"
             ],
             [
              0.6666666666666666,
              "#ed7953"
             ],
             [
              0.7777777777777778,
              "#fb9f3a"
             ],
             [
              0.8888888888888888,
              "#fdca26"
             ],
             [
              1,
              "#f0f921"
             ]
            ],
            "type": "heatmap"
           }
          ],
          "heatmapgl": [
           {
            "colorbar": {
             "outlinewidth": 0,
             "ticks": ""
            },
            "colorscale": [
             [
              0,
              "#0d0887"
             ],
             [
              0.1111111111111111,
              "#46039f"
             ],
             [
              0.2222222222222222,
              "#7201a8"
             ],
             [
              0.3333333333333333,
              "#9c179e"
             ],
             [
              0.4444444444444444,
              "#bd3786"
             ],
             [
              0.5555555555555556,
              "#d8576b"
             ],
             [
              0.6666666666666666,
              "#ed7953"
             ],
             [
              0.7777777777777778,
              "#fb9f3a"
             ],
             [
              0.8888888888888888,
              "#fdca26"
             ],
             [
              1,
              "#f0f921"
             ]
            ],
            "type": "heatmapgl"
           }
          ],
          "histogram": [
           {
            "marker": {
             "pattern": {
              "fillmode": "overlay",
              "size": 10,
              "solidity": 0.2
             }
            },
            "type": "histogram"
           }
          ],
          "histogram2d": [
           {
            "colorbar": {
             "outlinewidth": 0,
             "ticks": ""
            },
            "colorscale": [
             [
              0,
              "#0d0887"
             ],
             [
              0.1111111111111111,
              "#46039f"
             ],
             [
              0.2222222222222222,
              "#7201a8"
             ],
             [
              0.3333333333333333,
              "#9c179e"
             ],
             [
              0.4444444444444444,
              "#bd3786"
             ],
             [
              0.5555555555555556,
              "#d8576b"
             ],
             [
              0.6666666666666666,
              "#ed7953"
             ],
             [
              0.7777777777777778,
              "#fb9f3a"
             ],
             [
              0.8888888888888888,
              "#fdca26"
             ],
             [
              1,
              "#f0f921"
             ]
            ],
            "type": "histogram2d"
           }
          ],
          "histogram2dcontour": [
           {
            "colorbar": {
             "outlinewidth": 0,
             "ticks": ""
            },
            "colorscale": [
             [
              0,
              "#0d0887"
             ],
             [
              0.1111111111111111,
              "#46039f"
             ],
             [
              0.2222222222222222,
              "#7201a8"
             ],
             [
              0.3333333333333333,
              "#9c179e"
             ],
             [
              0.4444444444444444,
              "#bd3786"
             ],
             [
              0.5555555555555556,
              "#d8576b"
             ],
             [
              0.6666666666666666,
              "#ed7953"
             ],
             [
              0.7777777777777778,
              "#fb9f3a"
             ],
             [
              0.8888888888888888,
              "#fdca26"
             ],
             [
              1,
              "#f0f921"
             ]
            ],
            "type": "histogram2dcontour"
           }
          ],
          "mesh3d": [
           {
            "colorbar": {
             "outlinewidth": 0,
             "ticks": ""
            },
            "type": "mesh3d"
           }
          ],
          "parcoords": [
           {
            "line": {
             "colorbar": {
              "outlinewidth": 0,
              "ticks": ""
             }
            },
            "type": "parcoords"
           }
          ],
          "pie": [
           {
            "automargin": true,
            "type": "pie"
           }
          ],
          "scatter": [
           {
            "fillpattern": {
             "fillmode": "overlay",
             "size": 10,
             "solidity": 0.2
            },
            "type": "scatter"
           }
          ],
          "scatter3d": [
           {
            "line": {
             "colorbar": {
              "outlinewidth": 0,
              "ticks": ""
             }
            },
            "marker": {
             "colorbar": {
              "outlinewidth": 0,
              "ticks": ""
             }
            },
            "type": "scatter3d"
           }
          ],
          "scattercarpet": [
           {
            "marker": {
             "colorbar": {
              "outlinewidth": 0,
              "ticks": ""
             }
            },
            "type": "scattercarpet"
           }
          ],
          "scattergeo": [
           {
            "marker": {
             "colorbar": {
              "outlinewidth": 0,
              "ticks": ""
             }
            },
            "type": "scattergeo"
           }
          ],
          "scattergl": [
           {
            "marker": {
             "colorbar": {
              "outlinewidth": 0,
              "ticks": ""
             }
            },
            "type": "scattergl"
           }
          ],
          "scattermapbox": [
           {
            "marker": {
             "colorbar": {
              "outlinewidth": 0,
              "ticks": ""
             }
            },
            "type": "scattermapbox"
           }
          ],
          "scatterpolar": [
           {
            "marker": {
             "colorbar": {
              "outlinewidth": 0,
              "ticks": ""
             }
            },
            "type": "scatterpolar"
           }
          ],
          "scatterpolargl": [
           {
            "marker": {
             "colorbar": {
              "outlinewidth": 0,
              "ticks": ""
             }
            },
            "type": "scatterpolargl"
           }
          ],
          "scatterternary": [
           {
            "marker": {
             "colorbar": {
              "outlinewidth": 0,
              "ticks": ""
             }
            },
            "type": "scatterternary"
           }
          ],
          "surface": [
           {
            "colorbar": {
             "outlinewidth": 0,
             "ticks": ""
            },
            "colorscale": [
             [
              0,
              "#0d0887"
             ],
             [
              0.1111111111111111,
              "#46039f"
             ],
             [
              0.2222222222222222,
              "#7201a8"
             ],
             [
              0.3333333333333333,
              "#9c179e"
             ],
             [
              0.4444444444444444,
              "#bd3786"
             ],
             [
              0.5555555555555556,
              "#d8576b"
             ],
             [
              0.6666666666666666,
              "#ed7953"
             ],
             [
              0.7777777777777778,
              "#fb9f3a"
             ],
             [
              0.8888888888888888,
              "#fdca26"
             ],
             [
              1,
              "#f0f921"
             ]
            ],
            "type": "surface"
           }
          ],
          "table": [
           {
            "cells": {
             "fill": {
              "color": "#EBF0F8"
             },
             "line": {
              "color": "white"
             }
            },
            "header": {
             "fill": {
              "color": "#C8D4E3"
             },
             "line": {
              "color": "white"
             }
            },
            "type": "table"
           }
          ]
         },
         "layout": {
          "annotationdefaults": {
           "arrowcolor": "#2a3f5f",
           "arrowhead": 0,
           "arrowwidth": 1
          },
          "autotypenumbers": "strict",
          "coloraxis": {
           "colorbar": {
            "outlinewidth": 0,
            "ticks": ""
           }
          },
          "colorscale": {
           "diverging": [
            [
             0,
             "#8e0152"
            ],
            [
             0.1,
             "#c51b7d"
            ],
            [
             0.2,
             "#de77ae"
            ],
            [
             0.3,
             "#f1b6da"
            ],
            [
             0.4,
             "#fde0ef"
            ],
            [
             0.5,
             "#f7f7f7"
            ],
            [
             0.6,
             "#e6f5d0"
            ],
            [
             0.7,
             "#b8e186"
            ],
            [
             0.8,
             "#7fbc41"
            ],
            [
             0.9,
             "#4d9221"
            ],
            [
             1,
             "#276419"
            ]
           ],
           "sequential": [
            [
             0,
             "#0d0887"
            ],
            [
             0.1111111111111111,
             "#46039f"
            ],
            [
             0.2222222222222222,
             "#7201a8"
            ],
            [
             0.3333333333333333,
             "#9c179e"
            ],
            [
             0.4444444444444444,
             "#bd3786"
            ],
            [
             0.5555555555555556,
             "#d8576b"
            ],
            [
             0.6666666666666666,
             "#ed7953"
            ],
            [
             0.7777777777777778,
             "#fb9f3a"
            ],
            [
             0.8888888888888888,
             "#fdca26"
            ],
            [
             1,
             "#f0f921"
            ]
           ],
           "sequentialminus": [
            [
             0,
             "#0d0887"
            ],
            [
             0.1111111111111111,
             "#46039f"
            ],
            [
             0.2222222222222222,
             "#7201a8"
            ],
            [
             0.3333333333333333,
             "#9c179e"
            ],
            [
             0.4444444444444444,
             "#bd3786"
            ],
            [
             0.5555555555555556,
             "#d8576b"
            ],
            [
             0.6666666666666666,
             "#ed7953"
            ],
            [
             0.7777777777777778,
             "#fb9f3a"
            ],
            [
             0.8888888888888888,
             "#fdca26"
            ],
            [
             1,
             "#f0f921"
            ]
           ]
          },
          "colorway": [
           "#636efa",
           "#EF553B",
           "#00cc96",
           "#ab63fa",
           "#FFA15A",
           "#19d3f3",
           "#FF6692",
           "#B6E880",
           "#FF97FF",
           "#FECB52"
          ],
          "font": {
           "color": "#2a3f5f"
          },
          "geo": {
           "bgcolor": "white",
           "lakecolor": "white",
           "landcolor": "#E5ECF6",
           "showlakes": true,
           "showland": true,
           "subunitcolor": "white"
          },
          "hoverlabel": {
           "align": "left"
          },
          "hovermode": "closest",
          "mapbox": {
           "style": "light"
          },
          "paper_bgcolor": "white",
          "plot_bgcolor": "#E5ECF6",
          "polar": {
           "angularaxis": {
            "gridcolor": "white",
            "linecolor": "white",
            "ticks": ""
           },
           "bgcolor": "#E5ECF6",
           "radialaxis": {
            "gridcolor": "white",
            "linecolor": "white",
            "ticks": ""
           }
          },
          "scene": {
           "xaxis": {
            "backgroundcolor": "#E5ECF6",
            "gridcolor": "white",
            "gridwidth": 2,
            "linecolor": "white",
            "showbackground": true,
            "ticks": "",
            "zerolinecolor": "white"
           },
           "yaxis": {
            "backgroundcolor": "#E5ECF6",
            "gridcolor": "white",
            "gridwidth": 2,
            "linecolor": "white",
            "showbackground": true,
            "ticks": "",
            "zerolinecolor": "white"
           },
           "zaxis": {
            "backgroundcolor": "#E5ECF6",
            "gridcolor": "white",
            "gridwidth": 2,
            "linecolor": "white",
            "showbackground": true,
            "ticks": "",
            "zerolinecolor": "white"
           }
          },
          "shapedefaults": {
           "line": {
            "color": "#2a3f5f"
           }
          },
          "ternary": {
           "aaxis": {
            "gridcolor": "white",
            "linecolor": "white",
            "ticks": ""
           },
           "baxis": {
            "gridcolor": "white",
            "linecolor": "white",
            "ticks": ""
           },
           "bgcolor": "#E5ECF6",
           "caxis": {
            "gridcolor": "white",
            "linecolor": "white",
            "ticks": ""
           }
          },
          "title": {
           "x": 0.05
          },
          "xaxis": {
           "automargin": true,
           "gridcolor": "white",
           "linecolor": "white",
           "ticks": "",
           "title": {
            "standoff": 15
           },
           "zerolinecolor": "white",
           "zerolinewidth": 2
          },
          "yaxis": {
           "automargin": true,
           "gridcolor": "white",
           "linecolor": "white",
           "ticks": "",
           "title": {
            "standoff": 15
           },
           "zerolinecolor": "white",
           "zerolinewidth": 2
          }
         }
        },
        "xaxis": {
         "anchor": "y",
         "domain": [
          0,
          0.94
         ]
        },
        "yaxis": {
         "anchor": "x",
         "domain": [
          0,
          1
         ]
        },
        "yaxis2": {
         "anchor": "x",
         "overlaying": "y",
         "side": "right"
        }
       }
      },
      "text/html": [
       "<div>                            <div id=\"19768e14-1cb4-4248-bfdb-379606010fb9\" class=\"plotly-graph-div\" style=\"height:525px; width:100%;\"></div>            <script type=\"text/javascript\">                require([\"plotly\"], function(Plotly) {                    window.PLOTLYENV=window.PLOTLYENV || {};                                    if (document.getElementById(\"19768e14-1cb4-4248-bfdb-379606010fb9\")) {                    Plotly.newPlot(                        \"19768e14-1cb4-4248-bfdb-379606010fb9\",                        [{\"hovertemplate\":\"date=%{x}<br>Mean=%{y}<extra></extra>\",\"legendgroup\":\"\",\"line\":{\"dash\":\"solid\"},\"marker\":{\"symbol\":\"circle\"},\"mode\":\"lines\",\"name\":\"\",\"orientation\":\"v\",\"showlegend\":false,\"x\":[\"2022-01-05\",\"2022-01-06\",\"2022-01-07\",\"2022-01-08\",\"2022-01-09\",\"2022-01-10\",\"2022-01-11\",\"2022-01-12\",\"2022-01-16\",\"2022-01-17\",\"2022-01-18\",\"2022-01-19\",\"2022-01-20\",\"2022-01-21\",\"2022-01-22\",\"2022-01-23\",\"2022-01-24\",\"2022-01-25\",\"2022-01-26\",\"2022-01-27\",\"2022-01-28\",\"2022-01-29\",\"2022-01-30\",\"2022-01-31\",\"2022-02-01\",\"2022-02-02\",\"2022-02-03\",\"2022-02-04\",\"2022-02-05\",\"2022-02-06\",\"2022-02-07\",\"2022-02-08\",\"2022-02-09\",\"2022-02-10\",\"2022-02-11\",\"2022-02-12\",\"2022-02-13\",\"2022-02-14\",\"2022-02-15\",\"2022-02-16\",\"2022-02-17\",\"2022-02-18\",\"2022-02-19\",\"2022-02-20\",\"2022-02-21\",\"2022-02-22\",\"2022-02-23\",\"2022-02-24\",\"2022-02-25\",\"2022-02-26\",\"2022-02-27\",\"2022-02-28\",\"2022-03-01\",\"2022-03-02\",\"2022-03-03\",\"2022-03-04\",\"2022-03-05\",\"2022-03-06\",\"2022-03-07\",\"2022-03-08\",\"2022-03-09\",\"2022-03-10\",\"2022-03-11\",\"2022-03-12\",\"2022-03-13\",\"2022-03-14\",\"2022-03-15\",\"2022-03-16\",\"2022-03-17\",\"2022-03-18\",\"2022-03-19\",\"2022-03-20\",\"2022-03-21\",\"2022-03-22\",\"2022-03-23\",\"2022-03-24\",\"2022-03-25\",\"2022-03-26\",\"2022-03-27\",\"2022-03-28\",\"2022-03-29\",\"2022-03-30\",\"2022-03-31\",\"2022-04-01\",\"2022-04-02\",\"2022-04-05\",\"2022-04-06\",\"2022-04-07\",\"2022-04-08\",\"2022-04-09\",\"2022-04-10\",\"2022-04-11\",\"2022-04-12\",\"2022-04-13\",\"2022-04-14\",\"2022-04-15\",\"2022-04-16\",\"2022-04-17\",\"2022-04-18\",\"2022-04-19\",\"2022-04-20\",\"2022-04-21\",\"2022-04-22\",\"2022-04-23\",\"2022-04-24\",\"2022-04-25\",\"2022-04-26\",\"2022-04-27\",\"2022-04-28\",\"2022-04-29\",\"2022-04-30\",\"2022-05-01\",\"2022-05-02\",\"2022-05-03\",\"2022-05-04\",\"2022-05-05\",\"2022-05-06\",\"2022-05-07\",\"2022-05-08\",\"2022-05-09\",\"2022-05-10\",\"2022-05-11\",\"2022-05-12\",\"2022-05-13\",\"2022-05-14\",\"2022-05-15\",\"2022-05-16\",\"2022-05-17\",\"2022-05-18\",\"2022-05-19\",\"2022-05-20\",\"2022-05-21\",\"2022-05-22\",\"2022-05-23\",\"2022-05-24\",\"2022-05-26\",\"2022-05-27\",\"2022-05-28\",\"2022-05-29\",\"2022-05-30\",\"2022-05-31\",\"2022-06-01\",\"2022-06-02\",\"2022-06-03\",\"2022-06-04\",\"2022-06-05\",\"2022-06-06\",\"2022-06-07\",\"2022-06-08\",\"2022-06-09\",\"2022-06-10\",\"2022-06-11\",\"2022-06-12\",\"2022-06-13\",\"2022-06-14\",\"2022-06-15\",\"2022-06-16\",\"2022-06-17\",\"2022-06-18\",\"2022-06-19\",\"2022-06-20\",\"2022-06-21\",\"2022-06-22\",\"2022-06-23\",\"2022-06-24\",\"2022-06-25\",\"2022-06-26\",\"2022-06-27\",\"2022-06-28\",\"2022-06-29\",\"2022-07-02\",\"2022-07-03\",\"2022-07-04\",\"2022-07-05\",\"2022-07-06\",\"2022-07-07\",\"2022-07-08\",\"2022-07-09\",\"2022-07-10\",\"2022-07-11\",\"2022-07-12\",\"2022-07-13\",\"2022-07-14\",\"2022-07-15\",\"2022-07-16\",\"2022-07-17\",\"2022-07-18\",\"2022-07-19\",\"2022-07-20\",\"2022-07-21\",\"2022-07-22\",\"2022-07-23\",\"2022-07-24\",\"2022-07-25\",\"2022-07-26\",\"2022-07-27\",\"2022-07-28\",\"2022-07-29\",\"2022-07-30\",\"2022-07-31\",\"2022-08-01\",\"2022-08-02\",\"2022-08-03\",\"2022-08-04\",\"2022-08-05\",\"2022-08-06\",\"2022-08-07\",\"2022-08-08\",\"2022-08-09\",\"2022-08-10\",\"2022-08-11\",\"2022-08-12\",\"2022-08-13\",\"2022-08-14\",\"2022-08-15\",\"2022-08-16\",\"2022-08-17\",\"2022-08-18\",\"2022-08-19\",\"2022-08-20\",\"2022-08-21\",\"2022-08-22\",\"2022-08-23\",\"2022-08-24\",\"2022-08-25\",\"2022-08-26\",\"2022-08-27\",\"2022-08-28\",\"2022-08-29\",\"2022-08-30\",\"2022-08-31\",\"2022-09-01\",\"2022-09-02\",\"2022-09-03\",\"2022-09-04\",\"2022-09-05\",\"2022-09-06\",\"2022-09-07\",\"2022-09-08\",\"2022-09-09\",\"2022-09-10\",\"2022-09-11\",\"2022-09-12\",\"2022-09-13\",\"2022-09-14\",\"2022-09-16\"],\"xaxis\":\"x\",\"y\":[16300560.396325707,17658648.89806571,17347162.93101469,16975064.4272259,16797785.791917797,16806788.914961446,16811833.251713973,16734018.396816732,17112088.201657716,17011946.553369317,16970497.972453773,16652439.489730489,14965479.43222849,13323793.673679637,12873959.016227724,11303651.720090585,11007467.34700925,10871655.621807251,12159820.822644686,13505607.403390111,13681356.340413606,14936296.611906191,14923038.910625257,12589322.572192566,12568194.290519638,12656150.217581045,12895523.888825014,13174352.579157157,14758873.283617333,14966112.54168266,13981120.739769287,14329206.281212503,12998453.810260974,13035101.46742987,12935524.996210158,14282421.110996926,14269045.839103565,14234745.430921003,13983623.878515448,12451147.474175066,15269480.34958822,15144035.258112026,13602820.084048048,11961488.017577806,11692883.442188185,10520623.18598848,10597508.98837556,12302652.732426368,12055658.914270565,13312310.455994308,13302684.301300997,15072063.977543931,16640913.820278505,16726833.162031168,15359834.212318948,14337334.69371573,13968809.536106026,13561663.795575554,13355494.93965335,11993273.990426429,12099160.81741657,12943501.406253258,12695278.590656549,12590908.615391329,12418870.720681133,12292307.862216016,13682690.17967298,12526529.102193069,12882839.583889768,11436021.607194657,11324391.68407502,12674892.310120234,11270116.114267657,12775937.96738934,11589932.293703048,13442791.025573203,13942925.906535745,12722266.4979224,14600266.085370503,14866187.212059,14936133.6515846,13608250.734281491,12280254.842698582,14027934.698614923,13825044.782824928,9370691.80449831,9533048.390190354,9701736.487279251,8516841.090446098,9443838.824822633,9364852.622400708,10675149.238137288,11864137.72101284,11742429.723710775,12885260.082449311,11467406.715709897,12690455.363681272,11144443.841934573,9815462.194832023,9820668.402080366,9694690.695536984,9815317.107529247,9585090.849358326,9490934.549195984,10580321.827864258,10357739.355840078,9904135.934160378,9669618.420316638,13644156.129957588,13356814.415303038,11853810.286388464,11775592.976694366,11590485.543108916,11612288.84540094,12868801.298505137,13053035.151801929,14110520.33822723,13778267.472966751,12530386.508751629,12021290.84041947,11497172.066507123,11118384.805893648,10012741.049433025,8903535.797767593,9879758.226772675,8878044.28833642,8912295.660614314,8893381.490528656,8745347.529548453,9631829.455022588,9253797.523018852,10113809.633346066,8627578.21810162,8436459.608976576,8431611.204082683,9263388.742297878,9200360.676142124,8049840.762693316,7924927.841125282,7868657.633253898,7230972.840943344,6065311.089454257,9510080.885098493,10311356.508528523,10188843.301089196,9230875.838806592,10421951.542127308,9410805.585428568,9295633.88340653,8287272.486073527,7205341.804875426,7007599.814036851,6448621.827739158,6996861.265276186,6653012.160243738,7241345.740182835,7813596.111569532,7643831.547008324,7531588.959285109,7505410.359529986,7423733.098475824,6722836.719293342,6849695.54328337,6908397.18765669,6799747.286928598,5966884.493104179,5897396.60152033,6545954.712858573,6358798.550920685,6316020.342904109,5492587.888628663,6037932.844157421,6507796.793347505,6309120.805134576,5657328.519440842,6476220.235650866,6414659.974277817,6216635.331815537,6170705.76427205,6847120.495130398,7568256.8942576,6839261.199889245,6985216.111671757,7127510.381407448,7193205.759368735,6399743.077854154,5758539.531994228,6621291.371501154,6804726.057510258,6060577.235854323,5243187.541894077,5147318.963220172,5064263.508210289,4858667.85518512,3909371.044759281,4096096.090724261,4204594.980261365,4307863.510326613,5003951.526183036,4228045.443139293,4333588.643109683,5018962.503638574,5804053.423344479,5895996.5152875,5037398.072898928,5004869.981366244,4880399.674905674,3947814.281643769,3948862.58109716,4797672.732006527,4884605.922182759,5715605.453048547,6451408.939340082,7364789.98125288,7339247.45884328,6379593.836309846,6259926.059650292,6100968.986072023,5275627.779843024,5031561.367078741,4892291.1739766905,5546647.476200526,5516003.131957986,5482295.180712657,5456852.680862268,4775999.74259103,3957207.108413973,3931561.776743367,4698801.634696487,4061940.882940602,4708582.741603273,5294455.559226955,5380768.831610278,5275279.474289083,4521161.304549058,4425189.697850819,3752298.765401428,3150115.6873833905,3837971.635240448,3236858.334502481,3272351.204580219,3426944.4127864144,4117827.867354317,4050300.34362331,3335873.889345976,3912334.868152091],\"yaxis\":\"y\",\"type\":\"scatter\"},{\"hovertemplate\":\"date=%{x}<br>trust=%{y}<extra></extra>\",\"legendgroup\":\"\",\"line\":{\"dash\":\"solid\"},\"marker\":{\"symbol\":\"circle\"},\"mode\":\"lines\",\"name\":\"\",\"orientation\":\"v\",\"showlegend\":false,\"x\":[\"2022-01-05\",\"2022-01-06\",\"2022-01-07\",\"2022-01-08\",\"2022-01-09\",\"2022-01-10\",\"2022-01-11\",\"2022-01-12\",\"2022-01-16\",\"2022-01-17\",\"2022-01-18\",\"2022-01-19\",\"2022-01-20\",\"2022-01-21\",\"2022-01-22\",\"2022-01-23\",\"2022-01-24\",\"2022-01-25\",\"2022-01-26\",\"2022-01-27\",\"2022-01-28\",\"2022-01-29\",\"2022-01-30\",\"2022-01-31\",\"2022-02-01\",\"2022-02-02\",\"2022-02-03\",\"2022-02-04\",\"2022-02-05\",\"2022-02-06\",\"2022-02-07\",\"2022-02-08\",\"2022-02-09\",\"2022-02-10\",\"2022-02-11\",\"2022-02-12\",\"2022-02-13\",\"2022-02-14\",\"2022-02-15\",\"2022-02-16\",\"2022-02-17\",\"2022-02-18\",\"2022-02-19\",\"2022-02-20\",\"2022-02-21\",\"2022-02-22\",\"2022-02-23\",\"2022-02-24\",\"2022-02-25\",\"2022-02-26\",\"2022-02-27\",\"2022-02-28\",\"2022-03-01\",\"2022-03-02\",\"2022-03-03\",\"2022-03-04\",\"2022-03-05\",\"2022-03-06\",\"2022-03-07\",\"2022-03-08\",\"2022-03-09\",\"2022-03-10\",\"2022-03-11\",\"2022-03-12\",\"2022-03-13\",\"2022-03-14\",\"2022-03-15\",\"2022-03-16\",\"2022-03-17\",\"2022-03-18\",\"2022-03-19\",\"2022-03-20\",\"2022-03-21\",\"2022-03-22\",\"2022-03-23\",\"2022-03-24\",\"2022-03-25\",\"2022-03-26\",\"2022-03-27\",\"2022-03-28\",\"2022-03-29\",\"2022-03-30\",\"2022-03-31\",\"2022-04-01\",\"2022-04-02\",\"2022-04-05\",\"2022-04-06\",\"2022-04-07\",\"2022-04-08\",\"2022-04-09\",\"2022-04-10\",\"2022-04-11\",\"2022-04-12\",\"2022-04-13\",\"2022-04-14\",\"2022-04-15\",\"2022-04-16\",\"2022-04-17\",\"2022-04-18\",\"2022-04-19\",\"2022-04-20\",\"2022-04-21\",\"2022-04-22\",\"2022-04-23\",\"2022-04-24\",\"2022-04-25\",\"2022-04-26\",\"2022-04-27\",\"2022-04-28\",\"2022-04-29\",\"2022-04-30\",\"2022-05-01\",\"2022-05-02\",\"2022-05-03\",\"2022-05-04\",\"2022-05-05\",\"2022-05-06\",\"2022-05-07\",\"2022-05-08\",\"2022-05-09\",\"2022-05-10\",\"2022-05-11\",\"2022-05-12\",\"2022-05-13\",\"2022-05-14\",\"2022-05-15\",\"2022-05-16\",\"2022-05-17\",\"2022-05-18\",\"2022-05-19\",\"2022-05-20\",\"2022-05-21\",\"2022-05-22\",\"2022-05-23\",\"2022-05-24\",\"2022-05-26\",\"2022-05-27\",\"2022-05-28\",\"2022-05-29\",\"2022-05-30\",\"2022-05-31\",\"2022-06-01\",\"2022-06-02\",\"2022-06-03\",\"2022-06-04\",\"2022-06-05\",\"2022-06-06\",\"2022-06-07\",\"2022-06-08\",\"2022-06-09\",\"2022-06-10\",\"2022-06-11\",\"2022-06-12\",\"2022-06-13\",\"2022-06-14\",\"2022-06-15\",\"2022-06-16\",\"2022-06-17\",\"2022-06-18\",\"2022-06-19\",\"2022-06-20\",\"2022-06-21\",\"2022-06-22\",\"2022-06-23\",\"2022-06-24\",\"2022-06-25\",\"2022-06-26\",\"2022-06-27\",\"2022-06-28\",\"2022-06-29\",\"2022-07-02\",\"2022-07-03\",\"2022-07-04\",\"2022-07-05\",\"2022-07-06\",\"2022-07-07\",\"2022-07-08\",\"2022-07-09\",\"2022-07-10\",\"2022-07-11\",\"2022-07-12\",\"2022-07-13\",\"2022-07-14\",\"2022-07-15\",\"2022-07-16\",\"2022-07-17\",\"2022-07-18\",\"2022-07-19\",\"2022-07-20\",\"2022-07-21\",\"2022-07-22\",\"2022-07-23\",\"2022-07-24\",\"2022-07-25\",\"2022-07-26\",\"2022-07-27\",\"2022-07-28\",\"2022-07-29\",\"2022-07-30\",\"2022-07-31\",\"2022-08-01\",\"2022-08-02\",\"2022-08-03\",\"2022-08-04\",\"2022-08-05\",\"2022-08-06\",\"2022-08-07\",\"2022-08-08\",\"2022-08-09\",\"2022-08-10\",\"2022-08-11\",\"2022-08-12\",\"2022-08-13\",\"2022-08-14\",\"2022-08-15\",\"2022-08-16\",\"2022-08-17\",\"2022-08-18\",\"2022-08-19\",\"2022-08-20\",\"2022-08-21\",\"2022-08-22\",\"2022-08-23\",\"2022-08-24\",\"2022-08-25\",\"2022-08-26\",\"2022-08-27\",\"2022-08-28\",\"2022-08-29\",\"2022-08-30\",\"2022-08-31\",\"2022-09-01\",\"2022-09-02\",\"2022-09-03\",\"2022-09-04\",\"2022-09-05\",\"2022-09-06\",\"2022-09-07\",\"2022-09-08\",\"2022-09-09\",\"2022-09-10\",\"2022-09-11\",\"2022-09-12\",\"2022-09-13\",\"2022-09-14\",\"2022-09-16\"],\"xaxis\":\"x\",\"y\":[0.5922035965346039,1.1698886532832014,1.234075881810823,1.4266375673936889,1.4587311816575002,1.6833864815041764,1.811760938559421,1.9722290098784752,1.994317368686592,1.994317368686592,1.8056264968312368,1.9188410199444497,1.5037211018626695,1.0131248350387492,0.3338376963594738,-0.6096166629172979,-0.7605693604015807,-0.8737838835147933,-0.232234919206589,0.3338376963594738,0.6734812656991115,1.4659829274915994,0.7112194400701827,0.7167720876566162,0.8201075131379102,0.3034303857314388,-0.3165821671563277,-0.9365947200440942,-0.8849270073034478,-0.6782561563408586,-1.918281262116392,-1.76327812389445,-1.8149458366350972,-1.1432655710066837,-0.5749207308595645,-0.4715853053782693,-0.058243603453092,-0.2132467416750336,-0.1099113161937395,-1.2982687092286251,1.4266375673936889,1.522918410185122,1.1698886532832014,0.720578053589848,1.1377950390193905,0.4317355252155492,0.4317355252155492,-1.401604134709919,-0.7815915818221526,0.2517626729907912,0.2517626729907912,0.4584335239533804,1.38845235328503,2.370138895357328,1.1301137895817934,0.3034303857314388,1.6984586297289124,2.576809746319916,1.853461767950854,0.6134366621753221,1.0267783641004995,1.078446076841147,-0.161579028934386,-0.2649144544156812,0.4584335239533804,0.7167720876566162,0.510101236694027,0.5617689494346745,1.1301137895817934,-0.5232530181189169,-0.5232530181189169,-0.5232530181189169,-0.5749207308595645,0.1484272475094972,-0.8849270073034478,0.045091822028202,-0.7815915818221526,-0.8849270073034478,0.1484272475094972,-0.4715853053782693,-0.5232530181189169,-1.039930145525389,-0.6782561563408586,0.8201075131379102,0.8201075131379102,0.1107993825774393,-0.0817623030054264,0.0145185397860064,-0.563166516962591,-0.1459495315330482,0.174986611105061,0.2391738396326834,0.8810461249089027,0.9773269677003356,1.0415141962279573,0.5280163680069822,1.555012024448933,1.4587311816575002,0.9773269677003356,0.8489525106450915,0.9773269677003356,1.1377950390193905,-0.2101367600606706,-0.5310729026987798,-0.5310729026987798,-0.3706048313797252,0.0145185397860064,0.1428929968412505,0.2960995219884026,0.1074086501330486,-0.7228311860305104,-0.420925791061943,-0.2699730935776602,0.5602667425858989,1.2395538812651743,1.0131248350387492,1.352768404378387,0.748957614441253,-0.0812822217223053,-0.3077112679487305,-0.3831876166908727,-0.232234919206589,-0.4964021398040853,-1.1002129297412184,-0.7605693604015807,-1.1756892784833608,-0.4586639654330142,0.0696704757619775,-0.1944967448355179,0.6357430913280404,0.7526716678536586,1.0736078104917686,0.9452333534365244,0.6884844393260369,0.4959227537431709,0.5922035965346039,0.5280163680069822,0.2070802253688722,-0.0496686887416152,-0.2422303743244811,-0.6273537454902127,-1.1408515737111886,1.0886011837808915,1.8056264968312368,1.1263393581519618,0.2206231732462612,1.5414592762337418,1.352768404378387,0.9753866606676788,-0.0812822217223053,-0.6473548372883682,-0.420925791061943,-0.9115220578858644,-1.062474755370148,-1.2511656272255025,-0.9115220578858644,-0.4586639654330142,-0.836045709143723,-1.1756892784833608,-0.986998406628006,-0.7228311860305104,-0.8737838835147933,-0.9115220578858644,-0.5718784885462268,-0.7228311860305104,-1.3643801503387147,-1.3266419759676435,-0.836045709143723,-1.213427452854431,-1.5153328478229984,-1.2050388022388103,-0.8199154310730786,-0.1138559172692376,0.1428929968412505,-0.1138559172692376,0.3354546824241163,0.271267453896494,0.2070802253688722,0.0787057683136281,0.4959227537431709,1.651292867240366,1.3945439531298784,2.036416238406097,2.036416238406097,2.068509852669908,1.7154800957679883,0.4959227537431709,0.7847652821174698,0.399641910951738,0.0787057683136281,-0.4989792884349693,-0.9161962738645116,-0.8520090453368898,-0.884102659600701,-1.590162173404542,-1.4296941020854872,-1.4296941020854872,-1.3334132592940544,-1.0124771166559443,-1.3655068735578657,-1.397600487821676,-1.2692260307664327,-0.4668856741711581,-0.3064176028521035,-0.5952601312264022,-0.6915409740178352,-0.5952601312264022,-0.9161962738645116,-1.1729451879749997,-0.9482898881283228,-0.9482898881283228,-0.0175750744778047,0.2391738396326834,0.816858896381281,1.234075881810823,0.8489525106450915,0.7526716678536586,0.271267453896494,-0.0496686887416152,-0.4668856741711581,-0.8520090453368898,-0.6915409740178352,-0.659447359754024,-0.4989792884349693,-0.563166516962591,-0.8199154310730786,-1.558068559140731,-0.980383502392134,-0.6273537454902127,-1.076664345183567,-0.7557282025454569,-0.3706048313797252,0.0145185397860064,-0.2101367600606706,-0.5952601312264022,-0.6915409740178352,-1.076664345183567,-1.397600487821676,-1.2692260307664327,-1.911098316042652,-1.9431919303064624,-1.590162173404542,-1.2050388022388103,-1.4296941020854872,-1.558068559140731,-0.6915409740178352],\"yaxis\":\"y2\",\"type\":\"scatter\"}],                        {\"template\":{\"data\":{\"histogram2dcontour\":[{\"type\":\"histogram2dcontour\",\"colorbar\":{\"outlinewidth\":0,\"ticks\":\"\"},\"colorscale\":[[0.0,\"#0d0887\"],[0.1111111111111111,\"#46039f\"],[0.2222222222222222,\"#7201a8\"],[0.3333333333333333,\"#9c179e\"],[0.4444444444444444,\"#bd3786\"],[0.5555555555555556,\"#d8576b\"],[0.6666666666666666,\"#ed7953\"],[0.7777777777777778,\"#fb9f3a\"],[0.8888888888888888,\"#fdca26\"],[1.0,\"#f0f921\"]]}],\"choropleth\":[{\"type\":\"choropleth\",\"colorbar\":{\"outlinewidth\":0,\"ticks\":\"\"}}],\"histogram2d\":[{\"type\":\"histogram2d\",\"colorbar\":{\"outlinewidth\":0,\"ticks\":\"\"},\"colorscale\":[[0.0,\"#0d0887\"],[0.1111111111111111,\"#46039f\"],[0.2222222222222222,\"#7201a8\"],[0.3333333333333333,\"#9c179e\"],[0.4444444444444444,\"#bd3786\"],[0.5555555555555556,\"#d8576b\"],[0.6666666666666666,\"#ed7953\"],[0.7777777777777778,\"#fb9f3a\"],[0.8888888888888888,\"#fdca26\"],[1.0,\"#f0f921\"]]}],\"heatmap\":[{\"type\":\"heatmap\",\"colorbar\":{\"outlinewidth\":0,\"ticks\":\"\"},\"colorscale\":[[0.0,\"#0d0887\"],[0.1111111111111111,\"#46039f\"],[0.2222222222222222,\"#7201a8\"],[0.3333333333333333,\"#9c179e\"],[0.4444444444444444,\"#bd3786\"],[0.5555555555555556,\"#d8576b\"],[0.6666666666666666,\"#ed7953\"],[0.7777777777777778,\"#fb9f3a\"],[0.8888888888888888,\"#fdca26\"],[1.0,\"#f0f921\"]]}],\"heatmapgl\":[{\"type\":\"heatmapgl\",\"colorbar\":{\"outlinewidth\":0,\"ticks\":\"\"},\"colorscale\":[[0.0,\"#0d0887\"],[0.1111111111111111,\"#46039f\"],[0.2222222222222222,\"#7201a8\"],[0.3333333333333333,\"#9c179e\"],[0.4444444444444444,\"#bd3786\"],[0.5555555555555556,\"#d8576b\"],[0.6666666666666666,\"#ed7953\"],[0.7777777777777778,\"#fb9f3a\"],[0.8888888888888888,\"#fdca26\"],[1.0,\"#f0f921\"]]}],\"contourcarpet\":[{\"type\":\"contourcarpet\",\"colorbar\":{\"outlinewidth\":0,\"ticks\":\"\"}}],\"contour\":[{\"type\":\"contour\",\"colorbar\":{\"outlinewidth\":0,\"ticks\":\"\"},\"colorscale\":[[0.0,\"#0d0887\"],[0.1111111111111111,\"#46039f\"],[0.2222222222222222,\"#7201a8\"],[0.3333333333333333,\"#9c179e\"],[0.4444444444444444,\"#bd3786\"],[0.5555555555555556,\"#d8576b\"],[0.6666666666666666,\"#ed7953\"],[0.7777777777777778,\"#fb9f3a\"],[0.8888888888888888,\"#fdca26\"],[1.0,\"#f0f921\"]]}],\"surface\":[{\"type\":\"surface\",\"colorbar\":{\"outlinewidth\":0,\"ticks\":\"\"},\"colorscale\":[[0.0,\"#0d0887\"],[0.1111111111111111,\"#46039f\"],[0.2222222222222222,\"#7201a8\"],[0.3333333333333333,\"#9c179e\"],[0.4444444444444444,\"#bd3786\"],[0.5555555555555556,\"#d8576b\"],[0.6666666666666666,\"#ed7953\"],[0.7777777777777778,\"#fb9f3a\"],[0.8888888888888888,\"#fdca26\"],[1.0,\"#f0f921\"]]}],\"mesh3d\":[{\"type\":\"mesh3d\",\"colorbar\":{\"outlinewidth\":0,\"ticks\":\"\"}}],\"scatter\":[{\"fillpattern\":{\"fillmode\":\"overlay\",\"size\":10,\"solidity\":0.2},\"type\":\"scatter\"}],\"parcoords\":[{\"type\":\"parcoords\",\"line\":{\"colorbar\":{\"outlinewidth\":0,\"ticks\":\"\"}}}],\"scatterpolargl\":[{\"type\":\"scatterpolargl\",\"marker\":{\"colorbar\":{\"outlinewidth\":0,\"ticks\":\"\"}}}],\"bar\":[{\"error_x\":{\"color\":\"#2a3f5f\"},\"error_y\":{\"color\":\"#2a3f5f\"},\"marker\":{\"line\":{\"color\":\"#E5ECF6\",\"width\":0.5},\"pattern\":{\"fillmode\":\"overlay\",\"size\":10,\"solidity\":0.2}},\"type\":\"bar\"}],\"scattergeo\":[{\"type\":\"scattergeo\",\"marker\":{\"colorbar\":{\"outlinewidth\":0,\"ticks\":\"\"}}}],\"scatterpolar\":[{\"type\":\"scatterpolar\",\"marker\":{\"colorbar\":{\"outlinewidth\":0,\"ticks\":\"\"}}}],\"histogram\":[{\"marker\":{\"pattern\":{\"fillmode\":\"overlay\",\"size\":10,\"solidity\":0.2}},\"type\":\"histogram\"}],\"scattergl\":[{\"type\":\"scattergl\",\"marker\":{\"colorbar\":{\"outlinewidth\":0,\"ticks\":\"\"}}}],\"scatter3d\":[{\"type\":\"scatter3d\",\"line\":{\"colorbar\":{\"outlinewidth\":0,\"ticks\":\"\"}},\"marker\":{\"colorbar\":{\"outlinewidth\":0,\"ticks\":\"\"}}}],\"scattermapbox\":[{\"type\":\"scattermapbox\",\"marker\":{\"colorbar\":{\"outlinewidth\":0,\"ticks\":\"\"}}}],\"scatterternary\":[{\"type\":\"scatterternary\",\"marker\":{\"colorbar\":{\"outlinewidth\":0,\"ticks\":\"\"}}}],\"scattercarpet\":[{\"type\":\"scattercarpet\",\"marker\":{\"colorbar\":{\"outlinewidth\":0,\"ticks\":\"\"}}}],\"carpet\":[{\"aaxis\":{\"endlinecolor\":\"#2a3f5f\",\"gridcolor\":\"white\",\"linecolor\":\"white\",\"minorgridcolor\":\"white\",\"startlinecolor\":\"#2a3f5f\"},\"baxis\":{\"endlinecolor\":\"#2a3f5f\",\"gridcolor\":\"white\",\"linecolor\":\"white\",\"minorgridcolor\":\"white\",\"startlinecolor\":\"#2a3f5f\"},\"type\":\"carpet\"}],\"table\":[{\"cells\":{\"fill\":{\"color\":\"#EBF0F8\"},\"line\":{\"color\":\"white\"}},\"header\":{\"fill\":{\"color\":\"#C8D4E3\"},\"line\":{\"color\":\"white\"}},\"type\":\"table\"}],\"barpolar\":[{\"marker\":{\"line\":{\"color\":\"#E5ECF6\",\"width\":0.5},\"pattern\":{\"fillmode\":\"overlay\",\"size\":10,\"solidity\":0.2}},\"type\":\"barpolar\"}],\"pie\":[{\"automargin\":true,\"type\":\"pie\"}]},\"layout\":{\"autotypenumbers\":\"strict\",\"colorway\":[\"#636efa\",\"#EF553B\",\"#00cc96\",\"#ab63fa\",\"#FFA15A\",\"#19d3f3\",\"#FF6692\",\"#B6E880\",\"#FF97FF\",\"#FECB52\"],\"font\":{\"color\":\"#2a3f5f\"},\"hovermode\":\"closest\",\"hoverlabel\":{\"align\":\"left\"},\"paper_bgcolor\":\"white\",\"plot_bgcolor\":\"#E5ECF6\",\"polar\":{\"bgcolor\":\"#E5ECF6\",\"angularaxis\":{\"gridcolor\":\"white\",\"linecolor\":\"white\",\"ticks\":\"\"},\"radialaxis\":{\"gridcolor\":\"white\",\"linecolor\":\"white\",\"ticks\":\"\"}},\"ternary\":{\"bgcolor\":\"#E5ECF6\",\"aaxis\":{\"gridcolor\":\"white\",\"linecolor\":\"white\",\"ticks\":\"\"},\"baxis\":{\"gridcolor\":\"white\",\"linecolor\":\"white\",\"ticks\":\"\"},\"caxis\":{\"gridcolor\":\"white\",\"linecolor\":\"white\",\"ticks\":\"\"}},\"coloraxis\":{\"colorbar\":{\"outlinewidth\":0,\"ticks\":\"\"}},\"colorscale\":{\"sequential\":[[0.0,\"#0d0887\"],[0.1111111111111111,\"#46039f\"],[0.2222222222222222,\"#7201a8\"],[0.3333333333333333,\"#9c179e\"],[0.4444444444444444,\"#bd3786\"],[0.5555555555555556,\"#d8576b\"],[0.6666666666666666,\"#ed7953\"],[0.7777777777777778,\"#fb9f3a\"],[0.8888888888888888,\"#fdca26\"],[1.0,\"#f0f921\"]],\"sequentialminus\":[[0.0,\"#0d0887\"],[0.1111111111111111,\"#46039f\"],[0.2222222222222222,\"#7201a8\"],[0.3333333333333333,\"#9c179e\"],[0.4444444444444444,\"#bd3786\"],[0.5555555555555556,\"#d8576b\"],[0.6666666666666666,\"#ed7953\"],[0.7777777777777778,\"#fb9f3a\"],[0.8888888888888888,\"#fdca26\"],[1.0,\"#f0f921\"]],\"diverging\":[[0,\"#8e0152\"],[0.1,\"#c51b7d\"],[0.2,\"#de77ae\"],[0.3,\"#f1b6da\"],[0.4,\"#fde0ef\"],[0.5,\"#f7f7f7\"],[0.6,\"#e6f5d0\"],[0.7,\"#b8e186\"],[0.8,\"#7fbc41\"],[0.9,\"#4d9221\"],[1,\"#276419\"]]},\"xaxis\":{\"gridcolor\":\"white\",\"linecolor\":\"white\",\"ticks\":\"\",\"title\":{\"standoff\":15},\"zerolinecolor\":\"white\",\"automargin\":true,\"zerolinewidth\":2},\"yaxis\":{\"gridcolor\":\"white\",\"linecolor\":\"white\",\"ticks\":\"\",\"title\":{\"standoff\":15},\"zerolinecolor\":\"white\",\"automargin\":true,\"zerolinewidth\":2},\"scene\":{\"xaxis\":{\"backgroundcolor\":\"#E5ECF6\",\"gridcolor\":\"white\",\"linecolor\":\"white\",\"showbackground\":true,\"ticks\":\"\",\"zerolinecolor\":\"white\",\"gridwidth\":2},\"yaxis\":{\"backgroundcolor\":\"#E5ECF6\",\"gridcolor\":\"white\",\"linecolor\":\"white\",\"showbackground\":true,\"ticks\":\"\",\"zerolinecolor\":\"white\",\"gridwidth\":2},\"zaxis\":{\"backgroundcolor\":\"#E5ECF6\",\"gridcolor\":\"white\",\"linecolor\":\"white\",\"showbackground\":true,\"ticks\":\"\",\"zerolinecolor\":\"white\",\"gridwidth\":2}},\"shapedefaults\":{\"line\":{\"color\":\"#2a3f5f\"}},\"annotationdefaults\":{\"arrowcolor\":\"#2a3f5f\",\"arrowhead\":0,\"arrowwidth\":1},\"geo\":{\"bgcolor\":\"white\",\"landcolor\":\"#E5ECF6\",\"subunitcolor\":\"white\",\"showland\":true,\"showlakes\":true,\"lakecolor\":\"white\"},\"title\":{\"x\":0.05},\"mapbox\":{\"style\":\"light\"}}},\"xaxis\":{\"anchor\":\"y\",\"domain\":[0.0,0.94]},\"yaxis\":{\"anchor\":\"x\",\"domain\":[0.0,1.0]},\"yaxis2\":{\"anchor\":\"x\",\"overlaying\":\"y\",\"side\":\"right\"}},                        {\"responsive\": true}                    ).then(function(){\n",
       "                            \n",
       "var gd = document.getElementById('19768e14-1cb4-4248-bfdb-379606010fb9');\n",
       "var x = new MutationObserver(function (mutations, observer) {{\n",
       "        var display = window.getComputedStyle(gd).display;\n",
       "        if (!display || display === 'none') {{\n",
       "            console.log([gd, 'removed!']);\n",
       "            Plotly.purge(gd);\n",
       "            observer.disconnect();\n",
       "        }}\n",
       "}});\n",
       "\n",
       "// Listen for the removal of the full notebook cells\n",
       "var notebookContainer = gd.closest('#notebook-container');\n",
       "if (notebookContainer) {{\n",
       "    x.observe(notebookContainer, {childList: true});\n",
       "}}\n",
       "\n",
       "// Listen for the clearing of the current output cell\n",
       "var outputEl = gd.closest('.output');\n",
       "if (outputEl) {{\n",
       "    x.observe(outputEl, {childList: true});\n",
       "}}\n",
       "\n",
       "                        })                };                });            </script>        </div>"
      ]
     },
     "metadata": {},
     "output_type": "display_data"
    },
    {
     "data": {
      "application/vnd.plotly.v1+json": {
       "config": {
        "plotlyServerURL": "https://plot.ly"
       },
       "data": [
        {
         "hovertemplate": "date=%{x}<br>Mean=%{y}<extra></extra>",
         "legendgroup": "",
         "line": {
          "dash": "solid"
         },
         "marker": {
          "symbol": "circle"
         },
         "mode": "lines",
         "name": "",
         "orientation": "v",
         "showlegend": false,
         "type": "scatter",
         "x": [
          "2022-01-05",
          "2022-01-06",
          "2022-01-07",
          "2022-01-08",
          "2022-01-09",
          "2022-01-10",
          "2022-01-11",
          "2022-01-12",
          "2022-01-16",
          "2022-01-17",
          "2022-01-18",
          "2022-01-19",
          "2022-01-20",
          "2022-01-21",
          "2022-01-22",
          "2022-01-23",
          "2022-01-24",
          "2022-01-25",
          "2022-01-26",
          "2022-01-27",
          "2022-01-28",
          "2022-01-29",
          "2022-01-30",
          "2022-01-31",
          "2022-02-01",
          "2022-02-02",
          "2022-02-03",
          "2022-02-04",
          "2022-02-05",
          "2022-02-06",
          "2022-02-07",
          "2022-02-08",
          "2022-02-09",
          "2022-02-10",
          "2022-02-11",
          "2022-02-12",
          "2022-02-13",
          "2022-02-14",
          "2022-02-15",
          "2022-02-16",
          "2022-02-17",
          "2022-02-18",
          "2022-02-19",
          "2022-02-20",
          "2022-02-21",
          "2022-02-22",
          "2022-02-23",
          "2022-02-24",
          "2022-02-25",
          "2022-02-26",
          "2022-02-27",
          "2022-02-28",
          "2022-03-01",
          "2022-03-02",
          "2022-03-03",
          "2022-03-04",
          "2022-03-05",
          "2022-03-06",
          "2022-03-07",
          "2022-03-08",
          "2022-03-09",
          "2022-03-10",
          "2022-03-11",
          "2022-03-12",
          "2022-03-13",
          "2022-03-14",
          "2022-03-15",
          "2022-03-16",
          "2022-03-17",
          "2022-03-18",
          "2022-03-19",
          "2022-03-20",
          "2022-03-21",
          "2022-03-22",
          "2022-03-23",
          "2022-03-24",
          "2022-03-25",
          "2022-03-26",
          "2022-03-27",
          "2022-03-28",
          "2022-03-29",
          "2022-03-30",
          "2022-03-31",
          "2022-04-01",
          "2022-04-02",
          "2022-04-05",
          "2022-04-06",
          "2022-04-07",
          "2022-04-08",
          "2022-04-09",
          "2022-04-10",
          "2022-04-11",
          "2022-04-12",
          "2022-04-13",
          "2022-04-14",
          "2022-04-15",
          "2022-04-16",
          "2022-04-17",
          "2022-04-18",
          "2022-04-19",
          "2022-04-20",
          "2022-04-21",
          "2022-04-22",
          "2022-04-23",
          "2022-04-24",
          "2022-04-25",
          "2022-04-26",
          "2022-04-27",
          "2022-04-28",
          "2022-04-29",
          "2022-04-30",
          "2022-05-01",
          "2022-05-02",
          "2022-05-03",
          "2022-05-04",
          "2022-05-05",
          "2022-05-06",
          "2022-05-07",
          "2022-05-08",
          "2022-05-09",
          "2022-05-10",
          "2022-05-11",
          "2022-05-12",
          "2022-05-13",
          "2022-05-14",
          "2022-05-15",
          "2022-05-16",
          "2022-05-17",
          "2022-05-18",
          "2022-05-19",
          "2022-05-20",
          "2022-05-21",
          "2022-05-22",
          "2022-05-23",
          "2022-05-24",
          "2022-05-26",
          "2022-05-27",
          "2022-05-28",
          "2022-05-29",
          "2022-05-30",
          "2022-05-31",
          "2022-06-01",
          "2022-06-02",
          "2022-06-03",
          "2022-06-04",
          "2022-06-05",
          "2022-06-06",
          "2022-06-07",
          "2022-06-08",
          "2022-06-09",
          "2022-06-10",
          "2022-06-11",
          "2022-06-12",
          "2022-06-13",
          "2022-06-14",
          "2022-06-15",
          "2022-06-16",
          "2022-06-17",
          "2022-06-18",
          "2022-06-19",
          "2022-06-20",
          "2022-06-21",
          "2022-06-22",
          "2022-06-23",
          "2022-06-24",
          "2022-06-25",
          "2022-06-26",
          "2022-06-27",
          "2022-06-28",
          "2022-06-29",
          "2022-07-02",
          "2022-07-03",
          "2022-07-04",
          "2022-07-05",
          "2022-07-06",
          "2022-07-07",
          "2022-07-08",
          "2022-07-09",
          "2022-07-10",
          "2022-07-11",
          "2022-07-12",
          "2022-07-13",
          "2022-07-14",
          "2022-07-15",
          "2022-07-16",
          "2022-07-17",
          "2022-07-18",
          "2022-07-19",
          "2022-07-20",
          "2022-07-21",
          "2022-07-22",
          "2022-07-23",
          "2022-07-24",
          "2022-07-25",
          "2022-07-26",
          "2022-07-27",
          "2022-07-28",
          "2022-07-29",
          "2022-07-30",
          "2022-07-31",
          "2022-08-01",
          "2022-08-02",
          "2022-08-03",
          "2022-08-04",
          "2022-08-05",
          "2022-08-06",
          "2022-08-07",
          "2022-08-08",
          "2022-08-09",
          "2022-08-10",
          "2022-08-11",
          "2022-08-12",
          "2022-08-13",
          "2022-08-14",
          "2022-08-15",
          "2022-08-16",
          "2022-08-17",
          "2022-08-18",
          "2022-08-19",
          "2022-08-20",
          "2022-08-21",
          "2022-08-22",
          "2022-08-23",
          "2022-08-24",
          "2022-08-25",
          "2022-08-26",
          "2022-08-27",
          "2022-08-28",
          "2022-08-29",
          "2022-08-30",
          "2022-08-31",
          "2022-09-01",
          "2022-09-02",
          "2022-09-03",
          "2022-09-04",
          "2022-09-05",
          "2022-09-06",
          "2022-09-07",
          "2022-09-08",
          "2022-09-09",
          "2022-09-10",
          "2022-09-11",
          "2022-09-12",
          "2022-09-13",
          "2022-09-14",
          "2022-09-16"
         ],
         "xaxis": "x",
         "y": [
          16300560.396325707,
          17658648.89806571,
          17347162.93101469,
          16975064.4272259,
          16797785.791917797,
          16806788.914961446,
          16811833.251713973,
          16734018.396816732,
          17112088.201657716,
          17011946.553369317,
          16970497.972453773,
          16652439.489730489,
          14965479.43222849,
          13323793.673679637,
          12873959.016227724,
          11303651.720090585,
          11007467.34700925,
          10871655.621807251,
          12159820.822644686,
          13505607.403390111,
          13681356.340413606,
          14936296.611906191,
          14923038.910625257,
          12589322.572192566,
          12568194.290519638,
          12656150.217581045,
          12895523.888825014,
          13174352.579157157,
          14758873.283617333,
          14966112.54168266,
          13981120.739769287,
          14329206.281212503,
          12998453.810260974,
          13035101.46742987,
          12935524.996210158,
          14282421.110996926,
          14269045.839103565,
          14234745.430921003,
          13983623.878515448,
          12451147.474175066,
          15269480.34958822,
          15144035.258112026,
          13602820.084048048,
          11961488.017577806,
          11692883.442188185,
          10520623.18598848,
          10597508.98837556,
          12302652.732426368,
          12055658.914270565,
          13312310.455994308,
          13302684.301300997,
          15072063.977543931,
          16640913.820278505,
          16726833.162031168,
          15359834.212318948,
          14337334.69371573,
          13968809.536106026,
          13561663.795575554,
          13355494.93965335,
          11993273.990426429,
          12099160.81741657,
          12943501.406253258,
          12695278.590656549,
          12590908.615391329,
          12418870.720681133,
          12292307.862216016,
          13682690.17967298,
          12526529.102193069,
          12882839.583889768,
          11436021.607194657,
          11324391.68407502,
          12674892.310120234,
          11270116.114267657,
          12775937.96738934,
          11589932.293703048,
          13442791.025573203,
          13942925.906535745,
          12722266.4979224,
          14600266.085370503,
          14866187.212059,
          14936133.6515846,
          13608250.734281491,
          12280254.842698582,
          14027934.698614923,
          13825044.782824928,
          9370691.80449831,
          9533048.390190354,
          9701736.487279251,
          8516841.090446098,
          9443838.824822633,
          9364852.622400708,
          10675149.238137288,
          11864137.72101284,
          11742429.723710775,
          12885260.082449311,
          11467406.715709897,
          12690455.363681272,
          11144443.841934573,
          9815462.194832023,
          9820668.402080366,
          9694690.695536984,
          9815317.107529247,
          9585090.849358326,
          9490934.549195984,
          10580321.827864258,
          10357739.355840078,
          9904135.934160378,
          9669618.420316638,
          13644156.129957588,
          13356814.415303038,
          11853810.286388464,
          11775592.976694366,
          11590485.543108916,
          11612288.84540094,
          12868801.298505137,
          13053035.151801929,
          14110520.33822723,
          13778267.472966751,
          12530386.508751629,
          12021290.84041947,
          11497172.066507123,
          11118384.805893648,
          10012741.049433025,
          8903535.797767593,
          9879758.226772675,
          8878044.28833642,
          8912295.660614314,
          8893381.490528656,
          8745347.529548453,
          9631829.455022588,
          9253797.523018852,
          10113809.633346066,
          8627578.21810162,
          8436459.608976576,
          8431611.204082683,
          9263388.742297878,
          9200360.676142124,
          8049840.762693316,
          7924927.841125282,
          7868657.633253898,
          7230972.840943344,
          6065311.089454257,
          9510080.885098493,
          10311356.508528523,
          10188843.301089196,
          9230875.838806592,
          10421951.542127308,
          9410805.585428568,
          9295633.88340653,
          8287272.486073527,
          7205341.804875426,
          7007599.814036851,
          6448621.827739158,
          6996861.265276186,
          6653012.160243738,
          7241345.740182835,
          7813596.111569532,
          7643831.547008324,
          7531588.959285109,
          7505410.359529986,
          7423733.098475824,
          6722836.719293342,
          6849695.54328337,
          6908397.18765669,
          6799747.286928598,
          5966884.493104179,
          5897396.60152033,
          6545954.712858573,
          6358798.550920685,
          6316020.342904109,
          5492587.888628663,
          6037932.844157421,
          6507796.793347505,
          6309120.805134576,
          5657328.519440842,
          6476220.235650866,
          6414659.974277817,
          6216635.331815537,
          6170705.76427205,
          6847120.495130398,
          7568256.8942576,
          6839261.199889245,
          6985216.111671757,
          7127510.381407448,
          7193205.759368735,
          6399743.077854154,
          5758539.531994228,
          6621291.371501154,
          6804726.057510258,
          6060577.235854323,
          5243187.541894077,
          5147318.963220172,
          5064263.508210289,
          4858667.85518512,
          3909371.044759281,
          4096096.090724261,
          4204594.980261365,
          4307863.510326613,
          5003951.526183036,
          4228045.443139293,
          4333588.643109683,
          5018962.503638574,
          5804053.423344479,
          5895996.5152875,
          5037398.072898928,
          5004869.981366244,
          4880399.674905674,
          3947814.281643769,
          3948862.58109716,
          4797672.732006527,
          4884605.922182759,
          5715605.453048547,
          6451408.939340082,
          7364789.98125288,
          7339247.45884328,
          6379593.836309846,
          6259926.059650292,
          6100968.986072023,
          5275627.779843024,
          5031561.367078741,
          4892291.1739766905,
          5546647.476200526,
          5516003.131957986,
          5482295.180712657,
          5456852.680862268,
          4775999.74259103,
          3957207.108413973,
          3931561.776743367,
          4698801.634696487,
          4061940.882940602,
          4708582.741603273,
          5294455.559226955,
          5380768.831610278,
          5275279.474289083,
          4521161.304549058,
          4425189.697850819,
          3752298.765401428,
          3150115.6873833905,
          3837971.635240448,
          3236858.334502481,
          3272351.204580219,
          3426944.4127864144,
          4117827.867354317,
          4050300.34362331,
          3335873.889345976,
          3912334.868152091
         ],
         "yaxis": "y"
        },
        {
         "hovertemplate": "date=%{x}<br>fun=%{y}<extra></extra>",
         "legendgroup": "",
         "line": {
          "dash": "solid"
         },
         "marker": {
          "symbol": "circle"
         },
         "mode": "lines",
         "name": "",
         "orientation": "v",
         "showlegend": false,
         "type": "scatter",
         "x": [
          "2022-01-05",
          "2022-01-06",
          "2022-01-07",
          "2022-01-08",
          "2022-01-09",
          "2022-01-10",
          "2022-01-11",
          "2022-01-12",
          "2022-01-16",
          "2022-01-17",
          "2022-01-18",
          "2022-01-19",
          "2022-01-20",
          "2022-01-21",
          "2022-01-22",
          "2022-01-23",
          "2022-01-24",
          "2022-01-25",
          "2022-01-26",
          "2022-01-27",
          "2022-01-28",
          "2022-01-29",
          "2022-01-30",
          "2022-01-31",
          "2022-02-01",
          "2022-02-02",
          "2022-02-03",
          "2022-02-04",
          "2022-02-05",
          "2022-02-06",
          "2022-02-07",
          "2022-02-08",
          "2022-02-09",
          "2022-02-10",
          "2022-02-11",
          "2022-02-12",
          "2022-02-13",
          "2022-02-14",
          "2022-02-15",
          "2022-02-16",
          "2022-02-17",
          "2022-02-18",
          "2022-02-19",
          "2022-02-20",
          "2022-02-21",
          "2022-02-22",
          "2022-02-23",
          "2022-02-24",
          "2022-02-25",
          "2022-02-26",
          "2022-02-27",
          "2022-02-28",
          "2022-03-01",
          "2022-03-02",
          "2022-03-03",
          "2022-03-04",
          "2022-03-05",
          "2022-03-06",
          "2022-03-07",
          "2022-03-08",
          "2022-03-09",
          "2022-03-10",
          "2022-03-11",
          "2022-03-12",
          "2022-03-13",
          "2022-03-14",
          "2022-03-15",
          "2022-03-16",
          "2022-03-17",
          "2022-03-18",
          "2022-03-19",
          "2022-03-20",
          "2022-03-21",
          "2022-03-22",
          "2022-03-23",
          "2022-03-24",
          "2022-03-25",
          "2022-03-26",
          "2022-03-27",
          "2022-03-28",
          "2022-03-29",
          "2022-03-30",
          "2022-03-31",
          "2022-04-01",
          "2022-04-02",
          "2022-04-05",
          "2022-04-06",
          "2022-04-07",
          "2022-04-08",
          "2022-04-09",
          "2022-04-10",
          "2022-04-11",
          "2022-04-12",
          "2022-04-13",
          "2022-04-14",
          "2022-04-15",
          "2022-04-16",
          "2022-04-17",
          "2022-04-18",
          "2022-04-19",
          "2022-04-20",
          "2022-04-21",
          "2022-04-22",
          "2022-04-23",
          "2022-04-24",
          "2022-04-25",
          "2022-04-26",
          "2022-04-27",
          "2022-04-28",
          "2022-04-29",
          "2022-04-30",
          "2022-05-01",
          "2022-05-02",
          "2022-05-03",
          "2022-05-04",
          "2022-05-05",
          "2022-05-06",
          "2022-05-07",
          "2022-05-08",
          "2022-05-09",
          "2022-05-10",
          "2022-05-11",
          "2022-05-12",
          "2022-05-13",
          "2022-05-14",
          "2022-05-15",
          "2022-05-16",
          "2022-05-17",
          "2022-05-18",
          "2022-05-19",
          "2022-05-20",
          "2022-05-21",
          "2022-05-22",
          "2022-05-23",
          "2022-05-24",
          "2022-05-26",
          "2022-05-27",
          "2022-05-28",
          "2022-05-29",
          "2022-05-30",
          "2022-05-31",
          "2022-06-01",
          "2022-06-02",
          "2022-06-03",
          "2022-06-04",
          "2022-06-05",
          "2022-06-06",
          "2022-06-07",
          "2022-06-08",
          "2022-06-09",
          "2022-06-10",
          "2022-06-11",
          "2022-06-12",
          "2022-06-13",
          "2022-06-14",
          "2022-06-15",
          "2022-06-16",
          "2022-06-17",
          "2022-06-18",
          "2022-06-19",
          "2022-06-20",
          "2022-06-21",
          "2022-06-22",
          "2022-06-23",
          "2022-06-24",
          "2022-06-25",
          "2022-06-26",
          "2022-06-27",
          "2022-06-28",
          "2022-06-29",
          "2022-07-02",
          "2022-07-03",
          "2022-07-04",
          "2022-07-05",
          "2022-07-06",
          "2022-07-07",
          "2022-07-08",
          "2022-07-09",
          "2022-07-10",
          "2022-07-11",
          "2022-07-12",
          "2022-07-13",
          "2022-07-14",
          "2022-07-15",
          "2022-07-16",
          "2022-07-17",
          "2022-07-18",
          "2022-07-19",
          "2022-07-20",
          "2022-07-21",
          "2022-07-22",
          "2022-07-23",
          "2022-07-24",
          "2022-07-25",
          "2022-07-26",
          "2022-07-27",
          "2022-07-28",
          "2022-07-29",
          "2022-07-30",
          "2022-07-31",
          "2022-08-01",
          "2022-08-02",
          "2022-08-03",
          "2022-08-04",
          "2022-08-05",
          "2022-08-06",
          "2022-08-07",
          "2022-08-08",
          "2022-08-09",
          "2022-08-10",
          "2022-08-11",
          "2022-08-12",
          "2022-08-13",
          "2022-08-14",
          "2022-08-15",
          "2022-08-16",
          "2022-08-17",
          "2022-08-18",
          "2022-08-19",
          "2022-08-20",
          "2022-08-21",
          "2022-08-22",
          "2022-08-23",
          "2022-08-24",
          "2022-08-25",
          "2022-08-26",
          "2022-08-27",
          "2022-08-28",
          "2022-08-29",
          "2022-08-30",
          "2022-08-31",
          "2022-09-01",
          "2022-09-02",
          "2022-09-03",
          "2022-09-04",
          "2022-09-05",
          "2022-09-06",
          "2022-09-07",
          "2022-09-08",
          "2022-09-09",
          "2022-09-10",
          "2022-09-11",
          "2022-09-12",
          "2022-09-13",
          "2022-09-14",
          "2022-09-16"
         ],
         "xaxis": "x",
         "y": [
          1.0844892892006188,
          1.9366936965397128,
          2.096482022915793,
          2.3095331247505677,
          2.2296389615625274,
          2.0432192474571,
          1.670379819246246,
          1.217646227847352,
          1.285021748210051,
          1.205624016619126,
          0.848334224459962,
          0.9277319560508872,
          0.252851237528022,
          -0.064739688835679,
          0.014658042755246,
          -0.302932883608455,
          -0.0250408230402169,
          -0.22353515201753,
          0.094055774346171,
          0.5704421638917231,
          0.2925501033234849,
          0.610141029687186,
          0.530743298096261,
          0.7026811386114132,
          0.6526844211164222,
          0.6026877036214312,
          1.002661443581357,
          1.5026286185312627,
          1.8526056409961973,
          2.302576098451113,
          1.7026154885112257,
          1.6526187710162348,
          0.5026942686314503,
          0.1027205286715255,
          0.2527106811564974,
          0.6526844211164222,
          0.5526909861264413,
          0.2027139636615064,
          0.4027008336414693,
          -0.9972072562182688,
          1.0045951260125787,
          1.0045951260125787,
          0.5784929223430312,
          0.0724965554854435,
          0.3388104327789108,
          -0.1139231586199829,
          -0.1405545463493298,
          -0.797220386238306,
          -1.1471974087032408,
          -0.6472302337533341,
          -0.6472302337533341,
          -0.3472499287833902,
          0.7026811386114132,
          0.5526909861264413,
          0.3527041161464784,
          -0.4472433637733722,
          -0.3472499287833902,
          -0.0472696238134464,
          -1.04720397371326,
          -2.097135041108063,
          -2.097135041108063,
          -0.8472171037332971,
          -0.947210538723278,
          -0.7472236687433161,
          0.8026745736013942,
          1.2026483135613188,
          1.4026351835412818,
          0.1527172461665154,
          0.5026942686314503,
          -0.4972400812683621,
          -1.2471908436932218,
          -0.5972335162583442,
          -0.6972269512483251,
          0.3027073986514874,
          -1.09720069120825,
          -0.4972400812683621,
          -1.197194126198232,
          -2.047138323613072,
          -0.6472302337533341,
          -0.5972335162583442,
          0.1527172461665154,
          -0.1472630588034283,
          -0.0472696238134464,
          1.102654878571338,
          0.6526844211164222,
          -0.593288137748224,
          -0.4601311991014903,
          -0.3536056481841033,
          -0.9661275659590776,
          -0.5400253622895305,
          -0.593288137748224,
          0.1523907186734837,
          0.4985987591549911,
          0.6317556978017244,
          0.8980695750951917,
          0.5518615346136843,
          1.0844892892006188,
          0.3654418205082577,
          -0.0872917708906366,
          -0.2470800972667168,
          -0.193817321808023,
          -0.1405545463493298,
          -0.7797078518536508,
          -0.9927589536884244,
          -0.4601311991014903,
          -0.4601311991014903,
          -0.3003428727254101,
          -0.3269742604547569,
          -0.1441374204266049,
          -0.22353515201753,
          -1.096910199517709,
          -0.302932883608455,
          -0.22353515201753,
          0.1734535059370969,
          0.888033090255425,
          1.245322882414589,
          1.840805869346528,
          1.642311540369216,
          1.126226285028201,
          1.443817211391902,
          1.642311540369216,
          1.443817211391902,
          0.888033090255425,
          -0.2632340178129929,
          -0.1044385546311419,
          -1.4541999916768729,
          -1.652694320654186,
          -1.5732965890632609,
          -1.5732965890632609,
          -0.8984158705403951,
          0.4719673714256441,
          1.111120676929965,
          0.7382812487191114,
          0.8181754119071515,
          0.7649126364484583,
          1.111120676929965,
          0.7382812487191114,
          0.2855476573202176,
          0.1523907186734837,
          -0.0073976077025965,
          -0.0340289954319428,
          -0.4867625868308372,
          -0.6999215415630821,
          -0.1044385546311419,
          0.133754640141634,
          -0.422029480994843,
          0.4116467007098729,
          -0.2632340178129929,
          -0.3823306151993809,
          -1.017512467926783,
          -1.612995454858723,
          -1.851188649631499,
          -2.089381844404275,
          -0.938114736335858,
          -0.422029480994843,
          0.4116467007098729,
          1.046828553437275,
          1.245322882414589,
          1.840805869346528,
          1.165925150823663,
          0.848334224459962,
          0.133754640141634,
          -0.183836286222067,
          -0.302932883608455,
          -0.977813602131321,
          -1.4541999916768729,
          -1.533597723267798,
          -0.5411260783812311,
          -0.5411260783812311,
          -0.739620407358545,
          -0.3003428727254101,
          -0.0606603831612897,
          0.2322848818615238,
          0.2056534941321775,
          -0.2204487095373699,
          0.2855476573202176,
          0.2855476573202176,
          0.3121790450495639,
          0.6317556978017244,
          2.149744798374487,
          3.001949205713581,
          2.36279590020926,
          2.5225842265853404,
          2.6823725529614206,
          2.176376186103833,
          0.6850184732604182,
          -0.1671859340786767,
          0.525230146884338,
          0.418704595966951,
          -0.1671859340786767,
          -0.5133939745601835,
          -0.4867625868308372,
          -0.3802370359134502,
          -0.6465509132069172,
          -1.3655983818992783,
          -1.2324414432525448,
          -0.9661275659590776,
          -0.9927589536884244,
          -0.5400253622895305,
          -0.6731823009362641,
          -0.7797078518536508,
          -0.4601311991014903,
          -0.2470800972667168,
          -0.193817321808023,
          -0.9128647905003844,
          -1.0992845046058113,
          -0.939496178229731,
          -1.472123932816665,
          -1.578649483734052,
          -1.0726531168764646,
          -0.9128647905003844,
          -0.193817321808023,
          0.0192337800267503,
          0.5518615346136843,
          0.6317556978017244,
          0.0458651677560972,
          -0.0606603831612897,
          -0.4601311991014903,
          -0.7530764641243042,
          -0.9128647905003844,
          -0.8596020150416909,
          -0.5400253622895305,
          -0.6199195254775706,
          -0.566656750018877,
          -0.5400253622895305,
          -0.7797078518536508,
          -1.205810055523198,
          -1.0726531168764646,
          -0.3003428727254101,
          -0.7530764641243042,
          -0.3003428727254101,
          0.2056534941321775,
          0.3388104327789108,
          0.4985987591549911,
          -0.0606603831612897,
          -0.0340289954319428,
          -0.593288137748224,
          -1.2324414432525448,
          -0.9128647905003844,
          -1.5520180960047054,
          -1.6851750346514387,
          -1.4987553205460118,
          -1.0992845046058113,
          -1.0460217291471177,
          -1.472123932816665,
          -0.9661275659590776
         ],
         "yaxis": "y2"
        }
       ],
       "layout": {
        "template": {
         "data": {
          "bar": [
           {
            "error_x": {
             "color": "#2a3f5f"
            },
            "error_y": {
             "color": "#2a3f5f"
            },
            "marker": {
             "line": {
              "color": "#E5ECF6",
              "width": 0.5
             },
             "pattern": {
              "fillmode": "overlay",
              "size": 10,
              "solidity": 0.2
             }
            },
            "type": "bar"
           }
          ],
          "barpolar": [
           {
            "marker": {
             "line": {
              "color": "#E5ECF6",
              "width": 0.5
             },
             "pattern": {
              "fillmode": "overlay",
              "size": 10,
              "solidity": 0.2
             }
            },
            "type": "barpolar"
           }
          ],
          "carpet": [
           {
            "aaxis": {
             "endlinecolor": "#2a3f5f",
             "gridcolor": "white",
             "linecolor": "white",
             "minorgridcolor": "white",
             "startlinecolor": "#2a3f5f"
            },
            "baxis": {
             "endlinecolor": "#2a3f5f",
             "gridcolor": "white",
             "linecolor": "white",
             "minorgridcolor": "white",
             "startlinecolor": "#2a3f5f"
            },
            "type": "carpet"
           }
          ],
          "choropleth": [
           {
            "colorbar": {
             "outlinewidth": 0,
             "ticks": ""
            },
            "type": "choropleth"
           }
          ],
          "contour": [
           {
            "colorbar": {
             "outlinewidth": 0,
             "ticks": ""
            },
            "colorscale": [
             [
              0,
              "#0d0887"
             ],
             [
              0.1111111111111111,
              "#46039f"
             ],
             [
              0.2222222222222222,
              "#7201a8"
             ],
             [
              0.3333333333333333,
              "#9c179e"
             ],
             [
              0.4444444444444444,
              "#bd3786"
             ],
             [
              0.5555555555555556,
              "#d8576b"
             ],
             [
              0.6666666666666666,
              "#ed7953"
             ],
             [
              0.7777777777777778,
              "#fb9f3a"
             ],
             [
              0.8888888888888888,
              "#fdca26"
             ],
             [
              1,
              "#f0f921"
             ]
            ],
            "type": "contour"
           }
          ],
          "contourcarpet": [
           {
            "colorbar": {
             "outlinewidth": 0,
             "ticks": ""
            },
            "type": "contourcarpet"
           }
          ],
          "heatmap": [
           {
            "colorbar": {
             "outlinewidth": 0,
             "ticks": ""
            },
            "colorscale": [
             [
              0,
              "#0d0887"
             ],
             [
              0.1111111111111111,
              "#46039f"
             ],
             [
              0.2222222222222222,
              "#7201a8"
             ],
             [
              0.3333333333333333,
              "#9c179e"
             ],
             [
              0.4444444444444444,
              "#bd3786"
             ],
             [
              0.5555555555555556,
              "#d8576b"
             ],
             [
              0.6666666666666666,
              "#ed7953"
             ],
             [
              0.7777777777777778,
              "#fb9f3a"
             ],
             [
              0.8888888888888888,
              "#fdca26"
             ],
             [
              1,
              "#f0f921"
             ]
            ],
            "type": "heatmap"
           }
          ],
          "heatmapgl": [
           {
            "colorbar": {
             "outlinewidth": 0,
             "ticks": ""
            },
            "colorscale": [
             [
              0,
              "#0d0887"
             ],
             [
              0.1111111111111111,
              "#46039f"
             ],
             [
              0.2222222222222222,
              "#7201a8"
             ],
             [
              0.3333333333333333,
              "#9c179e"
             ],
             [
              0.4444444444444444,
              "#bd3786"
             ],
             [
              0.5555555555555556,
              "#d8576b"
             ],
             [
              0.6666666666666666,
              "#ed7953"
             ],
             [
              0.7777777777777778,
              "#fb9f3a"
             ],
             [
              0.8888888888888888,
              "#fdca26"
             ],
             [
              1,
              "#f0f921"
             ]
            ],
            "type": "heatmapgl"
           }
          ],
          "histogram": [
           {
            "marker": {
             "pattern": {
              "fillmode": "overlay",
              "size": 10,
              "solidity": 0.2
             }
            },
            "type": "histogram"
           }
          ],
          "histogram2d": [
           {
            "colorbar": {
             "outlinewidth": 0,
             "ticks": ""
            },
            "colorscale": [
             [
              0,
              "#0d0887"
             ],
             [
              0.1111111111111111,
              "#46039f"
             ],
             [
              0.2222222222222222,
              "#7201a8"
             ],
             [
              0.3333333333333333,
              "#9c179e"
             ],
             [
              0.4444444444444444,
              "#bd3786"
             ],
             [
              0.5555555555555556,
              "#d8576b"
             ],
             [
              0.6666666666666666,
              "#ed7953"
             ],
             [
              0.7777777777777778,
              "#fb9f3a"
             ],
             [
              0.8888888888888888,
              "#fdca26"
             ],
             [
              1,
              "#f0f921"
             ]
            ],
            "type": "histogram2d"
           }
          ],
          "histogram2dcontour": [
           {
            "colorbar": {
             "outlinewidth": 0,
             "ticks": ""
            },
            "colorscale": [
             [
              0,
              "#0d0887"
             ],
             [
              0.1111111111111111,
              "#46039f"
             ],
             [
              0.2222222222222222,
              "#7201a8"
             ],
             [
              0.3333333333333333,
              "#9c179e"
             ],
             [
              0.4444444444444444,
              "#bd3786"
             ],
             [
              0.5555555555555556,
              "#d8576b"
             ],
             [
              0.6666666666666666,
              "#ed7953"
             ],
             [
              0.7777777777777778,
              "#fb9f3a"
             ],
             [
              0.8888888888888888,
              "#fdca26"
             ],
             [
              1,
              "#f0f921"
             ]
            ],
            "type": "histogram2dcontour"
           }
          ],
          "mesh3d": [
           {
            "colorbar": {
             "outlinewidth": 0,
             "ticks": ""
            },
            "type": "mesh3d"
           }
          ],
          "parcoords": [
           {
            "line": {
             "colorbar": {
              "outlinewidth": 0,
              "ticks": ""
             }
            },
            "type": "parcoords"
           }
          ],
          "pie": [
           {
            "automargin": true,
            "type": "pie"
           }
          ],
          "scatter": [
           {
            "fillpattern": {
             "fillmode": "overlay",
             "size": 10,
             "solidity": 0.2
            },
            "type": "scatter"
           }
          ],
          "scatter3d": [
           {
            "line": {
             "colorbar": {
              "outlinewidth": 0,
              "ticks": ""
             }
            },
            "marker": {
             "colorbar": {
              "outlinewidth": 0,
              "ticks": ""
             }
            },
            "type": "scatter3d"
           }
          ],
          "scattercarpet": [
           {
            "marker": {
             "colorbar": {
              "outlinewidth": 0,
              "ticks": ""
             }
            },
            "type": "scattercarpet"
           }
          ],
          "scattergeo": [
           {
            "marker": {
             "colorbar": {
              "outlinewidth": 0,
              "ticks": ""
             }
            },
            "type": "scattergeo"
           }
          ],
          "scattergl": [
           {
            "marker": {
             "colorbar": {
              "outlinewidth": 0,
              "ticks": ""
             }
            },
            "type": "scattergl"
           }
          ],
          "scattermapbox": [
           {
            "marker": {
             "colorbar": {
              "outlinewidth": 0,
              "ticks": ""
             }
            },
            "type": "scattermapbox"
           }
          ],
          "scatterpolar": [
           {
            "marker": {
             "colorbar": {
              "outlinewidth": 0,
              "ticks": ""
             }
            },
            "type": "scatterpolar"
           }
          ],
          "scatterpolargl": [
           {
            "marker": {
             "colorbar": {
              "outlinewidth": 0,
              "ticks": ""
             }
            },
            "type": "scatterpolargl"
           }
          ],
          "scatterternary": [
           {
            "marker": {
             "colorbar": {
              "outlinewidth": 0,
              "ticks": ""
             }
            },
            "type": "scatterternary"
           }
          ],
          "surface": [
           {
            "colorbar": {
             "outlinewidth": 0,
             "ticks": ""
            },
            "colorscale": [
             [
              0,
              "#0d0887"
             ],
             [
              0.1111111111111111,
              "#46039f"
             ],
             [
              0.2222222222222222,
              "#7201a8"
             ],
             [
              0.3333333333333333,
              "#9c179e"
             ],
             [
              0.4444444444444444,
              "#bd3786"
             ],
             [
              0.5555555555555556,
              "#d8576b"
             ],
             [
              0.6666666666666666,
              "#ed7953"
             ],
             [
              0.7777777777777778,
              "#fb9f3a"
             ],
             [
              0.8888888888888888,
              "#fdca26"
             ],
             [
              1,
              "#f0f921"
             ]
            ],
            "type": "surface"
           }
          ],
          "table": [
           {
            "cells": {
             "fill": {
              "color": "#EBF0F8"
             },
             "line": {
              "color": "white"
             }
            },
            "header": {
             "fill": {
              "color": "#C8D4E3"
             },
             "line": {
              "color": "white"
             }
            },
            "type": "table"
           }
          ]
         },
         "layout": {
          "annotationdefaults": {
           "arrowcolor": "#2a3f5f",
           "arrowhead": 0,
           "arrowwidth": 1
          },
          "autotypenumbers": "strict",
          "coloraxis": {
           "colorbar": {
            "outlinewidth": 0,
            "ticks": ""
           }
          },
          "colorscale": {
           "diverging": [
            [
             0,
             "#8e0152"
            ],
            [
             0.1,
             "#c51b7d"
            ],
            [
             0.2,
             "#de77ae"
            ],
            [
             0.3,
             "#f1b6da"
            ],
            [
             0.4,
             "#fde0ef"
            ],
            [
             0.5,
             "#f7f7f7"
            ],
            [
             0.6,
             "#e6f5d0"
            ],
            [
             0.7,
             "#b8e186"
            ],
            [
             0.8,
             "#7fbc41"
            ],
            [
             0.9,
             "#4d9221"
            ],
            [
             1,
             "#276419"
            ]
           ],
           "sequential": [
            [
             0,
             "#0d0887"
            ],
            [
             0.1111111111111111,
             "#46039f"
            ],
            [
             0.2222222222222222,
             "#7201a8"
            ],
            [
             0.3333333333333333,
             "#9c179e"
            ],
            [
             0.4444444444444444,
             "#bd3786"
            ],
            [
             0.5555555555555556,
             "#d8576b"
            ],
            [
             0.6666666666666666,
             "#ed7953"
            ],
            [
             0.7777777777777778,
             "#fb9f3a"
            ],
            [
             0.8888888888888888,
             "#fdca26"
            ],
            [
             1,
             "#f0f921"
            ]
           ],
           "sequentialminus": [
            [
             0,
             "#0d0887"
            ],
            [
             0.1111111111111111,
             "#46039f"
            ],
            [
             0.2222222222222222,
             "#7201a8"
            ],
            [
             0.3333333333333333,
             "#9c179e"
            ],
            [
             0.4444444444444444,
             "#bd3786"
            ],
            [
             0.5555555555555556,
             "#d8576b"
            ],
            [
             0.6666666666666666,
             "#ed7953"
            ],
            [
             0.7777777777777778,
             "#fb9f3a"
            ],
            [
             0.8888888888888888,
             "#fdca26"
            ],
            [
             1,
             "#f0f921"
            ]
           ]
          },
          "colorway": [
           "#636efa",
           "#EF553B",
           "#00cc96",
           "#ab63fa",
           "#FFA15A",
           "#19d3f3",
           "#FF6692",
           "#B6E880",
           "#FF97FF",
           "#FECB52"
          ],
          "font": {
           "color": "#2a3f5f"
          },
          "geo": {
           "bgcolor": "white",
           "lakecolor": "white",
           "landcolor": "#E5ECF6",
           "showlakes": true,
           "showland": true,
           "subunitcolor": "white"
          },
          "hoverlabel": {
           "align": "left"
          },
          "hovermode": "closest",
          "mapbox": {
           "style": "light"
          },
          "paper_bgcolor": "white",
          "plot_bgcolor": "#E5ECF6",
          "polar": {
           "angularaxis": {
            "gridcolor": "white",
            "linecolor": "white",
            "ticks": ""
           },
           "bgcolor": "#E5ECF6",
           "radialaxis": {
            "gridcolor": "white",
            "linecolor": "white",
            "ticks": ""
           }
          },
          "scene": {
           "xaxis": {
            "backgroundcolor": "#E5ECF6",
            "gridcolor": "white",
            "gridwidth": 2,
            "linecolor": "white",
            "showbackground": true,
            "ticks": "",
            "zerolinecolor": "white"
           },
           "yaxis": {
            "backgroundcolor": "#E5ECF6",
            "gridcolor": "white",
            "gridwidth": 2,
            "linecolor": "white",
            "showbackground": true,
            "ticks": "",
            "zerolinecolor": "white"
           },
           "zaxis": {
            "backgroundcolor": "#E5ECF6",
            "gridcolor": "white",
            "gridwidth": 2,
            "linecolor": "white",
            "showbackground": true,
            "ticks": "",
            "zerolinecolor": "white"
           }
          },
          "shapedefaults": {
           "line": {
            "color": "#2a3f5f"
           }
          },
          "ternary": {
           "aaxis": {
            "gridcolor": "white",
            "linecolor": "white",
            "ticks": ""
           },
           "baxis": {
            "gridcolor": "white",
            "linecolor": "white",
            "ticks": ""
           },
           "bgcolor": "#E5ECF6",
           "caxis": {
            "gridcolor": "white",
            "linecolor": "white",
            "ticks": ""
           }
          },
          "title": {
           "x": 0.05
          },
          "xaxis": {
           "automargin": true,
           "gridcolor": "white",
           "linecolor": "white",
           "ticks": "",
           "title": {
            "standoff": 15
           },
           "zerolinecolor": "white",
           "zerolinewidth": 2
          },
          "yaxis": {
           "automargin": true,
           "gridcolor": "white",
           "linecolor": "white",
           "ticks": "",
           "title": {
            "standoff": 15
           },
           "zerolinecolor": "white",
           "zerolinewidth": 2
          }
         }
        },
        "xaxis": {
         "anchor": "y",
         "domain": [
          0,
          0.94
         ]
        },
        "yaxis": {
         "anchor": "x",
         "domain": [
          0,
          1
         ]
        },
        "yaxis2": {
         "anchor": "x",
         "overlaying": "y",
         "side": "right"
        }
       }
      },
      "text/html": [
       "<div>                            <div id=\"4d3fef9d-336a-471a-a14e-7e8e8edd6b9a\" class=\"plotly-graph-div\" style=\"height:525px; width:100%;\"></div>            <script type=\"text/javascript\">                require([\"plotly\"], function(Plotly) {                    window.PLOTLYENV=window.PLOTLYENV || {};                                    if (document.getElementById(\"4d3fef9d-336a-471a-a14e-7e8e8edd6b9a\")) {                    Plotly.newPlot(                        \"4d3fef9d-336a-471a-a14e-7e8e8edd6b9a\",                        [{\"hovertemplate\":\"date=%{x}<br>Mean=%{y}<extra></extra>\",\"legendgroup\":\"\",\"line\":{\"dash\":\"solid\"},\"marker\":{\"symbol\":\"circle\"},\"mode\":\"lines\",\"name\":\"\",\"orientation\":\"v\",\"showlegend\":false,\"x\":[\"2022-01-05\",\"2022-01-06\",\"2022-01-07\",\"2022-01-08\",\"2022-01-09\",\"2022-01-10\",\"2022-01-11\",\"2022-01-12\",\"2022-01-16\",\"2022-01-17\",\"2022-01-18\",\"2022-01-19\",\"2022-01-20\",\"2022-01-21\",\"2022-01-22\",\"2022-01-23\",\"2022-01-24\",\"2022-01-25\",\"2022-01-26\",\"2022-01-27\",\"2022-01-28\",\"2022-01-29\",\"2022-01-30\",\"2022-01-31\",\"2022-02-01\",\"2022-02-02\",\"2022-02-03\",\"2022-02-04\",\"2022-02-05\",\"2022-02-06\",\"2022-02-07\",\"2022-02-08\",\"2022-02-09\",\"2022-02-10\",\"2022-02-11\",\"2022-02-12\",\"2022-02-13\",\"2022-02-14\",\"2022-02-15\",\"2022-02-16\",\"2022-02-17\",\"2022-02-18\",\"2022-02-19\",\"2022-02-20\",\"2022-02-21\",\"2022-02-22\",\"2022-02-23\",\"2022-02-24\",\"2022-02-25\",\"2022-02-26\",\"2022-02-27\",\"2022-02-28\",\"2022-03-01\",\"2022-03-02\",\"2022-03-03\",\"2022-03-04\",\"2022-03-05\",\"2022-03-06\",\"2022-03-07\",\"2022-03-08\",\"2022-03-09\",\"2022-03-10\",\"2022-03-11\",\"2022-03-12\",\"2022-03-13\",\"2022-03-14\",\"2022-03-15\",\"2022-03-16\",\"2022-03-17\",\"2022-03-18\",\"2022-03-19\",\"2022-03-20\",\"2022-03-21\",\"2022-03-22\",\"2022-03-23\",\"2022-03-24\",\"2022-03-25\",\"2022-03-26\",\"2022-03-27\",\"2022-03-28\",\"2022-03-29\",\"2022-03-30\",\"2022-03-31\",\"2022-04-01\",\"2022-04-02\",\"2022-04-05\",\"2022-04-06\",\"2022-04-07\",\"2022-04-08\",\"2022-04-09\",\"2022-04-10\",\"2022-04-11\",\"2022-04-12\",\"2022-04-13\",\"2022-04-14\",\"2022-04-15\",\"2022-04-16\",\"2022-04-17\",\"2022-04-18\",\"2022-04-19\",\"2022-04-20\",\"2022-04-21\",\"2022-04-22\",\"2022-04-23\",\"2022-04-24\",\"2022-04-25\",\"2022-04-26\",\"2022-04-27\",\"2022-04-28\",\"2022-04-29\",\"2022-04-30\",\"2022-05-01\",\"2022-05-02\",\"2022-05-03\",\"2022-05-04\",\"2022-05-05\",\"2022-05-06\",\"2022-05-07\",\"2022-05-08\",\"2022-05-09\",\"2022-05-10\",\"2022-05-11\",\"2022-05-12\",\"2022-05-13\",\"2022-05-14\",\"2022-05-15\",\"2022-05-16\",\"2022-05-17\",\"2022-05-18\",\"2022-05-19\",\"2022-05-20\",\"2022-05-21\",\"2022-05-22\",\"2022-05-23\",\"2022-05-24\",\"2022-05-26\",\"2022-05-27\",\"2022-05-28\",\"2022-05-29\",\"2022-05-30\",\"2022-05-31\",\"2022-06-01\",\"2022-06-02\",\"2022-06-03\",\"2022-06-04\",\"2022-06-05\",\"2022-06-06\",\"2022-06-07\",\"2022-06-08\",\"2022-06-09\",\"2022-06-10\",\"2022-06-11\",\"2022-06-12\",\"2022-06-13\",\"2022-06-14\",\"2022-06-15\",\"2022-06-16\",\"2022-06-17\",\"2022-06-18\",\"2022-06-19\",\"2022-06-20\",\"2022-06-21\",\"2022-06-22\",\"2022-06-23\",\"2022-06-24\",\"2022-06-25\",\"2022-06-26\",\"2022-06-27\",\"2022-06-28\",\"2022-06-29\",\"2022-07-02\",\"2022-07-03\",\"2022-07-04\",\"2022-07-05\",\"2022-07-06\",\"2022-07-07\",\"2022-07-08\",\"2022-07-09\",\"2022-07-10\",\"2022-07-11\",\"2022-07-12\",\"2022-07-13\",\"2022-07-14\",\"2022-07-15\",\"2022-07-16\",\"2022-07-17\",\"2022-07-18\",\"2022-07-19\",\"2022-07-20\",\"2022-07-21\",\"2022-07-22\",\"2022-07-23\",\"2022-07-24\",\"2022-07-25\",\"2022-07-26\",\"2022-07-27\",\"2022-07-28\",\"2022-07-29\",\"2022-07-30\",\"2022-07-31\",\"2022-08-01\",\"2022-08-02\",\"2022-08-03\",\"2022-08-04\",\"2022-08-05\",\"2022-08-06\",\"2022-08-07\",\"2022-08-08\",\"2022-08-09\",\"2022-08-10\",\"2022-08-11\",\"2022-08-12\",\"2022-08-13\",\"2022-08-14\",\"2022-08-15\",\"2022-08-16\",\"2022-08-17\",\"2022-08-18\",\"2022-08-19\",\"2022-08-20\",\"2022-08-21\",\"2022-08-22\",\"2022-08-23\",\"2022-08-24\",\"2022-08-25\",\"2022-08-26\",\"2022-08-27\",\"2022-08-28\",\"2022-08-29\",\"2022-08-30\",\"2022-08-31\",\"2022-09-01\",\"2022-09-02\",\"2022-09-03\",\"2022-09-04\",\"2022-09-05\",\"2022-09-06\",\"2022-09-07\",\"2022-09-08\",\"2022-09-09\",\"2022-09-10\",\"2022-09-11\",\"2022-09-12\",\"2022-09-13\",\"2022-09-14\",\"2022-09-16\"],\"xaxis\":\"x\",\"y\":[16300560.396325707,17658648.89806571,17347162.93101469,16975064.4272259,16797785.791917797,16806788.914961446,16811833.251713973,16734018.396816732,17112088.201657716,17011946.553369317,16970497.972453773,16652439.489730489,14965479.43222849,13323793.673679637,12873959.016227724,11303651.720090585,11007467.34700925,10871655.621807251,12159820.822644686,13505607.403390111,13681356.340413606,14936296.611906191,14923038.910625257,12589322.572192566,12568194.290519638,12656150.217581045,12895523.888825014,13174352.579157157,14758873.283617333,14966112.54168266,13981120.739769287,14329206.281212503,12998453.810260974,13035101.46742987,12935524.996210158,14282421.110996926,14269045.839103565,14234745.430921003,13983623.878515448,12451147.474175066,15269480.34958822,15144035.258112026,13602820.084048048,11961488.017577806,11692883.442188185,10520623.18598848,10597508.98837556,12302652.732426368,12055658.914270565,13312310.455994308,13302684.301300997,15072063.977543931,16640913.820278505,16726833.162031168,15359834.212318948,14337334.69371573,13968809.536106026,13561663.795575554,13355494.93965335,11993273.990426429,12099160.81741657,12943501.406253258,12695278.590656549,12590908.615391329,12418870.720681133,12292307.862216016,13682690.17967298,12526529.102193069,12882839.583889768,11436021.607194657,11324391.68407502,12674892.310120234,11270116.114267657,12775937.96738934,11589932.293703048,13442791.025573203,13942925.906535745,12722266.4979224,14600266.085370503,14866187.212059,14936133.6515846,13608250.734281491,12280254.842698582,14027934.698614923,13825044.782824928,9370691.80449831,9533048.390190354,9701736.487279251,8516841.090446098,9443838.824822633,9364852.622400708,10675149.238137288,11864137.72101284,11742429.723710775,12885260.082449311,11467406.715709897,12690455.363681272,11144443.841934573,9815462.194832023,9820668.402080366,9694690.695536984,9815317.107529247,9585090.849358326,9490934.549195984,10580321.827864258,10357739.355840078,9904135.934160378,9669618.420316638,13644156.129957588,13356814.415303038,11853810.286388464,11775592.976694366,11590485.543108916,11612288.84540094,12868801.298505137,13053035.151801929,14110520.33822723,13778267.472966751,12530386.508751629,12021290.84041947,11497172.066507123,11118384.805893648,10012741.049433025,8903535.797767593,9879758.226772675,8878044.28833642,8912295.660614314,8893381.490528656,8745347.529548453,9631829.455022588,9253797.523018852,10113809.633346066,8627578.21810162,8436459.608976576,8431611.204082683,9263388.742297878,9200360.676142124,8049840.762693316,7924927.841125282,7868657.633253898,7230972.840943344,6065311.089454257,9510080.885098493,10311356.508528523,10188843.301089196,9230875.838806592,10421951.542127308,9410805.585428568,9295633.88340653,8287272.486073527,7205341.804875426,7007599.814036851,6448621.827739158,6996861.265276186,6653012.160243738,7241345.740182835,7813596.111569532,7643831.547008324,7531588.959285109,7505410.359529986,7423733.098475824,6722836.719293342,6849695.54328337,6908397.18765669,6799747.286928598,5966884.493104179,5897396.60152033,6545954.712858573,6358798.550920685,6316020.342904109,5492587.888628663,6037932.844157421,6507796.793347505,6309120.805134576,5657328.519440842,6476220.235650866,6414659.974277817,6216635.331815537,6170705.76427205,6847120.495130398,7568256.8942576,6839261.199889245,6985216.111671757,7127510.381407448,7193205.759368735,6399743.077854154,5758539.531994228,6621291.371501154,6804726.057510258,6060577.235854323,5243187.541894077,5147318.963220172,5064263.508210289,4858667.85518512,3909371.044759281,4096096.090724261,4204594.980261365,4307863.510326613,5003951.526183036,4228045.443139293,4333588.643109683,5018962.503638574,5804053.423344479,5895996.5152875,5037398.072898928,5004869.981366244,4880399.674905674,3947814.281643769,3948862.58109716,4797672.732006527,4884605.922182759,5715605.453048547,6451408.939340082,7364789.98125288,7339247.45884328,6379593.836309846,6259926.059650292,6100968.986072023,5275627.779843024,5031561.367078741,4892291.1739766905,5546647.476200526,5516003.131957986,5482295.180712657,5456852.680862268,4775999.74259103,3957207.108413973,3931561.776743367,4698801.634696487,4061940.882940602,4708582.741603273,5294455.559226955,5380768.831610278,5275279.474289083,4521161.304549058,4425189.697850819,3752298.765401428,3150115.6873833905,3837971.635240448,3236858.334502481,3272351.204580219,3426944.4127864144,4117827.867354317,4050300.34362331,3335873.889345976,3912334.868152091],\"yaxis\":\"y\",\"type\":\"scatter\"},{\"hovertemplate\":\"date=%{x}<br>fun=%{y}<extra></extra>\",\"legendgroup\":\"\",\"line\":{\"dash\":\"solid\"},\"marker\":{\"symbol\":\"circle\"},\"mode\":\"lines\",\"name\":\"\",\"orientation\":\"v\",\"showlegend\":false,\"x\":[\"2022-01-05\",\"2022-01-06\",\"2022-01-07\",\"2022-01-08\",\"2022-01-09\",\"2022-01-10\",\"2022-01-11\",\"2022-01-12\",\"2022-01-16\",\"2022-01-17\",\"2022-01-18\",\"2022-01-19\",\"2022-01-20\",\"2022-01-21\",\"2022-01-22\",\"2022-01-23\",\"2022-01-24\",\"2022-01-25\",\"2022-01-26\",\"2022-01-27\",\"2022-01-28\",\"2022-01-29\",\"2022-01-30\",\"2022-01-31\",\"2022-02-01\",\"2022-02-02\",\"2022-02-03\",\"2022-02-04\",\"2022-02-05\",\"2022-02-06\",\"2022-02-07\",\"2022-02-08\",\"2022-02-09\",\"2022-02-10\",\"2022-02-11\",\"2022-02-12\",\"2022-02-13\",\"2022-02-14\",\"2022-02-15\",\"2022-02-16\",\"2022-02-17\",\"2022-02-18\",\"2022-02-19\",\"2022-02-20\",\"2022-02-21\",\"2022-02-22\",\"2022-02-23\",\"2022-02-24\",\"2022-02-25\",\"2022-02-26\",\"2022-02-27\",\"2022-02-28\",\"2022-03-01\",\"2022-03-02\",\"2022-03-03\",\"2022-03-04\",\"2022-03-05\",\"2022-03-06\",\"2022-03-07\",\"2022-03-08\",\"2022-03-09\",\"2022-03-10\",\"2022-03-11\",\"2022-03-12\",\"2022-03-13\",\"2022-03-14\",\"2022-03-15\",\"2022-03-16\",\"2022-03-17\",\"2022-03-18\",\"2022-03-19\",\"2022-03-20\",\"2022-03-21\",\"2022-03-22\",\"2022-03-23\",\"2022-03-24\",\"2022-03-25\",\"2022-03-26\",\"2022-03-27\",\"2022-03-28\",\"2022-03-29\",\"2022-03-30\",\"2022-03-31\",\"2022-04-01\",\"2022-04-02\",\"2022-04-05\",\"2022-04-06\",\"2022-04-07\",\"2022-04-08\",\"2022-04-09\",\"2022-04-10\",\"2022-04-11\",\"2022-04-12\",\"2022-04-13\",\"2022-04-14\",\"2022-04-15\",\"2022-04-16\",\"2022-04-17\",\"2022-04-18\",\"2022-04-19\",\"2022-04-20\",\"2022-04-21\",\"2022-04-22\",\"2022-04-23\",\"2022-04-24\",\"2022-04-25\",\"2022-04-26\",\"2022-04-27\",\"2022-04-28\",\"2022-04-29\",\"2022-04-30\",\"2022-05-01\",\"2022-05-02\",\"2022-05-03\",\"2022-05-04\",\"2022-05-05\",\"2022-05-06\",\"2022-05-07\",\"2022-05-08\",\"2022-05-09\",\"2022-05-10\",\"2022-05-11\",\"2022-05-12\",\"2022-05-13\",\"2022-05-14\",\"2022-05-15\",\"2022-05-16\",\"2022-05-17\",\"2022-05-18\",\"2022-05-19\",\"2022-05-20\",\"2022-05-21\",\"2022-05-22\",\"2022-05-23\",\"2022-05-24\",\"2022-05-26\",\"2022-05-27\",\"2022-05-28\",\"2022-05-29\",\"2022-05-30\",\"2022-05-31\",\"2022-06-01\",\"2022-06-02\",\"2022-06-03\",\"2022-06-04\",\"2022-06-05\",\"2022-06-06\",\"2022-06-07\",\"2022-06-08\",\"2022-06-09\",\"2022-06-10\",\"2022-06-11\",\"2022-06-12\",\"2022-06-13\",\"2022-06-14\",\"2022-06-15\",\"2022-06-16\",\"2022-06-17\",\"2022-06-18\",\"2022-06-19\",\"2022-06-20\",\"2022-06-21\",\"2022-06-22\",\"2022-06-23\",\"2022-06-24\",\"2022-06-25\",\"2022-06-26\",\"2022-06-27\",\"2022-06-28\",\"2022-06-29\",\"2022-07-02\",\"2022-07-03\",\"2022-07-04\",\"2022-07-05\",\"2022-07-06\",\"2022-07-07\",\"2022-07-08\",\"2022-07-09\",\"2022-07-10\",\"2022-07-11\",\"2022-07-12\",\"2022-07-13\",\"2022-07-14\",\"2022-07-15\",\"2022-07-16\",\"2022-07-17\",\"2022-07-18\",\"2022-07-19\",\"2022-07-20\",\"2022-07-21\",\"2022-07-22\",\"2022-07-23\",\"2022-07-24\",\"2022-07-25\",\"2022-07-26\",\"2022-07-27\",\"2022-07-28\",\"2022-07-29\",\"2022-07-30\",\"2022-07-31\",\"2022-08-01\",\"2022-08-02\",\"2022-08-03\",\"2022-08-04\",\"2022-08-05\",\"2022-08-06\",\"2022-08-07\",\"2022-08-08\",\"2022-08-09\",\"2022-08-10\",\"2022-08-11\",\"2022-08-12\",\"2022-08-13\",\"2022-08-14\",\"2022-08-15\",\"2022-08-16\",\"2022-08-17\",\"2022-08-18\",\"2022-08-19\",\"2022-08-20\",\"2022-08-21\",\"2022-08-22\",\"2022-08-23\",\"2022-08-24\",\"2022-08-25\",\"2022-08-26\",\"2022-08-27\",\"2022-08-28\",\"2022-08-29\",\"2022-08-30\",\"2022-08-31\",\"2022-09-01\",\"2022-09-02\",\"2022-09-03\",\"2022-09-04\",\"2022-09-05\",\"2022-09-06\",\"2022-09-07\",\"2022-09-08\",\"2022-09-09\",\"2022-09-10\",\"2022-09-11\",\"2022-09-12\",\"2022-09-13\",\"2022-09-14\",\"2022-09-16\"],\"xaxis\":\"x\",\"y\":[1.0844892892006188,1.9366936965397128,2.096482022915793,2.3095331247505677,2.2296389615625274,2.0432192474571,1.670379819246246,1.217646227847352,1.285021748210051,1.205624016619126,0.848334224459962,0.9277319560508872,0.252851237528022,-0.064739688835679,0.014658042755246,-0.302932883608455,-0.0250408230402169,-0.22353515201753,0.094055774346171,0.5704421638917231,0.2925501033234849,0.610141029687186,0.530743298096261,0.7026811386114132,0.6526844211164222,0.6026877036214312,1.002661443581357,1.5026286185312627,1.8526056409961973,2.302576098451113,1.7026154885112257,1.6526187710162348,0.5026942686314503,0.1027205286715255,0.2527106811564974,0.6526844211164222,0.5526909861264413,0.2027139636615064,0.4027008336414693,-0.9972072562182688,1.0045951260125787,1.0045951260125787,0.5784929223430312,0.0724965554854435,0.3388104327789108,-0.1139231586199829,-0.1405545463493298,-0.797220386238306,-1.1471974087032408,-0.6472302337533341,-0.6472302337533341,-0.3472499287833902,0.7026811386114132,0.5526909861264413,0.3527041161464784,-0.4472433637733722,-0.3472499287833902,-0.0472696238134464,-1.04720397371326,-2.097135041108063,-2.097135041108063,-0.8472171037332971,-0.947210538723278,-0.7472236687433161,0.8026745736013942,1.2026483135613188,1.4026351835412818,0.1527172461665154,0.5026942686314503,-0.4972400812683621,-1.2471908436932218,-0.5972335162583442,-0.6972269512483251,0.3027073986514874,-1.09720069120825,-0.4972400812683621,-1.197194126198232,-2.047138323613072,-0.6472302337533341,-0.5972335162583442,0.1527172461665154,-0.1472630588034283,-0.0472696238134464,1.102654878571338,0.6526844211164222,-0.593288137748224,-0.4601311991014903,-0.3536056481841033,-0.9661275659590776,-0.5400253622895305,-0.593288137748224,0.1523907186734837,0.4985987591549911,0.6317556978017244,0.8980695750951917,0.5518615346136843,1.0844892892006188,0.3654418205082577,-0.0872917708906366,-0.2470800972667168,-0.193817321808023,-0.1405545463493298,-0.7797078518536508,-0.9927589536884244,-0.4601311991014903,-0.4601311991014903,-0.3003428727254101,-0.3269742604547569,-0.1441374204266049,-0.22353515201753,-1.096910199517709,-0.302932883608455,-0.22353515201753,0.1734535059370969,0.888033090255425,1.245322882414589,1.840805869346528,1.642311540369216,1.126226285028201,1.443817211391902,1.642311540369216,1.443817211391902,0.888033090255425,-0.2632340178129929,-0.1044385546311419,-1.4541999916768729,-1.652694320654186,-1.5732965890632609,-1.5732965890632609,-0.8984158705403951,0.4719673714256441,1.111120676929965,0.7382812487191114,0.8181754119071515,0.7649126364484583,1.111120676929965,0.7382812487191114,0.2855476573202176,0.1523907186734837,-0.0073976077025965,-0.0340289954319428,-0.4867625868308372,-0.6999215415630821,-0.1044385546311419,0.133754640141634,-0.422029480994843,0.4116467007098729,-0.2632340178129929,-0.3823306151993809,-1.017512467926783,-1.612995454858723,-1.851188649631499,-2.089381844404275,-0.938114736335858,-0.422029480994843,0.4116467007098729,1.046828553437275,1.245322882414589,1.840805869346528,1.165925150823663,0.848334224459962,0.133754640141634,-0.183836286222067,-0.302932883608455,-0.977813602131321,-1.4541999916768729,-1.533597723267798,-0.5411260783812311,-0.5411260783812311,-0.739620407358545,-0.3003428727254101,-0.0606603831612897,0.2322848818615238,0.2056534941321775,-0.2204487095373699,0.2855476573202176,0.2855476573202176,0.3121790450495639,0.6317556978017244,2.149744798374487,3.001949205713581,2.36279590020926,2.5225842265853404,2.6823725529614206,2.176376186103833,0.6850184732604182,-0.1671859340786767,0.525230146884338,0.418704595966951,-0.1671859340786767,-0.5133939745601835,-0.4867625868308372,-0.3802370359134502,-0.6465509132069172,-1.3655983818992783,-1.2324414432525448,-0.9661275659590776,-0.9927589536884244,-0.5400253622895305,-0.6731823009362641,-0.7797078518536508,-0.4601311991014903,-0.2470800972667168,-0.193817321808023,-0.9128647905003844,-1.0992845046058113,-0.939496178229731,-1.472123932816665,-1.578649483734052,-1.0726531168764646,-0.9128647905003844,-0.193817321808023,0.0192337800267503,0.5518615346136843,0.6317556978017244,0.0458651677560972,-0.0606603831612897,-0.4601311991014903,-0.7530764641243042,-0.9128647905003844,-0.8596020150416909,-0.5400253622895305,-0.6199195254775706,-0.566656750018877,-0.5400253622895305,-0.7797078518536508,-1.205810055523198,-1.0726531168764646,-0.3003428727254101,-0.7530764641243042,-0.3003428727254101,0.2056534941321775,0.3388104327789108,0.4985987591549911,-0.0606603831612897,-0.0340289954319428,-0.593288137748224,-1.2324414432525448,-0.9128647905003844,-1.5520180960047054,-1.6851750346514387,-1.4987553205460118,-1.0992845046058113,-1.0460217291471177,-1.472123932816665,-0.9661275659590776],\"yaxis\":\"y2\",\"type\":\"scatter\"}],                        {\"template\":{\"data\":{\"histogram2dcontour\":[{\"type\":\"histogram2dcontour\",\"colorbar\":{\"outlinewidth\":0,\"ticks\":\"\"},\"colorscale\":[[0.0,\"#0d0887\"],[0.1111111111111111,\"#46039f\"],[0.2222222222222222,\"#7201a8\"],[0.3333333333333333,\"#9c179e\"],[0.4444444444444444,\"#bd3786\"],[0.5555555555555556,\"#d8576b\"],[0.6666666666666666,\"#ed7953\"],[0.7777777777777778,\"#fb9f3a\"],[0.8888888888888888,\"#fdca26\"],[1.0,\"#f0f921\"]]}],\"choropleth\":[{\"type\":\"choropleth\",\"colorbar\":{\"outlinewidth\":0,\"ticks\":\"\"}}],\"histogram2d\":[{\"type\":\"histogram2d\",\"colorbar\":{\"outlinewidth\":0,\"ticks\":\"\"},\"colorscale\":[[0.0,\"#0d0887\"],[0.1111111111111111,\"#46039f\"],[0.2222222222222222,\"#7201a8\"],[0.3333333333333333,\"#9c179e\"],[0.4444444444444444,\"#bd3786\"],[0.5555555555555556,\"#d8576b\"],[0.6666666666666666,\"#ed7953\"],[0.7777777777777778,\"#fb9f3a\"],[0.8888888888888888,\"#fdca26\"],[1.0,\"#f0f921\"]]}],\"heatmap\":[{\"type\":\"heatmap\",\"colorbar\":{\"outlinewidth\":0,\"ticks\":\"\"},\"colorscale\":[[0.0,\"#0d0887\"],[0.1111111111111111,\"#46039f\"],[0.2222222222222222,\"#7201a8\"],[0.3333333333333333,\"#9c179e\"],[0.4444444444444444,\"#bd3786\"],[0.5555555555555556,\"#d8576b\"],[0.6666666666666666,\"#ed7953\"],[0.7777777777777778,\"#fb9f3a\"],[0.8888888888888888,\"#fdca26\"],[1.0,\"#f0f921\"]]}],\"heatmapgl\":[{\"type\":\"heatmapgl\",\"colorbar\":{\"outlinewidth\":0,\"ticks\":\"\"},\"colorscale\":[[0.0,\"#0d0887\"],[0.1111111111111111,\"#46039f\"],[0.2222222222222222,\"#7201a8\"],[0.3333333333333333,\"#9c179e\"],[0.4444444444444444,\"#bd3786\"],[0.5555555555555556,\"#d8576b\"],[0.6666666666666666,\"#ed7953\"],[0.7777777777777778,\"#fb9f3a\"],[0.8888888888888888,\"#fdca26\"],[1.0,\"#f0f921\"]]}],\"contourcarpet\":[{\"type\":\"contourcarpet\",\"colorbar\":{\"outlinewidth\":0,\"ticks\":\"\"}}],\"contour\":[{\"type\":\"contour\",\"colorbar\":{\"outlinewidth\":0,\"ticks\":\"\"},\"colorscale\":[[0.0,\"#0d0887\"],[0.1111111111111111,\"#46039f\"],[0.2222222222222222,\"#7201a8\"],[0.3333333333333333,\"#9c179e\"],[0.4444444444444444,\"#bd3786\"],[0.5555555555555556,\"#d8576b\"],[0.6666666666666666,\"#ed7953\"],[0.7777777777777778,\"#fb9f3a\"],[0.8888888888888888,\"#fdca26\"],[1.0,\"#f0f921\"]]}],\"surface\":[{\"type\":\"surface\",\"colorbar\":{\"outlinewidth\":0,\"ticks\":\"\"},\"colorscale\":[[0.0,\"#0d0887\"],[0.1111111111111111,\"#46039f\"],[0.2222222222222222,\"#7201a8\"],[0.3333333333333333,\"#9c179e\"],[0.4444444444444444,\"#bd3786\"],[0.5555555555555556,\"#d8576b\"],[0.6666666666666666,\"#ed7953\"],[0.7777777777777778,\"#fb9f3a\"],[0.8888888888888888,\"#fdca26\"],[1.0,\"#f0f921\"]]}],\"mesh3d\":[{\"type\":\"mesh3d\",\"colorbar\":{\"outlinewidth\":0,\"ticks\":\"\"}}],\"scatter\":[{\"fillpattern\":{\"fillmode\":\"overlay\",\"size\":10,\"solidity\":0.2},\"type\":\"scatter\"}],\"parcoords\":[{\"type\":\"parcoords\",\"line\":{\"colorbar\":{\"outlinewidth\":0,\"ticks\":\"\"}}}],\"scatterpolargl\":[{\"type\":\"scatterpolargl\",\"marker\":{\"colorbar\":{\"outlinewidth\":0,\"ticks\":\"\"}}}],\"bar\":[{\"error_x\":{\"color\":\"#2a3f5f\"},\"error_y\":{\"color\":\"#2a3f5f\"},\"marker\":{\"line\":{\"color\":\"#E5ECF6\",\"width\":0.5},\"pattern\":{\"fillmode\":\"overlay\",\"size\":10,\"solidity\":0.2}},\"type\":\"bar\"}],\"scattergeo\":[{\"type\":\"scattergeo\",\"marker\":{\"colorbar\":{\"outlinewidth\":0,\"ticks\":\"\"}}}],\"scatterpolar\":[{\"type\":\"scatterpolar\",\"marker\":{\"colorbar\":{\"outlinewidth\":0,\"ticks\":\"\"}}}],\"histogram\":[{\"marker\":{\"pattern\":{\"fillmode\":\"overlay\",\"size\":10,\"solidity\":0.2}},\"type\":\"histogram\"}],\"scattergl\":[{\"type\":\"scattergl\",\"marker\":{\"colorbar\":{\"outlinewidth\":0,\"ticks\":\"\"}}}],\"scatter3d\":[{\"type\":\"scatter3d\",\"line\":{\"colorbar\":{\"outlinewidth\":0,\"ticks\":\"\"}},\"marker\":{\"colorbar\":{\"outlinewidth\":0,\"ticks\":\"\"}}}],\"scattermapbox\":[{\"type\":\"scattermapbox\",\"marker\":{\"colorbar\":{\"outlinewidth\":0,\"ticks\":\"\"}}}],\"scatterternary\":[{\"type\":\"scatterternary\",\"marker\":{\"colorbar\":{\"outlinewidth\":0,\"ticks\":\"\"}}}],\"scattercarpet\":[{\"type\":\"scattercarpet\",\"marker\":{\"colorbar\":{\"outlinewidth\":0,\"ticks\":\"\"}}}],\"carpet\":[{\"aaxis\":{\"endlinecolor\":\"#2a3f5f\",\"gridcolor\":\"white\",\"linecolor\":\"white\",\"minorgridcolor\":\"white\",\"startlinecolor\":\"#2a3f5f\"},\"baxis\":{\"endlinecolor\":\"#2a3f5f\",\"gridcolor\":\"white\",\"linecolor\":\"white\",\"minorgridcolor\":\"white\",\"startlinecolor\":\"#2a3f5f\"},\"type\":\"carpet\"}],\"table\":[{\"cells\":{\"fill\":{\"color\":\"#EBF0F8\"},\"line\":{\"color\":\"white\"}},\"header\":{\"fill\":{\"color\":\"#C8D4E3\"},\"line\":{\"color\":\"white\"}},\"type\":\"table\"}],\"barpolar\":[{\"marker\":{\"line\":{\"color\":\"#E5ECF6\",\"width\":0.5},\"pattern\":{\"fillmode\":\"overlay\",\"size\":10,\"solidity\":0.2}},\"type\":\"barpolar\"}],\"pie\":[{\"automargin\":true,\"type\":\"pie\"}]},\"layout\":{\"autotypenumbers\":\"strict\",\"colorway\":[\"#636efa\",\"#EF553B\",\"#00cc96\",\"#ab63fa\",\"#FFA15A\",\"#19d3f3\",\"#FF6692\",\"#B6E880\",\"#FF97FF\",\"#FECB52\"],\"font\":{\"color\":\"#2a3f5f\"},\"hovermode\":\"closest\",\"hoverlabel\":{\"align\":\"left\"},\"paper_bgcolor\":\"white\",\"plot_bgcolor\":\"#E5ECF6\",\"polar\":{\"bgcolor\":\"#E5ECF6\",\"angularaxis\":{\"gridcolor\":\"white\",\"linecolor\":\"white\",\"ticks\":\"\"},\"radialaxis\":{\"gridcolor\":\"white\",\"linecolor\":\"white\",\"ticks\":\"\"}},\"ternary\":{\"bgcolor\":\"#E5ECF6\",\"aaxis\":{\"gridcolor\":\"white\",\"linecolor\":\"white\",\"ticks\":\"\"},\"baxis\":{\"gridcolor\":\"white\",\"linecolor\":\"white\",\"ticks\":\"\"},\"caxis\":{\"gridcolor\":\"white\",\"linecolor\":\"white\",\"ticks\":\"\"}},\"coloraxis\":{\"colorbar\":{\"outlinewidth\":0,\"ticks\":\"\"}},\"colorscale\":{\"sequential\":[[0.0,\"#0d0887\"],[0.1111111111111111,\"#46039f\"],[0.2222222222222222,\"#7201a8\"],[0.3333333333333333,\"#9c179e\"],[0.4444444444444444,\"#bd3786\"],[0.5555555555555556,\"#d8576b\"],[0.6666666666666666,\"#ed7953\"],[0.7777777777777778,\"#fb9f3a\"],[0.8888888888888888,\"#fdca26\"],[1.0,\"#f0f921\"]],\"sequentialminus\":[[0.0,\"#0d0887\"],[0.1111111111111111,\"#46039f\"],[0.2222222222222222,\"#7201a8\"],[0.3333333333333333,\"#9c179e\"],[0.4444444444444444,\"#bd3786\"],[0.5555555555555556,\"#d8576b\"],[0.6666666666666666,\"#ed7953\"],[0.7777777777777778,\"#fb9f3a\"],[0.8888888888888888,\"#fdca26\"],[1.0,\"#f0f921\"]],\"diverging\":[[0,\"#8e0152\"],[0.1,\"#c51b7d\"],[0.2,\"#de77ae\"],[0.3,\"#f1b6da\"],[0.4,\"#fde0ef\"],[0.5,\"#f7f7f7\"],[0.6,\"#e6f5d0\"],[0.7,\"#b8e186\"],[0.8,\"#7fbc41\"],[0.9,\"#4d9221\"],[1,\"#276419\"]]},\"xaxis\":{\"gridcolor\":\"white\",\"linecolor\":\"white\",\"ticks\":\"\",\"title\":{\"standoff\":15},\"zerolinecolor\":\"white\",\"automargin\":true,\"zerolinewidth\":2},\"yaxis\":{\"gridcolor\":\"white\",\"linecolor\":\"white\",\"ticks\":\"\",\"title\":{\"standoff\":15},\"zerolinecolor\":\"white\",\"automargin\":true,\"zerolinewidth\":2},\"scene\":{\"xaxis\":{\"backgroundcolor\":\"#E5ECF6\",\"gridcolor\":\"white\",\"linecolor\":\"white\",\"showbackground\":true,\"ticks\":\"\",\"zerolinecolor\":\"white\",\"gridwidth\":2},\"yaxis\":{\"backgroundcolor\":\"#E5ECF6\",\"gridcolor\":\"white\",\"linecolor\":\"white\",\"showbackground\":true,\"ticks\":\"\",\"zerolinecolor\":\"white\",\"gridwidth\":2},\"zaxis\":{\"backgroundcolor\":\"#E5ECF6\",\"gridcolor\":\"white\",\"linecolor\":\"white\",\"showbackground\":true,\"ticks\":\"\",\"zerolinecolor\":\"white\",\"gridwidth\":2}},\"shapedefaults\":{\"line\":{\"color\":\"#2a3f5f\"}},\"annotationdefaults\":{\"arrowcolor\":\"#2a3f5f\",\"arrowhead\":0,\"arrowwidth\":1},\"geo\":{\"bgcolor\":\"white\",\"landcolor\":\"#E5ECF6\",\"subunitcolor\":\"white\",\"showland\":true,\"showlakes\":true,\"lakecolor\":\"white\"},\"title\":{\"x\":0.05},\"mapbox\":{\"style\":\"light\"}}},\"xaxis\":{\"anchor\":\"y\",\"domain\":[0.0,0.94]},\"yaxis\":{\"anchor\":\"x\",\"domain\":[0.0,1.0]},\"yaxis2\":{\"anchor\":\"x\",\"overlaying\":\"y\",\"side\":\"right\"}},                        {\"responsive\": true}                    ).then(function(){\n",
       "                            \n",
       "var gd = document.getElementById('4d3fef9d-336a-471a-a14e-7e8e8edd6b9a');\n",
       "var x = new MutationObserver(function (mutations, observer) {{\n",
       "        var display = window.getComputedStyle(gd).display;\n",
       "        if (!display || display === 'none') {{\n",
       "            console.log([gd, 'removed!']);\n",
       "            Plotly.purge(gd);\n",
       "            observer.disconnect();\n",
       "        }}\n",
       "}});\n",
       "\n",
       "// Listen for the removal of the full notebook cells\n",
       "var notebookContainer = gd.closest('#notebook-container');\n",
       "if (notebookContainer) {{\n",
       "    x.observe(notebookContainer, {childList: true});\n",
       "}}\n",
       "\n",
       "// Listen for the clearing of the current output cell\n",
       "var outputEl = gd.closest('.output');\n",
       "if (outputEl) {{\n",
       "    x.observe(outputEl, {childList: true});\n",
       "}}\n",
       "\n",
       "                        })                };                });            </script>        </div>"
      ]
     },
     "metadata": {},
     "output_type": "display_data"
    }
   ],
   "source": [
    "dflist = []\n",
    "for k,v in dfs.items():\n",
    "    v['period_type'] = [k]*v.shape[0]\n",
    "    dflist.append(v)\n",
    "df = pd.concat(dflist).sort_values('date')\n",
    "\n",
    "\n",
    "# Create figure with secondary y-axis\n",
    "#fig = make_subplots(specs=[[{\"secondary_y\": True}]])\n",
    "\n",
    "for dim in df.columns[1:-2]:\n",
    "    subfig = make_subplots(specs=[[{\"secondary_y\": True}]])\n",
    "\n",
    "    fig2 = px.line(df, x=\"date\", y=dim)\n",
    "    fig = px.line(df, x=\"date\", y=\"Mean\")\n",
    "    fig2.update_traces(yaxis=\"y2\")\n",
    "\n",
    "    subfig.add_traces(fig.data + fig2.data)\n",
    "    \n",
    "    # recoloring is necessary otherwise lines from fig und fig2 would share each color\n",
    "    # e.g. Linear-, Log- = blue; Linear+, Log+ = red... we don't want this\n",
    "    subfig.for_each_trace(lambda t: t.update(line=dict(color=t.marker.color)))\n",
    "    subfig.show()"
   ]
  },
  {
   "cell_type": "code",
   "execution_count": null,
   "id": "cc3c6d87",
   "metadata": {},
   "outputs": [],
   "source": []
  },
  {
   "cell_type": "code",
   "execution_count": null,
   "id": "108a86eb",
   "metadata": {},
   "outputs": [],
   "source": []
  },
  {
   "cell_type": "code",
   "execution_count": null,
   "id": "c0b42382",
   "metadata": {},
   "outputs": [],
   "source": []
  }
 ],
 "metadata": {
  "kernelspec": {
   "display_name": "Python 3 (ipykernel)",
   "language": "python",
   "name": "python3"
  },
  "language_info": {
   "codemirror_mode": {
    "name": "ipython",
    "version": 3
   },
   "file_extension": ".py",
   "mimetype": "text/x-python",
   "name": "python",
   "nbconvert_exporter": "python",
   "pygments_lexer": "ipython3",
   "version": "3.9.13"
  }
 },
 "nbformat": 4,
 "nbformat_minor": 5
}
