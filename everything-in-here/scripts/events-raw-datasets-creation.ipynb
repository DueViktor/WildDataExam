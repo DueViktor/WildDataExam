{
 "cells": [
  {
   "cell_type": "code",
   "execution_count": 39,
   "id": "eeb04e1d",
   "metadata": {},
   "outputs": [],
   "source": [
    "import os\n",
    "import json\n",
    "import pandas as pd"
   ]
  },
  {
   "cell_type": "code",
   "execution_count": 40,
   "id": "f2253c70",
   "metadata": {},
   "outputs": [],
   "source": [
    "filepath = '../data/created-datasets/'\n",
    "all_files = os.listdir(filepath)"
   ]
  },
  {
   "cell_type": "code",
   "execution_count": 41,
   "id": "126bcff2",
   "metadata": {},
   "outputs": [
    {
     "data": {
      "text/plain": [
       "['raw.csv',\n",
       " 'README.md',\n",
       " 'aggregated_dataset.csv',\n",
       " 'thresholds.json',\n",
       " 'events.csv',\n",
       " 'bot_annotated_dataset.csv',\n",
       " 'annotations.json']"
      ]
     },
     "execution_count": 41,
     "metadata": {},
     "output_type": "execute_result"
    }
   ],
   "source": [
    "all_files"
   ]
  },
  {
   "cell_type": "markdown",
   "id": "3c26d7bc",
   "metadata": {},
   "source": [
    "### CREATE EVENTS TABLE, DATASET WAS EXTRACTED MANUALLY"
   ]
  },
  {
   "cell_type": "code",
   "execution_count": 42,
   "id": "34630197",
   "metadata": {},
   "outputs": [
    {
     "data": {
      "text/html": [
       "<div>\n",
       "<style scoped>\n",
       "    .dataframe tbody tr th:only-of-type {\n",
       "        vertical-align: middle;\n",
       "    }\n",
       "\n",
       "    .dataframe tbody tr th {\n",
       "        vertical-align: top;\n",
       "    }\n",
       "\n",
       "    .dataframe thead th {\n",
       "        text-align: right;\n",
       "    }\n",
       "</style>\n",
       "<table border=\"1\" class=\"dataframe\">\n",
       "  <thead>\n",
       "    <tr style=\"text-align: right;\">\n",
       "      <th></th>\n",
       "      <th>event_id</th>\n",
       "      <th>start</th>\n",
       "      <th>end</th>\n",
       "      <th>event_type</th>\n",
       "    </tr>\n",
       "  </thead>\n",
       "  <tbody>\n",
       "    <tr>\n",
       "      <th>0</th>\n",
       "      <td>1</td>\n",
       "      <td>05/03/2022</td>\n",
       "      <td>04/04/2022</td>\n",
       "      <td>Positive</td>\n",
       "    </tr>\n",
       "    <tr>\n",
       "      <th>1</th>\n",
       "      <td>2</td>\n",
       "      <td>27/01/2022</td>\n",
       "      <td>16/02/2022</td>\n",
       "      <td>Positive</td>\n",
       "    </tr>\n",
       "    <tr>\n",
       "      <th>2</th>\n",
       "      <td>3</td>\n",
       "      <td>23/02/2022</td>\n",
       "      <td>07/03/2022</td>\n",
       "      <td>Positive</td>\n",
       "    </tr>\n",
       "    <tr>\n",
       "      <th>3</th>\n",
       "      <td>4</td>\n",
       "      <td>01/06/2022</td>\n",
       "      <td>01/07/2022</td>\n",
       "      <td>Negative</td>\n",
       "    </tr>\n",
       "    <tr>\n",
       "      <th>4</th>\n",
       "      <td>5</td>\n",
       "      <td>27/04/2022</td>\n",
       "      <td>19/05/2022</td>\n",
       "      <td>Negative</td>\n",
       "    </tr>\n",
       "    <tr>\n",
       "      <th>5</th>\n",
       "      <td>6</td>\n",
       "      <td>12/01/2022</td>\n",
       "      <td>30/01/2022</td>\n",
       "      <td>Negative</td>\n",
       "    </tr>\n",
       "  </tbody>\n",
       "</table>\n",
       "</div>"
      ],
      "text/plain": [
       "   event_id       start         end event_type\n",
       "0         1  05/03/2022  04/04/2022   Positive\n",
       "1         2  27/01/2022  16/02/2022   Positive\n",
       "2         3  23/02/2022  07/03/2022   Positive\n",
       "3         4  01/06/2022  01/07/2022   Negative\n",
       "4         5  27/04/2022  19/05/2022   Negative\n",
       "5         6  12/01/2022  30/01/2022   Negative"
      ]
     },
     "execution_count": 42,
     "metadata": {},
     "output_type": "execute_result"
    }
   ],
   "source": [
    "events = pd.read_csv(filepath +  'events.csv',  sep=';')\n",
    "events = events[['event_id', 'start', 'end', 'event_type']]\n",
    "events"
   ]
  },
  {
   "cell_type": "code",
   "execution_count": 43,
   "id": "94b04d57",
   "metadata": {},
   "outputs": [
    {
     "name": "stdout",
     "output_type": "stream",
     "text": [
      "\\begin{tabular}{rlll}\n",
      "\\toprule\n",
      " event\\_id &      start &        end & event\\_type \\\\\n",
      "\\midrule\n",
      "        1 & 05/03/2022 & 04/04/2022 &   Positive \\\\\n",
      "        2 & 27/01/2022 & 16/02/2022 &   Positive \\\\\n",
      "        3 & 23/02/2022 & 07/03/2022 &   Positive \\\\\n",
      "        4 & 01/06/2022 & 01/07/2022 &   Negative \\\\\n",
      "        5 & 27/04/2022 & 19/05/2022 &   Negative \\\\\n",
      "        6 & 12/01/2022 & 30/01/2022 &   Negative \\\\\n",
      "\\bottomrule\n",
      "\\end{tabular}\n",
      "\n"
     ]
    },
    {
     "name": "stderr",
     "output_type": "stream",
     "text": [
      "/var/folders/68/8msv38hx38v_2kjty7hk1bsc0000gn/T/ipykernel_2653/3492723824.py:1: FutureWarning: In future versions `DataFrame.to_latex` is expected to utilise the base implementation of `Styler.to_latex` for formatting and rendering. The arguments signature may therefore change. It is recommended instead to use `DataFrame.style.to_latex` which also contains additional functionality.\n",
      "  print(events.to_latex(index=False))\n"
     ]
    }
   ],
   "source": [
    "print(events.to_latex(index=False))  \n"
   ]
  },
  {
   "cell_type": "markdown",
   "id": "4e2d097c",
   "metadata": {},
   "source": [
    "### CREATE RAW DATA_SET"
   ]
  },
  {
   "cell_type": "code",
   "execution_count": 44,
   "id": "77c41e91",
   "metadata": {},
   "outputs": [
    {
     "name": "stderr",
     "output_type": "stream",
     "text": [
      "/var/folders/68/8msv38hx38v_2kjty7hk1bsc0000gn/T/ipykernel_2653/982443001.py:1: DtypeWarning: Columns (19,20,21,22,23) have mixed types. Specify dtype option on import or set low_memory=False.\n",
      "  bots_detection = pd.read_csv(filepath + 'bot_annotated_dataset.csv',sep=';')\n"
     ]
    }
   ],
   "source": [
    "bots_detection = pd.read_csv(filepath + 'bot_annotated_dataset.csv',sep=';')"
   ]
  },
  {
   "cell_type": "code",
   "execution_count": 45,
   "id": "cfda73a7",
   "metadata": {},
   "outputs": [
    {
     "data": {
      "text/plain": [
       "Index(['date', 'id', 'corpus', 'text_type', 'conflict', 'similarity',\n",
       "       'knowledge', 'power', 'status', 'support', 'identity', 'romance',\n",
       "       'trust', 'fun', 'High', 'Low', 'Mean', 'Close', 'event_id',\n",
       "       'event_type', 'period_type', 'lnbot', 'zelcore', 'mod'],\n",
       "      dtype='object')"
      ]
     },
     "execution_count": 45,
     "metadata": {},
     "output_type": "execute_result"
    }
   ],
   "source": [
    "bots_detection.columns"
   ]
  },
  {
   "cell_type": "code",
   "execution_count": 46,
   "id": "150efaa6",
   "metadata": {},
   "outputs": [],
   "source": [
    "bots_detection = bots_detection[['id','lnbot','zelcore', 'mod']]\n",
    "\n"
   ]
  },
  {
   "cell_type": "code",
   "execution_count": 47,
   "id": "4f38614f",
   "metadata": {},
   "outputs": [],
   "source": [
    "bot_type = []\n",
    "for index, row in bots_detection.iterrows():\n",
    "    tmp_list = \"\"\n",
    "\n",
    "        \n",
    "    \n",
    "    if row['lnbot'] == True:\n",
    "        tmp_list+=('lnbot ')\n",
    "    if row['zelcore'] == True:\n",
    "        tmp_list+=('zelcore ')\n",
    "    if row['mod'] == True:\n",
    "        tmp_list+=('mod ')\n",
    "    if tmp_list ==\"\":\n",
    "        tmp_list += 'None'\n",
    "    bot_type.append(tmp_list)"
   ]
  },
  {
   "cell_type": "code",
   "execution_count": 48,
   "id": "5dc7d819",
   "metadata": {},
   "outputs": [
    {
     "data": {
      "text/plain": [
       "['None', 'None', 'None', 'None', 'None']"
      ]
     },
     "execution_count": 48,
     "metadata": {},
     "output_type": "execute_result"
    }
   ],
   "source": [
    "bot_type[:5]"
   ]
  },
  {
   "cell_type": "code",
   "execution_count": 49,
   "id": "51306a9c",
   "metadata": {},
   "outputs": [
    {
     "data": {
      "text/html": [
       "<div>\n",
       "<style scoped>\n",
       "    .dataframe tbody tr th:only-of-type {\n",
       "        vertical-align: middle;\n",
       "    }\n",
       "\n",
       "    .dataframe tbody tr th {\n",
       "        vertical-align: top;\n",
       "    }\n",
       "\n",
       "    .dataframe thead th {\n",
       "        text-align: right;\n",
       "    }\n",
       "</style>\n",
       "<table border=\"1\" class=\"dataframe\">\n",
       "  <thead>\n",
       "    <tr style=\"text-align: right;\">\n",
       "      <th></th>\n",
       "      <th>id</th>\n",
       "      <th>lnbot</th>\n",
       "      <th>zelcore</th>\n",
       "      <th>mod</th>\n",
       "      <th>bot_type</th>\n",
       "    </tr>\n",
       "  </thead>\n",
       "  <tbody>\n",
       "    <tr>\n",
       "      <th>0</th>\n",
       "      <td>t7c3t7</td>\n",
       "      <td>False</td>\n",
       "      <td>False</td>\n",
       "      <td>False</td>\n",
       "      <td>None</td>\n",
       "    </tr>\n",
       "    <tr>\n",
       "      <th>1</th>\n",
       "      <td>t7c9cs</td>\n",
       "      <td>False</td>\n",
       "      <td>False</td>\n",
       "      <td>False</td>\n",
       "      <td>None</td>\n",
       "    </tr>\n",
       "    <tr>\n",
       "      <th>2</th>\n",
       "      <td>t7cbqa</td>\n",
       "      <td>False</td>\n",
       "      <td>False</td>\n",
       "      <td>False</td>\n",
       "      <td>None</td>\n",
       "    </tr>\n",
       "    <tr>\n",
       "      <th>3</th>\n",
       "      <td>t6xdmv</td>\n",
       "      <td>False</td>\n",
       "      <td>False</td>\n",
       "      <td>False</td>\n",
       "      <td>None</td>\n",
       "    </tr>\n",
       "    <tr>\n",
       "      <th>4</th>\n",
       "      <td>t7cf3e</td>\n",
       "      <td>False</td>\n",
       "      <td>False</td>\n",
       "      <td>False</td>\n",
       "      <td>None</td>\n",
       "    </tr>\n",
       "    <tr>\n",
       "      <th>...</th>\n",
       "      <td>...</td>\n",
       "      <td>...</td>\n",
       "      <td>...</td>\n",
       "      <td>...</td>\n",
       "      <td>...</td>\n",
       "    </tr>\n",
       "    <tr>\n",
       "      <th>77051</th>\n",
       "      <td>iouvy8t</td>\n",
       "      <td>True</td>\n",
       "      <td>False</td>\n",
       "      <td>False</td>\n",
       "      <td>lnbot</td>\n",
       "    </tr>\n",
       "    <tr>\n",
       "      <th>77052</th>\n",
       "      <td>iouw6s5</td>\n",
       "      <td>False</td>\n",
       "      <td>False</td>\n",
       "      <td>False</td>\n",
       "      <td>None</td>\n",
       "    </tr>\n",
       "    <tr>\n",
       "      <th>77053</th>\n",
       "      <td>iouw7i0</td>\n",
       "      <td>False</td>\n",
       "      <td>False</td>\n",
       "      <td>False</td>\n",
       "      <td>None</td>\n",
       "    </tr>\n",
       "    <tr>\n",
       "      <th>77054</th>\n",
       "      <td>iouw7s9</td>\n",
       "      <td>False</td>\n",
       "      <td>False</td>\n",
       "      <td>False</td>\n",
       "      <td>None</td>\n",
       "    </tr>\n",
       "    <tr>\n",
       "      <th>77055</th>\n",
       "      <td>iouw5vp</td>\n",
       "      <td>False</td>\n",
       "      <td>False</td>\n",
       "      <td>False</td>\n",
       "      <td>None</td>\n",
       "    </tr>\n",
       "  </tbody>\n",
       "</table>\n",
       "<p>77056 rows × 5 columns</p>\n",
       "</div>"
      ],
      "text/plain": [
       "            id  lnbot zelcore    mod bot_type\n",
       "0       t7c3t7  False   False  False     None\n",
       "1       t7c9cs  False   False  False     None\n",
       "2       t7cbqa  False   False  False     None\n",
       "3       t6xdmv  False   False  False     None\n",
       "4       t7cf3e  False   False  False     None\n",
       "...        ...    ...     ...    ...      ...\n",
       "77051  iouvy8t   True   False  False   lnbot \n",
       "77052  iouw6s5  False   False  False     None\n",
       "77053  iouw7i0  False   False  False     None\n",
       "77054  iouw7s9  False   False  False     None\n",
       "77055  iouw5vp  False   False  False     None\n",
       "\n",
       "[77056 rows x 5 columns]"
      ]
     },
     "execution_count": 49,
     "metadata": {},
     "output_type": "execute_result"
    }
   ],
   "source": [
    "bots_detection['bot_type'] = bot_type\n",
    "bots_detection"
   ]
  },
  {
   "cell_type": "code",
   "execution_count": 50,
   "id": "36d4d7cc",
   "metadata": {},
   "outputs": [
    {
     "name": "stderr",
     "output_type": "stream",
     "text": [
      "/var/folders/68/8msv38hx38v_2kjty7hk1bsc0000gn/T/ipykernel_2653/2327557577.py:1: DtypeWarning: Columns (18,19) have mixed types. Specify dtype option on import or set low_memory=False.\n",
      "  raw_data = pd.read_csv('../data/created-datasets/aggregated_dataset.csv',sep=';')\n"
     ]
    }
   ],
   "source": [
    "raw_data = pd.read_csv('../data/created-datasets/aggregated_dataset.csv',sep=';')"
   ]
  },
  {
   "cell_type": "code",
   "execution_count": 51,
   "id": "dace9c3e",
   "metadata": {},
   "outputs": [
    {
     "data": {
      "text/html": [
       "<div>\n",
       "<style scoped>\n",
       "    .dataframe tbody tr th:only-of-type {\n",
       "        vertical-align: middle;\n",
       "    }\n",
       "\n",
       "    .dataframe tbody tr th {\n",
       "        vertical-align: top;\n",
       "    }\n",
       "\n",
       "    .dataframe thead th {\n",
       "        text-align: right;\n",
       "    }\n",
       "</style>\n",
       "<table border=\"1\" class=\"dataframe\">\n",
       "  <thead>\n",
       "    <tr style=\"text-align: right;\">\n",
       "      <th></th>\n",
       "      <th>id</th>\n",
       "      <th>author</th>\n",
       "      <th>corpus</th>\n",
       "      <th>date</th>\n",
       "      <th>conflict</th>\n",
       "      <th>similarity</th>\n",
       "      <th>knowledge</th>\n",
       "      <th>power</th>\n",
       "      <th>status</th>\n",
       "      <th>support</th>\n",
       "      <th>identity</th>\n",
       "      <th>romance</th>\n",
       "      <th>trust</th>\n",
       "      <th>fun</th>\n",
       "      <th>High</th>\n",
       "      <th>Low</th>\n",
       "      <th>Close</th>\n",
       "      <th>event_id</th>\n",
       "      <th>event_type</th>\n",
       "      <th>period_type</th>\n",
       "    </tr>\n",
       "  </thead>\n",
       "  <tbody>\n",
       "    <tr>\n",
       "      <th>0</th>\n",
       "      <td>t7c3t7</td>\n",
       "      <td>3ditTrader</td>\n",
       "      <td>sarn sauron coin bsc gem of 2022 launch now e...</td>\n",
       "      <td>2022-03-06</td>\n",
       "      <td>0.217982</td>\n",
       "      <td>0.008616</td>\n",
       "      <td>0.987545</td>\n",
       "      <td>0.095460</td>\n",
       "      <td>0.210643</td>\n",
       "      <td>0.012049</td>\n",
       "      <td>0.401652</td>\n",
       "      <td>0.004092</td>\n",
       "      <td>8.436824e-07</td>\n",
       "      <td>0.404854</td>\n",
       "      <td>39640.176751</td>\n",
       "      <td>38211.647962</td>\n",
       "      <td>38419.983377</td>\n",
       "      <td>1.0</td>\n",
       "      <td>positive</td>\n",
       "      <td>before</td>\n",
       "    </tr>\n",
       "    <tr>\n",
       "      <th>1</th>\n",
       "      <td>t7c9cs</td>\n",
       "      <td>adzu1a</td>\n",
       "      <td>a proposal to you removed</td>\n",
       "      <td>2022-03-06</td>\n",
       "      <td>0.503045</td>\n",
       "      <td>0.435572</td>\n",
       "      <td>0.485023</td>\n",
       "      <td>0.518171</td>\n",
       "      <td>0.427520</td>\n",
       "      <td>0.495435</td>\n",
       "      <td>0.432057</td>\n",
       "      <td>0.254124</td>\n",
       "      <td>3.306695e-01</td>\n",
       "      <td>0.453298</td>\n",
       "      <td>39640.176751</td>\n",
       "      <td>38211.647962</td>\n",
       "      <td>38419.983377</td>\n",
       "      <td>1.0</td>\n",
       "      <td>positive</td>\n",
       "      <td>before</td>\n",
       "    </tr>\n",
       "    <tr>\n",
       "      <th>2</th>\n",
       "      <td>t7cbqa</td>\n",
       "      <td>sedentarybird</td>\n",
       "      <td>time to buy nan</td>\n",
       "      <td>2022-03-06</td>\n",
       "      <td>0.315845</td>\n",
       "      <td>0.453668</td>\n",
       "      <td>0.491014</td>\n",
       "      <td>0.467255</td>\n",
       "      <td>0.453663</td>\n",
       "      <td>0.485220</td>\n",
       "      <td>0.443327</td>\n",
       "      <td>0.571401</td>\n",
       "      <td>4.674791e-01</td>\n",
       "      <td>0.595824</td>\n",
       "      <td>39640.176751</td>\n",
       "      <td>38211.647962</td>\n",
       "      <td>38419.983377</td>\n",
       "      <td>1.0</td>\n",
       "      <td>positive</td>\n",
       "      <td>before</td>\n",
       "    </tr>\n",
       "    <tr>\n",
       "      <th>3</th>\n",
       "      <td>t6xdmv</td>\n",
       "      <td>Plenty-Stock</td>\n",
       "      <td>stupid question please excuse my ignorance can...</td>\n",
       "      <td>2022-03-06</td>\n",
       "      <td>0.685344</td>\n",
       "      <td>0.003814</td>\n",
       "      <td>0.995469</td>\n",
       "      <td>0.033478</td>\n",
       "      <td>0.095750</td>\n",
       "      <td>0.000713</td>\n",
       "      <td>0.207318</td>\n",
       "      <td>0.000114</td>\n",
       "      <td>8.855732e-07</td>\n",
       "      <td>0.099581</td>\n",
       "      <td>39640.176751</td>\n",
       "      <td>38211.647962</td>\n",
       "      <td>38419.983377</td>\n",
       "      <td>1.0</td>\n",
       "      <td>positive</td>\n",
       "      <td>before</td>\n",
       "    </tr>\n",
       "    <tr>\n",
       "      <th>4</th>\n",
       "      <td>t7cf3e</td>\n",
       "      <td>[deleted]</td>\n",
       "      <td>bitcoin nan</td>\n",
       "      <td>2022-03-06</td>\n",
       "      <td>0.488357</td>\n",
       "      <td>0.469591</td>\n",
       "      <td>0.483014</td>\n",
       "      <td>0.434496</td>\n",
       "      <td>0.515467</td>\n",
       "      <td>0.484323</td>\n",
       "      <td>0.482162</td>\n",
       "      <td>0.507920</td>\n",
       "      <td>5.038089e-01</td>\n",
       "      <td>0.523179</td>\n",
       "      <td>39640.176751</td>\n",
       "      <td>38211.647962</td>\n",
       "      <td>38419.983377</td>\n",
       "      <td>1.0</td>\n",
       "      <td>positive</td>\n",
       "      <td>before</td>\n",
       "    </tr>\n",
       "  </tbody>\n",
       "</table>\n",
       "</div>"
      ],
      "text/plain": [
       "       id         author                                             corpus  \\\n",
       "0  t7c3t7     3ditTrader   sarn sauron coin bsc gem of 2022 launch now e...   \n",
       "1  t7c9cs         adzu1a                         a proposal to you removed    \n",
       "2  t7cbqa  sedentarybird                                    time to buy nan   \n",
       "3  t6xdmv   Plenty-Stock  stupid question please excuse my ignorance can...   \n",
       "4  t7cf3e      [deleted]                                        bitcoin nan   \n",
       "\n",
       "         date  conflict  similarity  knowledge     power    status   support  \\\n",
       "0  2022-03-06  0.217982    0.008616   0.987545  0.095460  0.210643  0.012049   \n",
       "1  2022-03-06  0.503045    0.435572   0.485023  0.518171  0.427520  0.495435   \n",
       "2  2022-03-06  0.315845    0.453668   0.491014  0.467255  0.453663  0.485220   \n",
       "3  2022-03-06  0.685344    0.003814   0.995469  0.033478  0.095750  0.000713   \n",
       "4  2022-03-06  0.488357    0.469591   0.483014  0.434496  0.515467  0.484323   \n",
       "\n",
       "   identity   romance         trust       fun          High           Low  \\\n",
       "0  0.401652  0.004092  8.436824e-07  0.404854  39640.176751  38211.647962   \n",
       "1  0.432057  0.254124  3.306695e-01  0.453298  39640.176751  38211.647962   \n",
       "2  0.443327  0.571401  4.674791e-01  0.595824  39640.176751  38211.647962   \n",
       "3  0.207318  0.000114  8.855732e-07  0.099581  39640.176751  38211.647962   \n",
       "4  0.482162  0.507920  5.038089e-01  0.523179  39640.176751  38211.647962   \n",
       "\n",
       "          Close  event_id event_type period_type  \n",
       "0  38419.983377       1.0   positive      before  \n",
       "1  38419.983377       1.0   positive      before  \n",
       "2  38419.983377       1.0   positive      before  \n",
       "3  38419.983377       1.0   positive      before  \n",
       "4  38419.983377       1.0   positive      before  "
      ]
     },
     "execution_count": 51,
     "metadata": {},
     "output_type": "execute_result"
    }
   ],
   "source": [
    "raw_data.head()"
   ]
  },
  {
   "cell_type": "raw",
   "id": "58aa6fc1",
   "metadata": {},
   "source": []
  },
  {
   "cell_type": "code",
   "execution_count": 52,
   "id": "813e1b2a",
   "metadata": {},
   "outputs": [],
   "source": [
    "raw_data = raw_data.merge(bots_detection, on='id')"
   ]
  },
  {
   "cell_type": "code",
   "execution_count": null,
   "id": "ec50d586",
   "metadata": {},
   "outputs": [],
   "source": []
  },
  {
   "cell_type": "code",
   "execution_count": 53,
   "id": "406ed1c1",
   "metadata": {},
   "outputs": [],
   "source": [
    "raw_data = raw_data[['corpus','author','conflict', 'similarity', 'knowledge', 'power', 'status',\n",
    "       'support', 'identity', 'romance', 'trust', 'fun','date','Close','bot_type']]\n"
   ]
  },
  {
   "cell_type": "code",
   "execution_count": 54,
   "id": "73263250",
   "metadata": {},
   "outputs": [
    {
     "data": {
      "text/html": [
       "<div>\n",
       "<style scoped>\n",
       "    .dataframe tbody tr th:only-of-type {\n",
       "        vertical-align: middle;\n",
       "    }\n",
       "\n",
       "    .dataframe tbody tr th {\n",
       "        vertical-align: top;\n",
       "    }\n",
       "\n",
       "    .dataframe thead th {\n",
       "        text-align: right;\n",
       "    }\n",
       "</style>\n",
       "<table border=\"1\" class=\"dataframe\">\n",
       "  <thead>\n",
       "    <tr style=\"text-align: right;\">\n",
       "      <th></th>\n",
       "      <th>text</th>\n",
       "      <th>userID</th>\n",
       "      <th>conflict</th>\n",
       "      <th>similarity</th>\n",
       "      <th>knowledge</th>\n",
       "      <th>power</th>\n",
       "      <th>status</th>\n",
       "      <th>support</th>\n",
       "      <th>identity</th>\n",
       "      <th>romance</th>\n",
       "      <th>trust</th>\n",
       "      <th>fun</th>\n",
       "      <th>date</th>\n",
       "      <th>closing_price</th>\n",
       "      <th>bot_type</th>\n",
       "    </tr>\n",
       "  </thead>\n",
       "  <tbody>\n",
       "    <tr>\n",
       "      <th>0</th>\n",
       "      <td>sarn sauron coin bsc ge</td>\n",
       "      <td>3ditTrader</td>\n",
       "      <td>0.217982</td>\n",
       "      <td>0.008616</td>\n",
       "      <td>0.987545</td>\n",
       "      <td>0.095460</td>\n",
       "      <td>0.210643</td>\n",
       "      <td>0.012049</td>\n",
       "      <td>0.401652</td>\n",
       "      <td>0.004092</td>\n",
       "      <td>8.436824e-07</td>\n",
       "      <td>0.404854</td>\n",
       "      <td>2022-03-06</td>\n",
       "      <td>38419.983377</td>\n",
       "      <td>None</td>\n",
       "    </tr>\n",
       "    <tr>\n",
       "      <th>1</th>\n",
       "      <td>sarn sauron coin bsc ge</td>\n",
       "      <td>3ditTrader</td>\n",
       "      <td>0.217982</td>\n",
       "      <td>0.008616</td>\n",
       "      <td>0.987545</td>\n",
       "      <td>0.095460</td>\n",
       "      <td>0.210643</td>\n",
       "      <td>0.012049</td>\n",
       "      <td>0.401652</td>\n",
       "      <td>0.004092</td>\n",
       "      <td>8.436824e-07</td>\n",
       "      <td>0.404854</td>\n",
       "      <td>2022-03-06</td>\n",
       "      <td>38419.983377</td>\n",
       "      <td>None</td>\n",
       "    </tr>\n",
       "    <tr>\n",
       "      <th>2</th>\n",
       "      <td>sarn sauron coin bsc ge</td>\n",
       "      <td>3ditTrader</td>\n",
       "      <td>0.217982</td>\n",
       "      <td>0.008616</td>\n",
       "      <td>0.987545</td>\n",
       "      <td>0.095460</td>\n",
       "      <td>0.210643</td>\n",
       "      <td>0.012049</td>\n",
       "      <td>0.401652</td>\n",
       "      <td>0.004092</td>\n",
       "      <td>8.436824e-07</td>\n",
       "      <td>0.404854</td>\n",
       "      <td>2022-03-06</td>\n",
       "      <td>38419.983377</td>\n",
       "      <td>None</td>\n",
       "    </tr>\n",
       "    <tr>\n",
       "      <th>3</th>\n",
       "      <td>sarn sauron coin bsc ge</td>\n",
       "      <td>3ditTrader</td>\n",
       "      <td>0.217982</td>\n",
       "      <td>0.008616</td>\n",
       "      <td>0.987545</td>\n",
       "      <td>0.095460</td>\n",
       "      <td>0.210643</td>\n",
       "      <td>0.012049</td>\n",
       "      <td>0.401652</td>\n",
       "      <td>0.004092</td>\n",
       "      <td>8.436824e-07</td>\n",
       "      <td>0.404854</td>\n",
       "      <td>2022-03-06</td>\n",
       "      <td>38419.983377</td>\n",
       "      <td>None</td>\n",
       "    </tr>\n",
       "    <tr>\n",
       "      <th>4</th>\n",
       "      <td>a proposal to you remove</td>\n",
       "      <td>adzu1a</td>\n",
       "      <td>0.503045</td>\n",
       "      <td>0.435572</td>\n",
       "      <td>0.485023</td>\n",
       "      <td>0.518171</td>\n",
       "      <td>0.427520</td>\n",
       "      <td>0.495435</td>\n",
       "      <td>0.432057</td>\n",
       "      <td>0.254124</td>\n",
       "      <td>3.306695e-01</td>\n",
       "      <td>0.453298</td>\n",
       "      <td>2022-03-06</td>\n",
       "      <td>38419.983377</td>\n",
       "      <td>None</td>\n",
       "    </tr>\n",
       "  </tbody>\n",
       "</table>\n",
       "</div>"
      ],
      "text/plain": [
       "                       text      userID  conflict  similarity  knowledge  \\\n",
       "0   sarn sauron coin bsc ge  3ditTrader  0.217982    0.008616   0.987545   \n",
       "1   sarn sauron coin bsc ge  3ditTrader  0.217982    0.008616   0.987545   \n",
       "2   sarn sauron coin bsc ge  3ditTrader  0.217982    0.008616   0.987545   \n",
       "3   sarn sauron coin bsc ge  3ditTrader  0.217982    0.008616   0.987545   \n",
       "4  a proposal to you remove      adzu1a  0.503045    0.435572   0.485023   \n",
       "\n",
       "      power    status   support  identity   romance         trust       fun  \\\n",
       "0  0.095460  0.210643  0.012049  0.401652  0.004092  8.436824e-07  0.404854   \n",
       "1  0.095460  0.210643  0.012049  0.401652  0.004092  8.436824e-07  0.404854   \n",
       "2  0.095460  0.210643  0.012049  0.401652  0.004092  8.436824e-07  0.404854   \n",
       "3  0.095460  0.210643  0.012049  0.401652  0.004092  8.436824e-07  0.404854   \n",
       "4  0.518171  0.427520  0.495435  0.432057  0.254124  3.306695e-01  0.453298   \n",
       "\n",
       "         date  closing_price bot_type  \n",
       "0  2022-03-06   38419.983377     None  \n",
       "1  2022-03-06   38419.983377     None  \n",
       "2  2022-03-06   38419.983377     None  \n",
       "3  2022-03-06   38419.983377     None  \n",
       "4  2022-03-06   38419.983377     None  "
      ]
     },
     "execution_count": 54,
     "metadata": {},
     "output_type": "execute_result"
    }
   ],
   "source": [
    "raw_data.columns = ['text','userID','conflict', 'similarity', 'knowledge', 'power', 'status',\n",
    "       'support', 'identity', 'romance', 'trust', 'fun','date','closing_price','bot_type']\n",
    "raw_data['text'] = raw_data['text'].str[:24]\n",
    "raw_data.head()"
   ]
  },
  {
   "cell_type": "code",
   "execution_count": 57,
   "id": "5946c34e",
   "metadata": {},
   "outputs": [],
   "source": [
    "### save raw.csv\n",
    "raw_data.to_csv(filepath + 'raw.csv',index=False)"
   ]
  },
  {
   "cell_type": "code",
   "execution_count": 58,
   "id": "c7c78165",
   "metadata": {},
   "outputs": [],
   "source": [
    "sample_raw_data = raw_data[['text','userID','knowledge','date','closing_price','bot_type']]"
   ]
  },
  {
   "cell_type": "code",
   "execution_count": 59,
   "id": "5b2b0a99",
   "metadata": {},
   "outputs": [
    {
     "name": "stdout",
     "output_type": "stream",
     "text": [
      "\\begin{tabular}{llrlrl}\n",
      "\\toprule\n",
      "                    text &               userID &  knowledge &       date &  closing\\_price & bot\\_type \\\\\n",
      "\\midrule\n",
      "ethereum is the mother a &           RustinSats &   0.517420 & 2022-05-24 &   29655.586133 &     None \\\\\n",
      "                deleted  &            [deleted] &   0.510209 & 2022-03-08 &   38737.268495 &     None \\\\\n",
      "withdrawing bitcoin from &            Shywitch9 &   0.986890 & 2022-01-31 &   38483.126309 &   lnbot  \\\\\n",
      "                removed  &            [deleted] &   0.514874 & 2022-03-19 &   42190.653462 &     None \\\\\n",
      "looking to get a cold st &             w\\_savage &   0.988511 & 2022-03-12 &   38904.013398 &     None \\\\\n",
      "change your mindset ever &        Rose\\_Barclay1 &   0.986264 & 2022-06-30 &   19784.726495 &     None \\\\\n",
      "won t let me use coinbas &        worldguard667 &   0.995066 & 2022-02-01 &   38743.272569 &     None \\\\\n",
      "most people in india tha &             parakite &   0.989058 & 2022-01-27 &   37138.234316 &     None \\\\\n",
      "i will be watching i cho &              ErosTHE &   0.346739 & 2022-07-08 &   21731.116583 &     None \\\\\n",
      "kraken hey so i have bee & Worth-Yogurtcloset29 &   0.720074 & 2022-01-28 &   37784.333264 &     None \\\\\n",
      "\\bottomrule\n",
      "\\end{tabular}\n",
      "\n"
     ]
    },
    {
     "name": "stderr",
     "output_type": "stream",
     "text": [
      "/var/folders/68/8msv38hx38v_2kjty7hk1bsc0000gn/T/ipykernel_2653/702299670.py:3: FutureWarning: In future versions `DataFrame.to_latex` is expected to utilise the base implementation of `Styler.to_latex` for formatting and rendering. The arguments signature may therefore change. It is recommended instead to use `DataFrame.style.to_latex` which also contains additional functionality.\n",
      "  print(sample_raw_data.to_latex(index=False))\n"
     ]
    }
   ],
   "source": [
    "sample_raw_data = sample_raw_data.sample(n=10, random_state=6)\n",
    "\n",
    "print(sample_raw_data.to_latex(index=False))  \n"
   ]
  }
 ],
 "metadata": {
  "kernelspec": {
   "display_name": "Python 3 (ipykernel)",
   "language": "python",
   "name": "python3"
  },
  "language_info": {
   "codemirror_mode": {
    "name": "ipython",
    "version": 3
   },
   "file_extension": ".py",
   "mimetype": "text/x-python",
   "name": "python",
   "nbconvert_exporter": "python",
   "pygments_lexer": "ipython3",
   "version": "3.9.13"
  }
 },
 "nbformat": 4,
 "nbformat_minor": 5
}
