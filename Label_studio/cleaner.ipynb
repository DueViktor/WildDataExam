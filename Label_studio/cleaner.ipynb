{
 "cells": [
  {
   "cell_type": "code",
   "execution_count": 1,
   "metadata": {},
   "outputs": [],
   "source": [
    "import pandas as pd\n",
    "import os\n",
    "\n",
    "pd.set_option(\"display.max_columns\", None)"
   ]
  },
  {
   "cell_type": "code",
   "execution_count": 4,
   "metadata": {},
   "outputs": [],
   "source": [
    "# Does not work hmm\n",
    "df_com = pd.DataFrame()\n",
    "df_sub = pd.DataFrame()\n",
    "path = \"/Users/gustavhelms/Documents/Data Science/1_semester/Data in the Wild/WildDataExam/data/reddit_to_annotate\"\n",
    "for file in os.listdir(path):\n",
    "    f = os.path.join(path, file)\n",
    "    data = pd.read_csv(f)\n",
    "    if \"comments\" in file:\n",
    "        df_com.append(data)\n",
    "    elif \"submission\" in file:\n",
    "        df_sub.append(data)"
   ]
  },
  {
   "cell_type": "code",
   "execution_count": 2,
   "metadata": {},
   "outputs": [],
   "source": [
    "# Read all datasets \n",
    "df1_com = pd.read_csv(\"/Users/gustavhelms/Documents/Data Science/1_semester/Data in the Wild/WildDataExam/data/reddit_to_annotate/comments_2022_03_26_to_annotate.csv\")\n",
    "df2_com = pd.read_csv(\"/Users/gustavhelms/Documents/Data Science/1_semester/Data in the Wild/WildDataExam/data/reddit_to_annotate/comments_2022_05_07_to_annotate.csv\")\n",
    "df3_sub = pd.read_csv(\"/Users/gustavhelms/Documents/Data Science/1_semester/Data in the Wild/WildDataExam/data/reddit_to_annotate/submission_2022_03_26_to_annotate.csv\")\n",
    "df4_sub = pd.read_csv(\"/Users/gustavhelms/Documents/Data Science/1_semester/Data in the Wild/WildDataExam/data/reddit_to_annotate/submission_2022_05_07_to_annotate.csv\")"
   ]
  },
  {
   "cell_type": "code",
   "execution_count": 3,
   "metadata": {},
   "outputs": [],
   "source": [
    "# Combine submission and comment datasets\n",
    "df_com = df1_com.append(df2_com)\n",
    "df_sub = df3_sub.append(df4_sub)"
   ]
  },
  {
   "cell_type": "code",
   "execution_count": 4,
   "metadata": {},
   "outputs": [],
   "source": [
    "# Submission data preproc\n",
    "from matplotlib.pyplot import axis\n",
    "from pandas import isnull\n",
    "\n",
    "columns_sub = [\"subreddit\",\"title\",\"selftext\",\"created_utc\",\"author_fullname\",\"id\"]\n",
    "df_sub = df_sub[columns_sub] # Subset the columns\n",
    "df_sub[\"Category\"] = [\"Submission\" for x in range(len(df_sub[\"selftext\"]))] # Make category column\n",
    "df_sub[\"selftext\"] = [\"\" if (x == \"[removed]\" or isnull(x) or x == \"[deleted]\") else x for x in df_sub[\"selftext\"]] # Replace empty string with NaN and [removed]\n",
    "df_sub[\"text\"] = [\" - \".join((df_sub.iloc[i][\"title\"], df_sub.iloc[i][\"selftext\"])) for i in range(len(df_sub[\"selftext\"]))] # Concatenate title and text\n",
    "df_sub = df_sub.loc[:, df_sub.columns!='title'] # Remove two columns\n",
    "df_sub = df_sub.loc[:, df_sub.columns!='selftext'] # Remove two columns"
   ]
  },
  {
   "cell_type": "code",
   "execution_count": 5,
   "metadata": {},
   "outputs": [],
   "source": [
    "# Comment data\n",
    "columns_com = [\"subreddit\",\"body\",\"created_utc\",\"author_fullname\",\"id\"]\n",
    "df_com = df_com[columns_com]\n",
    "df_com[\"Category\"] = [\"Comment\" for x in range(len(df_com[\"body\"]))]\n",
    "df_com = df_com.rename(columns = {\"body\": \"text\"})"
   ]
  },
  {
   "cell_type": "code",
   "execution_count": 12,
   "metadata": {},
   "outputs": [],
   "source": [
    "# Combine the two data sets and output the csv\n",
    "#df = df_com.append(df_sub)\n",
    "\n",
    "df[\"text\"] = [\"\" if (x == \"[removed]\" or isnull(x) or x == \"[deleted]\") else x for x in df[\"selftext\"]] \n",
    "\n",
    "# remove rows with empty text\n",
    "df = df[df[\"text\"] != \"\"]\n",
    "\n",
    "df.to_csv(\"out.csv\")"
   ]
  },
  {
   "cell_type": "code",
   "execution_count": 11,
   "metadata": {},
   "outputs": [],
   "source": []
  }
 ],
 "metadata": {
  "kernelspec": {
   "display_name": "Python 3.8.5 64-bit",
   "language": "python",
   "name": "python3"
  },
  "language_info": {
   "codemirror_mode": {
    "name": "ipython",
    "version": 3
   },
   "file_extension": ".py",
   "mimetype": "text/x-python",
   "name": "python",
   "nbconvert_exporter": "python",
   "pygments_lexer": "ipython3",
   "version": "3.8.5"
  },
  "orig_nbformat": 4,
  "vscode": {
   "interpreter": {
    "hash": "0adcc2737ebf6a4a119f135174df96668767fca1ef1112612db5ecadf2b6d608"
   }
  }
 },
 "nbformat": 4,
 "nbformat_minor": 2
}
