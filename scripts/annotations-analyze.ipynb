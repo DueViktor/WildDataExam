{
 "cells": [
  {
   "cell_type": "markdown",
   "metadata": {},
   "source": [
    "This is an experimental notebook, that inspects the annotations dataset. It investiage all the aspects of the dataset, and tries to find some interesting insights. All relevant figures are saved in the `visualisations` folder."
   ]
  },
  {
   "cell_type": "code",
   "execution_count": 2,
   "metadata": {},
   "outputs": [],
   "source": [
    "import json\n",
    "import matplotlib.pyplot as plt\n",
    "from collections import defaultdict\n",
    "import seaborn as sns\n",
    "import pandas as pd\n",
    "import numpy as np\n",
    "import warnings\n",
    "warnings.filterwarnings('ignore')"
   ]
  },
  {
   "cell_type": "code",
   "execution_count": 3,
   "metadata": {},
   "outputs": [],
   "source": [
    "master = json.load(open(\"../data/annotation-task/annotations.json\"))\n",
    "le_annotators = [\"bence\",\"aske\",\"mateusz\",\"viktor\",\"gustav\"]"
   ]
  },
  {
   "cell_type": "code",
   "execution_count": 4,
   "metadata": {},
   "outputs": [
    {
     "data": {
      "text/plain": [
       "<Figure size 640x480 with 0 Axes>"
      ]
     },
     "metadata": {},
     "output_type": "display_data"
    }
   ],
   "source": [
    "# Average cohens kappa agreement\n",
    "annotators = [annotator for annotator in le_annotators]\n",
    "collect_cohens = {annotator : defaultdict(list) for annotator in annotators}\n",
    "cohens_scores = [master[entry][\"inter-annotation-agreement\"] for entry in master]\n",
    "\n",
    "for overview in cohens_scores:\n",
    "\n",
    "    for annotator_one in overview:\n",
    "        for annotator_two in overview[annotator_one]:\n",
    "    \n",
    "            collect_cohens[annotator_one][annotator_two].append(overview[annotator_one][annotator_two])\n",
    "\n",
    "# create empty pandas dataframe \n",
    "cohens_df = pd.DataFrame(index = sorted(annotators),columns=sorted(annotators))\n",
    "for annotator_one in collect_cohens:\n",
    "    for annotator_two in collect_cohens[annotator_one]:\n",
    "        cohens_df.loc[annotator_one,annotator_two] = np.mean(collect_cohens[annotator_one][annotator_two])\n",
    "\n",
    "# create a mask to hide the upper triangle\n",
    "mask = np.zeros_like(cohens_df, dtype=bool)\n",
    "mask[np.triu_indices_from(mask)] = True\n",
    "\n",
    "# fill cohens_df with 1 on nan\n",
    "cohens_df.fillna(1, inplace=True)\n",
    "\n",
    "# confusion matrix from cohens_df\n",
    "sns.heatmap(cohens_df, annot=True, cmap=\"Blues\", fmt=\".2f\", mask=mask)\n",
    "plt.title(\"Average Cohen's Kappa Agreement\")\n",
    "plt.savefig(\"../visualisations/annotation-analysis/confusion_cohens_kappa.png\")\n",
    "plt.clf()"
   ]
  },
  {
   "cell_type": "code",
   "execution_count": 5,
   "metadata": {},
   "outputs": [
    {
     "name": "stdout",
     "output_type": "stream",
     "text": [
      "Average Fleiss Kappa Agreement: -0.023\n"
     ]
    },
    {
     "data": {
      "text/plain": [
       "<Figure size 500x500 with 0 Axes>"
      ]
     },
     "metadata": {},
     "output_type": "display_data"
    }
   ],
   "source": [
    "# Average fleiss kappa agreement and distribution plot\n",
    "fleis_scores = [master[entry][\"fleiss_kappa_score\"] for entry in master]\n",
    "valid_scores = [score for score in fleis_scores if not np.isnan(score)]\n",
    "print(f\"Average Fleiss Kappa Agreement: {np.mean(valid_scores):.3f}\")\n",
    "sns.displot(fleis_scores, kde=True, bins=15, label=\"Fleiss Kappa Agreement\")\n",
    "plt.xlabel(\"Fleiss Kappa Score\")\n",
    "plt.ylabel(\"Number of Entries\")\n",
    "plt.title(\"Fleiss Kappa Agreement Distribution\")\n",
    "plt.tight_layout()\n",
    "plt.savefig(\"../visualisations/annotation-analysis/fleiss_kappa_distribution.png\")\n",
    "plt.clf()"
   ]
  },
  {
   "cell_type": "code",
   "execution_count": 6,
   "metadata": {},
   "outputs": [
    {
     "data": {
      "text/plain": [
       "<Figure size 640x480 with 0 Axes>"
      ]
     },
     "metadata": {},
     "output_type": "display_data"
    }
   ],
   "source": [
    "# Number of annotated posts\n",
    "counts = defaultdict(int)\n",
    "for entry in master:\n",
    "    for annotator in master[entry][\"annotations\"]:\n",
    "        counts[annotator] += 1\n",
    "\n",
    "# Plot the number of annotated posts\n",
    "\n",
    "sns.barplot(x=list(counts.keys()), y=list(counts.values()))\n",
    "plt.title(\"Number of annotated posts\")\n",
    "plt.savefig(\"../visualisations/annotation-analysis/number_of_annotated_posts.png\")\n",
    "plt.clf()\n"
   ]
  },
  {
   "cell_type": "code",
   "execution_count": 7,
   "metadata": {},
   "outputs": [
    {
     "data": {
      "text/plain": [
       "Index(['date', 'subreddit', 'count'], dtype='object')"
      ]
     },
     "execution_count": 7,
     "metadata": {},
     "output_type": "execute_result"
    }
   ],
   "source": [
    "# Distribution of posts on dates and subreddit\n",
    "import datetime\n",
    "\n",
    "# init empty df\n",
    "for_the_plot = pd.DataFrame(columns=[\"date\",\"subreddit\",\"count\"])\n",
    "subreddits = sorted(list(set([master[entry][\"subreddit\"] for entry in master])))\n",
    "dates = sorted(list(set([datetime.datetime.strptime(master[entry][\"date\"], \"%Y_%m_%d\").date() for entry in master])))\n",
    "\n",
    "for date in dates:\n",
    "    # insert row for each subreddit with count 0 using concat\n",
    "    for subreddit in subreddits:\n",
    "        for_the_plot = for_the_plot.append({\"date\": date, \"subreddit\": subreddit, \"count\": 0}, ignore_index=True)\n",
    "\n",
    "for entry in master:\n",
    "    date = datetime.datetime.strptime(master[entry][\"date\"], \"%Y_%m_%d\").date()\n",
    "    subreddit = master[entry][\"subreddit\"]\n",
    "    \n",
    "    # increment count where date and subreddit match\n",
    "    for_the_plot.loc[(for_the_plot[\"date\"] == date) & (for_the_plot[\"subreddit\"] == subreddit), \"count\"] += 1\n",
    "for_the_plot.columns"
   ]
  },
  {
   "cell_type": "code",
   "execution_count": 8,
   "metadata": {},
   "outputs": [
    {
     "data": {
      "image/png": "[encoded data removed]",
      "text/plain": [
       "<Figure size 617.5x500 with 1 Axes>"
      ]
     },
     "metadata": {},
     "output_type": "display_data"
    },
    {
     "data": {
      "text/plain": [
       "<Figure size 640x480 with 0 Axes>"
      ]
     },
     "metadata": {},
     "output_type": "display_data"
    }
   ],
   "source": [
    "# plot the distribution\n",
    "sns.catplot(data=for_the_plot, kind=\"bar\",x=\"date\", y=\"count\", hue=\"subreddit\")\n",
    "plt.xticks(rotation=90)\n",
    "plt.show()\n",
    "plt.clf()"
   ]
  },
  {
   "cell_type": "code",
   "execution_count": 9,
   "metadata": {},
   "outputs": [],
   "source": [
    "# convert \"for_the_plot\" have date as index and subreddit as columns. count as values\n",
    "for_the_plot = for_the_plot.pivot(index=\"date\", columns=\"subreddit\", values=\"count\")\n",
    "for_the_plot.to_latex(\"../visualisations/annotation-analysis-reddit-counts-per-day.tex\")"
   ]
  },
  {
   "cell_type": "code",
   "execution_count": 10,
   "metadata": {},
   "outputs": [],
   "source": [
    "# Distribution of how often we annoted each category\n",
    "counts = {annotator:defaultdict(int) for annotator in le_annotators}\n",
    "for entry in master:\n",
    "    for annotator in master[entry][\"annotations\"]:\n",
    "        for category in master[entry][\"annotations\"][annotator]:\n",
    "            counts[annotator][category] += 1\n",
    "            counts[annotator][\"total\"] += 1"
   ]
  },
  {
   "cell_type": "code",
   "execution_count": 11,
   "metadata": {},
   "outputs": [],
   "source": [
    "# numerical values of the counts\n",
    "for_the_latex = pd.DataFrame()\n",
    "for annotator in annotators:\n",
    "    for_the_latex = for_the_latex.append(counts[annotator], ignore_index=True)\n",
    "for_the_latex.index = annotators\n",
    "# Divide by total and multiply by 100 to get percentages excluding the total column\n",
    "for_the_latex = for_the_latex.div(for_the_latex[\"total\"], axis=0).mul(100).drop(\"total\", axis=1)\n",
    "# fill nan with 0\n",
    "for_the_latex.fillna(0, inplace=True)\n",
    "# sort the index\n",
    "for_the_latex.sort_index(inplace=True)\n",
    "# add avg row in the bottom\n",
    "for_the_latex.loc[\"Mean\"] = for_the_latex.mean()\n",
    "# round to 2 decimals\n",
    "for_the_latex = for_the_latex.round(2)\n",
    "# sort by the \"mean\" row\n",
    "for_the_latex = for_the_latex.sort_values(by=\"Mean\", axis=1, ascending=False)\n",
    "for_the_latex.to_latex(\"../visualisations/annotation-analysis-annotation_statistics.tex\")\n",
    "# for_the_latex"
   ]
  },
  {
   "cell_type": "code",
   "execution_count": 12,
   "metadata": {},
   "outputs": [
    {
     "data": {
      "text/plain": [
       "<Figure size 626.25x500 with 0 Axes>"
      ]
     },
     "metadata": {},
     "output_type": "display_data"
    }
   ],
   "source": [
    "for_the_emotion_plot = pd.DataFrame(columns=[\"annotator\",\"emotion\",\"count\"])\n",
    "for annotator in counts:\n",
    "    for emotion in counts[annotator]:\n",
    "        if emotion != \"total\":\n",
    "            for_the_emotion_plot = for_the_emotion_plot.append({\"annotator\": annotator, \"emotion\": emotion, \"count\": counts[annotator][emotion]/counts[annotator][\"total\"]}, ignore_index=True)\n",
    "            \n",
    "# plot the distribution\n",
    "sns.catplot(data=for_the_emotion_plot, kind=\"bar\",x=\"annotator\", y=\"count\", hue=\"emotion\")\n",
    "plt.title(\"Normalized count of emotions\")\n",
    "plt.xticks(rotation=90)\n",
    "plt.savefig(\"../visualisations/annotation-analysis/normalized_count_of_emotions.png\")\n",
    "plt.clf()"
   ]
  },
  {
   "cell_type": "code",
   "execution_count": 13,
   "metadata": {},
   "outputs": [
    {
     "data": {
      "text/plain": [
       "<Figure size 615.875x500 with 0 Axes>"
      ]
     },
     "metadata": {},
     "output_type": "display_data"
    }
   ],
   "source": [
    "for_the_emotion_plot = pd.DataFrame(columns=[\"annotator\",\"emotion\",\"count\"])\n",
    "for annotator in counts:\n",
    "    for emotion in counts[annotator]:\n",
    "        if emotion not in [\"total\",\"Knowledge\"]:\n",
    "            for_the_emotion_plot = for_the_emotion_plot.append({\"annotator\": annotator, \"emotion\": emotion, \"count\": counts[annotator][emotion]/counts[annotator][\"total\"]}, ignore_index=True)\n",
    "            \n",
    "# plot the distribution\n",
    "sns.catplot(data=for_the_emotion_plot, kind=\"bar\",x=\"annotator\", y=\"count\", hue=\"emotion\")\n",
    "plt.title(\"Normalized count of emotions (without Knowledge)\")\n",
    "plt.xticks(rotation=90)\n",
    "plt.savefig(\"../visualisations/annotation-analysis/normalized_count_of_emotions_without_knowledge.png\")\n",
    "plt.clf()"
   ]
  },
  {
   "cell_type": "code",
   "execution_count": null,
   "metadata": {},
   "outputs": [],
   "source": []
  },
  {
   "cell_type": "code",
   "execution_count": null,
   "metadata": {},
   "outputs": [],
   "source": []
  }
 ],
 "metadata": {
  "kernelspec": {
   "display_name": "Python 3",
   "language": "python",
   "name": "python3"
  },
  "language_info": {
   "codemirror_mode": {
    "name": "ipython",
    "version": 3
   },
   "file_extension": ".py",
   "mimetype": "text/x-python",
   "name": "python",
   "nbconvert_exporter": "python",
   "pygments_lexer": "ipython3",
   "version": "3.10.6"
  },
  "vscode": {
   "interpreter": {
    "hash": "aee8b7b246df8f9039afb4144a1f6fd8d2ca17a180786b69acc140d282b71a49"
   }
  }
 },
 "nbformat": 4,
 "nbformat_minor": 2
}
